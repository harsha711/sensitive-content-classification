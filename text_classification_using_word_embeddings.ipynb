{
  "nbformat": 4,
  "nbformat_minor": 0,
  "metadata": {
    "colab": {
      "provenance": [],
      "collapsed_sections": [
        "jFMyhFDyFaQd",
        "6BOREvGCdw7B",
        "ifG8ADqamXg7",
        "H8aJZuxgX_9O",
        "TCmuxIULV3Yk",
        "QNfAh090WK_T",
        "WajrOxqPX0YE",
        "odcnWctGamKX",
        "K3w8PERFaPpu"
      ],
      "gpuClass": "premium"
    },
    "kernelspec": {
      "name": "python3",
      "display_name": "Python 3"
    },
    "language_info": {
      "name": "python"
    },
    "gpuClass": "premium",
    "accelerator": "GPU"
  },
  "cells": [
    {
      "cell_type": "code",
      "execution_count": null,
      "metadata": {
        "colab": {
          "base_uri": "https://localhost:8080/"
        },
        "id": "Nt8uvrKbDCRq",
        "outputId": "d9091373-4f9e-43bf-affe-b34001bb00a4"
      },
      "outputs": [
        {
          "output_type": "stream",
          "name": "stdout",
          "text": [
            "--2023-03-04 08:36:38--  https://raw.githubusercontent.com/harsha711/sensitive-content-classification/main/text_dataset/annotation_results.csv\n",
            "Resolving raw.githubusercontent.com (raw.githubusercontent.com)... 185.199.108.133, 185.199.109.133, 185.199.110.133, ...\n",
            "Connecting to raw.githubusercontent.com (raw.githubusercontent.com)|185.199.108.133|:443... connected.\n",
            "HTTP request sent, awaiting response... 200 OK\n",
            "Length: 952650 (930K) [text/plain]\n",
            "Saving to: ‘annotation_results.csv’\n",
            "\n",
            "annotation_results. 100%[===================>] 930.32K  --.-KB/s    in 0.005s  \n",
            "\n",
            "2023-03-04 08:36:38 (167 MB/s) - ‘annotation_results.csv’ saved [952650/952650]\n",
            "\n",
            "Looking in indexes: https://pypi.org/simple, https://us-python.pkg.dev/colab-wheels/public/simple/\n",
            "Collecting scikeras\n",
            "  Downloading scikeras-0.10.0-py3-none-any.whl (27 kB)\n",
            "Requirement already satisfied: scikit-learn>=1.0.0 in /usr/local/lib/python3.8/dist-packages (from scikeras) (1.2.1)\n",
            "Requirement already satisfied: packaging>=0.21 in /usr/local/lib/python3.8/dist-packages (from scikeras) (23.0)\n",
            "Requirement already satisfied: joblib>=1.1.1 in /usr/local/lib/python3.8/dist-packages (from scikit-learn>=1.0.0->scikeras) (1.2.0)\n",
            "Requirement already satisfied: threadpoolctl>=2.0.0 in /usr/local/lib/python3.8/dist-packages (from scikit-learn>=1.0.0->scikeras) (3.1.0)\n",
            "Requirement already satisfied: scipy>=1.3.2 in /usr/local/lib/python3.8/dist-packages (from scikit-learn>=1.0.0->scikeras) (1.10.1)\n",
            "Requirement already satisfied: numpy>=1.17.3 in /usr/local/lib/python3.8/dist-packages (from scikit-learn>=1.0.0->scikeras) (1.22.4)\n",
            "Installing collected packages: scikeras\n",
            "Successfully installed scikeras-0.10.0\n"
          ]
        }
      ],
      "source": [
        "!wget https://raw.githubusercontent.com/harsha711/sensitive-content-classification/main/text_dataset/annotation_results.csv\n",
        "!pip install scikeras"
      ]
    },
    {
      "cell_type": "code",
      "source": [
        "import pandas as pd\n",
        "import numpy as np\n",
        "from sklearn.metrics import confusion_matrix, precision_recall_fscore_support\n"
      ],
      "metadata": {
        "id": "n1rXWzpvDUa0"
      },
      "execution_count": null,
      "outputs": []
    },
    {
      "cell_type": "code",
      "source": [
        "df = pd.read_csv(\"annotation_results.csv\", index_col='uri')\n",
        "df.head()"
      ],
      "metadata": {
        "colab": {
          "base_uri": "https://localhost:8080/",
          "height": 238
        },
        "id": "pzf-rG78DWFj",
        "outputId": "0d75bd7c-f264-45e0-fbeb-8d59e92cb345"
      },
      "execution_count": null,
      "outputs": [
        {
          "output_type": "execute_result",
          "data": {
            "text/plain": [
              "                                                  text  Incomprensibile  \\\n",
              "uri                                                                       \n",
              "0                          likes the sound of thunder.                0   \n",
              "1    is so sleepy it's not even funny that's she ca...                0   \n",
              "2    is sore and wants the knot of muscles at the b...                0   \n",
              "3           likes how the day sounds in this new song.                0   \n",
              "4                                          is home. <3                0   \n",
              "\n",
              "     Non sensibile  Non so  Sensibile  \n",
              "uri                                    \n",
              "0                2       0          1  \n",
              "1                1       0          2  \n",
              "2                0       0          3  \n",
              "3                2       1          0  \n",
              "4                0       0          3  "
            ],
            "text/html": [
              "\n",
              "  <div id=\"df-322b7294-6fd6-48f4-b1ee-f8309c16817e\">\n",
              "    <div class=\"colab-df-container\">\n",
              "      <div>\n",
              "<style scoped>\n",
              "    .dataframe tbody tr th:only-of-type {\n",
              "        vertical-align: middle;\n",
              "    }\n",
              "\n",
              "    .dataframe tbody tr th {\n",
              "        vertical-align: top;\n",
              "    }\n",
              "\n",
              "    .dataframe thead th {\n",
              "        text-align: right;\n",
              "    }\n",
              "</style>\n",
              "<table border=\"1\" class=\"dataframe\">\n",
              "  <thead>\n",
              "    <tr style=\"text-align: right;\">\n",
              "      <th></th>\n",
              "      <th>text</th>\n",
              "      <th>Incomprensibile</th>\n",
              "      <th>Non sensibile</th>\n",
              "      <th>Non so</th>\n",
              "      <th>Sensibile</th>\n",
              "    </tr>\n",
              "    <tr>\n",
              "      <th>uri</th>\n",
              "      <th></th>\n",
              "      <th></th>\n",
              "      <th></th>\n",
              "      <th></th>\n",
              "      <th></th>\n",
              "    </tr>\n",
              "  </thead>\n",
              "  <tbody>\n",
              "    <tr>\n",
              "      <th>0</th>\n",
              "      <td>likes the sound of thunder.</td>\n",
              "      <td>0</td>\n",
              "      <td>2</td>\n",
              "      <td>0</td>\n",
              "      <td>1</td>\n",
              "    </tr>\n",
              "    <tr>\n",
              "      <th>1</th>\n",
              "      <td>is so sleepy it's not even funny that's she ca...</td>\n",
              "      <td>0</td>\n",
              "      <td>1</td>\n",
              "      <td>0</td>\n",
              "      <td>2</td>\n",
              "    </tr>\n",
              "    <tr>\n",
              "      <th>2</th>\n",
              "      <td>is sore and wants the knot of muscles at the b...</td>\n",
              "      <td>0</td>\n",
              "      <td>0</td>\n",
              "      <td>0</td>\n",
              "      <td>3</td>\n",
              "    </tr>\n",
              "    <tr>\n",
              "      <th>3</th>\n",
              "      <td>likes how the day sounds in this new song.</td>\n",
              "      <td>0</td>\n",
              "      <td>2</td>\n",
              "      <td>1</td>\n",
              "      <td>0</td>\n",
              "    </tr>\n",
              "    <tr>\n",
              "      <th>4</th>\n",
              "      <td>is home. &lt;3</td>\n",
              "      <td>0</td>\n",
              "      <td>0</td>\n",
              "      <td>0</td>\n",
              "      <td>3</td>\n",
              "    </tr>\n",
              "  </tbody>\n",
              "</table>\n",
              "</div>\n",
              "      <button class=\"colab-df-convert\" onclick=\"convertToInteractive('df-322b7294-6fd6-48f4-b1ee-f8309c16817e')\"\n",
              "              title=\"Convert this dataframe to an interactive table.\"\n",
              "              style=\"display:none;\">\n",
              "        \n",
              "  <svg xmlns=\"http://www.w3.org/2000/svg\" height=\"24px\"viewBox=\"0 0 24 24\"\n",
              "       width=\"24px\">\n",
              "    <path d=\"M0 0h24v24H0V0z\" fill=\"none\"/>\n",
              "    <path d=\"M18.56 5.44l.94 2.06.94-2.06 2.06-.94-2.06-.94-.94-2.06-.94 2.06-2.06.94zm-11 1L8.5 8.5l.94-2.06 2.06-.94-2.06-.94L8.5 2.5l-.94 2.06-2.06.94zm10 10l.94 2.06.94-2.06 2.06-.94-2.06-.94-.94-2.06-.94 2.06-2.06.94z\"/><path d=\"M17.41 7.96l-1.37-1.37c-.4-.4-.92-.59-1.43-.59-.52 0-1.04.2-1.43.59L10.3 9.45l-7.72 7.72c-.78.78-.78 2.05 0 2.83L4 21.41c.39.39.9.59 1.41.59.51 0 1.02-.2 1.41-.59l7.78-7.78 2.81-2.81c.8-.78.8-2.07 0-2.86zM5.41 20L4 18.59l7.72-7.72 1.47 1.35L5.41 20z\"/>\n",
              "  </svg>\n",
              "      </button>\n",
              "      \n",
              "  <style>\n",
              "    .colab-df-container {\n",
              "      display:flex;\n",
              "      flex-wrap:wrap;\n",
              "      gap: 12px;\n",
              "    }\n",
              "\n",
              "    .colab-df-convert {\n",
              "      background-color: #E8F0FE;\n",
              "      border: none;\n",
              "      border-radius: 50%;\n",
              "      cursor: pointer;\n",
              "      display: none;\n",
              "      fill: #1967D2;\n",
              "      height: 32px;\n",
              "      padding: 0 0 0 0;\n",
              "      width: 32px;\n",
              "    }\n",
              "\n",
              "    .colab-df-convert:hover {\n",
              "      background-color: #E2EBFA;\n",
              "      box-shadow: 0px 1px 2px rgba(60, 64, 67, 0.3), 0px 1px 3px 1px rgba(60, 64, 67, 0.15);\n",
              "      fill: #174EA6;\n",
              "    }\n",
              "\n",
              "    [theme=dark] .colab-df-convert {\n",
              "      background-color: #3B4455;\n",
              "      fill: #D2E3FC;\n",
              "    }\n",
              "\n",
              "    [theme=dark] .colab-df-convert:hover {\n",
              "      background-color: #434B5C;\n",
              "      box-shadow: 0px 1px 3px 1px rgba(0, 0, 0, 0.15);\n",
              "      filter: drop-shadow(0px 1px 2px rgba(0, 0, 0, 0.3));\n",
              "      fill: #FFFFFF;\n",
              "    }\n",
              "  </style>\n",
              "\n",
              "      <script>\n",
              "        const buttonEl =\n",
              "          document.querySelector('#df-322b7294-6fd6-48f4-b1ee-f8309c16817e button.colab-df-convert');\n",
              "        buttonEl.style.display =\n",
              "          google.colab.kernel.accessAllowed ? 'block' : 'none';\n",
              "\n",
              "        async function convertToInteractive(key) {\n",
              "          const element = document.querySelector('#df-322b7294-6fd6-48f4-b1ee-f8309c16817e');\n",
              "          const dataTable =\n",
              "            await google.colab.kernel.invokeFunction('convertToInteractive',\n",
              "                                                     [key], {});\n",
              "          if (!dataTable) return;\n",
              "\n",
              "          const docLinkHtml = 'Like what you see? Visit the ' +\n",
              "            '<a target=\"_blank\" href=https://colab.research.google.com/notebooks/data_table.ipynb>data table notebook</a>'\n",
              "            + ' to learn more about interactive tables.';\n",
              "          element.innerHTML = '';\n",
              "          dataTable['output_type'] = 'display_data';\n",
              "          await google.colab.output.renderOutput(dataTable, element);\n",
              "          const docLink = document.createElement('div');\n",
              "          docLink.innerHTML = docLinkHtml;\n",
              "          element.appendChild(docLink);\n",
              "        }\n",
              "      </script>\n",
              "    </div>\n",
              "  </div>\n",
              "  "
            ]
          },
          "metadata": {},
          "execution_count": 3
        }
      ]
    },
    {
      "cell_type": "code",
      "source": [
        "df[\"class\"] = np.where(df[\"Sensibile\"]>=2, 1, 0)\n",
        "df.head()"
      ],
      "metadata": {
        "colab": {
          "base_uri": "https://localhost:8080/",
          "height": 238
        },
        "id": "GZJH7WtZeAUx",
        "outputId": "bddee8b8-3d59-4246-cac3-288863d2a2b4"
      },
      "execution_count": null,
      "outputs": [
        {
          "output_type": "execute_result",
          "data": {
            "text/plain": [
              "                                                  text  Incomprensibile  \\\n",
              "uri                                                                       \n",
              "0                          likes the sound of thunder.                0   \n",
              "1    is so sleepy it's not even funny that's she ca...                0   \n",
              "2    is sore and wants the knot of muscles at the b...                0   \n",
              "3           likes how the day sounds in this new song.                0   \n",
              "4                                          is home. <3                0   \n",
              "\n",
              "     Non sensibile  Non so  Sensibile  class  \n",
              "uri                                           \n",
              "0                2       0          1      0  \n",
              "1                1       0          2      1  \n",
              "2                0       0          3      1  \n",
              "3                2       1          0      0  \n",
              "4                0       0          3      1  "
            ],
            "text/html": [
              "\n",
              "  <div id=\"df-cd6d64e4-691c-4590-9549-32b68f0571a7\">\n",
              "    <div class=\"colab-df-container\">\n",
              "      <div>\n",
              "<style scoped>\n",
              "    .dataframe tbody tr th:only-of-type {\n",
              "        vertical-align: middle;\n",
              "    }\n",
              "\n",
              "    .dataframe tbody tr th {\n",
              "        vertical-align: top;\n",
              "    }\n",
              "\n",
              "    .dataframe thead th {\n",
              "        text-align: right;\n",
              "    }\n",
              "</style>\n",
              "<table border=\"1\" class=\"dataframe\">\n",
              "  <thead>\n",
              "    <tr style=\"text-align: right;\">\n",
              "      <th></th>\n",
              "      <th>text</th>\n",
              "      <th>Incomprensibile</th>\n",
              "      <th>Non sensibile</th>\n",
              "      <th>Non so</th>\n",
              "      <th>Sensibile</th>\n",
              "      <th>class</th>\n",
              "    </tr>\n",
              "    <tr>\n",
              "      <th>uri</th>\n",
              "      <th></th>\n",
              "      <th></th>\n",
              "      <th></th>\n",
              "      <th></th>\n",
              "      <th></th>\n",
              "      <th></th>\n",
              "    </tr>\n",
              "  </thead>\n",
              "  <tbody>\n",
              "    <tr>\n",
              "      <th>0</th>\n",
              "      <td>likes the sound of thunder.</td>\n",
              "      <td>0</td>\n",
              "      <td>2</td>\n",
              "      <td>0</td>\n",
              "      <td>1</td>\n",
              "      <td>0</td>\n",
              "    </tr>\n",
              "    <tr>\n",
              "      <th>1</th>\n",
              "      <td>is so sleepy it's not even funny that's she ca...</td>\n",
              "      <td>0</td>\n",
              "      <td>1</td>\n",
              "      <td>0</td>\n",
              "      <td>2</td>\n",
              "      <td>1</td>\n",
              "    </tr>\n",
              "    <tr>\n",
              "      <th>2</th>\n",
              "      <td>is sore and wants the knot of muscles at the b...</td>\n",
              "      <td>0</td>\n",
              "      <td>0</td>\n",
              "      <td>0</td>\n",
              "      <td>3</td>\n",
              "      <td>1</td>\n",
              "    </tr>\n",
              "    <tr>\n",
              "      <th>3</th>\n",
              "      <td>likes how the day sounds in this new song.</td>\n",
              "      <td>0</td>\n",
              "      <td>2</td>\n",
              "      <td>1</td>\n",
              "      <td>0</td>\n",
              "      <td>0</td>\n",
              "    </tr>\n",
              "    <tr>\n",
              "      <th>4</th>\n",
              "      <td>is home. &lt;3</td>\n",
              "      <td>0</td>\n",
              "      <td>0</td>\n",
              "      <td>0</td>\n",
              "      <td>3</td>\n",
              "      <td>1</td>\n",
              "    </tr>\n",
              "  </tbody>\n",
              "</table>\n",
              "</div>\n",
              "      <button class=\"colab-df-convert\" onclick=\"convertToInteractive('df-cd6d64e4-691c-4590-9549-32b68f0571a7')\"\n",
              "              title=\"Convert this dataframe to an interactive table.\"\n",
              "              style=\"display:none;\">\n",
              "        \n",
              "  <svg xmlns=\"http://www.w3.org/2000/svg\" height=\"24px\"viewBox=\"0 0 24 24\"\n",
              "       width=\"24px\">\n",
              "    <path d=\"M0 0h24v24H0V0z\" fill=\"none\"/>\n",
              "    <path d=\"M18.56 5.44l.94 2.06.94-2.06 2.06-.94-2.06-.94-.94-2.06-.94 2.06-2.06.94zm-11 1L8.5 8.5l.94-2.06 2.06-.94-2.06-.94L8.5 2.5l-.94 2.06-2.06.94zm10 10l.94 2.06.94-2.06 2.06-.94-2.06-.94-.94-2.06-.94 2.06-2.06.94z\"/><path d=\"M17.41 7.96l-1.37-1.37c-.4-.4-.92-.59-1.43-.59-.52 0-1.04.2-1.43.59L10.3 9.45l-7.72 7.72c-.78.78-.78 2.05 0 2.83L4 21.41c.39.39.9.59 1.41.59.51 0 1.02-.2 1.41-.59l7.78-7.78 2.81-2.81c.8-.78.8-2.07 0-2.86zM5.41 20L4 18.59l7.72-7.72 1.47 1.35L5.41 20z\"/>\n",
              "  </svg>\n",
              "      </button>\n",
              "      \n",
              "  <style>\n",
              "    .colab-df-container {\n",
              "      display:flex;\n",
              "      flex-wrap:wrap;\n",
              "      gap: 12px;\n",
              "    }\n",
              "\n",
              "    .colab-df-convert {\n",
              "      background-color: #E8F0FE;\n",
              "      border: none;\n",
              "      border-radius: 50%;\n",
              "      cursor: pointer;\n",
              "      display: none;\n",
              "      fill: #1967D2;\n",
              "      height: 32px;\n",
              "      padding: 0 0 0 0;\n",
              "      width: 32px;\n",
              "    }\n",
              "\n",
              "    .colab-df-convert:hover {\n",
              "      background-color: #E2EBFA;\n",
              "      box-shadow: 0px 1px 2px rgba(60, 64, 67, 0.3), 0px 1px 3px 1px rgba(60, 64, 67, 0.15);\n",
              "      fill: #174EA6;\n",
              "    }\n",
              "\n",
              "    [theme=dark] .colab-df-convert {\n",
              "      background-color: #3B4455;\n",
              "      fill: #D2E3FC;\n",
              "    }\n",
              "\n",
              "    [theme=dark] .colab-df-convert:hover {\n",
              "      background-color: #434B5C;\n",
              "      box-shadow: 0px 1px 3px 1px rgba(0, 0, 0, 0.15);\n",
              "      filter: drop-shadow(0px 1px 2px rgba(0, 0, 0, 0.3));\n",
              "      fill: #FFFFFF;\n",
              "    }\n",
              "  </style>\n",
              "\n",
              "      <script>\n",
              "        const buttonEl =\n",
              "          document.querySelector('#df-cd6d64e4-691c-4590-9549-32b68f0571a7 button.colab-df-convert');\n",
              "        buttonEl.style.display =\n",
              "          google.colab.kernel.accessAllowed ? 'block' : 'none';\n",
              "\n",
              "        async function convertToInteractive(key) {\n",
              "          const element = document.querySelector('#df-cd6d64e4-691c-4590-9549-32b68f0571a7');\n",
              "          const dataTable =\n",
              "            await google.colab.kernel.invokeFunction('convertToInteractive',\n",
              "                                                     [key], {});\n",
              "          if (!dataTable) return;\n",
              "\n",
              "          const docLinkHtml = 'Like what you see? Visit the ' +\n",
              "            '<a target=\"_blank\" href=https://colab.research.google.com/notebooks/data_table.ipynb>data table notebook</a>'\n",
              "            + ' to learn more about interactive tables.';\n",
              "          element.innerHTML = '';\n",
              "          dataTable['output_type'] = 'display_data';\n",
              "          await google.colab.output.renderOutput(dataTable, element);\n",
              "          const docLink = document.createElement('div');\n",
              "          docLink.innerHTML = docLinkHtml;\n",
              "          element.appendChild(docLink);\n",
              "        }\n",
              "      </script>\n",
              "    </div>\n",
              "  </div>\n",
              "  "
            ]
          },
          "metadata": {},
          "execution_count": 4
        }
      ]
    },
    {
      "cell_type": "markdown",
      "source": [
        "# Text Cleaning"
      ],
      "metadata": {
        "id": "XyoOgquIdtGo"
      }
    },
    {
      "cell_type": "code",
      "source": [
        "import re\n",
        "import string\n",
        "import nltk\n",
        "from nltk.corpus import stopwords\n",
        "nltk.download('stopwords')\n",
        "from nltk.stem import WordNetLemmatizer\n",
        "nltk.download('omw-1.4')\n",
        "nltk.download('wordnet')"
      ],
      "metadata": {
        "colab": {
          "base_uri": "https://localhost:8080/"
        },
        "id": "KGmfzsg5eIWy",
        "outputId": "5162edd1-69d0-401e-c293-61dad827c856"
      },
      "execution_count": null,
      "outputs": [
        {
          "output_type": "stream",
          "name": "stderr",
          "text": [
            "[nltk_data] Downloading package stopwords to /root/nltk_data...\n",
            "[nltk_data]   Unzipping corpora/stopwords.zip.\n",
            "[nltk_data] Downloading package omw-1.4 to /root/nltk_data...\n",
            "[nltk_data] Downloading package wordnet to /root/nltk_data...\n"
          ]
        },
        {
          "output_type": "execute_result",
          "data": {
            "text/plain": [
              "True"
            ]
          },
          "metadata": {},
          "execution_count": 5
        }
      ]
    },
    {
      "cell_type": "code",
      "source": [
        "stop_words = stopwords.words(\"english\")\n",
        "replacing_value = len(string.punctuation) * ' '"
      ],
      "metadata": {
        "id": "6c8qRlp0eJQ0"
      },
      "execution_count": null,
      "outputs": []
    },
    {
      "cell_type": "code",
      "source": [
        "contraction_mapping = {\"ain't\": \"is not\", \"aren't\": \"are not\",\"can't\": \"cannot\", \"'cause\": \"because\", \"could've\": \"could have\", \"couldn't\": \"could not\",\n",
        "                           \"didn't\": \"did not\",  \"doesn't\": \"does not\", \"don't\": \"do not\", \"hadn't\": \"had not\", \"hasn't\": \"has not\", \"haven't\": \"have not\",\n",
        "                           \"he'd\": \"he would\",\"he'll\": \"he will\", \"he's\": \"he is\", \"how'd\": \"how did\", \"how'd'y\": \"how do you\", \"how'll\": \"how will\", \"how's\": \"how is\",\n",
        "                           \"I'd\": \"I would\", \"I'd've\": \"I would have\", \"I'll\": \"I will\", \"I'll've\": \"I will have\",\"I'm\": \"I am\", \"I've\": \"I have\", \"i'd\": \"i would\",\n",
        "                           \"i'd've\": \"i would have\", \"i'll\": \"i will\",  \"i'll've\": \"i will have\",\"i'm\": \"i am\", \"i've\": \"i have\", \"isn't\": \"is not\", \"it'd\": \"it would\",\n",
        "                           \"it'd've\": \"it would have\", \"it'll\": \"it will\", \"it'll've\": \"it will have\",\"it's\": \"it is\", \"let's\": \"let us\", \"ma'am\": \"madam\",\n",
        "                           \"mayn't\": \"may not\", \"might've\": \"might have\",\"mightn't\": \"might not\",\"mightn't've\": \"might not have\", \"must've\": \"must have\",\n",
        "                           \"mustn't\": \"must not\", \"mustn't've\": \"must not have\", \"needn't\": \"need not\", \"needn't've\": \"need not have\",\"o'clock\": \"of the clock\",\n",
        "                           \"oughtn't\": \"ought not\", \"oughtn't've\": \"ought not have\", \"shan't\": \"shall not\", \"sha'n't\": \"shall not\", \"shan't've\": \"shall not have\",\n",
        "                           \"she'd\": \"she would\", \"she'd've\": \"she would have\", \"she'll\": \"she will\", \"she'll've\": \"she will have\", \"she's\": \"she is\",\n",
        "                           \"should've\": \"should have\", \"shouldn't\": \"should not\", \"shouldn't've\": \"should not have\", \"so've\": \"so have\",\"so's\": \"so as\",\n",
        "                           \"this's\": \"this is\",\"that'd\": \"that would\", \"that'd've\": \"that would have\", \"that's\": \"that is\", \"there'd\": \"there would\",\n",
        "                           \"there'd've\": \"there would have\", \"there's\": \"there is\", \"here's\": \"here is\",\"they'd\": \"they would\", \"they'd've\": \"they would have\",\n",
        "                           \"they'll\": \"they will\", \"they'll've\": \"they will have\", \"they're\": \"they are\", \"they've\": \"they have\", \"to've\": \"to have\",\n",
        "                           \"wasn't\": \"was not\", \"we'd\": \"we would\", \"we'd've\": \"we would have\", \"we'll\": \"we will\", \"we'll've\": \"we will have\", \"we're\": \"we are\",\n",
        "                           \"we've\": \"we have\", \"weren't\": \"were not\", \"what'll\": \"what will\", \"what'll've\": \"what will have\", \"what're\": \"what are\",\n",
        "                           \"what's\": \"what is\", \"what've\": \"what have\", \"when's\": \"when is\", \"when've\": \"when have\", \"where'd\": \"where did\", \"where's\": \"where is\",\n",
        "                           \"where've\": \"where have\", \"who'll\": \"who will\", \"who'll've\": \"who will have\", \"who's\": \"who is\", \"who've\": \"who have\",\n",
        "                           \"why's\": \"why is\", \"why've\": \"why have\", \"will've\": \"will have\", \"won't\": \"will not\", \"won't've\": \"will not have\",\n",
        "                           \"would've\": \"would have\", \"wouldn't\": \"would not\", \"wouldn't've\": \"would not have\", \"y'all\": \"you all\",\n",
        "                           \"y'all'd\": \"you all would\",\"y'all'd've\": \"you all would have\",\"y'all're\": \"you all are\",\"y'all've\": \"you all have\",\n",
        "                           \"you'd\": \"you would\", \"you'd've\": \"you would have\", \"you'll\": \"you will\", \"you'll've\": \"you will have\",\n",
        "                           \"you're\": \"you are\", \"you've\": \"you have\"}"
      ],
      "metadata": {
        "id": "91PfrLBS0Bwu"
      },
      "execution_count": null,
      "outputs": []
    },
    {
      "cell_type": "code",
      "source": [
        "contractions = contraction_mapping\n",
        "\n",
        "#initialize stop words and LancasterStemmer\n",
        "stop_words=set(stopwords.words('english'))\n",
        "lemmatizer = WordNetLemmatizer()"
      ],
      "metadata": {
        "id": "29hEjG7Kz9b1"
      },
      "execution_count": null,
      "outputs": []
    },
    {
      "cell_type": "code",
      "source": [
        "def text_cleaning(x, remove_emojis=True, remove_stop_words=True):\n",
        "    \"\"\"Apply function to a clean a tweet\"\"\"\n",
        "    x = x.lower().strip()\n",
        "    # romove urls\n",
        "    # url = re.compile(r'https?://\\S+|www\\.\\S+')\n",
        "    # x = url.sub(r'',x)\n",
        "    # remove html tags\n",
        "    html = re.compile(r'<.*?>')\n",
        "    x = html.sub(r'',x)\n",
        "    #contractions\n",
        "    x = ' '.join([contraction_mapping[w] if w in contraction_mapping else w for w in x.split(' ') ])\n",
        "    #print(temp)\n",
        "    # remove punctuation\n",
        "    replacing_value = len(string.punctuation) * ' '\n",
        "    operator = str.maketrans(string.punctuation, replacing_value) #????\n",
        "    x = x.translate(operator)\n",
        "    #x = re.sub(r'[^\\w\\s]', '', x)\n",
        "    x = x.rstrip()\n",
        "    if remove_emojis:\n",
        "        x = x.encode('ascii', 'ignore').decode('utf8').strip()\n",
        "    if remove_stop_words:\n",
        "        x = ' '.join([lemmatizer.lemmatize(word) for word in x.split(' ') if word not in stop_words])\n",
        "    return x"
      ],
      "metadata": {
        "id": "2PN7FE2fdvdG"
      },
      "execution_count": null,
      "outputs": []
    },
    {
      "cell_type": "code",
      "source": [
        "df['cleaned_text'] = df['text'].apply(text_cleaning)"
      ],
      "metadata": {
        "id": "OzHfIoo-dxdW"
      },
      "execution_count": null,
      "outputs": []
    },
    {
      "cell_type": "code",
      "source": [
        "df['cleaned_text'].isnull().values.any()"
      ],
      "metadata": {
        "colab": {
          "base_uri": "https://localhost:8080/"
        },
        "id": "IJQE2igwGDf9",
        "outputId": "5316ce4d-ce14-4f49-9004-00a9d0cc020b"
      },
      "execution_count": null,
      "outputs": [
        {
          "output_type": "execute_result",
          "data": {
            "text/plain": [
              "False"
            ]
          },
          "metadata": {},
          "execution_count": 11
        }
      ]
    },
    {
      "cell_type": "code",
      "source": [
        "df['cleaned_text'].isna().sum()"
      ],
      "metadata": {
        "colab": {
          "base_uri": "https://localhost:8080/"
        },
        "id": "f6Xe20ShGQPw",
        "outputId": "3b424f58-4ae2-4aec-c5b2-b238d0dc70df"
      },
      "execution_count": null,
      "outputs": [
        {
          "output_type": "execute_result",
          "data": {
            "text/plain": [
              "0"
            ]
          },
          "metadata": {},
          "execution_count": 12
        }
      ]
    },
    {
      "cell_type": "code",
      "source": [
        "df"
      ],
      "metadata": {
        "colab": {
          "base_uri": "https://localhost:8080/",
          "height": 455
        },
        "id": "iOLi-i9HrDZQ",
        "outputId": "014988ab-7c1c-4b1f-e08e-91e25812734c"
      },
      "execution_count": null,
      "outputs": [
        {
          "output_type": "execute_result",
          "data": {
            "text/plain": [
              "                                                   text  Incomprensibile  \\\n",
              "uri                                                                        \n",
              "0                           likes the sound of thunder.                0   \n",
              "1     is so sleepy it's not even funny that's she ca...                0   \n",
              "2     is sore and wants the knot of muscles at the b...                0   \n",
              "3            likes how the day sounds in this new song.                0   \n",
              "4                                           is home. <3                0   \n",
              "...                                                 ...              ...   \n",
              "9912                       little things give you away.                0   \n",
              "9913                        is wishing it was Saturday.                0   \n",
              "9914                    is studying hard for the G.R.E.                0   \n",
              "9915                              snipers get more head                0   \n",
              "9916  Last night was amazing! Not only did I see *PR...                0   \n",
              "\n",
              "      Non sensibile  Non so  Sensibile  class  \\\n",
              "uri                                             \n",
              "0                 2       0          1      0   \n",
              "1                 1       0          2      1   \n",
              "2                 0       0          3      1   \n",
              "3                 2       1          0      0   \n",
              "4                 0       0          3      1   \n",
              "...             ...     ...        ...    ...   \n",
              "9912              2       1          0      0   \n",
              "9913              3       0          0      0   \n",
              "9914              2       1          0      0   \n",
              "9915              3       0          0      0   \n",
              "9916              1       0          2      1   \n",
              "\n",
              "                                           cleaned_text  \n",
              "uri                                                      \n",
              "0                                    like sound thunder  \n",
              "1                    sleepy even funny cannot get sleep  \n",
              "2     sore want knot muscle base neck stop hurting  ...  \n",
              "3                               like day sound new song  \n",
              "4                                              home   3  \n",
              "...                                                 ...  \n",
              "9912                             little thing give away  \n",
              "9913                                   wishing saturday  \n",
              "9914                                studying hard g r e  \n",
              "9915                                    sniper get head  \n",
              "9916  last night amazing  see  propname   propname  ...  \n",
              "\n",
              "[9917 rows x 7 columns]"
            ],
            "text/html": [
              "\n",
              "  <div id=\"df-67e77e90-070b-4e91-84e6-35c4dd836901\">\n",
              "    <div class=\"colab-df-container\">\n",
              "      <div>\n",
              "<style scoped>\n",
              "    .dataframe tbody tr th:only-of-type {\n",
              "        vertical-align: middle;\n",
              "    }\n",
              "\n",
              "    .dataframe tbody tr th {\n",
              "        vertical-align: top;\n",
              "    }\n",
              "\n",
              "    .dataframe thead th {\n",
              "        text-align: right;\n",
              "    }\n",
              "</style>\n",
              "<table border=\"1\" class=\"dataframe\">\n",
              "  <thead>\n",
              "    <tr style=\"text-align: right;\">\n",
              "      <th></th>\n",
              "      <th>text</th>\n",
              "      <th>Incomprensibile</th>\n",
              "      <th>Non sensibile</th>\n",
              "      <th>Non so</th>\n",
              "      <th>Sensibile</th>\n",
              "      <th>class</th>\n",
              "      <th>cleaned_text</th>\n",
              "    </tr>\n",
              "    <tr>\n",
              "      <th>uri</th>\n",
              "      <th></th>\n",
              "      <th></th>\n",
              "      <th></th>\n",
              "      <th></th>\n",
              "      <th></th>\n",
              "      <th></th>\n",
              "      <th></th>\n",
              "    </tr>\n",
              "  </thead>\n",
              "  <tbody>\n",
              "    <tr>\n",
              "      <th>0</th>\n",
              "      <td>likes the sound of thunder.</td>\n",
              "      <td>0</td>\n",
              "      <td>2</td>\n",
              "      <td>0</td>\n",
              "      <td>1</td>\n",
              "      <td>0</td>\n",
              "      <td>like sound thunder</td>\n",
              "    </tr>\n",
              "    <tr>\n",
              "      <th>1</th>\n",
              "      <td>is so sleepy it's not even funny that's she ca...</td>\n",
              "      <td>0</td>\n",
              "      <td>1</td>\n",
              "      <td>0</td>\n",
              "      <td>2</td>\n",
              "      <td>1</td>\n",
              "      <td>sleepy even funny cannot get sleep</td>\n",
              "    </tr>\n",
              "    <tr>\n",
              "      <th>2</th>\n",
              "      <td>is sore and wants the knot of muscles at the b...</td>\n",
              "      <td>0</td>\n",
              "      <td>0</td>\n",
              "      <td>0</td>\n",
              "      <td>3</td>\n",
              "      <td>1</td>\n",
              "      <td>sore want knot muscle base neck stop hurting  ...</td>\n",
              "    </tr>\n",
              "    <tr>\n",
              "      <th>3</th>\n",
              "      <td>likes how the day sounds in this new song.</td>\n",
              "      <td>0</td>\n",
              "      <td>2</td>\n",
              "      <td>1</td>\n",
              "      <td>0</td>\n",
              "      <td>0</td>\n",
              "      <td>like day sound new song</td>\n",
              "    </tr>\n",
              "    <tr>\n",
              "      <th>4</th>\n",
              "      <td>is home. &lt;3</td>\n",
              "      <td>0</td>\n",
              "      <td>0</td>\n",
              "      <td>0</td>\n",
              "      <td>3</td>\n",
              "      <td>1</td>\n",
              "      <td>home   3</td>\n",
              "    </tr>\n",
              "    <tr>\n",
              "      <th>...</th>\n",
              "      <td>...</td>\n",
              "      <td>...</td>\n",
              "      <td>...</td>\n",
              "      <td>...</td>\n",
              "      <td>...</td>\n",
              "      <td>...</td>\n",
              "      <td>...</td>\n",
              "    </tr>\n",
              "    <tr>\n",
              "      <th>9912</th>\n",
              "      <td>little things give you away.</td>\n",
              "      <td>0</td>\n",
              "      <td>2</td>\n",
              "      <td>1</td>\n",
              "      <td>0</td>\n",
              "      <td>0</td>\n",
              "      <td>little thing give away</td>\n",
              "    </tr>\n",
              "    <tr>\n",
              "      <th>9913</th>\n",
              "      <td>is wishing it was Saturday.</td>\n",
              "      <td>0</td>\n",
              "      <td>3</td>\n",
              "      <td>0</td>\n",
              "      <td>0</td>\n",
              "      <td>0</td>\n",
              "      <td>wishing saturday</td>\n",
              "    </tr>\n",
              "    <tr>\n",
              "      <th>9914</th>\n",
              "      <td>is studying hard for the G.R.E.</td>\n",
              "      <td>0</td>\n",
              "      <td>2</td>\n",
              "      <td>1</td>\n",
              "      <td>0</td>\n",
              "      <td>0</td>\n",
              "      <td>studying hard g r e</td>\n",
              "    </tr>\n",
              "    <tr>\n",
              "      <th>9915</th>\n",
              "      <td>snipers get more head</td>\n",
              "      <td>0</td>\n",
              "      <td>3</td>\n",
              "      <td>0</td>\n",
              "      <td>0</td>\n",
              "      <td>0</td>\n",
              "      <td>sniper get head</td>\n",
              "    </tr>\n",
              "    <tr>\n",
              "      <th>9916</th>\n",
              "      <td>Last night was amazing! Not only did I see *PR...</td>\n",
              "      <td>0</td>\n",
              "      <td>1</td>\n",
              "      <td>0</td>\n",
              "      <td>2</td>\n",
              "      <td>1</td>\n",
              "      <td>last night amazing  see  propname   propname  ...</td>\n",
              "    </tr>\n",
              "  </tbody>\n",
              "</table>\n",
              "<p>9917 rows × 7 columns</p>\n",
              "</div>\n",
              "      <button class=\"colab-df-convert\" onclick=\"convertToInteractive('df-67e77e90-070b-4e91-84e6-35c4dd836901')\"\n",
              "              title=\"Convert this dataframe to an interactive table.\"\n",
              "              style=\"display:none;\">\n",
              "        \n",
              "  <svg xmlns=\"http://www.w3.org/2000/svg\" height=\"24px\"viewBox=\"0 0 24 24\"\n",
              "       width=\"24px\">\n",
              "    <path d=\"M0 0h24v24H0V0z\" fill=\"none\"/>\n",
              "    <path d=\"M18.56 5.44l.94 2.06.94-2.06 2.06-.94-2.06-.94-.94-2.06-.94 2.06-2.06.94zm-11 1L8.5 8.5l.94-2.06 2.06-.94-2.06-.94L8.5 2.5l-.94 2.06-2.06.94zm10 10l.94 2.06.94-2.06 2.06-.94-2.06-.94-.94-2.06-.94 2.06-2.06.94z\"/><path d=\"M17.41 7.96l-1.37-1.37c-.4-.4-.92-.59-1.43-.59-.52 0-1.04.2-1.43.59L10.3 9.45l-7.72 7.72c-.78.78-.78 2.05 0 2.83L4 21.41c.39.39.9.59 1.41.59.51 0 1.02-.2 1.41-.59l7.78-7.78 2.81-2.81c.8-.78.8-2.07 0-2.86zM5.41 20L4 18.59l7.72-7.72 1.47 1.35L5.41 20z\"/>\n",
              "  </svg>\n",
              "      </button>\n",
              "      \n",
              "  <style>\n",
              "    .colab-df-container {\n",
              "      display:flex;\n",
              "      flex-wrap:wrap;\n",
              "      gap: 12px;\n",
              "    }\n",
              "\n",
              "    .colab-df-convert {\n",
              "      background-color: #E8F0FE;\n",
              "      border: none;\n",
              "      border-radius: 50%;\n",
              "      cursor: pointer;\n",
              "      display: none;\n",
              "      fill: #1967D2;\n",
              "      height: 32px;\n",
              "      padding: 0 0 0 0;\n",
              "      width: 32px;\n",
              "    }\n",
              "\n",
              "    .colab-df-convert:hover {\n",
              "      background-color: #E2EBFA;\n",
              "      box-shadow: 0px 1px 2px rgba(60, 64, 67, 0.3), 0px 1px 3px 1px rgba(60, 64, 67, 0.15);\n",
              "      fill: #174EA6;\n",
              "    }\n",
              "\n",
              "    [theme=dark] .colab-df-convert {\n",
              "      background-color: #3B4455;\n",
              "      fill: #D2E3FC;\n",
              "    }\n",
              "\n",
              "    [theme=dark] .colab-df-convert:hover {\n",
              "      background-color: #434B5C;\n",
              "      box-shadow: 0px 1px 3px 1px rgba(0, 0, 0, 0.15);\n",
              "      filter: drop-shadow(0px 1px 2px rgba(0, 0, 0, 0.3));\n",
              "      fill: #FFFFFF;\n",
              "    }\n",
              "  </style>\n",
              "\n",
              "      <script>\n",
              "        const buttonEl =\n",
              "          document.querySelector('#df-67e77e90-070b-4e91-84e6-35c4dd836901 button.colab-df-convert');\n",
              "        buttonEl.style.display =\n",
              "          google.colab.kernel.accessAllowed ? 'block' : 'none';\n",
              "\n",
              "        async function convertToInteractive(key) {\n",
              "          const element = document.querySelector('#df-67e77e90-070b-4e91-84e6-35c4dd836901');\n",
              "          const dataTable =\n",
              "            await google.colab.kernel.invokeFunction('convertToInteractive',\n",
              "                                                     [key], {});\n",
              "          if (!dataTable) return;\n",
              "\n",
              "          const docLinkHtml = 'Like what you see? Visit the ' +\n",
              "            '<a target=\"_blank\" href=https://colab.research.google.com/notebooks/data_table.ipynb>data table notebook</a>'\n",
              "            + ' to learn more about interactive tables.';\n",
              "          element.innerHTML = '';\n",
              "          dataTable['output_type'] = 'display_data';\n",
              "          await google.colab.output.renderOutput(dataTable, element);\n",
              "          const docLink = document.createElement('div');\n",
              "          docLink.innerHTML = docLinkHtml;\n",
              "          element.appendChild(docLink);\n",
              "        }\n",
              "      </script>\n",
              "    </div>\n",
              "  </div>\n",
              "  "
            ]
          },
          "metadata": {},
          "execution_count": 13
        }
      ]
    },
    {
      "cell_type": "code",
      "source": [
        "df = df.sample(frac=1, random_state=42)"
      ],
      "metadata": {
        "id": "sNLepuW_WvRY"
      },
      "execution_count": null,
      "outputs": []
    },
    {
      "cell_type": "code",
      "source": [
        "df"
      ],
      "metadata": {
        "colab": {
          "base_uri": "https://localhost:8080/",
          "height": 455
        },
        "id": "QGNc4jzFWwLh",
        "outputId": "63aab85e-bf8a-45ed-bf10-d60c45425398"
      },
      "execution_count": null,
      "outputs": [
        {
          "output_type": "execute_result",
          "data": {
            "text/plain": [
              "                                                   text  Incomprensibile  \\\n",
              "uri                                                                        \n",
              "6556                       had a really really good day                0   \n",
              "9285  Finally, a three day weekend to.... catch up w...                0   \n",
              "360                           How do i change my name??                0   \n",
              "1261  had everything go wrong for dinner tonight but...                0   \n",
              "3038  Thinks that chrome has come a long way since t...                0   \n",
              "...                                                 ...              ...   \n",
              "5734                                   Snow in Germany!                0   \n",
              "5191  just saw a commercial for Rihanna's 20//20 int...                0   \n",
              "5390                                           is sick?                0   \n",
              "860                      Napalm is Nature's Toothpaste.                0   \n",
              "7270  hoping that tomorrow will be better than today...                0   \n",
              "\n",
              "      Non sensibile  Non so  Sensibile  class  \\\n",
              "uri                                             \n",
              "6556              2       0          1      0   \n",
              "9285              1       0          2      1   \n",
              "360               3       0          0      0   \n",
              "1261              1       0          2      1   \n",
              "3038              3       0          0      0   \n",
              "...             ...     ...        ...    ...   \n",
              "5734              2       1          0      0   \n",
              "5191              2       1          0      0   \n",
              "5390              0       1          2      1   \n",
              "860               3       0          0      0   \n",
              "7270              3       0          0      0   \n",
              "\n",
              "                                           cleaned_text  \n",
              "uri                                                      \n",
              "6556                             really really good day  \n",
              "9285        finally  three day weekend     catch school  \n",
              "360                                         change name  \n",
              "1261  everything go wrong dinner tonight ended exact...  \n",
              "3038  think chrome come long way since first time tr...  \n",
              "...                                                 ...  \n",
              "5734                                       snow germany  \n",
              "5191  saw commercial rihanna 20  20 interview ordeal...  \n",
              "5390                                               sick  \n",
              "860                            napalm nature toothpaste  \n",
              "7270                       hoping tomorrow better today  \n",
              "\n",
              "[9917 rows x 7 columns]"
            ],
            "text/html": [
              "\n",
              "  <div id=\"df-744a6d69-7c63-4a92-9612-f664b4906a27\">\n",
              "    <div class=\"colab-df-container\">\n",
              "      <div>\n",
              "<style scoped>\n",
              "    .dataframe tbody tr th:only-of-type {\n",
              "        vertical-align: middle;\n",
              "    }\n",
              "\n",
              "    .dataframe tbody tr th {\n",
              "        vertical-align: top;\n",
              "    }\n",
              "\n",
              "    .dataframe thead th {\n",
              "        text-align: right;\n",
              "    }\n",
              "</style>\n",
              "<table border=\"1\" class=\"dataframe\">\n",
              "  <thead>\n",
              "    <tr style=\"text-align: right;\">\n",
              "      <th></th>\n",
              "      <th>text</th>\n",
              "      <th>Incomprensibile</th>\n",
              "      <th>Non sensibile</th>\n",
              "      <th>Non so</th>\n",
              "      <th>Sensibile</th>\n",
              "      <th>class</th>\n",
              "      <th>cleaned_text</th>\n",
              "    </tr>\n",
              "    <tr>\n",
              "      <th>uri</th>\n",
              "      <th></th>\n",
              "      <th></th>\n",
              "      <th></th>\n",
              "      <th></th>\n",
              "      <th></th>\n",
              "      <th></th>\n",
              "      <th></th>\n",
              "    </tr>\n",
              "  </thead>\n",
              "  <tbody>\n",
              "    <tr>\n",
              "      <th>6556</th>\n",
              "      <td>had a really really good day</td>\n",
              "      <td>0</td>\n",
              "      <td>2</td>\n",
              "      <td>0</td>\n",
              "      <td>1</td>\n",
              "      <td>0</td>\n",
              "      <td>really really good day</td>\n",
              "    </tr>\n",
              "    <tr>\n",
              "      <th>9285</th>\n",
              "      <td>Finally, a three day weekend to.... catch up w...</td>\n",
              "      <td>0</td>\n",
              "      <td>1</td>\n",
              "      <td>0</td>\n",
              "      <td>2</td>\n",
              "      <td>1</td>\n",
              "      <td>finally  three day weekend     catch school</td>\n",
              "    </tr>\n",
              "    <tr>\n",
              "      <th>360</th>\n",
              "      <td>How do i change my name??</td>\n",
              "      <td>0</td>\n",
              "      <td>3</td>\n",
              "      <td>0</td>\n",
              "      <td>0</td>\n",
              "      <td>0</td>\n",
              "      <td>change name</td>\n",
              "    </tr>\n",
              "    <tr>\n",
              "      <th>1261</th>\n",
              "      <td>had everything go wrong for dinner tonight but...</td>\n",
              "      <td>0</td>\n",
              "      <td>1</td>\n",
              "      <td>0</td>\n",
              "      <td>2</td>\n",
              "      <td>1</td>\n",
              "      <td>everything go wrong dinner tonight ended exact...</td>\n",
              "    </tr>\n",
              "    <tr>\n",
              "      <th>3038</th>\n",
              "      <td>Thinks that chrome has come a long way since t...</td>\n",
              "      <td>0</td>\n",
              "      <td>3</td>\n",
              "      <td>0</td>\n",
              "      <td>0</td>\n",
              "      <td>0</td>\n",
              "      <td>think chrome come long way since first time tr...</td>\n",
              "    </tr>\n",
              "    <tr>\n",
              "      <th>...</th>\n",
              "      <td>...</td>\n",
              "      <td>...</td>\n",
              "      <td>...</td>\n",
              "      <td>...</td>\n",
              "      <td>...</td>\n",
              "      <td>...</td>\n",
              "      <td>...</td>\n",
              "    </tr>\n",
              "    <tr>\n",
              "      <th>5734</th>\n",
              "      <td>Snow in Germany!</td>\n",
              "      <td>0</td>\n",
              "      <td>2</td>\n",
              "      <td>1</td>\n",
              "      <td>0</td>\n",
              "      <td>0</td>\n",
              "      <td>snow germany</td>\n",
              "    </tr>\n",
              "    <tr>\n",
              "      <th>5191</th>\n",
              "      <td>just saw a commercial for Rihanna's 20//20 int...</td>\n",
              "      <td>0</td>\n",
              "      <td>2</td>\n",
              "      <td>1</td>\n",
              "      <td>0</td>\n",
              "      <td>0</td>\n",
              "      <td>saw commercial rihanna 20  20 interview ordeal...</td>\n",
              "    </tr>\n",
              "    <tr>\n",
              "      <th>5390</th>\n",
              "      <td>is sick?</td>\n",
              "      <td>0</td>\n",
              "      <td>0</td>\n",
              "      <td>1</td>\n",
              "      <td>2</td>\n",
              "      <td>1</td>\n",
              "      <td>sick</td>\n",
              "    </tr>\n",
              "    <tr>\n",
              "      <th>860</th>\n",
              "      <td>Napalm is Nature's Toothpaste.</td>\n",
              "      <td>0</td>\n",
              "      <td>3</td>\n",
              "      <td>0</td>\n",
              "      <td>0</td>\n",
              "      <td>0</td>\n",
              "      <td>napalm nature toothpaste</td>\n",
              "    </tr>\n",
              "    <tr>\n",
              "      <th>7270</th>\n",
              "      <td>hoping that tomorrow will be better than today...</td>\n",
              "      <td>0</td>\n",
              "      <td>3</td>\n",
              "      <td>0</td>\n",
              "      <td>0</td>\n",
              "      <td>0</td>\n",
              "      <td>hoping tomorrow better today</td>\n",
              "    </tr>\n",
              "  </tbody>\n",
              "</table>\n",
              "<p>9917 rows × 7 columns</p>\n",
              "</div>\n",
              "      <button class=\"colab-df-convert\" onclick=\"convertToInteractive('df-744a6d69-7c63-4a92-9612-f664b4906a27')\"\n",
              "              title=\"Convert this dataframe to an interactive table.\"\n",
              "              style=\"display:none;\">\n",
              "        \n",
              "  <svg xmlns=\"http://www.w3.org/2000/svg\" height=\"24px\"viewBox=\"0 0 24 24\"\n",
              "       width=\"24px\">\n",
              "    <path d=\"M0 0h24v24H0V0z\" fill=\"none\"/>\n",
              "    <path d=\"M18.56 5.44l.94 2.06.94-2.06 2.06-.94-2.06-.94-.94-2.06-.94 2.06-2.06.94zm-11 1L8.5 8.5l.94-2.06 2.06-.94-2.06-.94L8.5 2.5l-.94 2.06-2.06.94zm10 10l.94 2.06.94-2.06 2.06-.94-2.06-.94-.94-2.06-.94 2.06-2.06.94z\"/><path d=\"M17.41 7.96l-1.37-1.37c-.4-.4-.92-.59-1.43-.59-.52 0-1.04.2-1.43.59L10.3 9.45l-7.72 7.72c-.78.78-.78 2.05 0 2.83L4 21.41c.39.39.9.59 1.41.59.51 0 1.02-.2 1.41-.59l7.78-7.78 2.81-2.81c.8-.78.8-2.07 0-2.86zM5.41 20L4 18.59l7.72-7.72 1.47 1.35L5.41 20z\"/>\n",
              "  </svg>\n",
              "      </button>\n",
              "      \n",
              "  <style>\n",
              "    .colab-df-container {\n",
              "      display:flex;\n",
              "      flex-wrap:wrap;\n",
              "      gap: 12px;\n",
              "    }\n",
              "\n",
              "    .colab-df-convert {\n",
              "      background-color: #E8F0FE;\n",
              "      border: none;\n",
              "      border-radius: 50%;\n",
              "      cursor: pointer;\n",
              "      display: none;\n",
              "      fill: #1967D2;\n",
              "      height: 32px;\n",
              "      padding: 0 0 0 0;\n",
              "      width: 32px;\n",
              "    }\n",
              "\n",
              "    .colab-df-convert:hover {\n",
              "      background-color: #E2EBFA;\n",
              "      box-shadow: 0px 1px 2px rgba(60, 64, 67, 0.3), 0px 1px 3px 1px rgba(60, 64, 67, 0.15);\n",
              "      fill: #174EA6;\n",
              "    }\n",
              "\n",
              "    [theme=dark] .colab-df-convert {\n",
              "      background-color: #3B4455;\n",
              "      fill: #D2E3FC;\n",
              "    }\n",
              "\n",
              "    [theme=dark] .colab-df-convert:hover {\n",
              "      background-color: #434B5C;\n",
              "      box-shadow: 0px 1px 3px 1px rgba(0, 0, 0, 0.15);\n",
              "      filter: drop-shadow(0px 1px 2px rgba(0, 0, 0, 0.3));\n",
              "      fill: #FFFFFF;\n",
              "    }\n",
              "  </style>\n",
              "\n",
              "      <script>\n",
              "        const buttonEl =\n",
              "          document.querySelector('#df-744a6d69-7c63-4a92-9612-f664b4906a27 button.colab-df-convert');\n",
              "        buttonEl.style.display =\n",
              "          google.colab.kernel.accessAllowed ? 'block' : 'none';\n",
              "\n",
              "        async function convertToInteractive(key) {\n",
              "          const element = document.querySelector('#df-744a6d69-7c63-4a92-9612-f664b4906a27');\n",
              "          const dataTable =\n",
              "            await google.colab.kernel.invokeFunction('convertToInteractive',\n",
              "                                                     [key], {});\n",
              "          if (!dataTable) return;\n",
              "\n",
              "          const docLinkHtml = 'Like what you see? Visit the ' +\n",
              "            '<a target=\"_blank\" href=https://colab.research.google.com/notebooks/data_table.ipynb>data table notebook</a>'\n",
              "            + ' to learn more about interactive tables.';\n",
              "          element.innerHTML = '';\n",
              "          dataTable['output_type'] = 'display_data';\n",
              "          await google.colab.output.renderOutput(dataTable, element);\n",
              "          const docLink = document.createElement('div');\n",
              "          docLink.innerHTML = docLinkHtml;\n",
              "          element.appendChild(docLink);\n",
              "        }\n",
              "      </script>\n",
              "    </div>\n",
              "  </div>\n",
              "  "
            ]
          },
          "metadata": {},
          "execution_count": 15
        }
      ]
    },
    {
      "cell_type": "code",
      "source": [
        "# is_NaN = df.isnull()\n",
        "# row_has_NaN = is_NaN.any(axis=1)\n",
        "# rows_with_NaN = df[row_has_NaN]\n",
        "# print(rows_with_NaN)"
      ],
      "metadata": {
        "id": "p2xnGoqvKzT6"
      },
      "execution_count": null,
      "outputs": []
    },
    {
      "cell_type": "code",
      "source": [
        "# df = df.dropna(subset=['text'])\n",
        "# df.isnull().values.any()"
      ],
      "metadata": {
        "id": "em76VWKmThaV"
      },
      "execution_count": null,
      "outputs": []
    },
    {
      "cell_type": "code",
      "source": [
        "import tensorflow as tf\n",
        "from tensorflow.keras.preprocessing.text import Tokenizer\n",
        "from tensorflow.keras.preprocessing.sequence import pad_sequences\n",
        "from tensorflow.keras import regularizers\n",
        "from tensorflow.keras.callbacks import ReduceLROnPlateau, EarlyStopping\n",
        "from tensorflow.keras.constraints import unit_norm\n",
        "from tensorflow.keras.layers import Embedding, LSTM, Dropout, Dense, Input, Conv1D, MaxPooling1D, GlobalMaxPooling1D, GRU, Bidirectional\n",
        "from tensorflow.keras import Sequential, Model"
      ],
      "metadata": {
        "id": "55zhqhLBDcvy"
      },
      "execution_count": null,
      "outputs": []
    },
    {
      "cell_type": "code",
      "source": [
        "from sklearn.model_selection import train_test_split\n",
        "from sklearn.metrics import accuracy_score"
      ],
      "metadata": {
        "id": "Ze4LI6-NdNpA"
      },
      "execution_count": null,
      "outputs": []
    },
    {
      "cell_type": "markdown",
      "source": [
        "# Tokenization"
      ],
      "metadata": {
        "id": "jFMyhFDyFaQd"
      }
    },
    {
      "cell_type": "code",
      "source": [
        "max_text_len = 0\n",
        "# for text in df[\"text\"].head():\n",
        "#   print(len(text.split()))\n",
        "for text in df[\"cleaned_text\"]:\n",
        "  # if type(text) == float:\n",
        "  #   print(text)\n",
        "  text = str(text)\n",
        "  max_text_len = max(len(text.split()), max_text_len)\n",
        "print(max_text_len)"
      ],
      "metadata": {
        "colab": {
          "base_uri": "https://localhost:8080/"
        },
        "id": "Yk-WoJ5oFSOR",
        "outputId": "67746d5d-9cf4-47d6-e045-899a402e2b29"
      },
      "execution_count": null,
      "outputs": [
        {
          "output_type": "stream",
          "name": "stdout",
          "text": [
            "66\n"
          ]
        }
      ]
    },
    {
      "cell_type": "code",
      "source": [
        "size = df.shape[0]\n",
        "size"
      ],
      "metadata": {
        "colab": {
          "base_uri": "https://localhost:8080/"
        },
        "id": "87t0S_yYcwZF",
        "outputId": "79de9158-5e1d-4bac-9917-6a66d12c923f"
      },
      "execution_count": null,
      "outputs": [
        {
          "output_type": "execute_result",
          "data": {
            "text/plain": [
              "9917"
            ]
          },
          "metadata": {},
          "execution_count": 20
        }
      ]
    },
    {
      "cell_type": "code",
      "source": [
        "vocab_size = 10000\n",
        "oov_tok = \"<OOV>\"\n",
        "max_length = max_text_len\n",
        "maxlen= max_text_len\n",
        "trunc_type=\"post\"\n",
        "padding_type=\"post\"\n",
        "training_size = int(0.75 * size)\n",
        "embedding_dim = 100 #50"
      ],
      "metadata": {
        "id": "fSaeyKq2cngP"
      },
      "execution_count": null,
      "outputs": []
    },
    {
      "cell_type": "code",
      "source": [
        "X_train, X_test, y_train, y_test = train_test_split(df[\"cleaned_text\"], df[\"class\"], test_size=0.15, stratify=df[\"class\"],random_state = 7)\n",
        "X_train, X_val, y_train, y_val = train_test_split(X_train, y_train, test_size=0.15, stratify=y_train,random_state = 7)"
      ],
      "metadata": {
        "id": "Di5IC1buc7Dd"
      },
      "execution_count": null,
      "outputs": []
    },
    {
      "cell_type": "code",
      "source": [
        "tokenizer = Tokenizer(num_words = vocab_size,\n",
        "                      oov_token = oov_tok)"
      ],
      "metadata": {
        "id": "SDz41JCBdeRc"
      },
      "execution_count": null,
      "outputs": []
    },
    {
      "cell_type": "code",
      "source": [
        "tokenizer.fit_on_texts(X_train)\n",
        "\n",
        "words_to_index = tokenizer.word_index\n",
        "print(dict(list(words_to_index.items())[:10]))\n",
        "print(len(words_to_index))"
      ],
      "metadata": {
        "colab": {
          "base_uri": "https://localhost:8080/"
        },
        "id": "tZW4hiAYdt7B",
        "outputId": "925d2310-38db-4647-8f80-e021fa639d97"
      },
      "execution_count": null,
      "outputs": [
        {
          "output_type": "stream",
          "name": "stdout",
          "text": [
            "{'<OOV>': 1, 'propname': 2, 'day': 3, 'like': 4, 'get': 5, 'one': 6, 'time': 7, 'go': 8, 'going': 9, 'today': 10}\n",
            "11480\n"
          ]
        }
      ]
    },
    {
      "cell_type": "markdown",
      "source": [
        "# Defining Glove Function and parameters"
      ],
      "metadata": {
        "id": "6BOREvGCdw7B"
      }
    },
    {
      "cell_type": "code",
      "source": [
        "from google.colab import drive\n",
        "drive.mount('/content/drive')"
      ],
      "metadata": {
        "colab": {
          "base_uri": "https://localhost:8080/"
        },
        "id": "FNUg-v12sMwT",
        "outputId": "3d1b4897-f775-4158-f2bf-2d86d31a27c7"
      },
      "execution_count": null,
      "outputs": [
        {
          "output_type": "stream",
          "name": "stdout",
          "text": [
            "Mounted at /content/drive\n"
          ]
        }
      ]
    },
    {
      "cell_type": "code",
      "source": [
        "def read_glove_vector(glove_vec):\n",
        "  with open(glove_vec, 'r', encoding='UTF-8') as f:\n",
        "    words = set()\n",
        "    word_to_vec_map = {}\n",
        "    for line in f:\n",
        "      w_line = line.split()\n",
        "      curr_word = w_line[0]\n",
        "      word_to_vec_map[curr_word] = np.array(w_line[1:], dtype=np.float64)\n",
        "\n",
        "\n",
        "\n",
        "  return word_to_vec_map"
      ],
      "metadata": {
        "id": "emJq7s9veD2G"
      },
      "execution_count": null,
      "outputs": []
    },
    {
      "cell_type": "code",
      "source": [
        "word_to_vec_map = read_glove_vector('/content/drive/My Drive/capstone/glove/glove.twitter.27B.50d.txt')"
      ],
      "metadata": {
        "id": "OsFYUcwii7Aa"
      },
      "execution_count": null,
      "outputs": []
    },
    {
      "cell_type": "code",
      "source": [
        "vocab_len = vocab_size\n",
        "embed_vector_len = word_to_vec_map['password'].shape[0]\n",
        "\n",
        "emb_matrix = np.zeros((vocab_len, embed_vector_len))\n",
        "\n",
        "\n",
        "for word, index in words_to_index.items():\n",
        "  embedding_vector = word_to_vec_map.get(word)\n",
        "  if embedding_vector is not None and index < vocab_len:\n",
        "    emb_matrix[index, :] = embedding_vector\n",
        "\n",
        "embedding_layer = Embedding(input_dim=vocab_len,\n",
        "                            output_dim=embed_vector_len,\n",
        "                            input_length=max_text_len,\n",
        "                            weights = [emb_matrix],\n",
        "                            trainable=False)"
      ],
      "metadata": {
        "id": "lO7ofMxgjO6G"
      },
      "execution_count": null,
      "outputs": []
    },
    {
      "cell_type": "code",
      "source": [
        "X_train_sequences = tokenizer.texts_to_sequences(X_train)\n",
        "X_train_padded = pad_sequences(X_train_sequences,\n",
        "                                maxlen=maxlen,\n",
        "                                padding=padding_type,\n",
        "                                truncating = trunc_type)\n",
        "\n",
        "X_test_sequences = tokenizer.texts_to_sequences(X_test)\n",
        "X_test_padded = pad_sequences(X_test_sequences,\n",
        "                                maxlen=maxlen,\n",
        "                                padding=padding_type,\n",
        "                                truncating = trunc_type)\n",
        "\n",
        "X_val_sequences = tokenizer.texts_to_sequences(X_val)\n",
        "X_val_padded = pad_sequences(X_val_sequences,\n",
        "                                maxlen=maxlen,\n",
        "                                padding=padding_type,\n",
        "                                truncating = trunc_type)"
      ],
      "metadata": {
        "id": "8GVmkFfyIgAy"
      },
      "execution_count": null,
      "outputs": []
    },
    {
      "cell_type": "code",
      "source": [
        "# print(X_train_padded.shape, X_test_padded.shape)\n",
        "# X_total_padded = np.concatenate((X_train_padded, X_test_padded))\n",
        "# X_total_padded.shape"
      ],
      "metadata": {
        "id": "GfA_pVeISVdA"
      },
      "execution_count": null,
      "outputs": []
    },
    {
      "cell_type": "code",
      "source": [
        "# y_total = np.concatenate((y_train, y_test))\n",
        "# y_total.shape"
      ],
      "metadata": {
        "id": "OViBmY7ETGQB"
      },
      "execution_count": null,
      "outputs": []
    },
    {
      "cell_type": "markdown",
      "source": [
        "# LSTM model on pretrained Glove Model dataset"
      ],
      "metadata": {
        "id": "ifG8ADqamXg7"
      }
    },
    {
      "cell_type": "code",
      "source": [
        "def lstm_model(input_shape):\n",
        "  X_indices = Input(input_shape)\n",
        "\n",
        "  embeddings = embedding_layer(X_indices)\n",
        "\n",
        "  X = Bidirectional(LSTM(128, return_sequences=True))(embeddings)\n",
        "\n",
        "  X = Dropout(0.6)(X)\n",
        "\n",
        "  #X = LSTM(128, return_sequences=True)(X)\n",
        "\n",
        "  #X = Dropout(0.6)(X)\n",
        "\n",
        "  X = Bidirectional(LSTM(128))(X)\n",
        "\n",
        "  #X = Dropout(0.6)(X)\n",
        "\n",
        "  X = Dense(1, activation='sigmoid')(X)\n",
        "\n",
        "  model = Model(inputs=X_indices, outputs=X)\n",
        "\n",
        "  return model"
      ],
      "metadata": {
        "id": "3hOyNeCXHgov"
      },
      "execution_count": null,
      "outputs": []
    },
    {
      "cell_type": "code",
      "source": [
        "model_lstm = lstm_model((max_text_len,))\n",
        "model_lstm.summary()"
      ],
      "metadata": {
        "colab": {
          "base_uri": "https://localhost:8080/"
        },
        "id": "oGt19bBtMqS8",
        "outputId": "ba480656-8034-428b-89d9-2c7e54076ba8"
      },
      "execution_count": null,
      "outputs": [
        {
          "output_type": "stream",
          "name": "stdout",
          "text": [
            "Model: \"model_2\"\n",
            "_________________________________________________________________\n",
            " Layer (type)                Output Shape              Param #   \n",
            "=================================================================\n",
            " input_3 (InputLayer)        [(None, 66)]              0         \n",
            "                                                                 \n",
            " embedding (Embedding)       (None, 66, 50)            500000    \n",
            "                                                                 \n",
            " bidirectional_4 (Bidirectio  (None, 66, 256)          183296    \n",
            " nal)                                                            \n",
            "                                                                 \n",
            " dropout_3 (Dropout)         (None, 66, 256)           0         \n",
            "                                                                 \n",
            " bidirectional_5 (Bidirectio  (None, 256)              394240    \n",
            " nal)                                                            \n",
            "                                                                 \n",
            " dense_3 (Dense)             (None, 1)                 257       \n",
            "                                                                 \n",
            "=================================================================\n",
            "Total params: 1,077,793\n",
            "Trainable params: 577,793\n",
            "Non-trainable params: 500,000\n",
            "_________________________________________________________________\n"
          ]
        }
      ]
    },
    {
      "cell_type": "code",
      "source": [
        "earlyStopping = EarlyStopping(monitor='val_accuracy', patience=15, verbose=0, mode='max')\n",
        "reduce_lr_acc = ReduceLROnPlateau(monitor='val_accuracy', factor=0.1, patience=5, verbose=1, min_delta=1e-6, mode='max')"
      ],
      "metadata": {
        "id": "kQi5DwIjcPP-"
      },
      "execution_count": null,
      "outputs": []
    },
    {
      "cell_type": "code",
      "source": [
        "model_lstm.compile(optimizer=\"adam\",\n",
        "                   loss='binary_crossentropy',\n",
        "                   metrics=['accuracy'])"
      ],
      "metadata": {
        "id": "4QdMET2IM5x3"
      },
      "execution_count": null,
      "outputs": []
    },
    {
      "cell_type": "code",
      "source": [
        "num_epochs = 50\n",
        "history_lstm = model_lstm.fit(X_train_padded,\n",
        "                    y_train,\n",
        "                    epochs=num_epochs,\n",
        "                    validation_data=(X_test_padded, y_test),\n",
        "                    callbacks=[reduce_lr_acc, earlyStopping]\n",
        "                    )"
      ],
      "metadata": {
        "colab": {
          "base_uri": "https://localhost:8080/"
        },
        "id": "DZhE83npRYvo",
        "outputId": "580c7ab0-0baa-4095-a189-a01ae2ee5813"
      },
      "execution_count": null,
      "outputs": [
        {
          "output_type": "stream",
          "name": "stdout",
          "text": [
            "Epoch 1/50\n",
            "224/224 [==============================] - 15s 31ms/step - loss: 0.5533 - accuracy: 0.7228 - val_loss: 0.4854 - val_accuracy: 0.7581 - lr: 0.0010\n",
            "Epoch 2/50\n",
            "224/224 [==============================] - 4s 17ms/step - loss: 0.5171 - accuracy: 0.7503 - val_loss: 0.4982 - val_accuracy: 0.7440 - lr: 0.0010\n",
            "Epoch 3/50\n",
            "224/224 [==============================] - 4s 20ms/step - loss: 0.5018 - accuracy: 0.7585 - val_loss: 0.4792 - val_accuracy: 0.7708 - lr: 0.0010\n",
            "Epoch 4/50\n",
            "224/224 [==============================] - 5s 21ms/step - loss: 0.4879 - accuracy: 0.7666 - val_loss: 0.4758 - val_accuracy: 0.7688 - lr: 0.0010\n",
            "Epoch 5/50\n",
            "224/224 [==============================] - 4s 17ms/step - loss: 0.4737 - accuracy: 0.7768 - val_loss: 0.4658 - val_accuracy: 0.7823 - lr: 0.0010\n",
            "Epoch 6/50\n",
            "224/224 [==============================] - 4s 18ms/step - loss: 0.4603 - accuracy: 0.7842 - val_loss: 0.4764 - val_accuracy: 0.7735 - lr: 0.0010\n",
            "Epoch 7/50\n",
            "224/224 [==============================] - 5s 22ms/step - loss: 0.4463 - accuracy: 0.7919 - val_loss: 0.4829 - val_accuracy: 0.7608 - lr: 0.0010\n",
            "Epoch 8/50\n",
            "224/224 [==============================] - 4s 17ms/step - loss: 0.4304 - accuracy: 0.7990 - val_loss: 0.5079 - val_accuracy: 0.7547 - lr: 0.0010\n",
            "Epoch 9/50\n",
            "224/224 [==============================] - 4s 18ms/step - loss: 0.4179 - accuracy: 0.8053 - val_loss: 0.4817 - val_accuracy: 0.7675 - lr: 0.0010\n",
            "Epoch 10/50\n",
            "222/224 [============================>.] - ETA: 0s - loss: 0.3894 - accuracy: 0.8201\n",
            "Epoch 10: ReduceLROnPlateau reducing learning rate to 0.00010000000474974513.\n",
            "224/224 [==============================] - 5s 23ms/step - loss: 0.3900 - accuracy: 0.8201 - val_loss: 0.4936 - val_accuracy: 0.7722 - lr: 0.0010\n",
            "Epoch 11/50\n",
            "224/224 [==============================] - 5s 24ms/step - loss: 0.3394 - accuracy: 0.8474 - val_loss: 0.5226 - val_accuracy: 0.7695 - lr: 1.0000e-04\n",
            "Epoch 12/50\n",
            "224/224 [==============================] - 4s 17ms/step - loss: 0.3239 - accuracy: 0.8607 - val_loss: 0.5388 - val_accuracy: 0.7675 - lr: 1.0000e-04\n",
            "Epoch 13/50\n",
            "224/224 [==============================] - 5s 22ms/step - loss: 0.3128 - accuracy: 0.8615 - val_loss: 0.5509 - val_accuracy: 0.7668 - lr: 1.0000e-04\n",
            "Epoch 14/50\n",
            "224/224 [==============================] - 4s 17ms/step - loss: 0.3034 - accuracy: 0.8706 - val_loss: 0.5666 - val_accuracy: 0.7634 - lr: 1.0000e-04\n",
            "Epoch 15/50\n",
            "224/224 [==============================] - ETA: 0s - loss: 0.2949 - accuracy: 0.8710\n",
            "Epoch 15: ReduceLROnPlateau reducing learning rate to 1.0000000474974514e-05.\n",
            "224/224 [==============================] - 4s 17ms/step - loss: 0.2949 - accuracy: 0.8710 - val_loss: 0.5770 - val_accuracy: 0.7628 - lr: 1.0000e-04\n",
            "Epoch 16/50\n",
            "224/224 [==============================] - 5s 21ms/step - loss: 0.2836 - accuracy: 0.8770 - val_loss: 0.5835 - val_accuracy: 0.7554 - lr: 1.0000e-05\n",
            "Epoch 17/50\n",
            "224/224 [==============================] - 4s 18ms/step - loss: 0.2777 - accuracy: 0.8791 - val_loss: 0.5897 - val_accuracy: 0.7581 - lr: 1.0000e-05\n",
            "Epoch 18/50\n",
            "224/224 [==============================] - 4s 17ms/step - loss: 0.2804 - accuracy: 0.8781 - val_loss: 0.5924 - val_accuracy: 0.7587 - lr: 1.0000e-05\n",
            "Epoch 19/50\n",
            "224/224 [==============================] - 4s 18ms/step - loss: 0.2727 - accuracy: 0.8844 - val_loss: 0.5972 - val_accuracy: 0.7594 - lr: 1.0000e-05\n",
            "Epoch 20/50\n",
            "224/224 [==============================] - ETA: 0s - loss: 0.2762 - accuracy: 0.8798\n",
            "Epoch 20: ReduceLROnPlateau reducing learning rate to 1.0000000656873453e-06.\n",
            "224/224 [==============================] - 5s 21ms/step - loss: 0.2762 - accuracy: 0.8798 - val_loss: 0.5990 - val_accuracy: 0.7587 - lr: 1.0000e-05\n"
          ]
        }
      ]
    },
    {
      "cell_type": "code",
      "source": [
        "name=\"history_lstm.txt\"\n",
        "with open(name, 'w+') as f:\n",
        "  for value in history_lstm.history[\"accuracy\"]:\n",
        "    f.write(str(value))\n",
        "    f.write(\"\\n\")\n",
        "  f.write(\"\\n\")\n",
        "  for value in history_lstm.history[\"val_accuracy\"]:\n",
        "    f.write(str(value))\n",
        "    f.write(\"\\n\")\n",
        "  f.write(\"\\n\")\n",
        "  for value in history_lstm.history[\"loss\"]:\n",
        "    f.write(str(value))\n",
        "    f.write(\"\\n\")\n",
        "  f.write(\"\\n\")\n",
        "  for value in history_lstm.history[\"val_loss\"]:\n",
        "    f.write(str(value))\n",
        "    f.write(\"\\n\")\n",
        "  f.write(\"\\n\")\n",
        "\n",
        "f.close()\n",
        "\n",
        ""
      ],
      "metadata": {
        "id": "W9KtRXL_vdFl"
      },
      "execution_count": null,
      "outputs": []
    },
    {
      "cell_type": "code",
      "source": [
        "import matplotlib.pyplot as plt\n",
        "\n",
        "\n",
        "def plot_graphs(history, string):\n",
        "  plt.plot(history.history[string])\n",
        "  plt.plot(history.history['val_'+string])\n",
        "  plt.xlabel(\"Epochs\")\n",
        "  plt.ylabel(string)\n",
        "  plt.legend([string, 'val_'+string])\n",
        "  plt.show()\n",
        ""
      ],
      "metadata": {
        "id": "9hdFdudVdDHl"
      },
      "execution_count": null,
      "outputs": []
    },
    {
      "cell_type": "code",
      "source": [
        "plot_graphs(history_lstm, \"accuracy\")\n",
        "plot_graphs(history_lstm, \"loss\")"
      ],
      "metadata": {
        "colab": {
          "base_uri": "https://localhost:8080/",
          "height": 541
        },
        "id": "zJ0QBc93i79T",
        "outputId": "29a6093d-e8a6-48b9-9061-bc8c9ad0b518"
      },
      "execution_count": null,
      "outputs": [
        {
          "output_type": "display_data",
          "data": {
            "text/plain": [
              "<Figure size 432x288 with 1 Axes>"
            ],
            "image/png": "[encoded data removed]"
          },
          "metadata": {
            "needs_background": "light"
          }
        },
        {
          "output_type": "display_data",
          "data": {
            "text/plain": [
              "<Figure size 432x288 with 1 Axes>"
            ],
            "image/png": "[encoded data removed]"
          },
          "metadata": {
            "needs_background": "light"
          }
        }
      ]
    },
    {
      "cell_type": "code",
      "source": [
        "def calculate_results(y_true, y_pred):\n",
        "\n",
        "  # Calculate model accuracy\n",
        "  model_accuracy = accuracy_score(y_true, y_pred)\n",
        "  # Calculate model precision, recall and f1 score using \"weighted\" average\n",
        "  model_precision, model_recall, model_f1, _ = precision_recall_fscore_support(y_true, y_pred, average=\"weighted\")\n",
        "  model_results = {\"accuracy\": model_accuracy,\n",
        "                  \"precision\": model_precision,\n",
        "                  \"recall\": model_recall,\n",
        "                  \"f1\": model_f1}\n",
        "  return model_results"
      ],
      "metadata": {
        "id": "ZvapWg_fW_gn"
      },
      "execution_count": null,
      "outputs": []
    },
    {
      "cell_type": "code",
      "source": [
        "y_preds = np.round(model_lstm.predict(X_val_padded))\n",
        "results = calculate_results(y_true= y_val, y_pred=y_preds)\n",
        "print(results)"
      ],
      "metadata": {
        "colab": {
          "base_uri": "https://localhost:8080/"
        },
        "id": "BoRjti4XXF_w",
        "outputId": "deeb6625-7902-483d-cc28-78922fa30749"
      },
      "execution_count": null,
      "outputs": [
        {
          "output_type": "stream",
          "name": "stdout",
          "text": [
            "40/40 [==============================] - 2s 9ms/step\n",
            "{'accuracy': 0.7399209486166007, 'precision': 0.7369670689232232, 'recall': 0.7399209486166007, 'f1': 0.7382322493596772}\n"
          ]
        }
      ]
    },
    {
      "cell_type": "markdown",
      "source": [
        "# GRU"
      ],
      "metadata": {
        "id": "H8aJZuxgX_9O"
      }
    },
    {
      "cell_type": "code",
      "source": [
        "def gru_model(input_shape):\n",
        "  X_indices = Input(input_shape)\n",
        "\n",
        "  embeddings = embedding_layer(X_indices)\n",
        "\n",
        "  X = GRU(128, return_sequences=True)(embeddings)\n",
        "\n",
        "  X = Dropout(0.6)(X)\n",
        "\n",
        "  #X = GRU(128, return_sequences=True)(X)\n",
        "\n",
        "  #X = Dropout(0.6)(X)\n",
        "\n",
        "  X = GRU(128)(X)\n",
        "\n",
        "  X = Dense(32, activation=\"relu\")(X)\n",
        "\n",
        "  X = Dropout(0.5)(X)\n",
        "\n",
        "  X = Dense(1, activation='sigmoid')(X)\n",
        "\n",
        "  model = Model(inputs=X_indices, outputs=X)\n",
        "\n",
        "  return model"
      ],
      "metadata": {
        "id": "Ld-ADY-vYDQh"
      },
      "execution_count": null,
      "outputs": []
    },
    {
      "cell_type": "code",
      "source": [
        "model_gru = gru_model((max_text_len,))\n",
        "model_gru.summary()"
      ],
      "metadata": {
        "colab": {
          "base_uri": "https://localhost:8080/"
        },
        "id": "indMRdo8cFGE",
        "outputId": "5242ba29-6f31-491a-8cc2-af663c89bb8d"
      },
      "execution_count": null,
      "outputs": [
        {
          "output_type": "stream",
          "name": "stdout",
          "text": [
            "Model: \"model\"\n",
            "_________________________________________________________________\n",
            " Layer (type)                Output Shape              Param #   \n",
            "=================================================================\n",
            " input_1 (InputLayer)        [(None, 66)]              0         \n",
            "                                                                 \n",
            " embedding (Embedding)       (None, 66, 50)            500000    \n",
            "                                                                 \n",
            " gru (GRU)                   (None, 66, 128)           69120     \n",
            "                                                                 \n",
            " dropout (Dropout)           (None, 66, 128)           0         \n",
            "                                                                 \n",
            " gru_1 (GRU)                 (None, 128)               99072     \n",
            "                                                                 \n",
            " dense (Dense)               (None, 32)                4128      \n",
            "                                                                 \n",
            " dropout_1 (Dropout)         (None, 32)                0         \n",
            "                                                                 \n",
            " dense_1 (Dense)             (None, 1)                 33        \n",
            "                                                                 \n",
            "=================================================================\n",
            "Total params: 672,353\n",
            "Trainable params: 172,353\n",
            "Non-trainable params: 500,000\n",
            "_________________________________________________________________\n"
          ]
        }
      ]
    },
    {
      "cell_type": "code",
      "source": [
        "model_gru.compile(optimizer=\"adam\",\n",
        "                   loss='binary_crossentropy',\n",
        "                   metrics=['accuracy'])"
      ],
      "metadata": {
        "id": "ww6QVFaFb7uv"
      },
      "execution_count": null,
      "outputs": []
    },
    {
      "cell_type": "code",
      "source": [
        "num_epochs = 50\n",
        "history_gru = model_gru.fit(X_train_padded,\n",
        "                    y_train,\n",
        "                    epochs=num_epochs,\n",
        "                    validation_data=(X_test_padded, y_test),\n",
        "                    callbacks=[reduce_lr_acc, earlyStopping],\n",
        "                    verbose=2)"
      ],
      "metadata": {
        "colab": {
          "base_uri": "https://localhost:8080/"
        },
        "id": "vZ8lDEljcadW",
        "outputId": "ea92d368-19e5-4121-a3ed-c16a051ee180"
      },
      "execution_count": null,
      "outputs": [
        {
          "output_type": "stream",
          "name": "stdout",
          "text": [
            "Epoch 1/50\n",
            "224/224 - 14s - loss: 0.6486 - accuracy: 0.6635 - val_loss: 0.6401 - val_accuracy: 0.6633 - lr: 0.0010 - 14s/epoch - 64ms/step\n",
            "Epoch 2/50\n",
            "224/224 - 2s - loss: 0.6442 - accuracy: 0.6636 - val_loss: 0.6393 - val_accuracy: 0.6633 - lr: 0.0010 - 2s/epoch - 8ms/step\n",
            "Epoch 3/50\n",
            "224/224 - 2s - loss: 0.6409 - accuracy: 0.6636 - val_loss: 0.6396 - val_accuracy: 0.6633 - lr: 0.0010 - 2s/epoch - 9ms/step\n",
            "Epoch 4/50\n",
            "224/224 - 2s - loss: 0.6419 - accuracy: 0.6636 - val_loss: 0.6397 - val_accuracy: 0.6633 - lr: 0.0010 - 2s/epoch - 8ms/step\n",
            "Epoch 5/50\n",
            "224/224 - 2s - loss: 0.6421 - accuracy: 0.6636 - val_loss: 0.6416 - val_accuracy: 0.6633 - lr: 0.0010 - 2s/epoch - 8ms/step\n",
            "Epoch 6/50\n",
            "\n",
            "Epoch 6: ReduceLROnPlateau reducing learning rate to 0.00010000000474974513.\n",
            "224/224 - 2s - loss: 0.6414 - accuracy: 0.6636 - val_loss: 0.6398 - val_accuracy: 0.6633 - lr: 0.0010 - 2s/epoch - 9ms/step\n",
            "Epoch 7/50\n",
            "224/224 - 3s - loss: 0.6419 - accuracy: 0.6636 - val_loss: 0.6390 - val_accuracy: 0.6633 - lr: 1.0000e-04 - 3s/epoch - 11ms/step\n",
            "Epoch 8/50\n",
            "224/224 - 2s - loss: 0.6415 - accuracy: 0.6636 - val_loss: 0.6390 - val_accuracy: 0.6633 - lr: 1.0000e-04 - 2s/epoch - 8ms/step\n",
            "Epoch 9/50\n",
            "224/224 - 2s - loss: 0.6401 - accuracy: 0.6636 - val_loss: 0.6389 - val_accuracy: 0.6633 - lr: 1.0000e-04 - 2s/epoch - 8ms/step\n",
            "Epoch 10/50\n",
            "224/224 - 2s - loss: 0.6396 - accuracy: 0.6636 - val_loss: 0.6388 - val_accuracy: 0.6633 - lr: 1.0000e-04 - 2s/epoch - 8ms/step\n",
            "Epoch 11/50\n",
            "\n",
            "Epoch 11: ReduceLROnPlateau reducing learning rate to 1.0000000474974514e-05.\n",
            "224/224 - 2s - loss: 0.6405 - accuracy: 0.6636 - val_loss: 0.6389 - val_accuracy: 0.6633 - lr: 1.0000e-04 - 2s/epoch - 9ms/step\n",
            "Epoch 12/50\n",
            "224/224 - 2s - loss: 0.6398 - accuracy: 0.6636 - val_loss: 0.6389 - val_accuracy: 0.6633 - lr: 1.0000e-05 - 2s/epoch - 9ms/step\n",
            "Epoch 13/50\n",
            "224/224 - 2s - loss: 0.6406 - accuracy: 0.6636 - val_loss: 0.6389 - val_accuracy: 0.6633 - lr: 1.0000e-05 - 2s/epoch - 11ms/step\n",
            "Epoch 14/50\n",
            "224/224 - 2s - loss: 0.6403 - accuracy: 0.6636 - val_loss: 0.6389 - val_accuracy: 0.6633 - lr: 1.0000e-05 - 2s/epoch - 10ms/step\n",
            "Epoch 15/50\n",
            "224/224 - 2s - loss: 0.6395 - accuracy: 0.6636 - val_loss: 0.6389 - val_accuracy: 0.6633 - lr: 1.0000e-05 - 2s/epoch - 8ms/step\n",
            "Epoch 16/50\n",
            "\n",
            "Epoch 16: ReduceLROnPlateau reducing learning rate to 1.0000000656873453e-06.\n",
            "224/224 - 2s - loss: 0.6399 - accuracy: 0.6636 - val_loss: 0.6389 - val_accuracy: 0.6633 - lr: 1.0000e-05 - 2s/epoch - 8ms/step\n"
          ]
        }
      ]
    },
    {
      "cell_type": "code",
      "source": [
        "plot_graphs(history_gru, \"accuracy\")\n",
        "plot_graphs(history_gru, \"loss\")"
      ],
      "metadata": {
        "colab": {
          "base_uri": "https://localhost:8080/",
          "height": 541
        },
        "id": "QedFCm0Rc0bj",
        "outputId": "87c664f7-5f4c-4e29-ad93-71542ed91f69"
      },
      "execution_count": null,
      "outputs": [
        {
          "output_type": "display_data",
          "data": {
            "text/plain": [
              "<Figure size 432x288 with 1 Axes>"
            ],
            "image/png": "[encoded data removed]"
          },
          "metadata": {
            "needs_background": "light"
          }
        },
        {
          "output_type": "display_data",
          "data": {
            "text/plain": [
              "<Figure size 432x288 with 1 Axes>"
            ],
            "image/png": "[encoded data removed]"
          },
          "metadata": {
            "needs_background": "light"
          }
        }
      ]
    },
    {
      "cell_type": "code",
      "source": [
        "y_preds = np.round(model_gru.predict(X_val_padded))\n",
        "results = calculate_results(y_true= y_val, y_pred=y_preds)\n",
        "print(results)"
      ],
      "metadata": {
        "colab": {
          "base_uri": "https://localhost:8080/"
        },
        "id": "wvRWEofhcu1v",
        "outputId": "d66085fb-6ba5-4e89-a38c-d3b038df58e2"
      },
      "execution_count": null,
      "outputs": [
        {
          "output_type": "stream",
          "name": "stdout",
          "text": [
            "40/40 [==============================] - 0s 5ms/step\n",
            "{'accuracy': 0.6640316205533597, 'precision': 0.44093799309472104, 'recall': 0.6640316205533597, 'f1': 0.5299634786364106}\n"
          ]
        },
        {
          "output_type": "stream",
          "name": "stderr",
          "text": [
            "/usr/local/lib/python3.8/dist-packages/sklearn/metrics/_classification.py:1344: UndefinedMetricWarning: Precision and F-score are ill-defined and being set to 0.0 in labels with no predicted samples. Use `zero_division` parameter to control this behavior.\n",
            "  _warn_prf(average, modifier, msg_start, len(result))\n"
          ]
        }
      ]
    },
    {
      "cell_type": "markdown",
      "source": [
        "# CNN"
      ],
      "metadata": {
        "id": "TCmuxIULV3Yk"
      }
    },
    {
      "cell_type": "code",
      "source": [
        "def conv1d_model(input_shape):\n",
        "\n",
        "  X_indices = Input(input_shape)\n",
        "\n",
        "  embeddings = embedding_layer(X_indices)\n",
        "\n",
        "  X = Conv1D(32,3,activation='relu')(embeddings)\n",
        "\n",
        "  X = MaxPooling1D(3)(X)\n",
        "\n",
        "  X = Conv1D(64,3,activation='relu')(X)\n",
        "\n",
        "  X = GlobalMaxPooling1D()(X)\n",
        "\n",
        "  X = Dense(128, activation='relu')(X)\n",
        "  X = Dense(1, activation='sigmoid')(X)\n",
        "\n",
        "  model = Model(inputs=X_indices, outputs=X)\n",
        "\n",
        "  return model"
      ],
      "metadata": {
        "id": "zCNddDsAV7op"
      },
      "execution_count": null,
      "outputs": []
    },
    {
      "cell_type": "code",
      "source": [
        "model_cnn = conv1d_model((max_text_len,))\n",
        "model_cnn.summary()"
      ],
      "metadata": {
        "colab": {
          "base_uri": "https://localhost:8080/"
        },
        "id": "yZO8LrfnWOze",
        "outputId": "8c3988db-dcbb-4608-b350-71cb1b4be163"
      },
      "execution_count": null,
      "outputs": [
        {
          "output_type": "stream",
          "name": "stdout",
          "text": [
            "Model: \"model_1\"\n",
            "_________________________________________________________________\n",
            " Layer (type)                Output Shape              Param #   \n",
            "=================================================================\n",
            " input_2 (InputLayer)        [(None, 66)]              0         \n",
            "                                                                 \n",
            " embedding (Embedding)       (None, 66, 50)            500000    \n",
            "                                                                 \n",
            " conv1d (Conv1D)             (None, 64, 32)            4832      \n",
            "                                                                 \n",
            " max_pooling1d (MaxPooling1D  (None, 21, 32)           0         \n",
            " )                                                               \n",
            "                                                                 \n",
            " conv1d_1 (Conv1D)           (None, 19, 64)            6208      \n",
            "                                                                 \n",
            " global_max_pooling1d (Globa  (None, 64)               0         \n",
            " lMaxPooling1D)                                                  \n",
            "                                                                 \n",
            " dense_1 (Dense)             (None, 128)               8320      \n",
            "                                                                 \n",
            " dense_2 (Dense)             (None, 1)                 129       \n",
            "                                                                 \n",
            "=================================================================\n",
            "Total params: 519,489\n",
            "Trainable params: 19,489\n",
            "Non-trainable params: 500,000\n",
            "_________________________________________________________________\n"
          ]
        }
      ]
    },
    {
      "cell_type": "code",
      "source": [
        "model_cnn.compile(optimizer=\"adam\",\n",
        "                   loss='binary_crossentropy',\n",
        "                   metrics=['accuracy'])"
      ],
      "metadata": {
        "id": "JnUyjVeLWwSj"
      },
      "execution_count": null,
      "outputs": []
    },
    {
      "cell_type": "code",
      "source": [
        "num_epochs = 50\n",
        "history_cnn = model_cnn.fit(X_train_padded,\n",
        "                    y_train,\n",
        "                    epochs=num_epochs,\n",
        "                    validation_data=(X_test_padded, y_test),\n",
        "                    callbacks=[earlyStopping, reduce_lr_acc],\n",
        "                    verbose=2)"
      ],
      "metadata": {
        "colab": {
          "base_uri": "https://localhost:8080/"
        },
        "id": "FXSD-f-EWc6K",
        "outputId": "251937cb-b756-44ac-83b8-5720261118df"
      },
      "execution_count": null,
      "outputs": [
        {
          "output_type": "stream",
          "name": "stdout",
          "text": [
            "Epoch 1/50\n",
            "224/224 - 9s - loss: 0.5915 - accuracy: 0.6979 - val_loss: 0.5531 - val_accuracy: 0.7325 - lr: 0.0010 - 9s/epoch - 38ms/step\n",
            "Epoch 2/50\n",
            "224/224 - 1s - loss: 0.5213 - accuracy: 0.7462 - val_loss: 0.5204 - val_accuracy: 0.7587 - lr: 0.0010 - 1s/epoch - 6ms/step\n",
            "Epoch 3/50\n",
            "224/224 - 1s - loss: 0.4823 - accuracy: 0.7714 - val_loss: 0.5064 - val_accuracy: 0.7574 - lr: 0.0010 - 1s/epoch - 5ms/step\n",
            "Epoch 4/50\n",
            "224/224 - 1s - loss: 0.4486 - accuracy: 0.7903 - val_loss: 0.5957 - val_accuracy: 0.7151 - lr: 0.0010 - 1s/epoch - 5ms/step\n",
            "Epoch 5/50\n",
            "224/224 - 1s - loss: 0.4156 - accuracy: 0.8169 - val_loss: 0.5301 - val_accuracy: 0.7534 - lr: 0.0010 - 1s/epoch - 4ms/step\n",
            "Epoch 6/50\n",
            "224/224 - 1s - loss: 0.3821 - accuracy: 0.8297 - val_loss: 0.5920 - val_accuracy: 0.7251 - lr: 0.0010 - 1s/epoch - 4ms/step\n",
            "Epoch 7/50\n",
            "\n",
            "Epoch 7: ReduceLROnPlateau reducing learning rate to 0.00010000000474974513.\n",
            "224/224 - 1s - loss: 0.3360 - accuracy: 0.8564 - val_loss: 0.5826 - val_accuracy: 0.7285 - lr: 0.0010 - 1s/epoch - 5ms/step\n",
            "Epoch 8/50\n",
            "224/224 - 1s - loss: 0.2593 - accuracy: 0.9031 - val_loss: 0.6049 - val_accuracy: 0.7352 - lr: 1.0000e-04 - 1s/epoch - 5ms/step\n",
            "Epoch 9/50\n",
            "224/224 - 1s - loss: 0.2450 - accuracy: 0.9086 - val_loss: 0.6201 - val_accuracy: 0.7359 - lr: 1.0000e-04 - 1s/epoch - 5ms/step\n",
            "Epoch 10/50\n",
            "224/224 - 1s - loss: 0.2339 - accuracy: 0.9139 - val_loss: 0.6382 - val_accuracy: 0.7345 - lr: 1.0000e-04 - 1s/epoch - 5ms/step\n",
            "Epoch 11/50\n",
            "224/224 - 1s - loss: 0.2251 - accuracy: 0.9183 - val_loss: 0.6584 - val_accuracy: 0.7352 - lr: 1.0000e-04 - 1s/epoch - 6ms/step\n",
            "Epoch 12/50\n",
            "\n",
            "Epoch 12: ReduceLROnPlateau reducing learning rate to 1.0000000474974514e-05.\n",
            "224/224 - 2s - loss: 0.2180 - accuracy: 0.9228 - val_loss: 0.6695 - val_accuracy: 0.7298 - lr: 1.0000e-04 - 2s/epoch - 7ms/step\n",
            "Epoch 13/50\n",
            "224/224 - 1s - loss: 0.2076 - accuracy: 0.9264 - val_loss: 0.6706 - val_accuracy: 0.7292 - lr: 1.0000e-05 - 1s/epoch - 7ms/step\n",
            "Epoch 14/50\n",
            "224/224 - 2s - loss: 0.2067 - accuracy: 0.9274 - val_loss: 0.6723 - val_accuracy: 0.7305 - lr: 1.0000e-05 - 2s/epoch - 8ms/step\n",
            "Epoch 15/50\n",
            "224/224 - 1s - loss: 0.2058 - accuracy: 0.9280 - val_loss: 0.6745 - val_accuracy: 0.7312 - lr: 1.0000e-05 - 1s/epoch - 5ms/step\n",
            "Epoch 16/50\n",
            "224/224 - 1s - loss: 0.2052 - accuracy: 0.9288 - val_loss: 0.6765 - val_accuracy: 0.7298 - lr: 1.0000e-05 - 1s/epoch - 5ms/step\n",
            "Epoch 17/50\n",
            "\n",
            "Epoch 17: ReduceLROnPlateau reducing learning rate to 1.0000000656873453e-06.\n",
            "224/224 - 1s - loss: 0.2043 - accuracy: 0.9287 - val_loss: 0.6787 - val_accuracy: 0.7298 - lr: 1.0000e-05 - 992ms/epoch - 4ms/step\n"
          ]
        }
      ]
    },
    {
      "cell_type": "code",
      "source": [
        "name=\"history_cnn.txt\"\n",
        "with open(name, 'w+') as f:\n",
        "  for value in history_cnn.history[\"accuracy\"]:\n",
        "    f.write(str(value))\n",
        "    f.write(\"\\n\")\n",
        "  f.write(\"\\n\")\n",
        "  for value in history_cnn.history[\"val_accuracy\"]:\n",
        "    f.write(str(value))\n",
        "    f.write(\"\\n\")\n",
        "  f.write(\"\\n\")\n",
        "  for value in history_cnn.history[\"loss\"]:\n",
        "    f.write(str(value))\n",
        "    f.write(\"\\n\")\n",
        "  f.write(\"\\n\")\n",
        "  for value in history_cnn.history[\"val_loss\"]:\n",
        "    f.write(str(value))\n",
        "    f.write(\"\\n\")\n",
        "  f.write(\"\\n\")\n",
        "\n",
        "f.close()\n",
        "\n",
        ""
      ],
      "metadata": {
        "id": "39GtJgqx6H4a"
      },
      "execution_count": null,
      "outputs": []
    },
    {
      "cell_type": "code",
      "source": [
        "plot_graphs(history_cnn, \"accuracy\")\n",
        "plot_graphs(history_cnn, \"loss\")"
      ],
      "metadata": {
        "colab": {
          "base_uri": "https://localhost:8080/",
          "height": 544
        },
        "id": "EsfUOTn0i20p",
        "outputId": "31a82450-7b12-420a-9498-26d1d817cc9b"
      },
      "execution_count": null,
      "outputs": [
        {
          "output_type": "display_data",
          "data": {
            "text/plain": [
              "<Figure size 432x288 with 1 Axes>"
            ],
            "image/png": "[encoded data removed]"
          },
          "metadata": {
            "needs_background": "light"
          }
        },
        {
          "output_type": "display_data",
          "data": {
            "text/plain": [
              "<Figure size 432x288 with 1 Axes>"
            ],
            "image/png": "[encoded data removed]"
          },
          "metadata": {
            "needs_background": "light"
          }
        }
      ]
    },
    {
      "cell_type": "code",
      "source": [
        "y_preds = np.round(model_cnn.predict(X_val_padded))\n",
        "results = calculate_results(y_true= y_val, y_pred=y_preds)\n",
        "print(results)"
      ],
      "metadata": {
        "colab": {
          "base_uri": "https://localhost:8080/"
        },
        "id": "0RSVmxcwXRRH",
        "outputId": "e62b3cbd-1515-414f-f218-b47827cf237a"
      },
      "execution_count": null,
      "outputs": [
        {
          "output_type": "stream",
          "name": "stdout",
          "text": [
            "40/40 [==============================] - 0s 3ms/step\n",
            "{'accuracy': 0.733596837944664, 'precision': 0.7331365837272226, 'recall': 0.733596837944664, 'f1': 0.7333624855554216}\n"
          ]
        }
      ]
    },
    {
      "cell_type": "markdown",
      "source": [
        "# Mixed RCNN model"
      ],
      "metadata": {
        "id": "UcqoW0ZPjJIB"
      }
    },
    {
      "cell_type": "code",
      "source": [
        "def cnn_lstm_model(input_shape):\n",
        "\n",
        "  X_indices = Input(input_shape)\n",
        "\n",
        "  embeddings = embedding_layer(X_indices)\n",
        "\n",
        "  X = Conv1D(8, 3, activation='relu')(embeddings)\n",
        "\n",
        "  X = MaxPooling1D(3)(X)\n",
        "\n",
        "  X = Conv1D(16, 3, activation='relu')(X)\n",
        "\n",
        "  # X = MaxPooling1D(3)(X)\n",
        "\n",
        "  # X = Conv1D(128, kernel_size, activation='relu')(X)\n",
        "\n",
        "  # X = Dropout(0.6)(X)\n",
        "\n",
        "  # X = MaxPooling1D(3)(X)\n",
        "\n",
        "  # X = GlobalMaxPooling1D()(X)\n",
        "\n",
        "  X = Bidirectional(LSTM(128, return_sequences=True))(X)\n",
        "\n",
        "  X = Dropout(0.5)(X)\n",
        "\n",
        "  # X = LSTM(units, return_sequences=True)(X)\n",
        "\n",
        "  # X = Dropout(rate)(X)\n",
        "\n",
        "  X = Bidirectional(LSTM(128))(X)\n",
        "\n",
        "  X = Dropout(0.5)(X)\n",
        "\n",
        "  X = Dense(32)(X)\n",
        "\n",
        "  X = Dense(1, activation='sigmoid')(X)\n",
        "\n",
        "  model = Model(inputs=X_indices, outputs=X)\n",
        "\n",
        "  model.compile(loss=\"binary_crossentropy\",\n",
        "                optimizer=\"Adam\",\n",
        "                metrics=[\"accuracy\"])\n",
        "\n",
        "  return model"
      ],
      "metadata": {
        "id": "Ou2EBkzF4sBd"
      },
      "execution_count": null,
      "outputs": []
    },
    {
      "cell_type": "code",
      "source": [
        "model_cnn_lstm = cnn_lstm_model((max_text_len,))\n",
        "model_cnn_lstm.summary()"
      ],
      "metadata": {
        "id": "MrAu7QdfGkna",
        "colab": {
          "base_uri": "https://localhost:8080/"
        },
        "outputId": "d980efa3-0549-4600-dd44-1ec8cfec4746"
      },
      "execution_count": null,
      "outputs": [
        {
          "output_type": "stream",
          "name": "stdout",
          "text": [
            "Model: \"model\"\n",
            "_________________________________________________________________\n",
            " Layer (type)                Output Shape              Param #   \n",
            "=================================================================\n",
            " input_1 (InputLayer)        [(None, 66)]              0         \n",
            "                                                                 \n",
            " embedding (Embedding)       (None, 66, 50)            500000    \n",
            "                                                                 \n",
            " conv1d (Conv1D)             (None, 64, 8)             1208      \n",
            "                                                                 \n",
            " max_pooling1d (MaxPooling1D  (None, 21, 8)            0         \n",
            " )                                                               \n",
            "                                                                 \n",
            " conv1d_1 (Conv1D)           (None, 19, 16)            400       \n",
            "                                                                 \n",
            " bidirectional (Bidirectiona  (None, 19, 256)          148480    \n",
            " l)                                                              \n",
            "                                                                 \n",
            " dropout (Dropout)           (None, 19, 256)           0         \n",
            "                                                                 \n",
            " bidirectional_1 (Bidirectio  (None, 256)              394240    \n",
            " nal)                                                            \n",
            "                                                                 \n",
            " dropout_1 (Dropout)         (None, 256)               0         \n",
            "                                                                 \n",
            " dense (Dense)               (None, 32)                8224      \n",
            "                                                                 \n",
            " dense_1 (Dense)             (None, 1)                 33        \n",
            "                                                                 \n",
            "=================================================================\n",
            "Total params: 1,052,585\n",
            "Trainable params: 552,585\n",
            "Non-trainable params: 500,000\n",
            "_________________________________________________________________\n"
          ]
        }
      ]
    },
    {
      "cell_type": "code",
      "source": [
        "model_cnn_lstm.compile(optimizer=\"adam\",\n",
        "                   loss='binary_crossentropy',\n",
        "                   metrics=['accuracy'])"
      ],
      "metadata": {
        "id": "ouL1x_eLHhYM"
      },
      "execution_count": null,
      "outputs": []
    },
    {
      "cell_type": "code",
      "source": [
        "num_epochs = 50\n",
        "history_cnn_lstm = model_cnn_lstm.fit(X_train_padded,\n",
        "                    y_train,\n",
        "                    epochs=num_epochs,\n",
        "                    validation_data=(X_test_padded, y_test),\n",
        "                    callbacks=[reduce_lr_acc, earlyStopping],\n",
        "                    verbose=2)"
      ],
      "metadata": {
        "colab": {
          "base_uri": "https://localhost:8080/"
        },
        "id": "pypEMQ73LdWa",
        "outputId": "5b4e388e-8e3d-4a42-c9b7-384d1a60d5d4"
      },
      "execution_count": null,
      "outputs": [
        {
          "output_type": "stream",
          "name": "stdout",
          "text": [
            "Epoch 1/50\n",
            "224/224 - 28s - loss: 0.6073 - accuracy: 0.6824 - val_loss: 0.5439 - val_accuracy: 0.7204 - lr: 0.0010 - 28s/epoch - 123ms/step\n",
            "Epoch 2/50\n",
            "224/224 - 3s - loss: 0.5595 - accuracy: 0.7186 - val_loss: 0.5376 - val_accuracy: 0.7392 - lr: 0.0010 - 3s/epoch - 11ms/step\n",
            "Epoch 3/50\n",
            "224/224 - 3s - loss: 0.5400 - accuracy: 0.7300 - val_loss: 0.5118 - val_accuracy: 0.7426 - lr: 0.0010 - 3s/epoch - 15ms/step\n",
            "Epoch 4/50\n",
            "224/224 - 3s - loss: 0.5254 - accuracy: 0.7425 - val_loss: 0.5151 - val_accuracy: 0.7372 - lr: 0.0010 - 3s/epoch - 12ms/step\n",
            "Epoch 5/50\n",
            "224/224 - 3s - loss: 0.5115 - accuracy: 0.7539 - val_loss: 0.5110 - val_accuracy: 0.7513 - lr: 0.0010 - 3s/epoch - 12ms/step\n",
            "Epoch 6/50\n",
            "224/224 - 3s - loss: 0.5006 - accuracy: 0.7585 - val_loss: 0.5117 - val_accuracy: 0.7527 - lr: 0.0010 - 3s/epoch - 11ms/step\n",
            "Epoch 7/50\n",
            "224/224 - 3s - loss: 0.4913 - accuracy: 0.7626 - val_loss: 0.5135 - val_accuracy: 0.7473 - lr: 0.0010 - 3s/epoch - 11ms/step\n",
            "Epoch 8/50\n",
            "224/224 - 4s - loss: 0.4803 - accuracy: 0.7697 - val_loss: 0.5283 - val_accuracy: 0.7446 - lr: 0.0010 - 4s/epoch - 17ms/step\n",
            "Epoch 9/50\n",
            "224/224 - 3s - loss: 0.4712 - accuracy: 0.7757 - val_loss: 0.5261 - val_accuracy: 0.7426 - lr: 0.0010 - 3s/epoch - 11ms/step\n",
            "Epoch 10/50\n",
            "224/224 - 3s - loss: 0.4638 - accuracy: 0.7775 - val_loss: 0.5408 - val_accuracy: 0.7413 - lr: 0.0010 - 3s/epoch - 11ms/step\n",
            "Epoch 11/50\n",
            "\n",
            "Epoch 11: ReduceLROnPlateau reducing learning rate to 0.00010000000474974513.\n",
            "224/224 - 2s - loss: 0.4543 - accuracy: 0.7831 - val_loss: 0.5403 - val_accuracy: 0.7359 - lr: 0.0010 - 2s/epoch - 11ms/step\n",
            "Epoch 12/50\n",
            "224/224 - 3s - loss: 0.4274 - accuracy: 0.7966 - val_loss: 0.5482 - val_accuracy: 0.7426 - lr: 1.0000e-04 - 3s/epoch - 12ms/step\n",
            "Epoch 13/50\n",
            "224/224 - 4s - loss: 0.4234 - accuracy: 0.8029 - val_loss: 0.5574 - val_accuracy: 0.7379 - lr: 1.0000e-04 - 4s/epoch - 18ms/step\n",
            "Epoch 14/50\n",
            "224/224 - 3s - loss: 0.4190 - accuracy: 0.8053 - val_loss: 0.5592 - val_accuracy: 0.7392 - lr: 1.0000e-04 - 3s/epoch - 14ms/step\n",
            "Epoch 15/50\n",
            "224/224 - 3s - loss: 0.4145 - accuracy: 0.8037 - val_loss: 0.5608 - val_accuracy: 0.7352 - lr: 1.0000e-04 - 3s/epoch - 12ms/step\n",
            "Epoch 16/50\n",
            "\n",
            "Epoch 16: ReduceLROnPlateau reducing learning rate to 1.0000000474974514e-05.\n",
            "224/224 - 3s - loss: 0.4122 - accuracy: 0.8051 - val_loss: 0.5710 - val_accuracy: 0.7372 - lr: 1.0000e-04 - 3s/epoch - 11ms/step\n",
            "Epoch 17/50\n",
            "224/224 - 3s - loss: 0.4106 - accuracy: 0.8067 - val_loss: 0.5747 - val_accuracy: 0.7379 - lr: 1.0000e-05 - 3s/epoch - 14ms/step\n",
            "Epoch 18/50\n",
            "224/224 - 3s - loss: 0.4090 - accuracy: 0.8065 - val_loss: 0.5766 - val_accuracy: 0.7372 - lr: 1.0000e-05 - 3s/epoch - 13ms/step\n",
            "Epoch 19/50\n",
            "224/224 - 3s - loss: 0.4092 - accuracy: 0.8071 - val_loss: 0.5783 - val_accuracy: 0.7372 - lr: 1.0000e-05 - 3s/epoch - 11ms/step\n",
            "Epoch 20/50\n",
            "224/224 - 3s - loss: 0.4109 - accuracy: 0.8060 - val_loss: 0.5790 - val_accuracy: 0.7366 - lr: 1.0000e-05 - 3s/epoch - 12ms/step\n",
            "Epoch 21/50\n",
            "\n",
            "Epoch 21: ReduceLROnPlateau reducing learning rate to 1.0000000656873453e-06.\n",
            "224/224 - 3s - loss: 0.4092 - accuracy: 0.8054 - val_loss: 0.5810 - val_accuracy: 0.7379 - lr: 1.0000e-05 - 3s/epoch - 12ms/step\n"
          ]
        }
      ]
    },
    {
      "cell_type": "code",
      "source": [
        "name=\"history_cnn_lstm.txt\"\n",
        "with open(name, 'w+') as f:\n",
        "  for value in history_cnn_lstm.history[\"accuracy\"]:\n",
        "    f.write(str(value))\n",
        "    f.write(\"\\n\")\n",
        "  f.write(\"\\n\")\n",
        "  for value in history_cnn_lstm.history[\"val_accuracy\"]:\n",
        "    f.write(str(value))\n",
        "    f.write(\"\\n\")\n",
        "  f.write(\"\\n\")\n",
        "  for value in history_cnn_lstm.history[\"loss\"]:\n",
        "    f.write(str(value))\n",
        "    f.write(\"\\n\")\n",
        "  f.write(\"\\n\")\n",
        "  for value in history_cnn_lstm.history[\"val_loss\"]:\n",
        "    f.write(str(value))\n",
        "    f.write(\"\\n\")\n",
        "  f.write(\"\\n\")\n",
        "\n",
        "f.close()\n",
        "\n",
        ""
      ],
      "metadata": {
        "id": "UJnjtsJ86ns_"
      },
      "execution_count": null,
      "outputs": []
    },
    {
      "cell_type": "code",
      "source": [
        "plot_graphs(history_cnn_lstm, \"accuracy\")\n",
        "plot_graphs(history_cnn_lstm, \"loss\")"
      ],
      "metadata": {
        "colab": {
          "base_uri": "https://localhost:8080/",
          "height": 541
        },
        "id": "-LtH7PdnLrFg",
        "outputId": "b97c003b-d7e7-497c-e4aa-109f86723983"
      },
      "execution_count": null,
      "outputs": [
        {
          "output_type": "display_data",
          "data": {
            "text/plain": [
              "<Figure size 432x288 with 1 Axes>"
            ],
            "image/png": "[encoded data removed]"
          },
          "metadata": {
            "needs_background": "light"
          }
        },
        {
          "output_type": "display_data",
          "data": {
            "text/plain": [
              "<Figure size 432x288 with 1 Axes>"
            ],
            "image/png": "[encoded data removed]"
          },
          "metadata": {
            "needs_background": "light"
          }
        }
      ]
    },
    {
      "cell_type": "code",
      "source": [
        "y_preds = np.round(model_cnn_lstm.predict(X_val_padded))\n",
        "results = calculate_results(y_true= y_val, y_pred=y_preds)\n",
        "print(results)"
      ],
      "metadata": {
        "colab": {
          "base_uri": "https://localhost:8080/"
        },
        "id": "uUzMmXWWXXe-",
        "outputId": "926be06f-10d9-4301-f2cf-28ee575091f6"
      },
      "execution_count": null,
      "outputs": [
        {
          "output_type": "stream",
          "name": "stdout",
          "text": [
            "40/40 [==============================] - 0s 5ms/step\n",
            "{'accuracy': 0.7256916996047431, 'precision': 0.7196727973091792, 'recall': 0.7256916996047431, 'f1': 0.7218064934263719}\n"
          ]
        }
      ]
    },
    {
      "cell_type": "markdown",
      "source": [
        "# Random Over Sampling the Imbalanced Dataset\n"
      ],
      "metadata": {
        "id": "QNfAh090WK_T"
      }
    },
    {
      "cell_type": "code",
      "source": [
        "from imblearn.over_sampling import RandomOverSampler\n",
        "from collections import Counter"
      ],
      "metadata": {
        "id": "roQ80TFEWYeK"
      },
      "execution_count": null,
      "outputs": []
    },
    {
      "cell_type": "code",
      "source": [
        "Counter(y_train)"
      ],
      "metadata": {
        "colab": {
          "base_uri": "https://localhost:8080/"
        },
        "id": "AEnU_HLQXLFl",
        "outputId": "958cbece-d281-439a-fa75-8e82c5308a9a"
      },
      "execution_count": null,
      "outputs": [
        {
          "output_type": "execute_result",
          "data": {
            "text/plain": [
              "Counter({0: 4970, 1: 2467})"
            ]
          },
          "metadata": {},
          "execution_count": 86
        }
      ]
    },
    {
      "cell_type": "code",
      "source": [
        "ROS = RandomOverSampler(sampling_strategy=1)"
      ],
      "metadata": {
        "id": "FEidSA25XTCv"
      },
      "execution_count": null,
      "outputs": []
    },
    {
      "cell_type": "code",
      "source": [
        "X_train_np = np.array(X_train)\n",
        "X_train_reshaped = X_train_np.reshape(-1, 1)\n",
        "print(X_train_reshaped[:5])"
      ],
      "metadata": {
        "colab": {
          "base_uri": "https://localhost:8080/"
        },
        "id": "Ph1C8xUYY_YW",
        "outputId": "cded7a6c-62c4-4bea-a253-98a0a84eedf9"
      },
      "execution_count": null,
      "outputs": [
        {
          "output_type": "stream",
          "name": "stdout",
          "text": [
            "[['saw 3 idiots   refreshing  even though appered commentary  education system   however  painted fairly black n white picture      entertainment']\n",
            " ['watching basketball giving heartburn']\n",
            " [' tickets saturday spartan wallop  propname  mail  tomorrow   anyone want go see u2']\n",
            " ['crowd surfed  propname   propname   ']\n",
            " ['congratulations  propname  new baby']]\n"
          ]
        }
      ]
    },
    {
      "cell_type": "code",
      "source": [
        "y_train_np = np.array(y_train)\n",
        "y_train_reshaped = y_train_np.reshape(-1, 1)\n",
        "print(y_train_reshaped[:5])"
      ],
      "metadata": {
        "colab": {
          "base_uri": "https://localhost:8080/"
        },
        "id": "dvdQZw4nZDlm",
        "outputId": "ded5c579-27f6-43e0-e736-c897b4a4d2bd"
      },
      "execution_count": null,
      "outputs": [
        {
          "output_type": "stream",
          "name": "stdout",
          "text": [
            "[[0]\n",
            " [0]\n",
            " [1]\n",
            " [0]\n",
            " [0]]\n"
          ]
        }
      ]
    },
    {
      "cell_type": "code",
      "source": [
        "X_train_ros, y_train_ros = ROS.fit_resample(X_train_reshaped, y_train_reshaped)"
      ],
      "metadata": {
        "id": "kUW84U0rXVtK"
      },
      "execution_count": null,
      "outputs": []
    },
    {
      "cell_type": "code",
      "source": [
        "Counter(y_train_ros)"
      ],
      "metadata": {
        "colab": {
          "base_uri": "https://localhost:8080/"
        },
        "id": "dbVrQOdXXhLI",
        "outputId": "e2cdebe0-bfe0-45d1-ac2b-38b64b35a521"
      },
      "execution_count": null,
      "outputs": [
        {
          "output_type": "execute_result",
          "data": {
            "text/plain": [
              "Counter({0: 4970, 1: 4970})"
            ]
          },
          "metadata": {},
          "execution_count": 91
        }
      ]
    },
    {
      "cell_type": "code",
      "source": [
        "print(X_train_ros, y_train_ros)"
      ],
      "metadata": {
        "colab": {
          "base_uri": "https://localhost:8080/"
        },
        "id": "OF4GnQVMZgUs",
        "outputId": "e112379a-7da9-4097-ee54-fd03fb19e7eb"
      },
      "execution_count": null,
      "outputs": [
        {
          "output_type": "stream",
          "name": "stdout",
          "text": [
            "[['saw 3 idiots   refreshing  even though appered commentary  education system   however  painted fairly black n white picture      entertainment']\n",
            " ['watching basketball giving heartburn']\n",
            " [' tickets saturday spartan wallop  propname  mail  tomorrow   anyone want go see u2']\n",
            " ...\n",
            " ['drowsy still    least managed get 8 hours sleep last night    rarity days']\n",
            " ['still awake 3 30   oh']\n",
            " ['take much shopping  drinking  going dinners  hanging playing babies  flying random cities   hurry half marathon  soon get real travel']] [0 0 1 ... 1 1 1]\n"
          ]
        }
      ]
    },
    {
      "cell_type": "code",
      "source": [
        "X_train_ros_np = np.array(X_train_ros)\n",
        "X_train_ros_reshaped = X_train_ros_np.reshape(1, len(X_train_ros))\n",
        "print(X_train_ros_reshaped)"
      ],
      "metadata": {
        "colab": {
          "base_uri": "https://localhost:8080/"
        },
        "id": "7L3Pgu0AZi8B",
        "outputId": "2097f525-9b2d-4eeb-f5b1-35ca098e14a0"
      },
      "execution_count": null,
      "outputs": [
        {
          "output_type": "stream",
          "name": "stdout",
          "text": [
            "[['saw 3 idiots   refreshing  even though appered commentary  education system   however  painted fairly black n white picture      entertainment'\n",
            "  'watching basketball giving heartburn'\n",
            "  ' tickets saturday spartan wallop  propname  mail  tomorrow   anyone want go see u2'\n",
            "  ...\n",
            "  'drowsy still    least managed get 8 hours sleep last night    rarity days'\n",
            "  'still awake 3 30   oh'\n",
            "  'take much shopping  drinking  going dinners  hanging playing babies  flying random cities   hurry half marathon  soon get real travel']]\n"
          ]
        }
      ]
    },
    {
      "cell_type": "code",
      "source": [
        "y_train_ros_np = np.array(y_train_ros)\n",
        "y_train_ros_reshaped = y_train_ros_np.reshape(1, len(y_train_ros))\n",
        "print(y_train_ros_reshaped)"
      ],
      "metadata": {
        "colab": {
          "base_uri": "https://localhost:8080/"
        },
        "id": "NSaDyV-UZodG",
        "outputId": "d5baee14-4dff-4a9f-e957-06a4ac7c3a47"
      },
      "execution_count": null,
      "outputs": [
        {
          "output_type": "stream",
          "name": "stdout",
          "text": [
            "[[0 0 1 ... 1 1 1]]\n"
          ]
        }
      ]
    },
    {
      "cell_type": "code",
      "source": [
        "X_train_ros_list = list(X_train_ros_reshaped[0])\n",
        "y_train_ros_list = list(y_train_ros_reshaped[0])"
      ],
      "metadata": {
        "id": "kgJuSKqlZrDX"
      },
      "execution_count": null,
      "outputs": []
    },
    {
      "cell_type": "code",
      "source": [
        "# X_test_temp = X_test.tolist()\n",
        "# y_test_temp = y_test.tolist()"
      ],
      "metadata": {
        "id": "nE-FFl2_jAYj"
      },
      "execution_count": null,
      "outputs": []
    },
    {
      "cell_type": "code",
      "source": [
        "# X_full = X_train_ros_list + X_test_temp\n",
        "# y_full = y_train_ros_list + y_test_temp"
      ],
      "metadata": {
        "id": "rnywgZpoh92p"
      },
      "execution_count": null,
      "outputs": []
    },
    {
      "cell_type": "code",
      "source": [
        "# d = {'text': X_full, 'class': y_full}"
      ],
      "metadata": {
        "id": "qyqITEbhhrk1"
      },
      "execution_count": null,
      "outputs": []
    },
    {
      "cell_type": "code",
      "source": [
        "# new_df = pd.DataFrame(d, columns=[\"text\", \"class\"])\n",
        "# new_df"
      ],
      "metadata": {
        "colab": {
          "base_uri": "https://localhost:8080/",
          "height": 424
        },
        "id": "9ZHrFx_4iYGN",
        "outputId": "02684c2b-b97b-4257-9476-87af6f9cd9cc"
      },
      "execution_count": null,
      "outputs": [
        {
          "output_type": "execute_result",
          "data": {
            "text/plain": [
              "                                                    text  class\n",
              "0          surprised propane propane engaged found perez      0\n",
              "1           mexico city legalized gay marriage adoptions      0\n",
              "2                                       wishing saturday      0\n",
              "3                                            feeling odd      1\n",
              "4      great time deal county fair concert fun farm a...      1\n",
              "...                                                  ...    ...\n",
              "12329                        starting feel like old self      0\n",
              "12330                              slept much last night      0\n",
              "12331  earlier tonight found picture waldo jail think...      1\n",
              "12332                                  wistfully working      0\n",
              "12333  finally started orientation seems pretty good far      1\n",
              "\n",
              "[12334 rows x 2 columns]"
            ],
            "text/html": [
              "\n",
              "  <div id=\"df-73fd60f0-1d26-4a65-b625-dff5d5b5d4f1\">\n",
              "    <div class=\"colab-df-container\">\n",
              "      <div>\n",
              "<style scoped>\n",
              "    .dataframe tbody tr th:only-of-type {\n",
              "        vertical-align: middle;\n",
              "    }\n",
              "\n",
              "    .dataframe tbody tr th {\n",
              "        vertical-align: top;\n",
              "    }\n",
              "\n",
              "    .dataframe thead th {\n",
              "        text-align: right;\n",
              "    }\n",
              "</style>\n",
              "<table border=\"1\" class=\"dataframe\">\n",
              "  <thead>\n",
              "    <tr style=\"text-align: right;\">\n",
              "      <th></th>\n",
              "      <th>text</th>\n",
              "      <th>class</th>\n",
              "    </tr>\n",
              "  </thead>\n",
              "  <tbody>\n",
              "    <tr>\n",
              "      <th>0</th>\n",
              "      <td>surprised propane propane engaged found perez</td>\n",
              "      <td>0</td>\n",
              "    </tr>\n",
              "    <tr>\n",
              "      <th>1</th>\n",
              "      <td>mexico city legalized gay marriage adoptions</td>\n",
              "      <td>0</td>\n",
              "    </tr>\n",
              "    <tr>\n",
              "      <th>2</th>\n",
              "      <td>wishing saturday</td>\n",
              "      <td>0</td>\n",
              "    </tr>\n",
              "    <tr>\n",
              "      <th>3</th>\n",
              "      <td>feeling odd</td>\n",
              "      <td>1</td>\n",
              "    </tr>\n",
              "    <tr>\n",
              "      <th>4</th>\n",
              "      <td>great time deal county fair concert fun farm a...</td>\n",
              "      <td>1</td>\n",
              "    </tr>\n",
              "    <tr>\n",
              "      <th>...</th>\n",
              "      <td>...</td>\n",
              "      <td>...</td>\n",
              "    </tr>\n",
              "    <tr>\n",
              "      <th>12329</th>\n",
              "      <td>starting feel like old self</td>\n",
              "      <td>0</td>\n",
              "    </tr>\n",
              "    <tr>\n",
              "      <th>12330</th>\n",
              "      <td>slept much last night</td>\n",
              "      <td>0</td>\n",
              "    </tr>\n",
              "    <tr>\n",
              "      <th>12331</th>\n",
              "      <td>earlier tonight found picture waldo jail think...</td>\n",
              "      <td>1</td>\n",
              "    </tr>\n",
              "    <tr>\n",
              "      <th>12332</th>\n",
              "      <td>wistfully working</td>\n",
              "      <td>0</td>\n",
              "    </tr>\n",
              "    <tr>\n",
              "      <th>12333</th>\n",
              "      <td>finally started orientation seems pretty good far</td>\n",
              "      <td>1</td>\n",
              "    </tr>\n",
              "  </tbody>\n",
              "</table>\n",
              "<p>12334 rows × 2 columns</p>\n",
              "</div>\n",
              "      <button class=\"colab-df-convert\" onclick=\"convertToInteractive('df-73fd60f0-1d26-4a65-b625-dff5d5b5d4f1')\"\n",
              "              title=\"Convert this dataframe to an interactive table.\"\n",
              "              style=\"display:none;\">\n",
              "        \n",
              "  <svg xmlns=\"http://www.w3.org/2000/svg\" height=\"24px\"viewBox=\"0 0 24 24\"\n",
              "       width=\"24px\">\n",
              "    <path d=\"M0 0h24v24H0V0z\" fill=\"none\"/>\n",
              "    <path d=\"M18.56 5.44l.94 2.06.94-2.06 2.06-.94-2.06-.94-.94-2.06-.94 2.06-2.06.94zm-11 1L8.5 8.5l.94-2.06 2.06-.94-2.06-.94L8.5 2.5l-.94 2.06-2.06.94zm10 10l.94 2.06.94-2.06 2.06-.94-2.06-.94-.94-2.06-.94 2.06-2.06.94z\"/><path d=\"M17.41 7.96l-1.37-1.37c-.4-.4-.92-.59-1.43-.59-.52 0-1.04.2-1.43.59L10.3 9.45l-7.72 7.72c-.78.78-.78 2.05 0 2.83L4 21.41c.39.39.9.59 1.41.59.51 0 1.02-.2 1.41-.59l7.78-7.78 2.81-2.81c.8-.78.8-2.07 0-2.86zM5.41 20L4 18.59l7.72-7.72 1.47 1.35L5.41 20z\"/>\n",
              "  </svg>\n",
              "      </button>\n",
              "      \n",
              "  <style>\n",
              "    .colab-df-container {\n",
              "      display:flex;\n",
              "      flex-wrap:wrap;\n",
              "      gap: 12px;\n",
              "    }\n",
              "\n",
              "    .colab-df-convert {\n",
              "      background-color: #E8F0FE;\n",
              "      border: none;\n",
              "      border-radius: 50%;\n",
              "      cursor: pointer;\n",
              "      display: none;\n",
              "      fill: #1967D2;\n",
              "      height: 32px;\n",
              "      padding: 0 0 0 0;\n",
              "      width: 32px;\n",
              "    }\n",
              "\n",
              "    .colab-df-convert:hover {\n",
              "      background-color: #E2EBFA;\n",
              "      box-shadow: 0px 1px 2px rgba(60, 64, 67, 0.3), 0px 1px 3px 1px rgba(60, 64, 67, 0.15);\n",
              "      fill: #174EA6;\n",
              "    }\n",
              "\n",
              "    [theme=dark] .colab-df-convert {\n",
              "      background-color: #3B4455;\n",
              "      fill: #D2E3FC;\n",
              "    }\n",
              "\n",
              "    [theme=dark] .colab-df-convert:hover {\n",
              "      background-color: #434B5C;\n",
              "      box-shadow: 0px 1px 3px 1px rgba(0, 0, 0, 0.15);\n",
              "      filter: drop-shadow(0px 1px 2px rgba(0, 0, 0, 0.3));\n",
              "      fill: #FFFFFF;\n",
              "    }\n",
              "  </style>\n",
              "\n",
              "      <script>\n",
              "        const buttonEl =\n",
              "          document.querySelector('#df-73fd60f0-1d26-4a65-b625-dff5d5b5d4f1 button.colab-df-convert');\n",
              "        buttonEl.style.display =\n",
              "          google.colab.kernel.accessAllowed ? 'block' : 'none';\n",
              "\n",
              "        async function convertToInteractive(key) {\n",
              "          const element = document.querySelector('#df-73fd60f0-1d26-4a65-b625-dff5d5b5d4f1');\n",
              "          const dataTable =\n",
              "            await google.colab.kernel.invokeFunction('convertToInteractive',\n",
              "                                                     [key], {});\n",
              "          if (!dataTable) return;\n",
              "\n",
              "          const docLinkHtml = 'Like what you see? Visit the ' +\n",
              "            '<a target=\"_blank\" href=https://colab.research.google.com/notebooks/data_table.ipynb>data table notebook</a>'\n",
              "            + ' to learn more about interactive tables.';\n",
              "          element.innerHTML = '';\n",
              "          dataTable['output_type'] = 'display_data';\n",
              "          await google.colab.output.renderOutput(dataTable, element);\n",
              "          const docLink = document.createElement('div');\n",
              "          docLink.innerHTML = docLinkHtml;\n",
              "          element.appendChild(docLink);\n",
              "        }\n",
              "      </script>\n",
              "    </div>\n",
              "  </div>\n",
              "  "
            ]
          },
          "metadata": {},
          "execution_count": 30
        }
      ]
    },
    {
      "cell_type": "code",
      "source": [
        "# new_df.to_csv(\"preprocessed random sampling.csv\")"
      ],
      "metadata": {
        "id": "9SGXmkaOkK55"
      },
      "execution_count": null,
      "outputs": []
    },
    {
      "cell_type": "markdown",
      "source": [
        "# Defining Baseline Model"
      ],
      "metadata": {
        "id": "WajrOxqPX0YE"
      }
    },
    {
      "cell_type": "code",
      "source": [
        "from sklearn.feature_extraction.text import TfidfVectorizer\n",
        "from sklearn.naive_bayes import MultinomialNB\n",
        "from sklearn.pipeline import Pipeline\n",
        "from sklearn.metrics import accuracy_score, precision_recall_fscore_support"
      ],
      "metadata": {
        "id": "N6OVUZGhX43G"
      },
      "execution_count": null,
      "outputs": []
    },
    {
      "cell_type": "code",
      "source": [
        "model_baseline = Pipeline([\n",
        "                    (\"tfidf\", TfidfVectorizer()), # convert words to numbers using tfidf\n",
        "                    (\"clf\", MultinomialNB()) # model the text\n",
        "])"
      ],
      "metadata": {
        "id": "-lgExeXZXoCy"
      },
      "execution_count": null,
      "outputs": []
    },
    {
      "cell_type": "code",
      "source": [
        "model_baseline.fit(X_train_ros_list, y_train_ros)"
      ],
      "metadata": {
        "colab": {
          "base_uri": "https://localhost:8080/"
        },
        "id": "K8G2Jx6tYMtS",
        "outputId": "079f5e33-a47a-49c8-b0a9-435c3f113248"
      },
      "execution_count": null,
      "outputs": [
        {
          "output_type": "execute_result",
          "data": {
            "text/plain": [
              "Pipeline(steps=[('tfidf', TfidfVectorizer()), ('clf', MultinomialNB())])"
            ]
          },
          "metadata": {},
          "execution_count": 56
        }
      ]
    },
    {
      "cell_type": "code",
      "source": [
        "\n",
        "def calculate_results(y_true, y_pred):\n",
        "\n",
        "  # Calculate model accuracy\n",
        "  model_accuracy = accuracy_score(y_true, y_pred) * 100\n",
        "  # Calculate model precision, recall and f1 score using \"weighted\" average\n",
        "  model_precision, model_recall, model_f1, _ = precision_recall_fscore_support(y_true, y_pred, average=\"weighted\")\n",
        "  model_results = {\"accuracy\": model_accuracy,\n",
        "                  \"precision\": model_precision,\n",
        "                  \"recall\": model_recall,\n",
        "                  \"f1\": model_f1}\n",
        "  return model_results"
      ],
      "metadata": {
        "id": "V6helQjOX_9-"
      },
      "execution_count": null,
      "outputs": []
    },
    {
      "cell_type": "code",
      "source": [
        "baseline_preds = model_baseline.predict(X_test)\n",
        "baseline_preds[:20]"
      ],
      "metadata": {
        "colab": {
          "base_uri": "https://localhost:8080/"
        },
        "id": "ja5G3CcoYH9S",
        "outputId": "d5089112-1451-4638-c246-d7d6f9284b3a"
      },
      "execution_count": null,
      "outputs": [
        {
          "output_type": "execute_result",
          "data": {
            "text/plain": [
              "array([0, 0, 0, 0, 0, 0, 1, 1, 0, 1, 0, 1, 1, 1, 0, 1, 0, 0, 1, 1])"
            ]
          },
          "metadata": {},
          "execution_count": 58
        }
      ]
    },
    {
      "cell_type": "code",
      "source": [
        "baseline_results = calculate_results(y_true=y_test,\n",
        "                                     y_pred=baseline_preds)\n",
        "baseline_results"
      ],
      "metadata": {
        "colab": {
          "base_uri": "https://localhost:8080/"
        },
        "id": "BPgN3X78Z-Uy",
        "outputId": "035973a2-aa00-4353-fb69-bd37ba355494"
      },
      "execution_count": null,
      "outputs": [
        {
          "output_type": "execute_result",
          "data": {
            "text/plain": [
              "{'accuracy': 67.74193548387096,\n",
              " 'precision': 0.7280802475454109,\n",
              " 'recall': 0.6774193548387096,\n",
              " 'f1': 0.6847079895609928}"
            ]
          },
          "metadata": {},
          "execution_count": 59
        }
      ]
    },
    {
      "cell_type": "markdown",
      "source": [
        "# Text Preprocessing on Oversampled Dataset"
      ],
      "metadata": {
        "id": "odcnWctGamKX"
      }
    },
    {
      "cell_type": "code",
      "source": [
        "new_tokenizer = Tokenizer(num_words = vocab_size,\n",
        "                      oov_token = oov_tok)"
      ],
      "metadata": {
        "id": "F7HLf7gzauWj"
      },
      "execution_count": null,
      "outputs": []
    },
    {
      "cell_type": "code",
      "source": [
        "new_tokenizer.fit_on_texts(X_train_ros_list)\n",
        "\n",
        "new_words_to_index = new_tokenizer.word_index\n",
        "print(dict(list(new_words_to_index.items())[:10]))\n",
        "print(len(new_words_to_index))"
      ],
      "metadata": {
        "colab": {
          "base_uri": "https://localhost:8080/"
        },
        "id": "In_dRJESayvD",
        "outputId": "e4f8777a-6920-48da-9929-9d5839d8b0ae"
      },
      "execution_count": null,
      "outputs": [
        {
          "output_type": "stream",
          "name": "stdout",
          "text": [
            "{'<OOV>': 1, 'propname': 2, 'day': 3, 'going': 4, 'get': 5, 'like': 6, 'back': 7, 'one': 8, 'time': 9, 'work': 10}\n",
            "12905\n"
          ]
        }
      ]
    },
    {
      "cell_type": "code",
      "source": [
        "X_train_sequences_ros = tokenizer.texts_to_sequences(X_train_ros_list)\n",
        "X_train_padded_ros = pad_sequences(X_train_sequences_ros,\n",
        "                                maxlen=max_length,\n",
        "                                padding=padding_type,\n",
        "                                truncating = trunc_type)\n"
      ],
      "metadata": {
        "id": "kso9cpHTbFVy"
      },
      "execution_count": null,
      "outputs": []
    },
    {
      "cell_type": "markdown",
      "source": [
        "# Oversampled Dataset on LSTM"
      ],
      "metadata": {
        "id": "K3w8PERFaPpu"
      }
    },
    {
      "cell_type": "code",
      "source": [
        "model_lstm_ros = lstm_model((max_text_len,))\n",
        "model_lstm_ros.compile(optimizer=adam,\n",
        "                   loss='binary_crossentropy',\n",
        "                   metrics=['accuracy'])"
      ],
      "metadata": {
        "id": "pHsdIpDad-GZ"
      },
      "execution_count": null,
      "outputs": []
    },
    {
      "cell_type": "code",
      "source": [
        "num_epochs = 140\n",
        "history_lstm_ros = model_lstm_ros.fit(X_train_padded_ros,\n",
        "                    y_train_ros,\n",
        "                    epochs=num_epochs,\n",
        "                    validation_split=0.2,\n",
        "                    #callbacks=[reduce_lr_acc],\n",
        "                    verbose=2)"
      ],
      "metadata": {
        "colab": {
          "base_uri": "https://localhost:8080/"
        },
        "id": "_z6j9_PdaXSE",
        "outputId": "c4cfd608-0865-4278-f081-fd2a049f9f5b"
      },
      "execution_count": null,
      "outputs": [
        {
          "output_type": "stream",
          "name": "stdout",
          "text": [
            "Epoch 1/140\n",
            "249/249 - 9s - loss: 0.6546 - accuracy: 0.6281 - val_loss: 0.9137 - val_accuracy: 0.2399 - 9s/epoch - 38ms/step\n",
            "Epoch 2/140\n",
            "249/249 - 4s - loss: 0.5807 - accuracy: 0.6987 - val_loss: 0.8306 - val_accuracy: 0.5055 - 4s/epoch - 17ms/step\n",
            "Epoch 3/140\n",
            "249/249 - 4s - loss: 0.5629 - accuracy: 0.7165 - val_loss: 0.8172 - val_accuracy: 0.5573 - 4s/epoch - 17ms/step\n",
            "Epoch 4/140\n",
            "249/249 - 4s - loss: 0.5528 - accuracy: 0.7203 - val_loss: 0.7927 - val_accuracy: 0.5568 - 4s/epoch - 17ms/step\n",
            "Epoch 5/140\n",
            "249/249 - 4s - loss: 0.5466 - accuracy: 0.7269 - val_loss: 0.7490 - val_accuracy: 0.6232 - 4s/epoch - 17ms/step\n",
            "Epoch 6/140\n",
            "249/249 - 4s - loss: 0.5407 - accuracy: 0.7303 - val_loss: 0.8290 - val_accuracy: 0.5584 - 4s/epoch - 17ms/step\n",
            "Epoch 7/140\n",
            "249/249 - 4s - loss: 0.5378 - accuracy: 0.7348 - val_loss: 0.7774 - val_accuracy: 0.5946 - 4s/epoch - 17ms/step\n",
            "Epoch 8/140\n",
            "249/249 - 4s - loss: 0.5336 - accuracy: 0.7386 - val_loss: 0.8860 - val_accuracy: 0.4995 - 4s/epoch - 17ms/step\n",
            "Epoch 9/140\n",
            "249/249 - 4s - loss: 0.5315 - accuracy: 0.7379 - val_loss: 0.7248 - val_accuracy: 0.6378 - 4s/epoch - 17ms/step\n",
            "Epoch 10/140\n",
            "249/249 - 4s - loss: 0.5279 - accuracy: 0.7430 - val_loss: 0.7951 - val_accuracy: 0.5890 - 4s/epoch - 17ms/step\n",
            "Epoch 11/140\n",
            "249/249 - 4s - loss: 0.5261 - accuracy: 0.7427 - val_loss: 0.7695 - val_accuracy: 0.6102 - 4s/epoch - 17ms/step\n",
            "Epoch 12/140\n",
            "249/249 - 4s - loss: 0.5223 - accuracy: 0.7435 - val_loss: 0.7535 - val_accuracy: 0.6182 - 4s/epoch - 17ms/step\n",
            "Epoch 13/140\n",
            "249/249 - 4s - loss: 0.5192 - accuracy: 0.7506 - val_loss: 0.7224 - val_accuracy: 0.6449 - 4s/epoch - 17ms/step\n",
            "Epoch 14/140\n",
            "249/249 - 4s - loss: 0.5178 - accuracy: 0.7505 - val_loss: 0.7563 - val_accuracy: 0.6157 - 4s/epoch - 17ms/step\n",
            "Epoch 15/140\n",
            "249/249 - 4s - loss: 0.5153 - accuracy: 0.7545 - val_loss: 0.7432 - val_accuracy: 0.6182 - 4s/epoch - 17ms/step\n",
            "Epoch 16/140\n",
            "249/249 - 4s - loss: 0.5134 - accuracy: 0.7545 - val_loss: 0.7607 - val_accuracy: 0.6046 - 4s/epoch - 17ms/step\n",
            "Epoch 17/140\n",
            "249/249 - 4s - loss: 0.5117 - accuracy: 0.7541 - val_loss: 0.7390 - val_accuracy: 0.6353 - 4s/epoch - 17ms/step\n",
            "Epoch 18/140\n",
            "249/249 - 4s - loss: 0.5081 - accuracy: 0.7559 - val_loss: 0.7038 - val_accuracy: 0.6529 - 4s/epoch - 17ms/step\n",
            "Epoch 19/140\n",
            "249/249 - 4s - loss: 0.5075 - accuracy: 0.7568 - val_loss: 0.8439 - val_accuracy: 0.5724 - 4s/epoch - 17ms/step\n",
            "Epoch 20/140\n",
            "249/249 - 4s - loss: 0.5060 - accuracy: 0.7563 - val_loss: 0.7832 - val_accuracy: 0.6092 - 4s/epoch - 17ms/step\n",
            "Epoch 21/140\n",
            "249/249 - 4s - loss: 0.5018 - accuracy: 0.7636 - val_loss: 0.7671 - val_accuracy: 0.6076 - 4s/epoch - 17ms/step\n",
            "Epoch 22/140\n",
            "249/249 - 5s - loss: 0.4997 - accuracy: 0.7617 - val_loss: 0.6606 - val_accuracy: 0.6992 - 5s/epoch - 18ms/step\n",
            "Epoch 23/140\n",
            "249/249 - 7s - loss: 0.4992 - accuracy: 0.7622 - val_loss: 0.7225 - val_accuracy: 0.6333 - 7s/epoch - 29ms/step\n",
            "Epoch 24/140\n",
            "249/249 - 6s - loss: 0.4952 - accuracy: 0.7661 - val_loss: 0.7169 - val_accuracy: 0.6348 - 6s/epoch - 22ms/step\n",
            "Epoch 25/140\n",
            "249/249 - 4s - loss: 0.4936 - accuracy: 0.7656 - val_loss: 0.7102 - val_accuracy: 0.6625 - 4s/epoch - 17ms/step\n",
            "Epoch 26/140\n",
            "249/249 - 4s - loss: 0.4917 - accuracy: 0.7655 - val_loss: 0.7533 - val_accuracy: 0.6222 - 4s/epoch - 17ms/step\n",
            "Epoch 27/140\n",
            "249/249 - 4s - loss: 0.4889 - accuracy: 0.7684 - val_loss: 0.6943 - val_accuracy: 0.6896 - 4s/epoch - 17ms/step\n",
            "Epoch 28/140\n",
            "249/249 - 4s - loss: 0.4873 - accuracy: 0.7676 - val_loss: 0.7275 - val_accuracy: 0.6590 - 4s/epoch - 17ms/step\n",
            "Epoch 29/140\n",
            "249/249 - 4s - loss: 0.4851 - accuracy: 0.7716 - val_loss: 0.6724 - val_accuracy: 0.6831 - 4s/epoch - 17ms/step\n",
            "Epoch 30/140\n",
            "249/249 - 4s - loss: 0.4856 - accuracy: 0.7691 - val_loss: 0.6964 - val_accuracy: 0.6700 - 4s/epoch - 17ms/step\n",
            "Epoch 31/140\n",
            "249/249 - 4s - loss: 0.4824 - accuracy: 0.7724 - val_loss: 0.6516 - val_accuracy: 0.7123 - 4s/epoch - 17ms/step\n",
            "Epoch 32/140\n",
            "249/249 - 4s - loss: 0.4803 - accuracy: 0.7783 - val_loss: 0.7100 - val_accuracy: 0.6685 - 4s/epoch - 18ms/step\n",
            "Epoch 33/140\n",
            "249/249 - 4s - loss: 0.4767 - accuracy: 0.7759 - val_loss: 0.6697 - val_accuracy: 0.7002 - 4s/epoch - 17ms/step\n",
            "Epoch 34/140\n",
            "249/249 - 4s - loss: 0.4745 - accuracy: 0.7819 - val_loss: 0.7695 - val_accuracy: 0.6212 - 4s/epoch - 18ms/step\n",
            "Epoch 35/140\n",
            "249/249 - 4s - loss: 0.4729 - accuracy: 0.7817 - val_loss: 0.6489 - val_accuracy: 0.7233 - 4s/epoch - 18ms/step\n",
            "Epoch 36/140\n",
            "249/249 - 4s - loss: 0.4699 - accuracy: 0.7827 - val_loss: 0.7253 - val_accuracy: 0.6650 - 4s/epoch - 17ms/step\n",
            "Epoch 37/140\n",
            "249/249 - 4s - loss: 0.4670 - accuracy: 0.7851 - val_loss: 0.6491 - val_accuracy: 0.7148 - 4s/epoch - 17ms/step\n",
            "Epoch 38/140\n",
            "249/249 - 4s - loss: 0.4649 - accuracy: 0.7899 - val_loss: 0.7353 - val_accuracy: 0.6434 - 4s/epoch - 17ms/step\n",
            "Epoch 39/140\n",
            "249/249 - 4s - loss: 0.4620 - accuracy: 0.7918 - val_loss: 0.6517 - val_accuracy: 0.7133 - 4s/epoch - 17ms/step\n",
            "Epoch 40/140\n",
            "249/249 - 4s - loss: 0.4578 - accuracy: 0.7915 - val_loss: 0.6491 - val_accuracy: 0.7193 - 4s/epoch - 18ms/step\n",
            "Epoch 41/140\n",
            "249/249 - 4s - loss: 0.4556 - accuracy: 0.7938 - val_loss: 0.7073 - val_accuracy: 0.6856 - 4s/epoch - 17ms/step\n",
            "Epoch 42/140\n",
            "249/249 - 4s - loss: 0.4535 - accuracy: 0.7945 - val_loss: 0.6358 - val_accuracy: 0.7425 - 4s/epoch - 17ms/step\n",
            "Epoch 43/140\n",
            "249/249 - 4s - loss: 0.4510 - accuracy: 0.7969 - val_loss: 0.6652 - val_accuracy: 0.7123 - 4s/epoch - 17ms/step\n",
            "Epoch 44/140\n",
            "249/249 - 4s - loss: 0.4448 - accuracy: 0.8021 - val_loss: 0.6624 - val_accuracy: 0.7188 - 4s/epoch - 17ms/step\n",
            "Epoch 45/140\n",
            "249/249 - 4s - loss: 0.4426 - accuracy: 0.8037 - val_loss: 0.5872 - val_accuracy: 0.7555 - 4s/epoch - 17ms/step\n",
            "Epoch 46/140\n",
            "249/249 - 4s - loss: 0.4403 - accuracy: 0.8004 - val_loss: 0.6266 - val_accuracy: 0.7389 - 4s/epoch - 18ms/step\n",
            "Epoch 47/140\n",
            "249/249 - 4s - loss: 0.4372 - accuracy: 0.8050 - val_loss: 0.6665 - val_accuracy: 0.7138 - 4s/epoch - 17ms/step\n",
            "Epoch 48/140\n",
            "249/249 - 4s - loss: 0.4319 - accuracy: 0.8094 - val_loss: 0.5693 - val_accuracy: 0.7807 - 4s/epoch - 17ms/step\n",
            "Epoch 49/140\n",
            "249/249 - 4s - loss: 0.4292 - accuracy: 0.8089 - val_loss: 0.6319 - val_accuracy: 0.7394 - 4s/epoch - 17ms/step\n",
            "Epoch 50/140\n",
            "249/249 - 4s - loss: 0.4262 - accuracy: 0.8141 - val_loss: 0.7325 - val_accuracy: 0.6745 - 4s/epoch - 17ms/step\n",
            "Epoch 51/140\n",
            "249/249 - 4s - loss: 0.4209 - accuracy: 0.8164 - val_loss: 0.5430 - val_accuracy: 0.7973 - 4s/epoch - 17ms/step\n",
            "Epoch 52/140\n",
            "249/249 - 4s - loss: 0.4172 - accuracy: 0.8180 - val_loss: 0.6062 - val_accuracy: 0.7545 - 4s/epoch - 17ms/step\n",
            "Epoch 53/140\n",
            "249/249 - 4s - loss: 0.4126 - accuracy: 0.8223 - val_loss: 0.6519 - val_accuracy: 0.7334 - 4s/epoch - 17ms/step\n",
            "Epoch 54/140\n",
            "249/249 - 4s - loss: 0.4099 - accuracy: 0.8233 - val_loss: 0.6107 - val_accuracy: 0.7580 - 4s/epoch - 17ms/step\n",
            "Epoch 55/140\n",
            "249/249 - 4s - loss: 0.4057 - accuracy: 0.8286 - val_loss: 0.5642 - val_accuracy: 0.7842 - 4s/epoch - 17ms/step\n",
            "Epoch 56/140\n",
            "249/249 - 4s - loss: 0.4008 - accuracy: 0.8290 - val_loss: 0.6139 - val_accuracy: 0.7626 - 4s/epoch - 17ms/step\n",
            "Epoch 57/140\n",
            "249/249 - 4s - loss: 0.3999 - accuracy: 0.8321 - val_loss: 0.5908 - val_accuracy: 0.7736 - 4s/epoch - 17ms/step\n",
            "Epoch 58/140\n",
            "249/249 - 4s - loss: 0.3932 - accuracy: 0.8351 - val_loss: 0.6565 - val_accuracy: 0.7319 - 4s/epoch - 17ms/step\n",
            "Epoch 59/140\n",
            "249/249 - 4s - loss: 0.3889 - accuracy: 0.8368 - val_loss: 0.5615 - val_accuracy: 0.7998 - 4s/epoch - 17ms/step\n",
            "Epoch 60/140\n",
            "249/249 - 4s - loss: 0.3857 - accuracy: 0.8390 - val_loss: 0.5278 - val_accuracy: 0.8099 - 4s/epoch - 18ms/step\n",
            "Epoch 61/140\n",
            "249/249 - 4s - loss: 0.3812 - accuracy: 0.8413 - val_loss: 0.6025 - val_accuracy: 0.7666 - 4s/epoch - 18ms/step\n",
            "Epoch 62/140\n",
            "249/249 - 4s - loss: 0.3791 - accuracy: 0.8414 - val_loss: 0.5669 - val_accuracy: 0.7912 - 4s/epoch - 17ms/step\n",
            "Epoch 63/140\n",
            "249/249 - 4s - loss: 0.3744 - accuracy: 0.8454 - val_loss: 0.6050 - val_accuracy: 0.7696 - 4s/epoch - 17ms/step\n",
            "Epoch 64/140\n",
            "249/249 - 4s - loss: 0.3695 - accuracy: 0.8483 - val_loss: 0.5201 - val_accuracy: 0.8214 - 4s/epoch - 17ms/step\n",
            "Epoch 65/140\n",
            "249/249 - 4s - loss: 0.3647 - accuracy: 0.8526 - val_loss: 0.4919 - val_accuracy: 0.8415 - 4s/epoch - 17ms/step\n",
            "Epoch 66/140\n",
            "249/249 - 4s - loss: 0.3620 - accuracy: 0.8531 - val_loss: 0.5594 - val_accuracy: 0.7907 - 4s/epoch - 17ms/step\n",
            "Epoch 67/140\n",
            "249/249 - 4s - loss: 0.3591 - accuracy: 0.8550 - val_loss: 0.5314 - val_accuracy: 0.8114 - 4s/epoch - 17ms/step\n",
            "Epoch 68/140\n",
            "249/249 - 4s - loss: 0.3519 - accuracy: 0.8631 - val_loss: 0.5238 - val_accuracy: 0.8290 - 4s/epoch - 17ms/step\n",
            "Epoch 69/140\n",
            "249/249 - 4s - loss: 0.3513 - accuracy: 0.8608 - val_loss: 0.5848 - val_accuracy: 0.7762 - 4s/epoch - 17ms/step\n",
            "Epoch 70/140\n",
            "249/249 - 4s - loss: 0.3491 - accuracy: 0.8599 - val_loss: 0.5355 - val_accuracy: 0.8129 - 4s/epoch - 18ms/step\n",
            "Epoch 71/140\n",
            "249/249 - 4s - loss: 0.3450 - accuracy: 0.8623 - val_loss: 0.5239 - val_accuracy: 0.8239 - 4s/epoch - 17ms/step\n",
            "Epoch 72/140\n",
            "249/249 - 4s - loss: 0.3417 - accuracy: 0.8649 - val_loss: 0.4894 - val_accuracy: 0.8451 - 4s/epoch - 18ms/step\n",
            "Epoch 73/140\n",
            "249/249 - 4s - loss: 0.3376 - accuracy: 0.8687 - val_loss: 0.4804 - val_accuracy: 0.8526 - 4s/epoch - 17ms/step\n",
            "Epoch 74/140\n",
            "249/249 - 4s - loss: 0.3341 - accuracy: 0.8690 - val_loss: 0.4079 - val_accuracy: 0.8883 - 4s/epoch - 17ms/step\n",
            "Epoch 75/140\n",
            "249/249 - 4s - loss: 0.3309 - accuracy: 0.8720 - val_loss: 0.4825 - val_accuracy: 0.8511 - 4s/epoch - 18ms/step\n",
            "Epoch 76/140\n",
            "249/249 - 4s - loss: 0.3275 - accuracy: 0.8722 - val_loss: 0.4403 - val_accuracy: 0.8773 - 4s/epoch - 18ms/step\n",
            "Epoch 77/140\n",
            "249/249 - 4s - loss: 0.3280 - accuracy: 0.8751 - val_loss: 0.4390 - val_accuracy: 0.8798 - 4s/epoch - 17ms/step\n",
            "Epoch 78/140\n",
            "249/249 - 4s - loss: 0.3203 - accuracy: 0.8784 - val_loss: 0.4055 - val_accuracy: 0.8924 - 4s/epoch - 17ms/step\n",
            "Epoch 79/140\n",
            "249/249 - 4s - loss: 0.3187 - accuracy: 0.8812 - val_loss: 0.4357 - val_accuracy: 0.8833 - 4s/epoch - 17ms/step\n",
            "Epoch 80/140\n",
            "249/249 - 4s - loss: 0.3126 - accuracy: 0.8834 - val_loss: 0.5725 - val_accuracy: 0.7902 - 4s/epoch - 17ms/step\n",
            "Epoch 81/140\n",
            "249/249 - 4s - loss: 0.3114 - accuracy: 0.8862 - val_loss: 0.5427 - val_accuracy: 0.8058 - 4s/epoch - 17ms/step\n",
            "Epoch 82/140\n",
            "249/249 - 4s - loss: 0.3111 - accuracy: 0.8832 - val_loss: 0.4172 - val_accuracy: 0.8913 - 4s/epoch - 17ms/step\n",
            "Epoch 83/140\n",
            "249/249 - 4s - loss: 0.3045 - accuracy: 0.8912 - val_loss: 0.4737 - val_accuracy: 0.8556 - 4s/epoch - 17ms/step\n",
            "Epoch 84/140\n",
            "249/249 - 4s - loss: 0.3019 - accuracy: 0.8916 - val_loss: 0.3977 - val_accuracy: 0.9069 - 4s/epoch - 17ms/step\n",
            "Epoch 85/140\n",
            "249/249 - 4s - loss: 0.2992 - accuracy: 0.8916 - val_loss: 0.4795 - val_accuracy: 0.8526 - 4s/epoch - 18ms/step\n",
            "Epoch 86/140\n",
            "249/249 - 4s - loss: 0.2945 - accuracy: 0.8951 - val_loss: 0.3823 - val_accuracy: 0.9125 - 4s/epoch - 17ms/step\n",
            "Epoch 87/140\n",
            "249/249 - 4s - loss: 0.2928 - accuracy: 0.8973 - val_loss: 0.4846 - val_accuracy: 0.8436 - 4s/epoch - 17ms/step\n",
            "Epoch 88/140\n",
            "249/249 - 4s - loss: 0.2906 - accuracy: 0.8961 - val_loss: 0.3761 - val_accuracy: 0.9140 - 4s/epoch - 18ms/step\n",
            "Epoch 89/140\n",
            "249/249 - 4s - loss: 0.2862 - accuracy: 0.9003 - val_loss: 0.3889 - val_accuracy: 0.9160 - 4s/epoch - 18ms/step\n",
            "Epoch 90/140\n",
            "249/249 - 4s - loss: 0.2850 - accuracy: 0.9004 - val_loss: 0.3991 - val_accuracy: 0.9034 - 4s/epoch - 17ms/step\n",
            "Epoch 91/140\n",
            "249/249 - 4s - loss: 0.2806 - accuracy: 0.9039 - val_loss: 0.4298 - val_accuracy: 0.8798 - 4s/epoch - 17ms/step\n",
            "Epoch 92/140\n",
            "249/249 - 4s - loss: 0.2820 - accuracy: 0.9022 - val_loss: 0.3802 - val_accuracy: 0.9059 - 4s/epoch - 17ms/step\n",
            "Epoch 93/140\n",
            "249/249 - 4s - loss: 0.2787 - accuracy: 0.9039 - val_loss: 0.3892 - val_accuracy: 0.9120 - 4s/epoch - 18ms/step\n",
            "Epoch 94/140\n",
            "249/249 - 5s - loss: 0.2747 - accuracy: 0.9073 - val_loss: 0.3646 - val_accuracy: 0.9175 - 5s/epoch - 18ms/step\n",
            "Epoch 95/140\n",
            "249/249 - 4s - loss: 0.2694 - accuracy: 0.9100 - val_loss: 0.4143 - val_accuracy: 0.8878 - 4s/epoch - 17ms/step\n",
            "Epoch 96/140\n",
            "249/249 - 4s - loss: 0.2690 - accuracy: 0.9115 - val_loss: 0.3871 - val_accuracy: 0.9090 - 4s/epoch - 18ms/step\n",
            "Epoch 97/140\n",
            "249/249 - 4s - loss: 0.2647 - accuracy: 0.9112 - val_loss: 0.3521 - val_accuracy: 0.9230 - 4s/epoch - 17ms/step\n",
            "Epoch 98/140\n",
            "249/249 - 4s - loss: 0.2655 - accuracy: 0.9116 - val_loss: 0.4849 - val_accuracy: 0.8476 - 4s/epoch - 17ms/step\n",
            "Epoch 99/140\n",
            "249/249 - 4s - loss: 0.2595 - accuracy: 0.9154 - val_loss: 0.4027 - val_accuracy: 0.9004 - 4s/epoch - 17ms/step\n",
            "Epoch 100/140\n",
            "249/249 - 4s - loss: 0.2576 - accuracy: 0.9159 - val_loss: 0.3517 - val_accuracy: 0.9276 - 4s/epoch - 18ms/step\n",
            "Epoch 101/140\n",
            "249/249 - 4s - loss: 0.2549 - accuracy: 0.9195 - val_loss: 0.3428 - val_accuracy: 0.9321 - 4s/epoch - 17ms/step\n",
            "Epoch 102/140\n",
            "249/249 - 4s - loss: 0.2497 - accuracy: 0.9215 - val_loss: 0.4299 - val_accuracy: 0.8808 - 4s/epoch - 18ms/step\n",
            "Epoch 103/140\n",
            "249/249 - 4s - loss: 0.2522 - accuracy: 0.9200 - val_loss: 0.3524 - val_accuracy: 0.9286 - 4s/epoch - 17ms/step\n",
            "Epoch 104/140\n",
            "249/249 - 4s - loss: 0.2492 - accuracy: 0.9205 - val_loss: 0.3535 - val_accuracy: 0.9245 - 4s/epoch - 17ms/step\n",
            "Epoch 105/140\n",
            "249/249 - 4s - loss: 0.2450 - accuracy: 0.9235 - val_loss: 0.3298 - val_accuracy: 0.9346 - 4s/epoch - 17ms/step\n",
            "Epoch 106/140\n",
            "249/249 - 4s - loss: 0.2445 - accuracy: 0.9249 - val_loss: 0.3153 - val_accuracy: 0.9371 - 4s/epoch - 17ms/step\n",
            "Epoch 107/140\n",
            "249/249 - 4s - loss: 0.2555 - accuracy: 0.9186 - val_loss: 0.3480 - val_accuracy: 0.9215 - 4s/epoch - 17ms/step\n",
            "Epoch 108/140\n",
            "249/249 - 4s - loss: 0.2395 - accuracy: 0.9278 - val_loss: 0.3348 - val_accuracy: 0.9336 - 4s/epoch - 17ms/step\n",
            "Epoch 109/140\n",
            "249/249 - 5s - loss: 0.2408 - accuracy: 0.9254 - val_loss: 0.4480 - val_accuracy: 0.8657 - 5s/epoch - 21ms/step\n",
            "Epoch 110/140\n",
            "249/249 - 7s - loss: 0.2349 - accuracy: 0.9293 - val_loss: 0.3216 - val_accuracy: 0.9371 - 7s/epoch - 29ms/step\n",
            "Epoch 111/140\n",
            "249/249 - 5s - loss: 0.2397 - accuracy: 0.9268 - val_loss: 0.3370 - val_accuracy: 0.9301 - 5s/epoch - 20ms/step\n",
            "Epoch 112/140\n",
            "249/249 - 4s - loss: 0.2356 - accuracy: 0.9287 - val_loss: 0.3460 - val_accuracy: 0.9240 - 4s/epoch - 17ms/step\n",
            "Epoch 113/140\n",
            "249/249 - 4s - loss: 0.2330 - accuracy: 0.9301 - val_loss: 0.3311 - val_accuracy: 0.9301 - 4s/epoch - 17ms/step\n",
            "Epoch 114/140\n",
            "249/249 - 4s - loss: 0.2309 - accuracy: 0.9317 - val_loss: 0.3028 - val_accuracy: 0.9381 - 4s/epoch - 17ms/step\n",
            "Epoch 115/140\n",
            "249/249 - 4s - loss: 0.2315 - accuracy: 0.9302 - val_loss: 0.2910 - val_accuracy: 0.9422 - 4s/epoch - 17ms/step\n",
            "Epoch 116/140\n",
            "249/249 - 4s - loss: 0.2264 - accuracy: 0.9327 - val_loss: 0.3142 - val_accuracy: 0.9356 - 4s/epoch - 17ms/step\n",
            "Epoch 117/140\n",
            "249/249 - 4s - loss: 0.2280 - accuracy: 0.9327 - val_loss: 0.3375 - val_accuracy: 0.9276 - 4s/epoch - 17ms/step\n",
            "Epoch 118/140\n",
            "249/249 - 4s - loss: 0.2289 - accuracy: 0.9322 - val_loss: 0.3228 - val_accuracy: 0.9341 - 4s/epoch - 17ms/step\n",
            "Epoch 119/140\n",
            "249/249 - 4s - loss: 0.2320 - accuracy: 0.9306 - val_loss: 0.3083 - val_accuracy: 0.9391 - 4s/epoch - 18ms/step\n",
            "Epoch 120/140\n",
            "249/249 - 4s - loss: 0.2264 - accuracy: 0.9327 - val_loss: 0.3179 - val_accuracy: 0.9366 - 4s/epoch - 17ms/step\n",
            "Epoch 121/140\n",
            "249/249 - 4s - loss: 0.2228 - accuracy: 0.9366 - val_loss: 0.3143 - val_accuracy: 0.9361 - 4s/epoch - 17ms/step\n",
            "Epoch 122/140\n",
            "249/249 - 4s - loss: 0.2238 - accuracy: 0.9342 - val_loss: 0.3002 - val_accuracy: 0.9401 - 4s/epoch - 17ms/step\n",
            "Epoch 123/140\n",
            "249/249 - 4s - loss: 0.2226 - accuracy: 0.9357 - val_loss: 0.2983 - val_accuracy: 0.9416 - 4s/epoch - 17ms/step\n",
            "Epoch 124/140\n",
            "249/249 - 4s - loss: 0.2180 - accuracy: 0.9374 - val_loss: 0.3405 - val_accuracy: 0.9261 - 4s/epoch - 17ms/step\n",
            "Epoch 125/140\n",
            "249/249 - 4s - loss: 0.2252 - accuracy: 0.9331 - val_loss: 0.3109 - val_accuracy: 0.9401 - 4s/epoch - 17ms/step\n",
            "Epoch 126/140\n",
            "249/249 - 4s - loss: 0.2154 - accuracy: 0.9388 - val_loss: 0.2864 - val_accuracy: 0.9427 - 4s/epoch - 17ms/step\n",
            "Epoch 127/140\n",
            "249/249 - 4s - loss: 0.2157 - accuracy: 0.9384 - val_loss: 0.3019 - val_accuracy: 0.9371 - 4s/epoch - 17ms/step\n",
            "Epoch 128/140\n",
            "249/249 - 4s - loss: 0.2214 - accuracy: 0.9355 - val_loss: 0.2949 - val_accuracy: 0.9422 - 4s/epoch - 17ms/step\n",
            "Epoch 129/140\n",
            "249/249 - 4s - loss: 0.2168 - accuracy: 0.9390 - val_loss: 0.2948 - val_accuracy: 0.9411 - 4s/epoch - 17ms/step\n",
            "Epoch 130/140\n",
            "249/249 - 4s - loss: 0.2165 - accuracy: 0.9375 - val_loss: 0.2794 - val_accuracy: 0.9437 - 4s/epoch - 17ms/step\n",
            "Epoch 131/140\n",
            "249/249 - 4s - loss: 0.2186 - accuracy: 0.9378 - val_loss: 0.2856 - val_accuracy: 0.9437 - 4s/epoch - 17ms/step\n",
            "Epoch 132/140\n",
            "249/249 - 4s - loss: 0.2148 - accuracy: 0.9393 - val_loss: 0.2882 - val_accuracy: 0.9406 - 4s/epoch - 17ms/step\n",
            "Epoch 133/140\n",
            "249/249 - 4s - loss: 0.2112 - accuracy: 0.9406 - val_loss: 0.2957 - val_accuracy: 0.9401 - 4s/epoch - 18ms/step\n",
            "Epoch 134/140\n",
            "249/249 - 5s - loss: 0.2191 - accuracy: 0.9366 - val_loss: 0.2992 - val_accuracy: 0.9386 - 5s/epoch - 18ms/step\n",
            "Epoch 135/140\n",
            "249/249 - 4s - loss: 0.2085 - accuracy: 0.9424 - val_loss: 0.3414 - val_accuracy: 0.9200 - 4s/epoch - 18ms/step\n",
            "Epoch 136/140\n",
            "249/249 - 4s - loss: 0.2139 - accuracy: 0.9396 - val_loss: 0.2978 - val_accuracy: 0.9386 - 4s/epoch - 17ms/step\n",
            "Epoch 137/140\n",
            "249/249 - 4s - loss: 0.2120 - accuracy: 0.9398 - val_loss: 0.2867 - val_accuracy: 0.9427 - 4s/epoch - 18ms/step\n",
            "Epoch 138/140\n",
            "249/249 - 4s - loss: 0.2129 - accuracy: 0.9395 - val_loss: 0.2649 - val_accuracy: 0.9477 - 4s/epoch - 17ms/step\n",
            "Epoch 139/140\n",
            "249/249 - 4s - loss: 0.2227 - accuracy: 0.9340 - val_loss: 0.2858 - val_accuracy: 0.9432 - 4s/epoch - 18ms/step\n",
            "Epoch 140/140\n",
            "249/249 - 5s - loss: 0.2061 - accuracy: 0.9433 - val_loss: 0.2753 - val_accuracy: 0.9437 - 5s/epoch - 18ms/step\n"
          ]
        }
      ]
    },
    {
      "cell_type": "code",
      "source": [
        "plot_graphs(history_lstm_ros, \"accuracy\")\n",
        "plot_graphs(history_lstm_ros, \"loss\")"
      ],
      "metadata": {
        "colab": {
          "base_uri": "https://localhost:8080/",
          "height": 541
        },
        "id": "cKu2y55vc1Er",
        "outputId": "4b36db32-c6cb-4193-cee0-ebc2642053d9"
      },
      "execution_count": null,
      "outputs": [
        {
          "output_type": "display_data",
          "data": {
            "text/plain": [
              "<Figure size 432x288 with 1 Axes>"
            ],
            "image/png": "[encoded data removed]"
          },
          "metadata": {
            "needs_background": "light"
          }
        },
        {
          "output_type": "display_data",
          "data": {
            "text/plain": [
              "<Figure size 432x288 with 1 Axes>"
            ],
            "image/png": "[encoded data removed]"
          },
          "metadata": {
            "needs_background": "light"
          }
        }
      ]
    },
    {
      "cell_type": "code",
      "source": [
        "pred_prob = model_lstm_ros.predict(X_test_padded)\n",
        "pred_round = [int( i > 0.5) for i in pred_prob]\n",
        "print(len(y_test))\n",
        "print(accuracy_score(pred_round, y_test))"
      ],
      "metadata": {
        "colab": {
          "base_uri": "https://localhost:8080/"
        },
        "id": "WSN2tO2ndKbI",
        "outputId": "ad61a132-1977-45e4-e8f2-d9fc53a6ec12"
      },
      "execution_count": null,
      "outputs": [
        {
          "output_type": "stream",
          "name": "stdout",
          "text": [
            "78/78 [==============================] - 1s 7ms/step\n",
            "2480\n",
            "0.7322580645161291\n"
          ]
        }
      ]
    },
    {
      "cell_type": "markdown",
      "source": [
        "# CNN on Oversampled dataset"
      ],
      "metadata": {
        "id": "SNfCD4k5NqZx"
      }
    },
    {
      "cell_type": "code",
      "source": [
        "model_cnn_ros = conv1d_model((max_text_len,))\n",
        "model_cnn_ros.compile(optimizer=adam,\n",
        "                   loss='binary_crossentropy',\n",
        "                   metrics=['accuracy'])"
      ],
      "metadata": {
        "id": "F19g9tfXiFZN"
      },
      "execution_count": null,
      "outputs": []
    },
    {
      "cell_type": "code",
      "source": [
        "num_epochs = 70\n",
        "history_cnn_ros = model_cnn_ros.fit(X_train_padded_ros,\n",
        "                    y_train_ros,\n",
        "                    epochs=num_epochs,\n",
        "                    validation_split=0.2,\n",
        "                    #callbacks=[earlyStopping, reduce_lr_acc],\n",
        "                    verbose=2)"
      ],
      "metadata": {
        "colab": {
          "base_uri": "https://localhost:8080/"
        },
        "id": "YSI8MYv8iZHh",
        "outputId": "f8052086-bf0d-4450-ed61-43525a0f8bbb"
      },
      "execution_count": null,
      "outputs": [
        {
          "output_type": "stream",
          "name": "stdout",
          "text": [
            "Epoch 1/70\n",
            "249/249 - 2s - loss: 0.6760 - accuracy: 0.6158 - val_loss: 0.8325 - val_accuracy: 0.0146 - 2s/epoch - 10ms/step\n",
            "Epoch 2/70\n",
            "249/249 - 1s - loss: 0.6583 - accuracy: 0.6308 - val_loss: 0.8370 - val_accuracy: 0.0855 - 1s/epoch - 6ms/step\n",
            "Epoch 3/70\n",
            "249/249 - 2s - loss: 0.6429 - accuracy: 0.6415 - val_loss: 0.8049 - val_accuracy: 0.2243 - 2s/epoch - 6ms/step\n",
            "Epoch 4/70\n",
            "249/249 - 1s - loss: 0.6278 - accuracy: 0.6591 - val_loss: 0.8218 - val_accuracy: 0.2475 - 1s/epoch - 6ms/step\n",
            "Epoch 5/70\n",
            "249/249 - 2s - loss: 0.6127 - accuracy: 0.6729 - val_loss: 0.7935 - val_accuracy: 0.3270 - 2s/epoch - 6ms/step\n",
            "Epoch 6/70\n",
            "249/249 - 2s - loss: 0.5988 - accuracy: 0.6847 - val_loss: 0.7614 - val_accuracy: 0.4125 - 2s/epoch - 6ms/step\n",
            "Epoch 7/70\n",
            "249/249 - 2s - loss: 0.5842 - accuracy: 0.6978 - val_loss: 0.6947 - val_accuracy: 0.5226 - 2s/epoch - 6ms/step\n",
            "Epoch 8/70\n",
            "249/249 - 2s - loss: 0.5729 - accuracy: 0.7086 - val_loss: 0.6851 - val_accuracy: 0.5433 - 2s/epoch - 6ms/step\n",
            "Epoch 9/70\n",
            "249/249 - 2s - loss: 0.5567 - accuracy: 0.7237 - val_loss: 0.7031 - val_accuracy: 0.5307 - 2s/epoch - 6ms/step\n",
            "Epoch 10/70\n",
            "249/249 - 2s - loss: 0.5479 - accuracy: 0.7295 - val_loss: 0.6185 - val_accuracy: 0.6293 - 2s/epoch - 6ms/step\n",
            "Epoch 11/70\n",
            "249/249 - 2s - loss: 0.5381 - accuracy: 0.7365 - val_loss: 0.6823 - val_accuracy: 0.5629 - 2s/epoch - 6ms/step\n",
            "Epoch 12/70\n",
            "249/249 - 2s - loss: 0.5291 - accuracy: 0.7399 - val_loss: 0.6414 - val_accuracy: 0.6152 - 2s/epoch - 6ms/step\n",
            "Epoch 13/70\n",
            "249/249 - 1s - loss: 0.5105 - accuracy: 0.7563 - val_loss: 0.6327 - val_accuracy: 0.6298 - 1s/epoch - 6ms/step\n",
            "Epoch 14/70\n",
            "249/249 - 1s - loss: 0.5053 - accuracy: 0.7601 - val_loss: 0.5685 - val_accuracy: 0.7017 - 1s/epoch - 6ms/step\n",
            "Epoch 15/70\n",
            "249/249 - 1s - loss: 0.4973 - accuracy: 0.7647 - val_loss: 0.5961 - val_accuracy: 0.6826 - 1s/epoch - 6ms/step\n",
            "Epoch 16/70\n",
            "249/249 - 2s - loss: 0.4814 - accuracy: 0.7755 - val_loss: 0.5484 - val_accuracy: 0.7248 - 2s/epoch - 6ms/step\n",
            "Epoch 17/70\n",
            "249/249 - 1s - loss: 0.4736 - accuracy: 0.7767 - val_loss: 0.5085 - val_accuracy: 0.7525 - 1s/epoch - 6ms/step\n",
            "Epoch 18/70\n",
            "249/249 - 1s - loss: 0.4618 - accuracy: 0.7875 - val_loss: 0.5413 - val_accuracy: 0.7349 - 1s/epoch - 6ms/step\n",
            "Epoch 19/70\n",
            "249/249 - 1s - loss: 0.4509 - accuracy: 0.7960 - val_loss: 0.5040 - val_accuracy: 0.7621 - 1s/epoch - 6ms/step\n",
            "Epoch 20/70\n",
            "249/249 - 1s - loss: 0.4390 - accuracy: 0.8009 - val_loss: 0.4528 - val_accuracy: 0.7892 - 1s/epoch - 6ms/step\n",
            "Epoch 21/70\n",
            "249/249 - 1s - loss: 0.4242 - accuracy: 0.8109 - val_loss: 0.4307 - val_accuracy: 0.8073 - 1s/epoch - 6ms/step\n",
            "Epoch 22/70\n",
            "249/249 - 1s - loss: 0.4112 - accuracy: 0.8190 - val_loss: 0.4186 - val_accuracy: 0.8109 - 1s/epoch - 6ms/step\n",
            "Epoch 23/70\n",
            "249/249 - 2s - loss: 0.3989 - accuracy: 0.8233 - val_loss: 0.4281 - val_accuracy: 0.8048 - 2s/epoch - 6ms/step\n",
            "Epoch 24/70\n",
            "249/249 - 2s - loss: 0.3880 - accuracy: 0.8334 - val_loss: 0.3880 - val_accuracy: 0.8345 - 2s/epoch - 6ms/step\n",
            "Epoch 25/70\n",
            "249/249 - 1s - loss: 0.3771 - accuracy: 0.8404 - val_loss: 0.3673 - val_accuracy: 0.8481 - 1s/epoch - 6ms/step\n",
            "Epoch 26/70\n",
            "249/249 - 1s - loss: 0.3614 - accuracy: 0.8446 - val_loss: 0.4073 - val_accuracy: 0.8199 - 1s/epoch - 6ms/step\n",
            "Epoch 27/70\n",
            "249/249 - 1s - loss: 0.3471 - accuracy: 0.8570 - val_loss: 0.3610 - val_accuracy: 0.8491 - 1s/epoch - 6ms/step\n",
            "Epoch 28/70\n",
            "249/249 - 1s - loss: 0.3355 - accuracy: 0.8624 - val_loss: 0.3430 - val_accuracy: 0.8677 - 1s/epoch - 6ms/step\n",
            "Epoch 29/70\n",
            "249/249 - 2s - loss: 0.3243 - accuracy: 0.8646 - val_loss: 0.3643 - val_accuracy: 0.8506 - 2s/epoch - 6ms/step\n",
            "Epoch 30/70\n",
            "249/249 - 2s - loss: 0.3085 - accuracy: 0.8763 - val_loss: 0.3090 - val_accuracy: 0.8828 - 2s/epoch - 6ms/step\n",
            "Epoch 31/70\n",
            "249/249 - 2s - loss: 0.2916 - accuracy: 0.8857 - val_loss: 0.2850 - val_accuracy: 0.8974 - 2s/epoch - 6ms/step\n",
            "Epoch 32/70\n",
            "249/249 - 1s - loss: 0.2780 - accuracy: 0.8902 - val_loss: 0.2733 - val_accuracy: 0.9014 - 1s/epoch - 6ms/step\n",
            "Epoch 33/70\n",
            "249/249 - 2s - loss: 0.2679 - accuracy: 0.8944 - val_loss: 0.2235 - val_accuracy: 0.9180 - 2s/epoch - 6ms/step\n",
            "Epoch 34/70\n",
            "249/249 - 2s - loss: 0.2511 - accuracy: 0.9043 - val_loss: 0.2354 - val_accuracy: 0.9190 - 2s/epoch - 6ms/step\n",
            "Epoch 35/70\n",
            "249/249 - 2s - loss: 0.2400 - accuracy: 0.9116 - val_loss: 0.2293 - val_accuracy: 0.9205 - 2s/epoch - 6ms/step\n",
            "Epoch 36/70\n",
            "249/249 - 1s - loss: 0.2261 - accuracy: 0.9194 - val_loss: 0.1977 - val_accuracy: 0.9306 - 1s/epoch - 5ms/step\n",
            "Epoch 37/70\n",
            "249/249 - 1s - loss: 0.2176 - accuracy: 0.9173 - val_loss: 0.1830 - val_accuracy: 0.9351 - 1s/epoch - 6ms/step\n",
            "Epoch 38/70\n",
            "249/249 - 1s - loss: 0.2031 - accuracy: 0.9288 - val_loss: 0.1804 - val_accuracy: 0.9376 - 1s/epoch - 6ms/step\n",
            "Epoch 39/70\n",
            "249/249 - 2s - loss: 0.1863 - accuracy: 0.9367 - val_loss: 0.1531 - val_accuracy: 0.9507 - 2s/epoch - 6ms/step\n",
            "Epoch 40/70\n",
            "249/249 - 2s - loss: 0.1774 - accuracy: 0.9371 - val_loss: 0.1354 - val_accuracy: 0.9547 - 2s/epoch - 6ms/step\n",
            "Epoch 41/70\n",
            "249/249 - 1s - loss: 0.1625 - accuracy: 0.9469 - val_loss: 0.1426 - val_accuracy: 0.9542 - 1s/epoch - 6ms/step\n",
            "Epoch 42/70\n",
            "249/249 - 2s - loss: 0.1545 - accuracy: 0.9496 - val_loss: 0.1094 - val_accuracy: 0.9648 - 2s/epoch - 6ms/step\n",
            "Epoch 43/70\n",
            "249/249 - 2s - loss: 0.1457 - accuracy: 0.9532 - val_loss: 0.0918 - val_accuracy: 0.9678 - 2s/epoch - 6ms/step\n",
            "Epoch 44/70\n",
            "249/249 - 2s - loss: 0.1336 - accuracy: 0.9571 - val_loss: 0.1008 - val_accuracy: 0.9668 - 2s/epoch - 6ms/step\n",
            "Epoch 45/70\n",
            "249/249 - 2s - loss: 0.1253 - accuracy: 0.9608 - val_loss: 0.0921 - val_accuracy: 0.9703 - 2s/epoch - 6ms/step\n",
            "Epoch 46/70\n",
            "249/249 - 1s - loss: 0.1166 - accuracy: 0.9664 - val_loss: 0.0908 - val_accuracy: 0.9723 - 1s/epoch - 6ms/step\n",
            "Epoch 47/70\n",
            "249/249 - 2s - loss: 0.1065 - accuracy: 0.9681 - val_loss: 0.0786 - val_accuracy: 0.9754 - 2s/epoch - 6ms/step\n",
            "Epoch 48/70\n",
            "249/249 - 1s - loss: 0.1025 - accuracy: 0.9699 - val_loss: 0.0616 - val_accuracy: 0.9804 - 1s/epoch - 6ms/step\n",
            "Epoch 49/70\n",
            "249/249 - 2s - loss: 0.0921 - accuracy: 0.9728 - val_loss: 0.0650 - val_accuracy: 0.9784 - 2s/epoch - 6ms/step\n",
            "Epoch 50/70\n",
            "249/249 - 1s - loss: 0.0861 - accuracy: 0.9751 - val_loss: 0.0557 - val_accuracy: 0.9814 - 1s/epoch - 6ms/step\n",
            "Epoch 51/70\n",
            "249/249 - 2s - loss: 0.0796 - accuracy: 0.9776 - val_loss: 0.0476 - val_accuracy: 0.9844 - 2s/epoch - 6ms/step\n",
            "Epoch 52/70\n",
            "249/249 - 1s - loss: 0.0729 - accuracy: 0.9801 - val_loss: 0.0499 - val_accuracy: 0.9824 - 1s/epoch - 6ms/step\n",
            "Epoch 53/70\n",
            "249/249 - 1s - loss: 0.0670 - accuracy: 0.9825 - val_loss: 0.0462 - val_accuracy: 0.9854 - 1s/epoch - 6ms/step\n",
            "Epoch 54/70\n",
            "249/249 - 1s - loss: 0.0648 - accuracy: 0.9820 - val_loss: 0.0396 - val_accuracy: 0.9869 - 1s/epoch - 6ms/step\n",
            "Epoch 55/70\n",
            "249/249 - 2s - loss: 0.0591 - accuracy: 0.9840 - val_loss: 0.0352 - val_accuracy: 0.9869 - 2s/epoch - 6ms/step\n",
            "Epoch 56/70\n",
            "249/249 - 1s - loss: 0.0554 - accuracy: 0.9854 - val_loss: 0.0313 - val_accuracy: 0.9884 - 1s/epoch - 6ms/step\n",
            "Epoch 57/70\n",
            "249/249 - 2s - loss: 0.0528 - accuracy: 0.9859 - val_loss: 0.0258 - val_accuracy: 0.9889 - 2s/epoch - 6ms/step\n",
            "Epoch 58/70\n",
            "249/249 - 1s - loss: 0.0506 - accuracy: 0.9870 - val_loss: 0.0269 - val_accuracy: 0.9889 - 1s/epoch - 6ms/step\n",
            "Epoch 59/70\n",
            "249/249 - 2s - loss: 0.0453 - accuracy: 0.9891 - val_loss: 0.0243 - val_accuracy: 0.9894 - 2s/epoch - 6ms/step\n",
            "Epoch 60/70\n",
            "249/249 - 2s - loss: 0.0425 - accuracy: 0.9897 - val_loss: 0.0230 - val_accuracy: 0.9894 - 2s/epoch - 6ms/step\n",
            "Epoch 61/70\n",
            "249/249 - 1s - loss: 0.0379 - accuracy: 0.9912 - val_loss: 0.0201 - val_accuracy: 0.9909 - 1s/epoch - 6ms/step\n",
            "Epoch 62/70\n",
            "249/249 - 1s - loss: 0.0351 - accuracy: 0.9909 - val_loss: 0.0190 - val_accuracy: 0.9914 - 1s/epoch - 6ms/step\n",
            "Epoch 63/70\n",
            "249/249 - 1s - loss: 0.0358 - accuracy: 0.9904 - val_loss: 0.0231 - val_accuracy: 0.9909 - 1s/epoch - 6ms/step\n",
            "Epoch 64/70\n",
            "249/249 - 2s - loss: 0.0331 - accuracy: 0.9916 - val_loss: 0.0172 - val_accuracy: 0.9914 - 2s/epoch - 6ms/step\n",
            "Epoch 65/70\n",
            "249/249 - 2s - loss: 0.0349 - accuracy: 0.9909 - val_loss: 0.0164 - val_accuracy: 0.9935 - 2s/epoch - 6ms/step\n",
            "Epoch 66/70\n",
            "249/249 - 1s - loss: 0.0299 - accuracy: 0.9925 - val_loss: 0.0164 - val_accuracy: 0.9935 - 1s/epoch - 6ms/step\n",
            "Epoch 67/70\n",
            "249/249 - 2s - loss: 0.0292 - accuracy: 0.9925 - val_loss: 0.0159 - val_accuracy: 0.9925 - 2s/epoch - 6ms/step\n",
            "Epoch 68/70\n",
            "249/249 - 1s - loss: 0.0273 - accuracy: 0.9926 - val_loss: 0.0164 - val_accuracy: 0.9925 - 1s/epoch - 6ms/step\n",
            "Epoch 69/70\n",
            "249/249 - 1s - loss: 0.0262 - accuracy: 0.9930 - val_loss: 0.0153 - val_accuracy: 0.9925 - 1s/epoch - 6ms/step\n",
            "Epoch 70/70\n",
            "249/249 - 1s - loss: 0.0244 - accuracy: 0.9936 - val_loss: 0.0168 - val_accuracy: 0.9920 - 1s/epoch - 6ms/step\n"
          ]
        }
      ]
    },
    {
      "cell_type": "code",
      "source": [
        "plot_graphs(history_cnn_ros, \"accuracy\")\n",
        "plot_graphs(history_cnn_ros, \"loss\")"
      ],
      "metadata": {
        "colab": {
          "base_uri": "https://localhost:8080/",
          "height": 541
        },
        "id": "OIULAY8MieG0",
        "outputId": "34eb72f7-c217-4bac-ad49-937de052061a"
      },
      "execution_count": null,
      "outputs": [
        {
          "output_type": "display_data",
          "data": {
            "text/plain": [
              "<Figure size 432x288 with 1 Axes>"
            ],
            "image/png": "[encoded data removed]"
          },
          "metadata": {
            "needs_background": "light"
          }
        },
        {
          "output_type": "display_data",
          "data": {
            "text/plain": [
              "<Figure size 432x288 with 1 Axes>"
            ],
            "image/png": "[encoded data removed]"
          },
          "metadata": {
            "needs_background": "light"
          }
        }
      ]
    },
    {
      "cell_type": "code",
      "source": [
        "pred_prob = model_cnn_ros.predict(X_test_padded)\n",
        "pred_round = [int( i >= 0.5) for i in pred_prob]\n",
        "print(len(y_test))\n",
        "print(accuracy_score(pred_round, y_test))"
      ],
      "metadata": {
        "colab": {
          "base_uri": "https://localhost:8080/"
        },
        "id": "7svShynUlDJl",
        "outputId": "5a0da8d0-cad8-417a-8408-51bd617d6f19"
      },
      "execution_count": null,
      "outputs": [
        {
          "output_type": "stream",
          "name": "stdout",
          "text": [
            "78/78 [==============================] - 0s 3ms/step\n",
            "2480\n",
            "0.7379032258064516\n"
          ]
        }
      ]
    },
    {
      "cell_type": "markdown",
      "source": [
        "# RCNN on ROS Dataset"
      ],
      "metadata": {
        "id": "DgMlpOBfN0J-"
      }
    },
    {
      "cell_type": "code",
      "source": [
        "model_cnn_lstm_ros = cnn_lstm_model((max_text_len,))\n",
        "model_cnn_lstm_ros.compile(optimizer=adam,\n",
        "                   loss='binary_crossentropy',\n",
        "                   metrics=['accuracy'])"
      ],
      "metadata": {
        "id": "fi9jehfQN-zD"
      },
      "execution_count": null,
      "outputs": []
    },
    {
      "cell_type": "code",
      "source": [
        "num_epochs = 20\n",
        "history_cnn_lstm_ros = model_cnn_lstm_ros.fit(X_train_padded_ros,\n",
        "                    y_train_ros,\n",
        "                    epochs=num_epochs,\n",
        "                    validation_split=0.2,\n",
        "                    #callbacks=[earlyStopping, reduce_lr_acc],\n",
        "                    verbose=2)"
      ],
      "metadata": {
        "colab": {
          "base_uri": "https://localhost:8080/"
        },
        "id": "9m7NSB8oOGja",
        "outputId": "96a5d3a4-d786-455d-cca1-6d76408ab090"
      },
      "execution_count": null,
      "outputs": [
        {
          "output_type": "stream",
          "name": "stdout",
          "text": [
            "Epoch 1/20\n",
            "249/249 - 6s - loss: 0.6122 - accuracy: 0.6754 - val_loss: 0.6276 - val_accuracy: 0.7057 - 6s/epoch - 23ms/step\n",
            "Epoch 2/20\n",
            "249/249 - 2s - loss: 0.5114 - accuracy: 0.7632 - val_loss: 0.6756 - val_accuracy: 0.6801 - 2s/epoch - 8ms/step\n",
            "Epoch 3/20\n",
            "249/249 - 2s - loss: 0.4199 - accuracy: 0.8286 - val_loss: 0.4318 - val_accuracy: 0.8405 - 2s/epoch - 8ms/step\n",
            "Epoch 4/20\n",
            "249/249 - 2s - loss: 0.3073 - accuracy: 0.8908 - val_loss: 0.2984 - val_accuracy: 0.9069 - 2s/epoch - 8ms/step\n",
            "Epoch 5/20\n",
            "249/249 - 2s - loss: 0.1898 - accuracy: 0.9433 - val_loss: 0.2581 - val_accuracy: 0.9059 - 2s/epoch - 8ms/step\n",
            "Epoch 6/20\n",
            "249/249 - 2s - loss: 0.1398 - accuracy: 0.9609 - val_loss: 0.1433 - val_accuracy: 0.9603 - 2s/epoch - 8ms/step\n",
            "Epoch 7/20\n",
            "249/249 - 2s - loss: 0.1030 - accuracy: 0.9751 - val_loss: 0.1073 - val_accuracy: 0.9713 - 2s/epoch - 8ms/step\n",
            "Epoch 8/20\n",
            "249/249 - 2s - loss: 0.0908 - accuracy: 0.9769 - val_loss: 0.0831 - val_accuracy: 0.9774 - 2s/epoch - 8ms/step\n",
            "Epoch 9/20\n",
            "249/249 - 2s - loss: 0.0662 - accuracy: 0.9833 - val_loss: 0.0452 - val_accuracy: 0.9879 - 2s/epoch - 8ms/step\n",
            "Epoch 10/20\n",
            "249/249 - 2s - loss: 0.0540 - accuracy: 0.9868 - val_loss: 0.0533 - val_accuracy: 0.9874 - 2s/epoch - 8ms/step\n",
            "Epoch 11/20\n",
            "249/249 - 2s - loss: 0.0534 - accuracy: 0.9870 - val_loss: 0.0452 - val_accuracy: 0.9874 - 2s/epoch - 8ms/step\n",
            "Epoch 12/20\n",
            "249/249 - 2s - loss: 0.0515 - accuracy: 0.9865 - val_loss: 0.0400 - val_accuracy: 0.9864 - 2s/epoch - 8ms/step\n",
            "Epoch 13/20\n",
            "249/249 - 2s - loss: 0.0570 - accuracy: 0.9850 - val_loss: 0.1252 - val_accuracy: 0.9577 - 2s/epoch - 8ms/step\n",
            "Epoch 14/20\n",
            "249/249 - 2s - loss: 0.0409 - accuracy: 0.9886 - val_loss: 0.0161 - val_accuracy: 0.9914 - 2s/epoch - 8ms/step\n",
            "Epoch 15/20\n",
            "249/249 - 2s - loss: 0.0354 - accuracy: 0.9916 - val_loss: 0.0305 - val_accuracy: 0.9869 - 2s/epoch - 8ms/step\n",
            "Epoch 16/20\n",
            "249/249 - 2s - loss: 0.0332 - accuracy: 0.9917 - val_loss: 0.0198 - val_accuracy: 0.9894 - 2s/epoch - 8ms/step\n",
            "Epoch 17/20\n",
            "249/249 - 2s - loss: 0.0283 - accuracy: 0.9925 - val_loss: 0.0225 - val_accuracy: 0.9884 - 2s/epoch - 8ms/step\n",
            "Epoch 18/20\n",
            "249/249 - 2s - loss: 0.0362 - accuracy: 0.9912 - val_loss: 0.0212 - val_accuracy: 0.9920 - 2s/epoch - 8ms/step\n",
            "Epoch 19/20\n",
            "249/249 - 2s - loss: 0.0298 - accuracy: 0.9928 - val_loss: 0.0157 - val_accuracy: 0.9909 - 2s/epoch - 8ms/step\n",
            "Epoch 20/20\n",
            "249/249 - 2s - loss: 0.0275 - accuracy: 0.9927 - val_loss: 0.0145 - val_accuracy: 0.9935 - 2s/epoch - 8ms/step\n"
          ]
        }
      ]
    },
    {
      "cell_type": "code",
      "source": [
        "plot_graphs(history_cnn_lstm_ros, \"accuracy\")\n",
        "plot_graphs(history_cnn_lstm_ros, \"loss\")"
      ],
      "metadata": {
        "colab": {
          "base_uri": "https://localhost:8080/",
          "height": 543
        },
        "id": "Rs67tx0ROkUr",
        "outputId": "803b2a48-fc62-4f73-8ab0-c75198c67523"
      },
      "execution_count": null,
      "outputs": [
        {
          "output_type": "display_data",
          "data": {
            "text/plain": [
              "<Figure size 432x288 with 1 Axes>"
            ],
            "image/png": "[encoded data removed]"
          },
          "metadata": {
            "needs_background": "light"
          }
        },
        {
          "output_type": "display_data",
          "data": {
            "text/plain": [
              "<Figure size 432x288 with 1 Axes>"
            ],
            "image/png": "[encoded data removed]"
          },
          "metadata": {
            "needs_background": "light"
          }
        }
      ]
    },
    {
      "cell_type": "markdown",
      "source": [
        "# Hypertuning Optimization for LSTM"
      ],
      "metadata": {
        "id": "RlBue102YvJH"
      }
    },
    {
      "cell_type": "code",
      "source": [
        "from scikeras.wrappers import KerasClassifier\n",
        "from sklearn.model_selection import RandomizedSearchCV"
      ],
      "metadata": {
        "id": "cEoPn7zEZupq"
      },
      "execution_count": null,
      "outputs": []
    },
    {
      "cell_type": "code",
      "source": [
        "def create_lstm_model(input_shape, units, rate):\n",
        "\n",
        "  X_indices = Input(input_shape)\n",
        "\n",
        "  embeddings = embedding_layer(X_indices)\n",
        "\n",
        "  X = LSTM(units, return_sequences=True)(embeddings)\n",
        "\n",
        "  X = Dropout(rate)(X)\n",
        "\n",
        "  X = LSTM(units, return_sequences=True)(X)\n",
        "\n",
        "  X = Dropout(rate)(X)\n",
        "\n",
        "  X = LSTM(units)(X)\n",
        "\n",
        "  X = Dense(1, activation='sigmoid')(X)\n",
        "\n",
        "  model = Model(inputs=X_indices, outputs=X)\n",
        "\n",
        "  model.compile(loss=\"binary_crossentropy\",\n",
        "                optimizer=\"Adam\",\n",
        "                metrics=[\"accuracy\"])\n",
        "\n",
        "  return model"
      ],
      "metadata": {
        "id": "tVm2b5YWZFjx"
      },
      "execution_count": null,
      "outputs": []
    },
    {
      "cell_type": "code",
      "source": [
        "model_lstm = KerasClassifier(create_lstm_model,\n",
        "                        epochs=50,\n",
        "                        verbose=1,\n",
        "                        input_shape=(max_text_len,),\n",
        "                        validation_split=0.2,\n",
        "                        callbacks=[earlyStopping]\n",
        "                        )"
      ],
      "metadata": {
        "id": "PgD_xl3ZZx1p"
      },
      "execution_count": null,
      "outputs": []
    },
    {
      "cell_type": "code",
      "source": [
        "# model.fit(X_train_padded, y_train)\n",
        "# y_proba = model.predict_proba(X_train_padded)"
      ],
      "metadata": {
        "id": "xSVDtfLiZwFn"
      },
      "execution_count": null,
      "outputs": []
    },
    {
      "cell_type": "code",
      "source": [
        "param_grid_lstm = dict(\n",
        "    model__units = [256, 128, 64],\n",
        "    model__rate = [0.5, 0.6, 0.7, 0.8]\n",
        ")"
      ],
      "metadata": {
        "id": "jGRiJ6RhHNZb"
      },
      "execution_count": null,
      "outputs": []
    },
    {
      "cell_type": "code",
      "source": [
        "grid_lstm = RandomizedSearchCV(model_lstm, param_grid_lstm, cv=4, verbose=1, n_iter=5, scoring=\"accuracy\")"
      ],
      "metadata": {
        "id": "lKX_sb8Wb73U"
      },
      "execution_count": null,
      "outputs": []
    },
    {
      "cell_type": "code",
      "source": [
        "# X_train_padded = np.array(X_train_padded)\n",
        "# y_train = np.array(y_train)\n",
        "# X_train_padded.shape, y_train.shape"
      ],
      "metadata": {
        "id": "5Euo4V0OmmiQ"
      },
      "execution_count": null,
      "outputs": []
    },
    {
      "cell_type": "code",
      "source": [
        "grid_result_lstm = grid_lstm.fit(X_total_padded, y_total)"
      ],
      "metadata": {
        "colab": {
          "base_uri": "https://localhost:8080/"
        },
        "id": "LOJfekqpcIvG",
        "outputId": "e9442a58-b441-4d52-b351-4c9f016b732e"
      },
      "execution_count": null,
      "outputs": [
        {
          "output_type": "stream",
          "name": "stdout",
          "text": [
            "Fitting 4 folds for each of 5 candidates, totalling 20 fits\n",
            "Epoch 1/50\n",
            "186/186 [==============================] - 13s 47ms/step - loss: 0.6095 - accuracy: 0.6860 - val_loss: 0.5639 - val_accuracy: 0.7036\n",
            "Epoch 2/50\n",
            "186/186 [==============================] - 3s 15ms/step - loss: 0.5405 - accuracy: 0.7383 - val_loss: 0.5477 - val_accuracy: 0.7339\n",
            "Epoch 3/50\n",
            "186/186 [==============================] - 3s 14ms/step - loss: 0.5118 - accuracy: 0.7615 - val_loss: 0.5614 - val_accuracy: 0.7171\n",
            "Epoch 4/50\n",
            "186/186 [==============================] - 3s 14ms/step - loss: 0.4996 - accuracy: 0.7714 - val_loss: 0.5401 - val_accuracy: 0.7332\n",
            "Epoch 5/50\n",
            "186/186 [==============================] - 3s 14ms/step - loss: 0.4758 - accuracy: 0.7860 - val_loss: 0.5636 - val_accuracy: 0.7379\n",
            "Epoch 6/50\n",
            "186/186 [==============================] - 3s 14ms/step - loss: 0.4607 - accuracy: 0.7964 - val_loss: 0.5590 - val_accuracy: 0.7332\n",
            "Epoch 7/50\n",
            "186/186 [==============================] - 3s 14ms/step - loss: 0.4423 - accuracy: 0.8104 - val_loss: 0.5723 - val_accuracy: 0.7386\n",
            "Epoch 8/50\n",
            "186/186 [==============================] - 3s 14ms/step - loss: 0.4100 - accuracy: 0.8339 - val_loss: 0.5970 - val_accuracy: 0.7292\n",
            "Epoch 9/50\n",
            "186/186 [==============================] - 3s 14ms/step - loss: 0.4326 - accuracy: 0.8126 - val_loss: 0.6173 - val_accuracy: 0.7184\n",
            "Epoch 10/50\n",
            "186/186 [==============================] - 3s 14ms/step - loss: 0.3934 - accuracy: 0.8448 - val_loss: 0.6209 - val_accuracy: 0.7063\n",
            "Epoch 11/50\n",
            "186/186 [==============================] - 3s 14ms/step - loss: 0.3647 - accuracy: 0.8595 - val_loss: 0.6041 - val_accuracy: 0.7278\n",
            "Epoch 12/50\n",
            "186/186 [==============================] - 3s 14ms/step - loss: 0.3485 - accuracy: 0.8702 - val_loss: 0.6214 - val_accuracy: 0.7372\n",
            "Epoch 13/50\n",
            "186/186 [==============================] - 3s 14ms/step - loss: 0.3374 - accuracy: 0.8795 - val_loss: 0.6294 - val_accuracy: 0.7352\n",
            "Epoch 14/50\n",
            "186/186 [==============================] - 3s 14ms/step - loss: 0.3195 - accuracy: 0.8880 - val_loss: 0.6761 - val_accuracy: 0.7204\n",
            "Epoch 15/50\n",
            "186/186 [==============================] - 3s 14ms/step - loss: 0.3009 - accuracy: 0.9003 - val_loss: 0.6649 - val_accuracy: 0.7305\n",
            "Epoch 16/50\n",
            "186/186 [==============================] - 3s 14ms/step - loss: 0.2821 - accuracy: 0.9047 - val_loss: 0.7143 - val_accuracy: 0.7050\n",
            "Epoch 17/50\n",
            "186/186 [==============================] - 3s 14ms/step - loss: 0.2772 - accuracy: 0.9104 - val_loss: 0.7333 - val_accuracy: 0.7272\n",
            "78/78 [==============================] - 1s 6ms/step\n",
            "Epoch 1/50\n",
            "186/186 [==============================] - 8s 20ms/step - loss: 0.6131 - accuracy: 0.6620 - val_loss: 0.5851 - val_accuracy: 0.6599\n",
            "Epoch 2/50\n",
            "186/186 [==============================] - 3s 14ms/step - loss: 0.5618 - accuracy: 0.7139 - val_loss: 0.5770 - val_accuracy: 0.6862\n",
            "Epoch 3/50\n",
            "186/186 [==============================] - 3s 14ms/step - loss: 0.5550 - accuracy: 0.7213 - val_loss: 0.5711 - val_accuracy: 0.7204\n",
            "Epoch 4/50\n",
            "186/186 [==============================] - 4s 22ms/step - loss: 0.5604 - accuracy: 0.7109 - val_loss: 0.5650 - val_accuracy: 0.7211\n",
            "Epoch 5/50\n",
            "186/186 [==============================] - 3s 14ms/step - loss: 0.5379 - accuracy: 0.7316 - val_loss: 0.5817 - val_accuracy: 0.7218\n",
            "Epoch 6/50\n",
            "186/186 [==============================] - 3s 14ms/step - loss: 0.5364 - accuracy: 0.7170 - val_loss: 0.6297 - val_accuracy: 0.7070\n",
            "Epoch 7/50\n",
            "186/186 [==============================] - 3s 14ms/step - loss: 0.5857 - accuracy: 0.6918 - val_loss: 0.6203 - val_accuracy: 0.6821\n",
            "Epoch 8/50\n",
            "186/186 [==============================] - 3s 14ms/step - loss: 0.6002 - accuracy: 0.6909 - val_loss: 0.6014 - val_accuracy: 0.6788\n",
            "Epoch 9/50\n",
            "186/186 [==============================] - 3s 14ms/step - loss: 0.5838 - accuracy: 0.6877 - val_loss: 0.5835 - val_accuracy: 0.6593\n",
            "Epoch 10/50\n",
            "186/186 [==============================] - 3s 13ms/step - loss: 0.6211 - accuracy: 0.6524 - val_loss: 0.6175 - val_accuracy: 0.6593\n",
            "Epoch 11/50\n",
            "186/186 [==============================] - 3s 14ms/step - loss: 0.6152 - accuracy: 0.6556 - val_loss: 0.6409 - val_accuracy: 0.6593\n",
            "Epoch 12/50\n",
            "186/186 [==============================] - 3s 14ms/step - loss: 0.6230 - accuracy: 0.6647 - val_loss: 0.6194 - val_accuracy: 0.6593\n",
            "Epoch 13/50\n",
            "186/186 [==============================] - 3s 14ms/step - loss: 0.6186 - accuracy: 0.6647 - val_loss: 0.6188 - val_accuracy: 0.6593\n",
            "Epoch 14/50\n",
            "186/186 [==============================] - 3s 14ms/step - loss: 0.6191 - accuracy: 0.6647 - val_loss: 0.6186 - val_accuracy: 0.6593\n",
            "Epoch 15/50\n",
            "186/186 [==============================] - 3s 14ms/step - loss: 0.6132 - accuracy: 0.6644 - val_loss: 0.5957 - val_accuracy: 0.6593\n",
            "78/78 [==============================] - 1s 6ms/step\n",
            "Epoch 1/50\n",
            "186/186 [==============================] - 8s 20ms/step - loss: 0.5961 - accuracy: 0.6887 - val_loss: 0.5825 - val_accuracy: 0.7198\n",
            "Epoch 2/50\n",
            "186/186 [==============================] - 3s 14ms/step - loss: 0.5314 - accuracy: 0.7449 - val_loss: 0.5475 - val_accuracy: 0.7372\n",
            "Epoch 3/50\n",
            "186/186 [==============================] - 3s 14ms/step - loss: 0.5300 - accuracy: 0.7504 - val_loss: 0.5545 - val_accuracy: 0.7265\n",
            "Epoch 4/50\n",
            "186/186 [==============================] - 3s 14ms/step - loss: 0.4995 - accuracy: 0.7724 - val_loss: 0.5701 - val_accuracy: 0.7278\n",
            "Epoch 5/50\n",
            "186/186 [==============================] - 3s 14ms/step - loss: 0.4997 - accuracy: 0.7703 - val_loss: 0.5618 - val_accuracy: 0.7144\n",
            "Epoch 6/50\n",
            "186/186 [==============================] - 3s 15ms/step - loss: 0.4763 - accuracy: 0.7869 - val_loss: 0.5638 - val_accuracy: 0.7392\n",
            "Epoch 7/50\n",
            "186/186 [==============================] - 3s 14ms/step - loss: 0.4678 - accuracy: 0.7978 - val_loss: 0.5775 - val_accuracy: 0.7231\n",
            "Epoch 8/50\n",
            "186/186 [==============================] - 3s 14ms/step - loss: 0.4546 - accuracy: 0.8067 - val_loss: 0.5981 - val_accuracy: 0.7265\n",
            "Epoch 9/50\n",
            "186/186 [==============================] - 3s 14ms/step - loss: 0.4262 - accuracy: 0.8237 - val_loss: 0.5786 - val_accuracy: 0.7184\n",
            "Epoch 10/50\n",
            "186/186 [==============================] - 3s 14ms/step - loss: 0.4072 - accuracy: 0.8333 - val_loss: 0.5654 - val_accuracy: 0.7332\n",
            "Epoch 11/50\n",
            "186/186 [==============================] - 3s 14ms/step - loss: 0.3897 - accuracy: 0.8435 - val_loss: 0.5358 - val_accuracy: 0.7386\n",
            "Epoch 12/50\n",
            "186/186 [==============================] - 3s 14ms/step - loss: 0.3806 - accuracy: 0.8501 - val_loss: 0.5872 - val_accuracy: 0.7258\n",
            "Epoch 13/50\n",
            "186/186 [==============================] - 3s 14ms/step - loss: 0.3749 - accuracy: 0.8477 - val_loss: 0.7479 - val_accuracy: 0.3468\n",
            "Epoch 14/50\n",
            "186/186 [==============================] - 3s 14ms/step - loss: 0.4470 - accuracy: 0.8020 - val_loss: 0.5792 - val_accuracy: 0.7312\n",
            "Epoch 15/50\n",
            "186/186 [==============================] - 3s 14ms/step - loss: 0.3553 - accuracy: 0.8661 - val_loss: 0.6126 - val_accuracy: 0.7258\n",
            "Epoch 16/50\n",
            "186/186 [==============================] - 3s 14ms/step - loss: 0.3340 - accuracy: 0.8808 - val_loss: 0.6285 - val_accuracy: 0.7399\n",
            "Epoch 17/50\n",
            "186/186 [==============================] - 3s 14ms/step - loss: 0.3090 - accuracy: 0.8955 - val_loss: 0.6776 - val_accuracy: 0.7339\n",
            "Epoch 18/50\n",
            "186/186 [==============================] - 3s 15ms/step - loss: 0.2883 - accuracy: 0.9045 - val_loss: 0.6343 - val_accuracy: 0.7540\n",
            "Epoch 19/50\n",
            "186/186 [==============================] - 3s 14ms/step - loss: 0.2668 - accuracy: 0.9150 - val_loss: 0.6759 - val_accuracy: 0.7399\n",
            "Epoch 20/50\n",
            "186/186 [==============================] - 3s 14ms/step - loss: 0.2616 - accuracy: 0.9207 - val_loss: 0.7151 - val_accuracy: 0.7352\n",
            "Epoch 21/50\n",
            "186/186 [==============================] - 3s 14ms/step - loss: 0.2650 - accuracy: 0.9178 - val_loss: 0.6967 - val_accuracy: 0.7466\n",
            "Epoch 22/50\n",
            "186/186 [==============================] - 3s 14ms/step - loss: 0.2679 - accuracy: 0.9185 - val_loss: 0.6395 - val_accuracy: 0.7440\n",
            "Epoch 23/50\n",
            "186/186 [==============================] - 3s 14ms/step - loss: 0.2420 - accuracy: 0.9284 - val_loss: 0.7395 - val_accuracy: 0.7567\n",
            "Epoch 24/50\n",
            "186/186 [==============================] - 3s 14ms/step - loss: 0.2317 - accuracy: 0.9353 - val_loss: 0.6889 - val_accuracy: 0.7473\n",
            "Epoch 25/50\n",
            "186/186 [==============================] - 3s 14ms/step - loss: 0.2524 - accuracy: 0.9240 - val_loss: 0.7264 - val_accuracy: 0.7507\n",
            "Epoch 26/50\n",
            "186/186 [==============================] - 3s 14ms/step - loss: 0.2471 - accuracy: 0.9272 - val_loss: 0.7006 - val_accuracy: 0.7520\n",
            "Epoch 27/50\n",
            "186/186 [==============================] - 3s 14ms/step - loss: 0.2227 - accuracy: 0.9390 - val_loss: 0.7336 - val_accuracy: 0.7258\n",
            "Epoch 28/50\n",
            "186/186 [==============================] - 3s 14ms/step - loss: 0.2325 - accuracy: 0.9331 - val_loss: 0.7051 - val_accuracy: 0.6983\n",
            "Epoch 29/50\n",
            "186/186 [==============================] - 3s 15ms/step - loss: 0.2550 - accuracy: 0.9213 - val_loss: 0.6546 - val_accuracy: 0.7601\n",
            "Epoch 30/50\n",
            "186/186 [==============================] - 3s 14ms/step - loss: 0.2246 - accuracy: 0.9370 - val_loss: 0.7460 - val_accuracy: 0.7386\n",
            "Epoch 31/50\n",
            "186/186 [==============================] - 3s 14ms/step - loss: 0.2149 - accuracy: 0.9405 - val_loss: 0.7183 - val_accuracy: 0.7392\n",
            "Epoch 32/50\n",
            "186/186 [==============================] - 3s 14ms/step - loss: 0.2231 - accuracy: 0.9361 - val_loss: 0.6680 - val_accuracy: 0.7392\n",
            "Epoch 33/50\n",
            "186/186 [==============================] - 3s 14ms/step - loss: 0.2041 - accuracy: 0.9449 - val_loss: 0.7666 - val_accuracy: 0.7345\n",
            "Epoch 34/50\n",
            "186/186 [==============================] - 3s 14ms/step - loss: 0.2194 - accuracy: 0.9380 - val_loss: 0.7329 - val_accuracy: 0.7460\n",
            "Epoch 35/50\n",
            "186/186 [==============================] - 3s 14ms/step - loss: 0.2205 - accuracy: 0.9370 - val_loss: 0.7233 - val_accuracy: 0.7440\n",
            "Epoch 36/50\n",
            "186/186 [==============================] - 3s 14ms/step - loss: 0.2042 - accuracy: 0.9457 - val_loss: 0.7673 - val_accuracy: 0.7406\n",
            "Epoch 37/50\n",
            "186/186 [==============================] - 3s 14ms/step - loss: 0.1999 - accuracy: 0.9469 - val_loss: 0.7944 - val_accuracy: 0.7392\n",
            "Epoch 38/50\n",
            "186/186 [==============================] - 3s 14ms/step - loss: 0.1979 - accuracy: 0.9487 - val_loss: 0.7242 - val_accuracy: 0.7608\n",
            "Epoch 39/50\n",
            "186/186 [==============================] - 3s 14ms/step - loss: 0.1988 - accuracy: 0.9467 - val_loss: 0.7352 - val_accuracy: 0.7560\n",
            "Epoch 40/50\n",
            "186/186 [==============================] - 3s 14ms/step - loss: 0.1933 - accuracy: 0.9506 - val_loss: 0.7753 - val_accuracy: 0.7527\n",
            "Epoch 41/50\n",
            "186/186 [==============================] - 3s 14ms/step - loss: 0.1950 - accuracy: 0.9501 - val_loss: 0.7374 - val_accuracy: 0.7433\n",
            "Epoch 42/50\n",
            "186/186 [==============================] - 3s 14ms/step - loss: 0.2074 - accuracy: 0.9435 - val_loss: 0.7655 - val_accuracy: 0.7413\n",
            "Epoch 43/50\n",
            "186/186 [==============================] - 3s 14ms/step - loss: 0.2256 - accuracy: 0.9380 - val_loss: 0.7313 - val_accuracy: 0.7433\n",
            "Epoch 44/50\n",
            "186/186 [==============================] - 3s 14ms/step - loss: 0.2213 - accuracy: 0.9363 - val_loss: 0.7649 - val_accuracy: 0.7534\n",
            "Epoch 45/50\n",
            "186/186 [==============================] - 3s 14ms/step - loss: 0.1972 - accuracy: 0.9469 - val_loss: 0.7557 - val_accuracy: 0.7513\n",
            "Epoch 46/50\n",
            "186/186 [==============================] - 3s 14ms/step - loss: 0.1915 - accuracy: 0.9497 - val_loss: 0.8145 - val_accuracy: 0.7433\n",
            "Epoch 47/50\n",
            "186/186 [==============================] - 3s 14ms/step - loss: 0.1957 - accuracy: 0.9471 - val_loss: 0.7785 - val_accuracy: 0.7453\n",
            "Epoch 48/50\n",
            "186/186 [==============================] - 4s 19ms/step - loss: 0.1850 - accuracy: 0.9518 - val_loss: 0.7630 - val_accuracy: 0.7527\n",
            "78/78 [==============================] - 2s 9ms/step\n",
            "Epoch 1/50\n",
            "186/186 [==============================] - 8s 21ms/step - loss: 0.5814 - accuracy: 0.7050 - val_loss: 0.5400 - val_accuracy: 0.7285\n",
            "Epoch 2/50\n",
            "186/186 [==============================] - 3s 14ms/step - loss: 0.5324 - accuracy: 0.7415 - val_loss: 0.5399 - val_accuracy: 0.7413\n",
            "Epoch 3/50\n",
            "186/186 [==============================] - 3s 14ms/step - loss: 0.5047 - accuracy: 0.7637 - val_loss: 0.5310 - val_accuracy: 0.7399\n",
            "Epoch 4/50\n",
            "186/186 [==============================] - 3s 14ms/step - loss: 0.5057 - accuracy: 0.7676 - val_loss: 0.5571 - val_accuracy: 0.7312\n",
            "Epoch 5/50\n",
            "186/186 [==============================] - 3s 14ms/step - loss: 0.4843 - accuracy: 0.7812 - val_loss: 0.5323 - val_accuracy: 0.7332\n",
            "Epoch 6/50\n",
            "186/186 [==============================] - 3s 14ms/step - loss: 0.4640 - accuracy: 0.7968 - val_loss: 0.5424 - val_accuracy: 0.7339\n",
            "Epoch 7/50\n",
            "186/186 [==============================] - 3s 14ms/step - loss: 0.4373 - accuracy: 0.8129 - val_loss: 0.5403 - val_accuracy: 0.7399\n",
            "Epoch 8/50\n",
            "186/186 [==============================] - 3s 14ms/step - loss: 0.4268 - accuracy: 0.8220 - val_loss: 0.5529 - val_accuracy: 0.7399\n",
            "Epoch 9/50\n",
            "186/186 [==============================] - 3s 14ms/step - loss: 0.4023 - accuracy: 0.8326 - val_loss: 0.5854 - val_accuracy: 0.7339\n",
            "Epoch 10/50\n",
            "186/186 [==============================] - 3s 14ms/step - loss: 0.3672 - accuracy: 0.8571 - val_loss: 0.6107 - val_accuracy: 0.7224\n",
            "Epoch 11/50\n",
            "186/186 [==============================] - 3s 14ms/step - loss: 0.3695 - accuracy: 0.8587 - val_loss: 0.6236 - val_accuracy: 0.7298\n",
            "Epoch 12/50\n",
            "186/186 [==============================] - 3s 15ms/step - loss: 0.3383 - accuracy: 0.8741 - val_loss: 0.6235 - val_accuracy: 0.7419\n",
            "Epoch 13/50\n",
            "186/186 [==============================] - 3s 15ms/step - loss: 0.3127 - accuracy: 0.8913 - val_loss: 0.6011 - val_accuracy: 0.7379\n",
            "Epoch 14/50\n",
            "186/186 [==============================] - 3s 14ms/step - loss: 0.2851 - accuracy: 0.9050 - val_loss: 0.6476 - val_accuracy: 0.7211\n",
            "Epoch 15/50\n",
            "186/186 [==============================] - 3s 14ms/step - loss: 0.2792 - accuracy: 0.9096 - val_loss: 0.7137 - val_accuracy: 0.6969\n",
            "Epoch 16/50\n",
            "186/186 [==============================] - 3s 14ms/step - loss: 0.2612 - accuracy: 0.9180 - val_loss: 0.7127 - val_accuracy: 0.7433\n",
            "Epoch 17/50\n",
            "186/186 [==============================] - 3s 14ms/step - loss: 0.2746 - accuracy: 0.9104 - val_loss: 0.6085 - val_accuracy: 0.7352\n",
            "Epoch 18/50\n",
            "186/186 [==============================] - 3s 14ms/step - loss: 0.2649 - accuracy: 0.9151 - val_loss: 0.6736 - val_accuracy: 0.7460\n",
            "Epoch 19/50\n",
            "186/186 [==============================] - 3s 14ms/step - loss: 0.2512 - accuracy: 0.9217 - val_loss: 0.7266 - val_accuracy: 0.7278\n",
            "Epoch 20/50\n",
            "186/186 [==============================] - 3s 14ms/step - loss: 0.2634 - accuracy: 0.9128 - val_loss: 0.6602 - val_accuracy: 0.7379\n",
            "Epoch 21/50\n",
            "186/186 [==============================] - 3s 14ms/step - loss: 0.2250 - accuracy: 0.9309 - val_loss: 0.7189 - val_accuracy: 0.7399\n",
            "Epoch 22/50\n",
            "186/186 [==============================] - 3s 14ms/step - loss: 0.2118 - accuracy: 0.9398 - val_loss: 0.7405 - val_accuracy: 0.7379\n",
            "Epoch 23/50\n",
            "186/186 [==============================] - 3s 14ms/step - loss: 0.2061 - accuracy: 0.9418 - val_loss: 0.7840 - val_accuracy: 0.7406\n",
            "Epoch 24/50\n",
            "186/186 [==============================] - 3s 15ms/step - loss: 0.2109 - accuracy: 0.9385 - val_loss: 0.6972 - val_accuracy: 0.7265\n",
            "Epoch 25/50\n",
            "186/186 [==============================] - 3s 14ms/step - loss: 0.2270 - accuracy: 0.9309 - val_loss: 0.7789 - val_accuracy: 0.7359\n",
            "Epoch 26/50\n",
            "186/186 [==============================] - 3s 14ms/step - loss: 0.1952 - accuracy: 0.9481 - val_loss: 0.8230 - val_accuracy: 0.7392\n",
            "Epoch 27/50\n",
            "186/186 [==============================] - 3s 14ms/step - loss: 0.2138 - accuracy: 0.9393 - val_loss: 0.8076 - val_accuracy: 0.7319\n",
            "Epoch 28/50\n",
            "186/186 [==============================] - 3s 14ms/step - loss: 0.2009 - accuracy: 0.9435 - val_loss: 0.7643 - val_accuracy: 0.7352\n",
            "78/78 [==============================] - 2s 6ms/step\n",
            "Epoch 1/50\n",
            "186/186 [==============================] - 9s 24ms/step - loss: 0.6429 - accuracy: 0.6646 - val_loss: 0.6416 - val_accuracy: 0.6593\n",
            "Epoch 2/50\n",
            "186/186 [==============================] - 3s 18ms/step - loss: 0.6413 - accuracy: 0.6652 - val_loss: 0.6416 - val_accuracy: 0.6593\n",
            "Epoch 3/50\n",
            "186/186 [==============================] - 3s 18ms/step - loss: 0.6371 - accuracy: 0.6645 - val_loss: 0.6427 - val_accuracy: 0.6593\n",
            "Epoch 4/50\n",
            "186/186 [==============================] - 3s 18ms/step - loss: 0.6352 - accuracy: 0.6646 - val_loss: 0.6245 - val_accuracy: 0.6593\n",
            "Epoch 5/50\n",
            "186/186 [==============================] - 3s 18ms/step - loss: 0.6306 - accuracy: 0.6646 - val_loss: 0.6260 - val_accuracy: 0.6593\n",
            "Epoch 6/50\n",
            "186/186 [==============================] - 3s 18ms/step - loss: 0.6284 - accuracy: 0.6646 - val_loss: 0.6270 - val_accuracy: 0.6593\n",
            "Epoch 7/50\n",
            "186/186 [==============================] - 3s 18ms/step - loss: 0.6286 - accuracy: 0.6646 - val_loss: 0.6245 - val_accuracy: 0.6593\n",
            "Epoch 8/50\n",
            "186/186 [==============================] - 3s 18ms/step - loss: 0.6288 - accuracy: 0.6646 - val_loss: 0.6242 - val_accuracy: 0.6593\n",
            "Epoch 9/50\n",
            "186/186 [==============================] - 3s 18ms/step - loss: 0.6260 - accuracy: 0.6646 - val_loss: 0.6138 - val_accuracy: 0.6593\n",
            "Epoch 10/50\n",
            "186/186 [==============================] - 3s 18ms/step - loss: 0.6199 - accuracy: 0.6646 - val_loss: 0.6139 - val_accuracy: 0.6593\n",
            "Epoch 11/50\n",
            "186/186 [==============================] - 3s 18ms/step - loss: 0.6201 - accuracy: 0.6646 - val_loss: 0.6144 - val_accuracy: 0.6593\n",
            "78/78 [==============================] - 2s 7ms/step\n",
            "Epoch 1/50\n",
            "186/186 [==============================] - 9s 24ms/step - loss: 0.6370 - accuracy: 0.6610 - val_loss: 0.6418 - val_accuracy: 0.6593\n",
            "Epoch 2/50\n",
            "186/186 [==============================] - 3s 18ms/step - loss: 0.6415 - accuracy: 0.6647 - val_loss: 0.6416 - val_accuracy: 0.6593\n",
            "Epoch 3/50\n",
            "186/186 [==============================] - 3s 18ms/step - loss: 0.6403 - accuracy: 0.6647 - val_loss: 0.6466 - val_accuracy: 0.6593\n",
            "Epoch 4/50\n",
            "186/186 [==============================] - 3s 18ms/step - loss: 0.6398 - accuracy: 0.6647 - val_loss: 0.6418 - val_accuracy: 0.6593\n",
            "Epoch 5/50\n",
            "186/186 [==============================] - 3s 18ms/step - loss: 0.6400 - accuracy: 0.6647 - val_loss: 0.6418 - val_accuracy: 0.6593\n",
            "Epoch 6/50\n",
            "186/186 [==============================] - 3s 18ms/step - loss: 0.6394 - accuracy: 0.6647 - val_loss: 0.6417 - val_accuracy: 0.6593\n",
            "Epoch 7/50\n",
            "186/186 [==============================] - 3s 19ms/step - loss: 0.6389 - accuracy: 0.6647 - val_loss: 0.6419 - val_accuracy: 0.6593\n",
            "Epoch 8/50\n",
            "186/186 [==============================] - 3s 18ms/step - loss: 0.6383 - accuracy: 0.6647 - val_loss: 0.6418 - val_accuracy: 0.6593\n",
            "Epoch 9/50\n",
            "186/186 [==============================] - 3s 18ms/step - loss: 0.6389 - accuracy: 0.6647 - val_loss: 0.6420 - val_accuracy: 0.6593\n",
            "Epoch 10/50\n",
            "186/186 [==============================] - 3s 18ms/step - loss: 0.6389 - accuracy: 0.6647 - val_loss: 0.6415 - val_accuracy: 0.6593\n",
            "Epoch 11/50\n",
            "186/186 [==============================] - 3s 18ms/step - loss: 0.6378 - accuracy: 0.6647 - val_loss: 0.6420 - val_accuracy: 0.6593\n",
            "78/78 [==============================] - 2s 7ms/step\n",
            "Epoch 1/50\n",
            "186/186 [==============================] - 9s 24ms/step - loss: 0.6113 - accuracy: 0.6706 - val_loss: 0.6356 - val_accuracy: 0.6801\n",
            "Epoch 2/50\n",
            "186/186 [==============================] - 3s 18ms/step - loss: 0.5795 - accuracy: 0.7158 - val_loss: 0.5588 - val_accuracy: 0.7332\n",
            "Epoch 3/50\n",
            "186/186 [==============================] - 3s 18ms/step - loss: 0.5976 - accuracy: 0.6818 - val_loss: 0.6408 - val_accuracy: 0.6418\n",
            "Epoch 4/50\n",
            "186/186 [==============================] - 3s 18ms/step - loss: 0.5744 - accuracy: 0.6874 - val_loss: 0.5742 - val_accuracy: 0.6586\n",
            "Epoch 5/50\n",
            "186/186 [==============================] - 4s 20ms/step - loss: 0.5740 - accuracy: 0.7000 - val_loss: 0.6046 - val_accuracy: 0.7103\n",
            "Epoch 6/50\n",
            "186/186 [==============================] - 3s 18ms/step - loss: 0.6381 - accuracy: 0.6674 - val_loss: 0.6467 - val_accuracy: 0.6613\n",
            "Epoch 7/50\n",
            "186/186 [==============================] - 3s 18ms/step - loss: 0.6390 - accuracy: 0.6662 - val_loss: 0.6413 - val_accuracy: 0.6613\n",
            "Epoch 8/50\n",
            "186/186 [==============================] - 3s 18ms/step - loss: 0.6372 - accuracy: 0.6666 - val_loss: 0.6419 - val_accuracy: 0.6620\n",
            "Epoch 9/50\n",
            "186/186 [==============================] - 3s 18ms/step - loss: 0.6375 - accuracy: 0.6659 - val_loss: 0.6426 - val_accuracy: 0.6613\n",
            "Epoch 10/50\n",
            "186/186 [==============================] - 3s 19ms/step - loss: 0.6377 - accuracy: 0.6672 - val_loss: 0.6404 - val_accuracy: 0.6613\n",
            "Epoch 11/50\n",
            "186/186 [==============================] - 3s 18ms/step - loss: 0.6363 - accuracy: 0.6667 - val_loss: 0.6417 - val_accuracy: 0.6613\n",
            "Epoch 12/50\n",
            "186/186 [==============================] - 3s 18ms/step - loss: 0.6382 - accuracy: 0.6667 - val_loss: 0.6418 - val_accuracy: 0.6613\n",
            "78/78 [==============================] - 1s 7ms/step\n",
            "Epoch 1/50\n",
            "186/186 [==============================] - 9s 24ms/step - loss: 0.6398 - accuracy: 0.6689 - val_loss: 0.6496 - val_accuracy: 0.6465\n",
            "Epoch 2/50\n",
            "186/186 [==============================] - 3s 18ms/step - loss: 0.6382 - accuracy: 0.6679 - val_loss: 0.6526 - val_accuracy: 0.6465\n",
            "Epoch 3/50\n",
            "186/186 [==============================] - 3s 18ms/step - loss: 0.6368 - accuracy: 0.6686 - val_loss: 0.6514 - val_accuracy: 0.6465\n",
            "Epoch 4/50\n",
            "186/186 [==============================] - 3s 19ms/step - loss: 0.6373 - accuracy: 0.6679 - val_loss: 0.6500 - val_accuracy: 0.6465\n",
            "Epoch 5/50\n",
            "186/186 [==============================] - 3s 18ms/step - loss: 0.6364 - accuracy: 0.6679 - val_loss: 0.6515 - val_accuracy: 0.6465\n",
            "Epoch 6/50\n",
            "186/186 [==============================] - 3s 18ms/step - loss: 0.6336 - accuracy: 0.6669 - val_loss: 0.6485 - val_accuracy: 0.6465\n",
            "Epoch 7/50\n",
            "186/186 [==============================] - 3s 18ms/step - loss: 0.6364 - accuracy: 0.6692 - val_loss: 0.6509 - val_accuracy: 0.6465\n",
            "Epoch 8/50\n",
            "186/186 [==============================] - 3s 18ms/step - loss: 0.6370 - accuracy: 0.6676 - val_loss: 0.6496 - val_accuracy: 0.6465\n",
            "Epoch 9/50\n",
            "186/186 [==============================] - 5s 25ms/step - loss: 0.6374 - accuracy: 0.6679 - val_loss: 0.6688 - val_accuracy: 0.6465\n",
            "Epoch 10/50\n",
            "186/186 [==============================] - 5s 26ms/step - loss: 0.6334 - accuracy: 0.6679 - val_loss: 0.6552 - val_accuracy: 0.6465\n",
            "Epoch 11/50\n",
            "186/186 [==============================] - 4s 19ms/step - loss: 0.6368 - accuracy: 0.6679 - val_loss: 0.6501 - val_accuracy: 0.6465\n",
            "78/78 [==============================] - 2s 7ms/step\n",
            "Epoch 1/50\n",
            "186/186 [==============================] - 9s 24ms/step - loss: 0.6151 - accuracy: 0.6720 - val_loss: 0.6186 - val_accuracy: 0.6593\n",
            "Epoch 2/50\n",
            "186/186 [==============================] - 3s 18ms/step - loss: 0.6213 - accuracy: 0.6620 - val_loss: 0.6152 - val_accuracy: 0.6593\n",
            "Epoch 3/50\n",
            "186/186 [==============================] - 3s 19ms/step - loss: 0.6120 - accuracy: 0.6643 - val_loss: 0.6180 - val_accuracy: 0.6593\n",
            "Epoch 4/50\n",
            "186/186 [==============================] - 3s 18ms/step - loss: 0.6195 - accuracy: 0.6640 - val_loss: 0.6459 - val_accuracy: 0.6593\n",
            "Epoch 5/50\n",
            "186/186 [==============================] - 3s 19ms/step - loss: 0.6357 - accuracy: 0.6640 - val_loss: 0.6388 - val_accuracy: 0.6593\n",
            "Epoch 6/50\n",
            "186/186 [==============================] - 3s 18ms/step - loss: 0.6349 - accuracy: 0.6646 - val_loss: 0.6393 - val_accuracy: 0.6593\n",
            "Epoch 7/50\n",
            "186/186 [==============================] - 3s 18ms/step - loss: 0.6337 - accuracy: 0.6650 - val_loss: 0.6388 - val_accuracy: 0.6593\n",
            "Epoch 8/50\n",
            "186/186 [==============================] - 3s 18ms/step - loss: 0.6334 - accuracy: 0.6648 - val_loss: 0.6390 - val_accuracy: 0.6593\n",
            "Epoch 9/50\n",
            "186/186 [==============================] - 3s 18ms/step - loss: 0.6343 - accuracy: 0.6646 - val_loss: 0.6398 - val_accuracy: 0.6593\n",
            "Epoch 10/50\n",
            "186/186 [==============================] - 3s 19ms/step - loss: 0.6348 - accuracy: 0.6646 - val_loss: 0.6401 - val_accuracy: 0.6593\n",
            "Epoch 11/50\n",
            "186/186 [==============================] - 3s 18ms/step - loss: 0.6349 - accuracy: 0.6646 - val_loss: 0.6402 - val_accuracy: 0.6593\n",
            "78/78 [==============================] - 2s 7ms/step\n",
            "Epoch 1/50\n",
            "186/186 [==============================] - 9s 24ms/step - loss: 0.5882 - accuracy: 0.7047 - val_loss: 0.5706 - val_accuracy: 0.7372\n",
            "Epoch 2/50\n",
            "186/186 [==============================] - 3s 18ms/step - loss: 0.5433 - accuracy: 0.7412 - val_loss: 0.6017 - val_accuracy: 0.6794\n",
            "Epoch 3/50\n",
            "186/186 [==============================] - 3s 19ms/step - loss: 0.5219 - accuracy: 0.7469 - val_loss: 0.5569 - val_accuracy: 0.6983\n",
            "Epoch 4/50\n",
            "186/186 [==============================] - 3s 18ms/step - loss: 0.5435 - accuracy: 0.7361 - val_loss: 0.5539 - val_accuracy: 0.7359\n",
            "Epoch 5/50\n",
            "186/186 [==============================] - 3s 18ms/step - loss: 0.5121 - accuracy: 0.7566 - val_loss: 0.5867 - val_accuracy: 0.6344\n",
            "Epoch 6/50\n",
            "186/186 [==============================] - 3s 18ms/step - loss: 0.6123 - accuracy: 0.6620 - val_loss: 0.6183 - val_accuracy: 0.6593\n",
            "Epoch 7/50\n",
            "186/186 [==============================] - 3s 18ms/step - loss: 0.5996 - accuracy: 0.6642 - val_loss: 0.6190 - val_accuracy: 0.6593\n",
            "Epoch 8/50\n",
            "186/186 [==============================] - 3s 19ms/step - loss: 0.6368 - accuracy: 0.6647 - val_loss: 0.6383 - val_accuracy: 0.6593\n",
            "Epoch 9/50\n",
            "186/186 [==============================] - 4s 19ms/step - loss: 0.6341 - accuracy: 0.6647 - val_loss: 0.6391 - val_accuracy: 0.6593\n",
            "Epoch 10/50\n",
            "186/186 [==============================] - 3s 18ms/step - loss: 0.6340 - accuracy: 0.6647 - val_loss: 0.6391 - val_accuracy: 0.6593\n",
            "Epoch 11/50\n",
            "186/186 [==============================] - 3s 18ms/step - loss: 0.6345 - accuracy: 0.6647 - val_loss: 0.6403 - val_accuracy: 0.6593\n",
            "78/78 [==============================] - 1s 6ms/step\n",
            "Epoch 1/50\n",
            "186/186 [==============================] - 9s 24ms/step - loss: 0.6225 - accuracy: 0.6830 - val_loss: 0.6440 - val_accuracy: 0.6599\n",
            "Epoch 2/50\n",
            "186/186 [==============================] - 3s 18ms/step - loss: 0.5992 - accuracy: 0.7074 - val_loss: 0.6050 - val_accuracy: 0.6915\n",
            "Epoch 3/50\n",
            "186/186 [==============================] - 3s 18ms/step - loss: 0.5353 - accuracy: 0.7464 - val_loss: 0.5513 - val_accuracy: 0.7352\n",
            "Epoch 4/50\n",
            "186/186 [==============================] - 3s 18ms/step - loss: 0.5184 - accuracy: 0.7593 - val_loss: 0.5767 - val_accuracy: 0.7332\n",
            "Epoch 5/50\n",
            "186/186 [==============================] - 3s 19ms/step - loss: 0.5059 - accuracy: 0.7748 - val_loss: 0.5487 - val_accuracy: 0.7399\n",
            "Epoch 6/50\n",
            "186/186 [==============================] - 3s 18ms/step - loss: 0.4813 - accuracy: 0.7834 - val_loss: 0.5636 - val_accuracy: 0.7231\n",
            "Epoch 7/50\n",
            "186/186 [==============================] - 3s 18ms/step - loss: 0.4553 - accuracy: 0.7998 - val_loss: 0.5972 - val_accuracy: 0.6781\n",
            "Epoch 8/50\n",
            "186/186 [==============================] - 3s 18ms/step - loss: 0.4464 - accuracy: 0.8121 - val_loss: 0.5618 - val_accuracy: 0.7527\n",
            "Epoch 9/50\n",
            "186/186 [==============================] - 3s 19ms/step - loss: 0.4225 - accuracy: 0.8304 - val_loss: 0.5580 - val_accuracy: 0.7419\n",
            "Epoch 10/50\n",
            "186/186 [==============================] - 3s 18ms/step - loss: 0.3913 - accuracy: 0.8461 - val_loss: 0.5682 - val_accuracy: 0.7245\n",
            "Epoch 11/50\n",
            "186/186 [==============================] - 3s 18ms/step - loss: 0.3763 - accuracy: 0.8550 - val_loss: 0.5617 - val_accuracy: 0.7191\n",
            "Epoch 12/50\n",
            "186/186 [==============================] - 3s 18ms/step - loss: 0.4000 - accuracy: 0.8329 - val_loss: 0.6020 - val_accuracy: 0.7325\n",
            "Epoch 13/50\n",
            "186/186 [==============================] - 3s 18ms/step - loss: 0.3611 - accuracy: 0.8655 - val_loss: 0.6076 - val_accuracy: 0.7386\n",
            "Epoch 14/50\n",
            "186/186 [==============================] - 3s 18ms/step - loss: 0.3470 - accuracy: 0.8765 - val_loss: 0.6348 - val_accuracy: 0.7392\n",
            "Epoch 15/50\n",
            "186/186 [==============================] - 3s 18ms/step - loss: 0.3508 - accuracy: 0.8729 - val_loss: 0.5827 - val_accuracy: 0.7433\n",
            "Epoch 16/50\n",
            "186/186 [==============================] - 3s 18ms/step - loss: 0.3046 - accuracy: 0.8970 - val_loss: 0.6110 - val_accuracy: 0.7426\n",
            "Epoch 17/50\n",
            "186/186 [==============================] - 3s 18ms/step - loss: 0.3164 - accuracy: 0.8906 - val_loss: 0.6515 - val_accuracy: 0.7460\n",
            "Epoch 18/50\n",
            "186/186 [==============================] - 3s 18ms/step - loss: 0.2833 - accuracy: 0.9091 - val_loss: 0.6786 - val_accuracy: 0.7507\n",
            "78/78 [==============================] - 2s 7ms/step\n",
            "Epoch 1/50\n",
            "186/186 [==============================] - 9s 24ms/step - loss: 0.6407 - accuracy: 0.6629 - val_loss: 0.6556 - val_accuracy: 0.6465\n",
            "Epoch 2/50\n",
            "186/186 [==============================] - 3s 19ms/step - loss: 0.6220 - accuracy: 0.6676 - val_loss: 0.6266 - val_accuracy: 0.6465\n",
            "Epoch 3/50\n",
            "186/186 [==============================] - 3s 18ms/step - loss: 0.6292 - accuracy: 0.6681 - val_loss: 0.6557 - val_accuracy: 0.6465\n",
            "Epoch 4/50\n",
            "186/186 [==============================] - 3s 18ms/step - loss: 0.6309 - accuracy: 0.6679 - val_loss: 0.6448 - val_accuracy: 0.6465\n",
            "Epoch 5/50\n",
            "186/186 [==============================] - 3s 18ms/step - loss: 0.6293 - accuracy: 0.6679 - val_loss: 0.6483 - val_accuracy: 0.6465\n",
            "Epoch 6/50\n",
            "186/186 [==============================] - 3s 18ms/step - loss: 0.6286 - accuracy: 0.6679 - val_loss: 0.6453 - val_accuracy: 0.6465\n",
            "Epoch 7/50\n",
            "186/186 [==============================] - 3s 18ms/step - loss: 0.6288 - accuracy: 0.6679 - val_loss: 0.6459 - val_accuracy: 0.6465\n",
            "Epoch 8/50\n",
            "186/186 [==============================] - 3s 18ms/step - loss: 0.6286 - accuracy: 0.6679 - val_loss: 0.6433 - val_accuracy: 0.6465\n",
            "Epoch 9/50\n",
            "186/186 [==============================] - 3s 19ms/step - loss: 0.6280 - accuracy: 0.6679 - val_loss: 0.6438 - val_accuracy: 0.6465\n",
            "Epoch 10/50\n",
            "186/186 [==============================] - 3s 18ms/step - loss: 0.6283 - accuracy: 0.6679 - val_loss: 0.6441 - val_accuracy: 0.6465\n",
            "Epoch 11/50\n",
            "186/186 [==============================] - 4s 19ms/step - loss: 0.6275 - accuracy: 0.6679 - val_loss: 0.6433 - val_accuracy: 0.6465\n",
            "78/78 [==============================] - 2s 8ms/step\n",
            "Epoch 1/50\n",
            "186/186 [==============================] - 11s 32ms/step - loss: 0.6311 - accuracy: 0.6645 - val_loss: 0.5883 - val_accuracy: 0.6922\n",
            "Epoch 2/50\n",
            "186/186 [==============================] - 5s 25ms/step - loss: 0.5798 - accuracy: 0.7100 - val_loss: 0.5715 - val_accuracy: 0.7097\n",
            "Epoch 3/50\n",
            "186/186 [==============================] - 4s 19ms/step - loss: 0.5415 - accuracy: 0.7389 - val_loss: 0.5647 - val_accuracy: 0.7292\n",
            "Epoch 4/50\n",
            "186/186 [==============================] - 3s 19ms/step - loss: 0.5175 - accuracy: 0.7605 - val_loss: 0.5401 - val_accuracy: 0.7500\n",
            "Epoch 5/50\n",
            "186/186 [==============================] - 4s 19ms/step - loss: 0.5082 - accuracy: 0.7724 - val_loss: 0.5583 - val_accuracy: 0.7500\n",
            "Epoch 6/50\n",
            "186/186 [==============================] - 3s 18ms/step - loss: 0.4923 - accuracy: 0.7793 - val_loss: 0.5487 - val_accuracy: 0.7513\n",
            "Epoch 7/50\n",
            "186/186 [==============================] - 3s 18ms/step - loss: 0.4714 - accuracy: 0.7895 - val_loss: 0.5528 - val_accuracy: 0.7534\n",
            "Epoch 8/50\n",
            "186/186 [==============================] - 3s 18ms/step - loss: 0.4560 - accuracy: 0.8030 - val_loss: 0.5306 - val_accuracy: 0.7446\n",
            "Epoch 9/50\n",
            "186/186 [==============================] - 3s 18ms/step - loss: 0.5197 - accuracy: 0.7569 - val_loss: 0.6385 - val_accuracy: 0.6599\n",
            "Epoch 10/50\n",
            "186/186 [==============================] - 3s 18ms/step - loss: 0.6389 - accuracy: 0.6601 - val_loss: 0.6447 - val_accuracy: 0.6593\n",
            "Epoch 11/50\n",
            "186/186 [==============================] - 4s 19ms/step - loss: 0.6387 - accuracy: 0.6631 - val_loss: 0.6421 - val_accuracy: 0.6593\n",
            "Epoch 12/50\n",
            "186/186 [==============================] - 3s 19ms/step - loss: 0.6379 - accuracy: 0.6630 - val_loss: 0.6380 - val_accuracy: 0.6593\n",
            "Epoch 13/50\n",
            "186/186 [==============================] - 3s 18ms/step - loss: 0.6321 - accuracy: 0.6616 - val_loss: 0.6295 - val_accuracy: 0.6593\n",
            "Epoch 14/50\n",
            "186/186 [==============================] - 3s 19ms/step - loss: 0.6299 - accuracy: 0.6636 - val_loss: 0.6279 - val_accuracy: 0.6593\n",
            "Epoch 15/50\n",
            "186/186 [==============================] - 3s 18ms/step - loss: 0.6305 - accuracy: 0.6648 - val_loss: 0.6263 - val_accuracy: 0.6593\n",
            "Epoch 16/50\n",
            "186/186 [==============================] - 3s 18ms/step - loss: 0.6308 - accuracy: 0.6643 - val_loss: 0.6310 - val_accuracy: 0.6593\n",
            "Epoch 17/50\n",
            "186/186 [==============================] - 3s 18ms/step - loss: 0.6297 - accuracy: 0.6662 - val_loss: 0.6416 - val_accuracy: 0.6593\n",
            "78/78 [==============================] - 2s 7ms/step\n",
            "Epoch 1/50\n",
            "186/186 [==============================] - 8s 24ms/step - loss: 0.5968 - accuracy: 0.6906 - val_loss: 0.5881 - val_accuracy: 0.6801\n",
            "Epoch 2/50\n",
            "186/186 [==============================] - 3s 18ms/step - loss: 0.5425 - accuracy: 0.7373 - val_loss: 0.5572 - val_accuracy: 0.7339\n",
            "Epoch 3/50\n",
            "186/186 [==============================] - 3s 19ms/step - loss: 0.5300 - accuracy: 0.7447 - val_loss: 0.5938 - val_accuracy: 0.6559\n",
            "Epoch 4/50\n",
            "186/186 [==============================] - 3s 19ms/step - loss: 0.5574 - accuracy: 0.7210 - val_loss: 0.6367 - val_accuracy: 0.6673\n",
            "Epoch 5/50\n",
            "186/186 [==============================] - 3s 18ms/step - loss: 0.5967 - accuracy: 0.6734 - val_loss: 0.6147 - val_accuracy: 0.6640\n",
            "Epoch 6/50\n",
            "186/186 [==============================] - 3s 18ms/step - loss: 0.5900 - accuracy: 0.6765 - val_loss: 0.6055 - val_accuracy: 0.6606\n",
            "Epoch 7/50\n",
            "186/186 [==============================] - 3s 18ms/step - loss: 0.6022 - accuracy: 0.6558 - val_loss: 0.6026 - val_accuracy: 0.6593\n",
            "Epoch 8/50\n",
            "186/186 [==============================] - 3s 18ms/step - loss: 0.6312 - accuracy: 0.6652 - val_loss: 0.6423 - val_accuracy: 0.6593\n",
            "Epoch 9/50\n",
            "186/186 [==============================] - 3s 19ms/step - loss: 0.6399 - accuracy: 0.6647 - val_loss: 0.6417 - val_accuracy: 0.6593\n",
            "Epoch 10/50\n",
            "186/186 [==============================] - 3s 19ms/step - loss: 0.6394 - accuracy: 0.6647 - val_loss: 0.6423 - val_accuracy: 0.6593\n",
            "Epoch 11/50\n",
            "186/186 [==============================] - 3s 18ms/step - loss: 0.6394 - accuracy: 0.6647 - val_loss: 0.6415 - val_accuracy: 0.6593\n",
            "Epoch 12/50\n",
            "186/186 [==============================] - 3s 19ms/step - loss: 0.6380 - accuracy: 0.6647 - val_loss: 0.6433 - val_accuracy: 0.6593\n",
            "78/78 [==============================] - 2s 8ms/step\n",
            "Epoch 1/50\n",
            "186/186 [==============================] - 9s 24ms/step - loss: 0.6323 - accuracy: 0.6615 - val_loss: 0.6312 - val_accuracy: 0.6593\n",
            "Epoch 2/50\n",
            "186/186 [==============================] - 3s 19ms/step - loss: 0.6308 - accuracy: 0.6539 - val_loss: 0.6311 - val_accuracy: 0.6593\n",
            "Epoch 3/50\n",
            "186/186 [==============================] - 3s 19ms/step - loss: 0.6242 - accuracy: 0.6565 - val_loss: 0.6332 - val_accuracy: 0.6593\n",
            "Epoch 4/50\n",
            "186/186 [==============================] - 3s 19ms/step - loss: 0.6158 - accuracy: 0.6625 - val_loss: 0.6278 - val_accuracy: 0.6593\n",
            "Epoch 5/50\n",
            "186/186 [==============================] - 3s 18ms/step - loss: 0.6120 - accuracy: 0.6605 - val_loss: 0.6295 - val_accuracy: 0.5692\n",
            "Epoch 6/50\n",
            "186/186 [==============================] - 3s 18ms/step - loss: 0.6148 - accuracy: 0.6597 - val_loss: 0.6353 - val_accuracy: 0.6593\n",
            "Epoch 7/50\n",
            "186/186 [==============================] - 3s 19ms/step - loss: 0.6173 - accuracy: 0.6645 - val_loss: 0.6282 - val_accuracy: 0.6593\n",
            "Epoch 8/50\n",
            "186/186 [==============================] - 3s 19ms/step - loss: 0.6197 - accuracy: 0.6647 - val_loss: 0.6252 - val_accuracy: 0.6593\n",
            "Epoch 9/50\n",
            "186/186 [==============================] - 3s 19ms/step - loss: 0.6203 - accuracy: 0.6647 - val_loss: 0.6242 - val_accuracy: 0.6593\n",
            "Epoch 10/50\n",
            "186/186 [==============================] - 3s 19ms/step - loss: 0.6220 - accuracy: 0.6647 - val_loss: 0.6304 - val_accuracy: 0.6593\n",
            "Epoch 11/50\n",
            "186/186 [==============================] - 3s 19ms/step - loss: 0.6243 - accuracy: 0.6647 - val_loss: 0.6303 - val_accuracy: 0.6593\n",
            "78/78 [==============================] - 2s 8ms/step\n",
            "Epoch 1/50\n",
            "186/186 [==============================] - 9s 25ms/step - loss: 0.6143 - accuracy: 0.6761 - val_loss: 0.5843 - val_accuracy: 0.6976\n",
            "Epoch 2/50\n",
            "186/186 [==============================] - 3s 19ms/step - loss: 0.5523 - accuracy: 0.7294 - val_loss: 0.5544 - val_accuracy: 0.7319\n",
            "Epoch 3/50\n",
            "186/186 [==============================] - 3s 18ms/step - loss: 0.5331 - accuracy: 0.7415 - val_loss: 0.5618 - val_accuracy: 0.7245\n",
            "Epoch 4/50\n",
            "186/186 [==============================] - 3s 19ms/step - loss: 0.5253 - accuracy: 0.7484 - val_loss: 0.5456 - val_accuracy: 0.7419\n",
            "Epoch 5/50\n",
            "186/186 [==============================] - 3s 18ms/step - loss: 0.5025 - accuracy: 0.7721 - val_loss: 0.5654 - val_accuracy: 0.7359\n",
            "Epoch 6/50\n",
            "186/186 [==============================] - 3s 18ms/step - loss: 0.4804 - accuracy: 0.7847 - val_loss: 0.5321 - val_accuracy: 0.7372\n",
            "Epoch 7/50\n",
            "186/186 [==============================] - 4s 20ms/step - loss: 0.5074 - accuracy: 0.7679 - val_loss: 0.5888 - val_accuracy: 0.7124\n",
            "Epoch 8/50\n",
            "186/186 [==============================] - 3s 18ms/step - loss: 0.4894 - accuracy: 0.7768 - val_loss: 0.5604 - val_accuracy: 0.7319\n",
            "Epoch 9/50\n",
            "186/186 [==============================] - 3s 18ms/step - loss: 0.4987 - accuracy: 0.7765 - val_loss: 0.5482 - val_accuracy: 0.7426\n",
            "Epoch 10/50\n",
            "186/186 [==============================] - 4s 19ms/step - loss: 0.4485 - accuracy: 0.8067 - val_loss: 0.5518 - val_accuracy: 0.7426\n",
            "Epoch 11/50\n",
            "186/186 [==============================] - 4s 21ms/step - loss: 0.4313 - accuracy: 0.8218 - val_loss: 0.5444 - val_accuracy: 0.7453\n",
            "Epoch 12/50\n",
            "186/186 [==============================] - 4s 19ms/step - loss: 0.4105 - accuracy: 0.8326 - val_loss: 0.5799 - val_accuracy: 0.7386\n",
            "Epoch 13/50\n",
            "186/186 [==============================] - 4s 19ms/step - loss: 0.4023 - accuracy: 0.8405 - val_loss: 0.5605 - val_accuracy: 0.7305\n",
            "Epoch 14/50\n",
            "186/186 [==============================] - 4s 19ms/step - loss: 0.3770 - accuracy: 0.8534 - val_loss: 0.6113 - val_accuracy: 0.7319\n",
            "Epoch 15/50\n",
            "186/186 [==============================] - 4s 19ms/step - loss: 0.3675 - accuracy: 0.8662 - val_loss: 0.6293 - val_accuracy: 0.7312\n",
            "Epoch 16/50\n",
            "186/186 [==============================] - 4s 19ms/step - loss: 0.3336 - accuracy: 0.8798 - val_loss: 0.6251 - val_accuracy: 0.7325\n",
            "Epoch 17/50\n",
            "186/186 [==============================] - 4s 19ms/step - loss: 0.3118 - accuracy: 0.8929 - val_loss: 0.6493 - val_accuracy: 0.7298\n",
            "Epoch 18/50\n",
            "186/186 [==============================] - 5s 29ms/step - loss: 0.2967 - accuracy: 0.9003 - val_loss: 0.6569 - val_accuracy: 0.7332\n",
            "Epoch 19/50\n",
            "186/186 [==============================] - 4s 24ms/step - loss: 0.2873 - accuracy: 0.9077 - val_loss: 0.7088 - val_accuracy: 0.7184\n",
            "Epoch 20/50\n",
            "186/186 [==============================] - 4s 19ms/step - loss: 0.3069 - accuracy: 0.8938 - val_loss: 0.6244 - val_accuracy: 0.7050\n",
            "Epoch 21/50\n",
            "186/186 [==============================] - 4s 19ms/step - loss: 0.3200 - accuracy: 0.8909 - val_loss: 0.7067 - val_accuracy: 0.7238\n",
            "78/78 [==============================] - 2s 7ms/step\n",
            "Epoch 1/50\n",
            "186/186 [==============================] - 8s 21ms/step - loss: 0.5936 - accuracy: 0.6895 - val_loss: 0.5762 - val_accuracy: 0.7130\n",
            "Epoch 2/50\n",
            "186/186 [==============================] - 3s 16ms/step - loss: 0.5320 - accuracy: 0.7433 - val_loss: 0.5565 - val_accuracy: 0.7265\n",
            "Epoch 3/50\n",
            "186/186 [==============================] - 3s 15ms/step - loss: 0.5144 - accuracy: 0.7537 - val_loss: 0.5665 - val_accuracy: 0.6754\n",
            "Epoch 4/50\n",
            "186/186 [==============================] - 3s 15ms/step - loss: 0.4922 - accuracy: 0.7679 - val_loss: 0.5498 - val_accuracy: 0.7258\n",
            "Epoch 5/50\n",
            "186/186 [==============================] - 3s 15ms/step - loss: 0.4837 - accuracy: 0.7779 - val_loss: 0.5673 - val_accuracy: 0.7292\n",
            "Epoch 6/50\n",
            "186/186 [==============================] - 3s 15ms/step - loss: 0.4691 - accuracy: 0.7801 - val_loss: 0.5451 - val_accuracy: 0.7460\n",
            "Epoch 7/50\n",
            "186/186 [==============================] - 3s 15ms/step - loss: 0.4640 - accuracy: 0.7943 - val_loss: 0.5720 - val_accuracy: 0.7359\n",
            "Epoch 8/50\n",
            "186/186 [==============================] - 3s 15ms/step - loss: 0.4482 - accuracy: 0.8033 - val_loss: 0.5403 - val_accuracy: 0.7238\n",
            "Epoch 9/50\n",
            "186/186 [==============================] - 3s 15ms/step - loss: 0.4168 - accuracy: 0.8227 - val_loss: 0.6066 - val_accuracy: 0.7191\n",
            "Epoch 10/50\n",
            "186/186 [==============================] - 3s 15ms/step - loss: 0.3910 - accuracy: 0.8383 - val_loss: 0.5736 - val_accuracy: 0.7419\n",
            "Epoch 11/50\n",
            "186/186 [==============================] - 3s 15ms/step - loss: 0.3775 - accuracy: 0.8494 - val_loss: 0.6630 - val_accuracy: 0.7352\n",
            "Epoch 12/50\n",
            "186/186 [==============================] - 3s 15ms/step - loss: 0.3766 - accuracy: 0.8472 - val_loss: 0.6514 - val_accuracy: 0.7245\n",
            "Epoch 13/50\n",
            "186/186 [==============================] - 3s 15ms/step - loss: 0.3465 - accuracy: 0.8630 - val_loss: 0.6458 - val_accuracy: 0.7366\n",
            "Epoch 14/50\n",
            "186/186 [==============================] - 3s 15ms/step - loss: 0.3247 - accuracy: 0.8791 - val_loss: 0.7510 - val_accuracy: 0.7110\n",
            "Epoch 15/50\n",
            "186/186 [==============================] - 3s 15ms/step - loss: 0.3056 - accuracy: 0.8899 - val_loss: 0.6855 - val_accuracy: 0.7258\n",
            "Epoch 16/50\n",
            "186/186 [==============================] - 3s 16ms/step - loss: 0.2992 - accuracy: 0.8938 - val_loss: 0.6298 - val_accuracy: 0.6895\n",
            "78/78 [==============================] - 2s 7ms/step\n",
            "Epoch 1/50\n",
            "186/186 [==============================] - 8s 21ms/step - loss: 0.5787 - accuracy: 0.7133 - val_loss: 0.5719 - val_accuracy: 0.7211\n",
            "Epoch 2/50\n",
            "186/186 [==============================] - 3s 15ms/step - loss: 0.5267 - accuracy: 0.7464 - val_loss: 0.5643 - val_accuracy: 0.7238\n",
            "Epoch 3/50\n",
            "186/186 [==============================] - 3s 15ms/step - loss: 0.5135 - accuracy: 0.7570 - val_loss: 0.5768 - val_accuracy: 0.7191\n",
            "Epoch 4/50\n",
            "186/186 [==============================] - 3s 15ms/step - loss: 0.4957 - accuracy: 0.7724 - val_loss: 0.5545 - val_accuracy: 0.7379\n",
            "Epoch 5/50\n",
            "186/186 [==============================] - 3s 15ms/step - loss: 0.4784 - accuracy: 0.7802 - val_loss: 0.5493 - val_accuracy: 0.7426\n",
            "Epoch 6/50\n",
            "186/186 [==============================] - 3s 15ms/step - loss: 0.4613 - accuracy: 0.7961 - val_loss: 0.5863 - val_accuracy: 0.7433\n",
            "Epoch 7/50\n",
            "186/186 [==============================] - 3s 15ms/step - loss: 0.4744 - accuracy: 0.7909 - val_loss: 0.5746 - val_accuracy: 0.7016\n",
            "Epoch 8/50\n",
            "186/186 [==============================] - 3s 15ms/step - loss: 0.4681 - accuracy: 0.7931 - val_loss: 0.5466 - val_accuracy: 0.7540\n",
            "Epoch 9/50\n",
            "186/186 [==============================] - 3s 15ms/step - loss: 0.4401 - accuracy: 0.8163 - val_loss: 0.6835 - val_accuracy: 0.6956\n",
            "Epoch 10/50\n",
            "186/186 [==============================] - 3s 15ms/step - loss: 0.4014 - accuracy: 0.8368 - val_loss: 0.5381 - val_accuracy: 0.7372\n",
            "Epoch 11/50\n",
            "186/186 [==============================] - 3s 15ms/step - loss: 0.3757 - accuracy: 0.8595 - val_loss: 0.5889 - val_accuracy: 0.7332\n",
            "Epoch 12/50\n",
            "186/186 [==============================] - 3s 15ms/step - loss: 0.3484 - accuracy: 0.8765 - val_loss: 0.5798 - val_accuracy: 0.7359\n",
            "Epoch 13/50\n",
            "186/186 [==============================] - 3s 15ms/step - loss: 0.3542 - accuracy: 0.8696 - val_loss: 0.6369 - val_accuracy: 0.7171\n",
            "Epoch 14/50\n",
            "186/186 [==============================] - 3s 15ms/step - loss: 0.3547 - accuracy: 0.8729 - val_loss: 0.6674 - val_accuracy: 0.7224\n",
            "Epoch 15/50\n",
            "186/186 [==============================] - 3s 15ms/step - loss: 0.3238 - accuracy: 0.8899 - val_loss: 0.6603 - val_accuracy: 0.7372\n",
            "Epoch 16/50\n",
            "186/186 [==============================] - 3s 16ms/step - loss: 0.3122 - accuracy: 0.8934 - val_loss: 0.6470 - val_accuracy: 0.7305\n",
            "Epoch 17/50\n",
            "186/186 [==============================] - 5s 26ms/step - loss: 0.2990 - accuracy: 0.9024 - val_loss: 0.6398 - val_accuracy: 0.7272\n",
            "Epoch 18/50\n",
            "186/186 [==============================] - 3s 15ms/step - loss: 0.2748 - accuracy: 0.9143 - val_loss: 0.6756 - val_accuracy: 0.7245\n",
            "78/78 [==============================] - 1s 6ms/step\n",
            "Epoch 1/50\n",
            "186/186 [==============================] - 9s 21ms/step - loss: 0.5821 - accuracy: 0.7002 - val_loss: 0.5587 - val_accuracy: 0.7056\n",
            "Epoch 2/50\n",
            "186/186 [==============================] - 3s 15ms/step - loss: 0.5391 - accuracy: 0.7314 - val_loss: 0.6025 - val_accuracy: 0.6593\n",
            "Epoch 3/50\n",
            "186/186 [==============================] - 3s 15ms/step - loss: 0.5485 - accuracy: 0.7168 - val_loss: 0.5534 - val_accuracy: 0.7144\n",
            "Epoch 4/50\n",
            "186/186 [==============================] - 3s 15ms/step - loss: 0.5031 - accuracy: 0.7699 - val_loss: 0.5465 - val_accuracy: 0.7386\n",
            "Epoch 5/50\n",
            "186/186 [==============================] - 3s 16ms/step - loss: 0.4844 - accuracy: 0.7760 - val_loss: 0.5735 - val_accuracy: 0.7083\n",
            "Epoch 6/50\n",
            "186/186 [==============================] - 3s 15ms/step - loss: 0.4750 - accuracy: 0.7901 - val_loss: 0.5537 - val_accuracy: 0.7312\n",
            "Epoch 7/50\n",
            "186/186 [==============================] - 3s 16ms/step - loss: 0.4498 - accuracy: 0.8007 - val_loss: 0.5450 - val_accuracy: 0.7507\n",
            "Epoch 8/50\n",
            "186/186 [==============================] - 3s 15ms/step - loss: 0.4664 - accuracy: 0.7973 - val_loss: 0.6176 - val_accuracy: 0.6895\n",
            "Epoch 9/50\n",
            "186/186 [==============================] - 3s 15ms/step - loss: 0.6038 - accuracy: 0.6667 - val_loss: 0.6221 - val_accuracy: 0.6593\n",
            "Epoch 10/50\n",
            "186/186 [==============================] - 3s 15ms/step - loss: 0.5994 - accuracy: 0.6644 - val_loss: 0.6180 - val_accuracy: 0.6593\n",
            "Epoch 11/50\n",
            "186/186 [==============================] - 3s 15ms/step - loss: 0.5951 - accuracy: 0.6637 - val_loss: 0.6162 - val_accuracy: 0.6593\n",
            "Epoch 12/50\n",
            "186/186 [==============================] - 3s 15ms/step - loss: 0.5930 - accuracy: 0.6642 - val_loss: 0.6209 - val_accuracy: 0.6593\n",
            "Epoch 13/50\n",
            "186/186 [==============================] - 3s 16ms/step - loss: 0.5943 - accuracy: 0.6647 - val_loss: 0.6189 - val_accuracy: 0.6593\n",
            "Epoch 14/50\n",
            "186/186 [==============================] - 3s 15ms/step - loss: 0.5928 - accuracy: 0.6647 - val_loss: 0.6225 - val_accuracy: 0.6593\n",
            "Epoch 15/50\n",
            "186/186 [==============================] - 3s 15ms/step - loss: 0.5932 - accuracy: 0.6647 - val_loss: 0.6204 - val_accuracy: 0.6593\n",
            "Epoch 16/50\n",
            "186/186 [==============================] - 3s 15ms/step - loss: 0.5976 - accuracy: 0.6647 - val_loss: 0.6308 - val_accuracy: 0.6593\n",
            "Epoch 17/50\n",
            "186/186 [==============================] - 3s 15ms/step - loss: 0.6279 - accuracy: 0.6664 - val_loss: 0.6304 - val_accuracy: 0.6720\n",
            "78/78 [==============================] - 1s 6ms/step\n",
            "Epoch 1/50\n",
            "186/186 [==============================] - 8s 21ms/step - loss: 0.6073 - accuracy: 0.6713 - val_loss: 0.5970 - val_accuracy: 0.6956\n",
            "Epoch 2/50\n",
            "186/186 [==============================] - 3s 15ms/step - loss: 0.6191 - accuracy: 0.6849 - val_loss: 0.6415 - val_accuracy: 0.6741\n",
            "Epoch 3/50\n",
            "186/186 [==============================] - 3s 16ms/step - loss: 0.5873 - accuracy: 0.6965 - val_loss: 0.5955 - val_accuracy: 0.7083\n",
            "Epoch 4/50\n",
            "186/186 [==============================] - 3s 15ms/step - loss: 0.5793 - accuracy: 0.7015 - val_loss: 0.5731 - val_accuracy: 0.7144\n",
            "Epoch 5/50\n",
            "186/186 [==============================] - 3s 16ms/step - loss: 0.5702 - accuracy: 0.7113 - val_loss: 0.5743 - val_accuracy: 0.7117\n",
            "Epoch 6/50\n",
            "186/186 [==============================] - 3s 15ms/step - loss: 0.5796 - accuracy: 0.6916 - val_loss: 0.5827 - val_accuracy: 0.6888\n",
            "Epoch 7/50\n",
            "186/186 [==============================] - 3s 15ms/step - loss: 0.5813 - accuracy: 0.6840 - val_loss: 0.5981 - val_accuracy: 0.6465\n",
            "Epoch 8/50\n",
            "186/186 [==============================] - 3s 15ms/step - loss: 0.5799 - accuracy: 0.6706 - val_loss: 0.5911 - val_accuracy: 0.6539\n",
            "Epoch 9/50\n",
            "186/186 [==============================] - 3s 15ms/step - loss: 0.5808 - accuracy: 0.6706 - val_loss: 0.5907 - val_accuracy: 0.6465\n",
            "Epoch 10/50\n",
            "186/186 [==============================] - 3s 15ms/step - loss: 0.5828 - accuracy: 0.6605 - val_loss: 0.5908 - val_accuracy: 0.6465\n",
            "Epoch 11/50\n",
            "186/186 [==============================] - 3s 15ms/step - loss: 0.5807 - accuracy: 0.6805 - val_loss: 0.6506 - val_accuracy: 0.6465\n",
            "Epoch 12/50\n",
            "186/186 [==============================] - 3s 16ms/step - loss: 0.6219 - accuracy: 0.6891 - val_loss: 0.6457 - val_accuracy: 0.6647\n",
            "Epoch 13/50\n",
            "186/186 [==============================] - 3s 15ms/step - loss: 0.6223 - accuracy: 0.6867 - val_loss: 0.6357 - val_accuracy: 0.6680\n",
            "Epoch 14/50\n",
            "186/186 [==============================] - 3s 15ms/step - loss: 0.6216 - accuracy: 0.6881 - val_loss: 0.6374 - val_accuracy: 0.6673\n",
            "78/78 [==============================] - 2s 6ms/step\n",
            "Epoch 1/50\n",
            "248/248 [==============================] - 9s 19ms/step - loss: 0.6051 - accuracy: 0.6936 - val_loss: 0.5743 - val_accuracy: 0.7218\n",
            "Epoch 2/50\n",
            "248/248 [==============================] - 4s 15ms/step - loss: 0.5340 - accuracy: 0.7413 - val_loss: 0.5520 - val_accuracy: 0.7293\n",
            "Epoch 3/50\n",
            "248/248 [==============================] - 4s 15ms/step - loss: 0.5215 - accuracy: 0.7524 - val_loss: 0.5442 - val_accuracy: 0.7314\n",
            "Epoch 4/50\n",
            "248/248 [==============================] - 4s 15ms/step - loss: 0.4949 - accuracy: 0.7737 - val_loss: 0.5313 - val_accuracy: 0.7445\n",
            "Epoch 5/50\n",
            "248/248 [==============================] - 4s 15ms/step - loss: 0.4766 - accuracy: 0.7826 - val_loss: 0.5478 - val_accuracy: 0.7434\n",
            "Epoch 6/50\n",
            "248/248 [==============================] - 4s 15ms/step - loss: 0.4583 - accuracy: 0.7939 - val_loss: 0.5193 - val_accuracy: 0.7550\n",
            "Epoch 7/50\n",
            "248/248 [==============================] - 4s 15ms/step - loss: 0.4361 - accuracy: 0.8071 - val_loss: 0.5467 - val_accuracy: 0.7429\n",
            "Epoch 8/50\n",
            "248/248 [==============================] - 4s 16ms/step - loss: 0.4162 - accuracy: 0.8215 - val_loss: 0.5786 - val_accuracy: 0.7445\n",
            "Epoch 9/50\n",
            "248/248 [==============================] - 4s 15ms/step - loss: 0.3991 - accuracy: 0.8373 - val_loss: 0.5722 - val_accuracy: 0.7268\n",
            "Epoch 10/50\n",
            "248/248 [==============================] - 4s 15ms/step - loss: 0.3667 - accuracy: 0.8565 - val_loss: 0.5392 - val_accuracy: 0.7555\n",
            "Epoch 11/50\n",
            "248/248 [==============================] - 4s 15ms/step - loss: 0.3326 - accuracy: 0.8775 - val_loss: 0.5670 - val_accuracy: 0.7465\n",
            "Epoch 12/50\n",
            "248/248 [==============================] - 4s 15ms/step - loss: 0.3068 - accuracy: 0.8921 - val_loss: 0.6162 - val_accuracy: 0.7374\n",
            "Epoch 13/50\n",
            "248/248 [==============================] - 4s 15ms/step - loss: 0.2970 - accuracy: 0.8971 - val_loss: 0.6288 - val_accuracy: 0.7374\n",
            "Epoch 14/50\n",
            "248/248 [==============================] - 4s 15ms/step - loss: 0.2773 - accuracy: 0.9075 - val_loss: 0.6318 - val_accuracy: 0.7308\n",
            "Epoch 15/50\n",
            "248/248 [==============================] - 4s 15ms/step - loss: 0.2614 - accuracy: 0.9153 - val_loss: 0.6498 - val_accuracy: 0.7379\n",
            "Epoch 16/50\n",
            "248/248 [==============================] - 4s 16ms/step - loss: 0.2593 - accuracy: 0.9163 - val_loss: 0.6730 - val_accuracy: 0.7384\n",
            "Epoch 17/50\n",
            "248/248 [==============================] - 4s 15ms/step - loss: 0.2487 - accuracy: 0.9232 - val_loss: 0.7165 - val_accuracy: 0.7324\n",
            "Epoch 18/50\n",
            "248/248 [==============================] - 4s 15ms/step - loss: 0.2287 - accuracy: 0.9289 - val_loss: 0.7106 - val_accuracy: 0.7329\n",
            "Epoch 19/50\n",
            "248/248 [==============================] - 4s 15ms/step - loss: 0.2129 - accuracy: 0.9379 - val_loss: 0.7182 - val_accuracy: 0.7278\n",
            "Epoch 20/50\n",
            "248/248 [==============================] - 4s 15ms/step - loss: 0.2075 - accuracy: 0.9410 - val_loss: 0.7404 - val_accuracy: 0.7379\n"
          ]
        }
      ]
    },
    {
      "cell_type": "code",
      "source": [
        "print(grid_lstm.best_score_, grid_lstm.best_params_)"
      ],
      "metadata": {
        "colab": {
          "base_uri": "https://localhost:8080/"
        },
        "id": "8zw5Ae9e5lc7",
        "outputId": "738808d9-5ba1-4c08-8769-94c16cda14fa"
      },
      "execution_count": null,
      "outputs": [
        {
          "output_type": "stream",
          "name": "stdout",
          "text": [
            "0.7236040807297428 {'model__units': 64, 'model__rate': 0.6}\n"
          ]
        }
      ]
    },
    {
      "cell_type": "markdown",
      "source": [
        "# Hypertuning Optimization for CNN"
      ],
      "metadata": {
        "id": "Cnuab98x5rhX"
      }
    },
    {
      "cell_type": "code",
      "source": [
        "def create_conv1d_model(input_shape, filters, kernel_size):\n",
        "\n",
        "  X_indices = Input(input_shape)\n",
        "\n",
        "  embeddings = embedding_layer(X_indices)\n",
        "\n",
        "  X = Conv1D(filters*4, kernel_size, activation='relu')(embeddings)\n",
        "\n",
        "  X = MaxPooling1D(3)(X)\n",
        "\n",
        "  X = Conv1D(filters*2, kernel_size, activation='relu')(X)\n",
        "\n",
        "  X = MaxPooling1D(3)(X)\n",
        "\n",
        "  X = Conv1D(filters, kernel_size, activation='relu')(X)\n",
        "  X = Dropout(0.8)(X)\n",
        "  X = MaxPooling1D(3)(X)\n",
        "\n",
        "  X = GlobalMaxPooling1D()(X)\n",
        "\n",
        "  X = Dense(filters, activation='relu')(X)\n",
        "  X = Dense(1, activation='sigmoid')(X)\n",
        "\n",
        "  model = Model(inputs=X_indices, outputs=X)\n",
        "\n",
        "  model.compile(loss=\"binary_crossentropy\",\n",
        "                optimizer=\"Adam\",\n",
        "                metrics=[\"accuracy\"])\n",
        "\n",
        "  return model"
      ],
      "metadata": {
        "id": "55alHNy6kmyj"
      },
      "execution_count": null,
      "outputs": []
    },
    {
      "cell_type": "code",
      "source": [
        "import datetime\n",
        "\n",
        "log_dir = \"logs/fit/\" + datetime.datetime.now().strftime(\"%Y%m%d-%H%M%S\")\n",
        "tensorboard_callback = tf.keras.callbacks.TensorBoard(log_dir=log_dir, histogram_freq=1)\n"
      ],
      "metadata": {
        "id": "-qTFKjnQi3vp"
      },
      "execution_count": null,
      "outputs": []
    },
    {
      "cell_type": "code",
      "source": [
        "model_cnn = KerasClassifier(create_conv1d_model,\n",
        "                        epochs=50,\n",
        "                        verbose=1,\n",
        "                        input_shape=(max_text_len,),\n",
        "                        validation_split=0.2,\n",
        "                        callbacks=[earlyStopping, tensorboard_callback]\n",
        "                        )"
      ],
      "metadata": {
        "id": "jyiOdPDVkkmT"
      },
      "execution_count": null,
      "outputs": []
    },
    {
      "cell_type": "code",
      "source": [
        "param_grid_cnn = dict(\n",
        "    model__filters = [256, 128],\n",
        "    model__kernel_size = [3, 5, 7]\n",
        ")"
      ],
      "metadata": {
        "id": "eCpBh0prl8bT"
      },
      "execution_count": null,
      "outputs": []
    },
    {
      "cell_type": "code",
      "source": [
        "grid_cnn = RandomizedSearchCV(model_cnn, param_grid_cnn, cv=4, verbose=1, n_iter=5, scoring=\"accuracy\")"
      ],
      "metadata": {
        "id": "ho_wdspvmN-r"
      },
      "execution_count": null,
      "outputs": []
    },
    {
      "cell_type": "code",
      "source": [
        "grid_result_cnn = grid_cnn.fit(X_total_padded, y_total)"
      ],
      "metadata": {
        "id": "f0a_REU4mjWi",
        "colab": {
          "base_uri": "https://localhost:8080/"
        },
        "outputId": "cb27fba4-d2ad-4fe8-868e-e7b81f7305f1"
      },
      "execution_count": null,
      "outputs": [
        {
          "output_type": "stream",
          "name": "stdout",
          "text": [
            "Fitting 4 folds for each of 5 candidates, totalling 20 fits\n",
            "Epoch 1/50\n",
            "186/186 [==============================] - 3s 12ms/step - loss: 0.6188 - accuracy: 0.6776 - val_loss: 0.5831 - val_accuracy: 0.7097\n",
            "Epoch 2/50\n",
            "186/186 [==============================] - 2s 10ms/step - loss: 0.5301 - accuracy: 0.7432 - val_loss: 0.5459 - val_accuracy: 0.7426\n",
            "Epoch 3/50\n",
            "186/186 [==============================] - 2s 10ms/step - loss: 0.4352 - accuracy: 0.8023 - val_loss: 0.5473 - val_accuracy: 0.7339\n",
            "Epoch 4/50\n",
            "186/186 [==============================] - 2s 10ms/step - loss: 0.3200 - accuracy: 0.8670 - val_loss: 0.6102 - val_accuracy: 0.6956\n",
            "Epoch 5/50\n",
            "186/186 [==============================] - 2s 10ms/step - loss: 0.2138 - accuracy: 0.9210 - val_loss: 0.6652 - val_accuracy: 0.6956\n",
            "Epoch 6/50\n",
            "186/186 [==============================] - 2s 10ms/step - loss: 0.1538 - accuracy: 0.9430 - val_loss: 0.7498 - val_accuracy: 0.7137\n",
            "Epoch 7/50\n",
            "186/186 [==============================] - 2s 10ms/step - loss: 0.1279 - accuracy: 0.9583 - val_loss: 0.7623 - val_accuracy: 0.7204\n",
            "Epoch 8/50\n",
            "186/186 [==============================] - 2s 10ms/step - loss: 0.0737 - accuracy: 0.9744 - val_loss: 1.0872 - val_accuracy: 0.7137\n",
            "Epoch 9/50\n",
            "186/186 [==============================] - 2s 10ms/step - loss: 0.0984 - accuracy: 0.9682 - val_loss: 0.9561 - val_accuracy: 0.7218\n",
            "Epoch 10/50\n",
            "186/186 [==============================] - 2s 10ms/step - loss: 0.0755 - accuracy: 0.9766 - val_loss: 0.9605 - val_accuracy: 0.6989\n",
            "Epoch 11/50\n",
            "186/186 [==============================] - 2s 10ms/step - loss: 0.0732 - accuracy: 0.9773 - val_loss: 1.1135 - val_accuracy: 0.7191\n",
            "Epoch 12/50\n",
            "186/186 [==============================] - 2s 10ms/step - loss: 0.0587 - accuracy: 0.9810 - val_loss: 1.2861 - val_accuracy: 0.7090\n",
            "78/78 [==============================] - 0s 3ms/step\n",
            "Epoch 1/50\n",
            "186/186 [==============================] - 3s 12ms/step - loss: 0.6230 - accuracy: 0.6738 - val_loss: 0.5654 - val_accuracy: 0.7292\n",
            "Epoch 2/50\n",
            "186/186 [==============================] - 2s 10ms/step - loss: 0.5345 - accuracy: 0.7392 - val_loss: 0.5443 - val_accuracy: 0.7312\n",
            "Epoch 3/50\n",
            "186/186 [==============================] - 2s 10ms/step - loss: 0.4466 - accuracy: 0.7968 - val_loss: 0.5819 - val_accuracy: 0.7298\n",
            "Epoch 4/50\n",
            "186/186 [==============================] - 2s 10ms/step - loss: 0.3213 - accuracy: 0.8666 - val_loss: 0.5862 - val_accuracy: 0.7251\n",
            "Epoch 5/50\n",
            "186/186 [==============================] - 2s 10ms/step - loss: 0.2273 - accuracy: 0.9153 - val_loss: 0.7584 - val_accuracy: 0.7144\n",
            "Epoch 6/50\n",
            "186/186 [==============================] - 2s 10ms/step - loss: 0.1536 - accuracy: 0.9439 - val_loss: 0.7641 - val_accuracy: 0.7070\n",
            "Epoch 7/50\n",
            "186/186 [==============================] - 2s 10ms/step - loss: 0.1035 - accuracy: 0.9642 - val_loss: 0.8979 - val_accuracy: 0.7312\n",
            "Epoch 8/50\n",
            "186/186 [==============================] - 2s 10ms/step - loss: 0.0815 - accuracy: 0.9724 - val_loss: 1.0957 - val_accuracy: 0.7164\n",
            "Epoch 9/50\n",
            "186/186 [==============================] - 2s 10ms/step - loss: 0.0695 - accuracy: 0.9776 - val_loss: 1.1497 - val_accuracy: 0.7265\n",
            "Epoch 10/50\n",
            "186/186 [==============================] - 2s 10ms/step - loss: 0.0736 - accuracy: 0.9761 - val_loss: 1.1050 - val_accuracy: 0.7090\n",
            "Epoch 11/50\n",
            "186/186 [==============================] - 2s 10ms/step - loss: 0.0717 - accuracy: 0.9792 - val_loss: 1.1415 - val_accuracy: 0.6989\n",
            "Epoch 12/50\n",
            "186/186 [==============================] - 2s 10ms/step - loss: 0.0537 - accuracy: 0.9834 - val_loss: 1.3631 - val_accuracy: 0.7245\n",
            "78/78 [==============================] - 0s 3ms/step\n",
            "Epoch 1/50\n",
            "186/186 [==============================] - 3s 12ms/step - loss: 0.6268 - accuracy: 0.6652 - val_loss: 0.5777 - val_accuracy: 0.7285\n",
            "Epoch 2/50\n",
            "186/186 [==============================] - 2s 10ms/step - loss: 0.5460 - accuracy: 0.7276 - val_loss: 0.5571 - val_accuracy: 0.7399\n",
            "Epoch 3/50\n",
            "186/186 [==============================] - 2s 10ms/step - loss: 0.4461 - accuracy: 0.7916 - val_loss: 0.5566 - val_accuracy: 0.7399\n",
            "Epoch 4/50\n",
            "186/186 [==============================] - 2s 11ms/step - loss: 0.3356 - accuracy: 0.8560 - val_loss: 0.5870 - val_accuracy: 0.7359\n",
            "Epoch 5/50\n",
            "186/186 [==============================] - 2s 10ms/step - loss: 0.2292 - accuracy: 0.9096 - val_loss: 0.6221 - val_accuracy: 0.7164\n",
            "Epoch 6/50\n",
            "186/186 [==============================] - 2s 10ms/step - loss: 0.1598 - accuracy: 0.9418 - val_loss: 0.8618 - val_accuracy: 0.7009\n",
            "Epoch 7/50\n",
            "186/186 [==============================] - 2s 10ms/step - loss: 0.1208 - accuracy: 0.9580 - val_loss: 0.8844 - val_accuracy: 0.7023\n",
            "Epoch 8/50\n",
            "186/186 [==============================] - 2s 10ms/step - loss: 0.1070 - accuracy: 0.9615 - val_loss: 0.8142 - val_accuracy: 0.6680\n",
            "Epoch 9/50\n",
            "186/186 [==============================] - 2s 10ms/step - loss: 0.0794 - accuracy: 0.9719 - val_loss: 1.1127 - val_accuracy: 0.7157\n",
            "Epoch 10/50\n",
            "186/186 [==============================] - 2s 10ms/step - loss: 0.0643 - accuracy: 0.9773 - val_loss: 1.7553 - val_accuracy: 0.7352\n",
            "Epoch 11/50\n",
            "186/186 [==============================] - 2s 10ms/step - loss: 0.0801 - accuracy: 0.9736 - val_loss: 1.0291 - val_accuracy: 0.7137\n",
            "Epoch 12/50\n",
            "186/186 [==============================] - 2s 10ms/step - loss: 0.0646 - accuracy: 0.9790 - val_loss: 1.0613 - val_accuracy: 0.7117\n",
            "78/78 [==============================] - 0s 3ms/step\n",
            "Epoch 1/50\n",
            "186/186 [==============================] - 3s 12ms/step - loss: 0.6235 - accuracy: 0.6802 - val_loss: 0.5784 - val_accuracy: 0.7056\n",
            "Epoch 2/50\n",
            "186/186 [==============================] - 2s 10ms/step - loss: 0.5369 - accuracy: 0.7294 - val_loss: 0.5521 - val_accuracy: 0.7198\n",
            "Epoch 3/50\n",
            "186/186 [==============================] - 2s 10ms/step - loss: 0.4431 - accuracy: 0.7945 - val_loss: 0.5366 - val_accuracy: 0.7298\n",
            "Epoch 4/50\n",
            "186/186 [==============================] - 2s 10ms/step - loss: 0.3276 - accuracy: 0.8583 - val_loss: 0.6437 - val_accuracy: 0.7157\n",
            "Epoch 5/50\n",
            "186/186 [==============================] - 2s 10ms/step - loss: 0.2203 - accuracy: 0.9099 - val_loss: 0.6754 - val_accuracy: 0.6781\n",
            "Epoch 6/50\n",
            "186/186 [==============================] - 2s 10ms/step - loss: 0.1585 - accuracy: 0.9410 - val_loss: 0.7111 - val_accuracy: 0.6687\n",
            "Epoch 7/50\n",
            "186/186 [==============================] - 2s 10ms/step - loss: 0.1077 - accuracy: 0.9618 - val_loss: 0.9239 - val_accuracy: 0.7023\n",
            "Epoch 8/50\n",
            "186/186 [==============================] - 2s 10ms/step - loss: 0.0987 - accuracy: 0.9692 - val_loss: 1.1502 - val_accuracy: 0.7137\n",
            "Epoch 9/50\n",
            "186/186 [==============================] - 2s 11ms/step - loss: 0.0700 - accuracy: 0.9751 - val_loss: 1.2083 - val_accuracy: 0.6996\n",
            "Epoch 10/50\n",
            "186/186 [==============================] - 2s 10ms/step - loss: 0.0710 - accuracy: 0.9775 - val_loss: 1.0005 - val_accuracy: 0.6828\n",
            "Epoch 11/50\n",
            "186/186 [==============================] - 2s 11ms/step - loss: 0.0561 - accuracy: 0.9807 - val_loss: 1.1508 - val_accuracy: 0.7003\n",
            "Epoch 12/50\n",
            "186/186 [==============================] - 2s 10ms/step - loss: 0.0660 - accuracy: 0.9807 - val_loss: 1.2847 - val_accuracy: 0.6989\n",
            "Epoch 13/50\n",
            "186/186 [==============================] - 2s 11ms/step - loss: 0.0432 - accuracy: 0.9859 - val_loss: 1.1811 - val_accuracy: 0.6882\n",
            "78/78 [==============================] - 0s 3ms/step\n",
            "Epoch 1/50\n",
            "186/186 [==============================] - 4s 17ms/step - loss: 0.6216 - accuracy: 0.6798 - val_loss: 0.5878 - val_accuracy: 0.6821\n",
            "Epoch 2/50\n",
            "186/186 [==============================] - 3s 16ms/step - loss: 0.5263 - accuracy: 0.7463 - val_loss: 0.5458 - val_accuracy: 0.7433\n",
            "Epoch 3/50\n",
            "186/186 [==============================] - 3s 16ms/step - loss: 0.4165 - accuracy: 0.8195 - val_loss: 0.5617 - val_accuracy: 0.7023\n",
            "Epoch 4/50\n",
            "186/186 [==============================] - 3s 17ms/step - loss: 0.2782 - accuracy: 0.8901 - val_loss: 0.6434 - val_accuracy: 0.7298\n",
            "Epoch 5/50\n",
            "186/186 [==============================] - 3s 16ms/step - loss: 0.1941 - accuracy: 0.9274 - val_loss: 0.6717 - val_accuracy: 0.7130\n",
            "Epoch 6/50\n",
            "186/186 [==============================] - 3s 16ms/step - loss: 0.1293 - accuracy: 0.9528 - val_loss: 0.8302 - val_accuracy: 0.7224\n",
            "Epoch 7/50\n",
            "186/186 [==============================] - 3s 16ms/step - loss: 0.1097 - accuracy: 0.9615 - val_loss: 0.9010 - val_accuracy: 0.7144\n",
            "Epoch 8/50\n",
            "186/186 [==============================] - 3s 16ms/step - loss: 0.0833 - accuracy: 0.9708 - val_loss: 0.9745 - val_accuracy: 0.7231\n",
            "Epoch 9/50\n",
            "186/186 [==============================] - 3s 16ms/step - loss: 0.0817 - accuracy: 0.9728 - val_loss: 0.9917 - val_accuracy: 0.6774\n",
            "Epoch 10/50\n",
            "186/186 [==============================] - 3s 16ms/step - loss: 0.0725 - accuracy: 0.9763 - val_loss: 1.0250 - val_accuracy: 0.7164\n",
            "Epoch 11/50\n",
            "186/186 [==============================] - 3s 16ms/step - loss: 0.0518 - accuracy: 0.9834 - val_loss: 1.1829 - val_accuracy: 0.7224\n",
            "Epoch 12/50\n",
            "186/186 [==============================] - 3s 16ms/step - loss: 0.0612 - accuracy: 0.9808 - val_loss: 1.0924 - val_accuracy: 0.7258\n",
            "78/78 [==============================] - 0s 5ms/step\n",
            "Epoch 1/50\n",
            "186/186 [==============================] - 4s 17ms/step - loss: 0.6315 - accuracy: 0.6654 - val_loss: 0.5556 - val_accuracy: 0.7359\n",
            "Epoch 2/50\n",
            "186/186 [==============================] - 3s 16ms/step - loss: 0.5322 - accuracy: 0.7395 - val_loss: 0.5583 - val_accuracy: 0.7325\n",
            "Epoch 3/50\n",
            "186/186 [==============================] - 3s 16ms/step - loss: 0.4214 - accuracy: 0.8123 - val_loss: 0.5844 - val_accuracy: 0.6754\n",
            "Epoch 4/50\n",
            "186/186 [==============================] - 3s 16ms/step - loss: 0.3008 - accuracy: 0.8782 - val_loss: 0.6761 - val_accuracy: 0.7339\n",
            "Epoch 5/50\n",
            "186/186 [==============================] - 3s 16ms/step - loss: 0.2163 - accuracy: 0.9175 - val_loss: 0.7376 - val_accuracy: 0.7204\n",
            "Epoch 6/50\n",
            "186/186 [==============================] - 3s 16ms/step - loss: 0.1434 - accuracy: 0.9506 - val_loss: 0.8314 - val_accuracy: 0.7372\n",
            "Epoch 7/50\n",
            "186/186 [==============================] - 3s 16ms/step - loss: 0.1053 - accuracy: 0.9650 - val_loss: 1.2170 - val_accuracy: 0.7218\n",
            "Epoch 8/50\n",
            "186/186 [==============================] - 3s 17ms/step - loss: 0.1000 - accuracy: 0.9667 - val_loss: 1.1243 - val_accuracy: 0.7177\n",
            "Epoch 9/50\n",
            "186/186 [==============================] - 3s 16ms/step - loss: 0.0755 - accuracy: 0.9770 - val_loss: 0.7828 - val_accuracy: 0.6935\n",
            "Epoch 10/50\n",
            "186/186 [==============================] - 3s 16ms/step - loss: 0.0774 - accuracy: 0.9729 - val_loss: 1.2783 - val_accuracy: 0.7231\n",
            "Epoch 11/50\n",
            "186/186 [==============================] - 3s 16ms/step - loss: 0.0726 - accuracy: 0.9773 - val_loss: 1.2509 - val_accuracy: 0.7177\n",
            "Epoch 12/50\n",
            "186/186 [==============================] - 3s 16ms/step - loss: 0.0468 - accuracy: 0.9839 - val_loss: 1.3028 - val_accuracy: 0.6821\n",
            "Epoch 13/50\n",
            "186/186 [==============================] - 3s 16ms/step - loss: 0.0565 - accuracy: 0.9852 - val_loss: 1.2175 - val_accuracy: 0.7238\n",
            "Epoch 14/50\n",
            "186/186 [==============================] - 3s 17ms/step - loss: 0.0387 - accuracy: 0.9887 - val_loss: 1.3434 - val_accuracy: 0.7130\n",
            "Epoch 15/50\n",
            "186/186 [==============================] - 3s 16ms/step - loss: 0.0355 - accuracy: 0.9903 - val_loss: 2.1209 - val_accuracy: 0.7191\n",
            "Epoch 16/50\n",
            "186/186 [==============================] - 3s 16ms/step - loss: 0.0548 - accuracy: 0.9850 - val_loss: 1.2244 - val_accuracy: 0.7056\n",
            "78/78 [==============================] - 0s 3ms/step\n",
            "Epoch 1/50\n",
            "186/186 [==============================] - 4s 17ms/step - loss: 0.6283 - accuracy: 0.6734 - val_loss: 0.5750 - val_accuracy: 0.7339\n",
            "Epoch 2/50\n",
            "186/186 [==============================] - 3s 16ms/step - loss: 0.5232 - accuracy: 0.7417 - val_loss: 0.5645 - val_accuracy: 0.7171\n",
            "Epoch 3/50\n",
            "186/186 [==============================] - 3s 17ms/step - loss: 0.4287 - accuracy: 0.8067 - val_loss: 0.5858 - val_accuracy: 0.7245\n",
            "Epoch 4/50\n",
            "186/186 [==============================] - 3s 16ms/step - loss: 0.2878 - accuracy: 0.8837 - val_loss: 0.6736 - val_accuracy: 0.7204\n",
            "Epoch 5/50\n",
            "186/186 [==============================] - 3s 16ms/step - loss: 0.2191 - accuracy: 0.9166 - val_loss: 0.6946 - val_accuracy: 0.7003\n",
            "Epoch 6/50\n",
            "186/186 [==============================] - 3s 16ms/step - loss: 0.1424 - accuracy: 0.9487 - val_loss: 0.7579 - val_accuracy: 0.7305\n",
            "Epoch 7/50\n",
            "186/186 [==============================] - 3s 16ms/step - loss: 0.0988 - accuracy: 0.9652 - val_loss: 1.2316 - val_accuracy: 0.7211\n",
            "Epoch 8/50\n",
            "186/186 [==============================] - 3s 16ms/step - loss: 0.1286 - accuracy: 0.9568 - val_loss: 0.9723 - val_accuracy: 0.7292\n",
            "Epoch 9/50\n",
            "186/186 [==============================] - 3s 16ms/step - loss: 0.0766 - accuracy: 0.9756 - val_loss: 0.9662 - val_accuracy: 0.7043\n",
            "Epoch 10/50\n",
            "186/186 [==============================] - 3s 16ms/step - loss: 0.0711 - accuracy: 0.9746 - val_loss: 0.8906 - val_accuracy: 0.6888\n",
            "Epoch 11/50\n",
            "186/186 [==============================] - 3s 17ms/step - loss: 0.0493 - accuracy: 0.9842 - val_loss: 0.9836 - val_accuracy: 0.7056\n",
            "78/78 [==============================] - 0s 5ms/step\n",
            "Epoch 1/50\n",
            "186/186 [==============================] - 4s 17ms/step - loss: 0.6192 - accuracy: 0.6734 - val_loss: 0.5839 - val_accuracy: 0.7325\n",
            "Epoch 2/50\n",
            "186/186 [==============================] - 3s 16ms/step - loss: 0.5253 - accuracy: 0.7494 - val_loss: 0.5559 - val_accuracy: 0.7184\n",
            "Epoch 3/50\n",
            "186/186 [==============================] - 3s 16ms/step - loss: 0.4100 - accuracy: 0.8163 - val_loss: 0.5618 - val_accuracy: 0.7231\n",
            "Epoch 4/50\n",
            "186/186 [==============================] - 3s 16ms/step - loss: 0.2732 - accuracy: 0.8861 - val_loss: 0.7152 - val_accuracy: 0.7030\n",
            "Epoch 5/50\n",
            "186/186 [==============================] - 3s 16ms/step - loss: 0.1892 - accuracy: 0.9279 - val_loss: 0.7592 - val_accuracy: 0.7224\n",
            "Epoch 6/50\n",
            "186/186 [==============================] - 3s 17ms/step - loss: 0.1359 - accuracy: 0.9501 - val_loss: 1.0382 - val_accuracy: 0.7231\n",
            "Epoch 7/50\n",
            "186/186 [==============================] - 3s 16ms/step - loss: 0.1169 - accuracy: 0.9600 - val_loss: 1.0126 - val_accuracy: 0.7097\n",
            "Epoch 8/50\n",
            "186/186 [==============================] - 3s 17ms/step - loss: 0.0906 - accuracy: 0.9714 - val_loss: 0.8899 - val_accuracy: 0.6962\n",
            "Epoch 9/50\n",
            "186/186 [==============================] - 3s 16ms/step - loss: 0.0545 - accuracy: 0.9812 - val_loss: 1.2221 - val_accuracy: 0.6935\n",
            "Epoch 10/50\n",
            "186/186 [==============================] - 3s 17ms/step - loss: 0.0584 - accuracy: 0.9802 - val_loss: 1.2802 - val_accuracy: 0.6862\n",
            "Epoch 11/50\n",
            "186/186 [==============================] - 3s 19ms/step - loss: 0.0536 - accuracy: 0.9818 - val_loss: 1.2153 - val_accuracy: 0.7016\n",
            "78/78 [==============================] - 0s 5ms/step\n",
            "Epoch 1/50\n"
          ]
        },
        {
          "output_type": "stream",
          "name": "stderr",
          "text": [
            "/usr/local/lib/python3.8/dist-packages/sklearn/model_selection/_validation.py:372: FitFailedWarning: \n",
            "12 fits failed out of a total of 20.\n",
            "The score on these train-test partitions for these parameters will be set to nan.\n",
            "If these failures are not expected, you can try to debug them by setting error_score='raise'.\n",
            "\n",
            "Below are more details about the failures:\n",
            "--------------------------------------------------------------------------------\n",
            "1 fits failed with the following error:\n",
            "Traceback (most recent call last):\n",
            "  File \"/usr/local/lib/python3.8/dist-packages/sklearn/model_selection/_validation.py\", line 680, in _fit_and_score\n",
            "    estimator.fit(X_train, y_train, **fit_params)\n",
            "  File \"/usr/local/lib/python3.8/dist-packages/scikeras/wrappers.py\", line 1494, in fit\n",
            "    super().fit(X=X, y=y, sample_weight=sample_weight, **kwargs)\n",
            "  File \"/usr/local/lib/python3.8/dist-packages/scikeras/wrappers.py\", line 762, in fit\n",
            "    self._fit(\n",
            "  File \"/usr/local/lib/python3.8/dist-packages/scikeras/wrappers.py\", line 918, in _fit\n",
            "    X, y = self._initialize(X, y)\n",
            "  File \"/usr/local/lib/python3.8/dist-packages/scikeras/wrappers.py\", line 855, in _initialize\n",
            "    self.model_ = self._build_keras_model()\n",
            "  File \"/usr/local/lib/python3.8/dist-packages/scikeras/wrappers.py\", line 431, in _build_keras_model\n",
            "    model = final_build_fn(**build_params)\n",
            "  File \"<ipython-input-52-08e7e3d9a297>\", line 15, in create_conv1d_model\n",
            "    X = Conv1D(filters, kernel_size, activation='relu')(X)\n",
            "  File \"/usr/local/lib/python3.8/dist-packages/keras/utils/traceback_utils.py\", line 67, in error_handler\n",
            "    raise e.with_traceback(filtered_tb) from None\n",
            "  File \"/usr/local/lib/python3.8/dist-packages/keras/layers/convolutional/base_conv.py\", line 307, in compute_output_shape\n",
            "    raise ValueError(\n",
            "ValueError: One of the dimensions in the output is <= 0 due to downsampling in conv1d_116. Consider increasing the input size. Received input shape [None, 4, 512] which would produce output shape with a zero or negative value in a dimension.\n",
            "\n",
            "--------------------------------------------------------------------------------\n",
            "1 fits failed with the following error:\n",
            "Traceback (most recent call last):\n",
            "  File \"/usr/local/lib/python3.8/dist-packages/sklearn/model_selection/_validation.py\", line 680, in _fit_and_score\n",
            "    estimator.fit(X_train, y_train, **fit_params)\n",
            "  File \"/usr/local/lib/python3.8/dist-packages/scikeras/wrappers.py\", line 1494, in fit\n",
            "    super().fit(X=X, y=y, sample_weight=sample_weight, **kwargs)\n",
            "  File \"/usr/local/lib/python3.8/dist-packages/scikeras/wrappers.py\", line 762, in fit\n",
            "    self._fit(\n",
            "  File \"/usr/local/lib/python3.8/dist-packages/scikeras/wrappers.py\", line 918, in _fit\n",
            "    X, y = self._initialize(X, y)\n",
            "  File \"/usr/local/lib/python3.8/dist-packages/scikeras/wrappers.py\", line 855, in _initialize\n",
            "    self.model_ = self._build_keras_model()\n",
            "  File \"/usr/local/lib/python3.8/dist-packages/scikeras/wrappers.py\", line 431, in _build_keras_model\n",
            "    model = final_build_fn(**build_params)\n",
            "  File \"<ipython-input-52-08e7e3d9a297>\", line 15, in create_conv1d_model\n",
            "    X = Conv1D(filters, kernel_size, activation='relu')(X)\n",
            "  File \"/usr/local/lib/python3.8/dist-packages/keras/utils/traceback_utils.py\", line 67, in error_handler\n",
            "    raise e.with_traceback(filtered_tb) from None\n",
            "  File \"/usr/local/lib/python3.8/dist-packages/keras/layers/convolutional/base_conv.py\", line 307, in compute_output_shape\n",
            "    raise ValueError(\n",
            "ValueError: One of the dimensions in the output is <= 0 due to downsampling in conv1d_119. Consider increasing the input size. Received input shape [None, 4, 512] which would produce output shape with a zero or negative value in a dimension.\n",
            "\n",
            "--------------------------------------------------------------------------------\n",
            "1 fits failed with the following error:\n",
            "Traceback (most recent call last):\n",
            "  File \"/usr/local/lib/python3.8/dist-packages/sklearn/model_selection/_validation.py\", line 680, in _fit_and_score\n",
            "    estimator.fit(X_train, y_train, **fit_params)\n",
            "  File \"/usr/local/lib/python3.8/dist-packages/scikeras/wrappers.py\", line 1494, in fit\n",
            "    super().fit(X=X, y=y, sample_weight=sample_weight, **kwargs)\n",
            "  File \"/usr/local/lib/python3.8/dist-packages/scikeras/wrappers.py\", line 762, in fit\n",
            "    self._fit(\n",
            "  File \"/usr/local/lib/python3.8/dist-packages/scikeras/wrappers.py\", line 918, in _fit\n",
            "    X, y = self._initialize(X, y)\n",
            "  File \"/usr/local/lib/python3.8/dist-packages/scikeras/wrappers.py\", line 855, in _initialize\n",
            "    self.model_ = self._build_keras_model()\n",
            "  File \"/usr/local/lib/python3.8/dist-packages/scikeras/wrappers.py\", line 431, in _build_keras_model\n",
            "    model = final_build_fn(**build_params)\n",
            "  File \"<ipython-input-52-08e7e3d9a297>\", line 15, in create_conv1d_model\n",
            "    X = Conv1D(filters, kernel_size, activation='relu')(X)\n",
            "  File \"/usr/local/lib/python3.8/dist-packages/keras/utils/traceback_utils.py\", line 67, in error_handler\n",
            "    raise e.with_traceback(filtered_tb) from None\n",
            "  File \"/usr/local/lib/python3.8/dist-packages/keras/layers/convolutional/base_conv.py\", line 307, in compute_output_shape\n",
            "    raise ValueError(\n",
            "ValueError: One of the dimensions in the output is <= 0 due to downsampling in conv1d_122. Consider increasing the input size. Received input shape [None, 4, 512] which would produce output shape with a zero or negative value in a dimension.\n",
            "\n",
            "--------------------------------------------------------------------------------\n",
            "1 fits failed with the following error:\n",
            "Traceback (most recent call last):\n",
            "  File \"/usr/local/lib/python3.8/dist-packages/sklearn/model_selection/_validation.py\", line 680, in _fit_and_score\n",
            "    estimator.fit(X_train, y_train, **fit_params)\n",
            "  File \"/usr/local/lib/python3.8/dist-packages/scikeras/wrappers.py\", line 1494, in fit\n",
            "    super().fit(X=X, y=y, sample_weight=sample_weight, **kwargs)\n",
            "  File \"/usr/local/lib/python3.8/dist-packages/scikeras/wrappers.py\", line 762, in fit\n",
            "    self._fit(\n",
            "  File \"/usr/local/lib/python3.8/dist-packages/scikeras/wrappers.py\", line 918, in _fit\n",
            "    X, y = self._initialize(X, y)\n",
            "  File \"/usr/local/lib/python3.8/dist-packages/scikeras/wrappers.py\", line 855, in _initialize\n",
            "    self.model_ = self._build_keras_model()\n",
            "  File \"/usr/local/lib/python3.8/dist-packages/scikeras/wrappers.py\", line 431, in _build_keras_model\n",
            "    model = final_build_fn(**build_params)\n",
            "  File \"<ipython-input-52-08e7e3d9a297>\", line 15, in create_conv1d_model\n",
            "    X = Conv1D(filters, kernel_size, activation='relu')(X)\n",
            "  File \"/usr/local/lib/python3.8/dist-packages/keras/utils/traceback_utils.py\", line 67, in error_handler\n",
            "    raise e.with_traceback(filtered_tb) from None\n",
            "  File \"/usr/local/lib/python3.8/dist-packages/keras/layers/convolutional/base_conv.py\", line 307, in compute_output_shape\n",
            "    raise ValueError(\n",
            "ValueError: One of the dimensions in the output is <= 0 due to downsampling in conv1d_125. Consider increasing the input size. Received input shape [None, 4, 512] which would produce output shape with a zero or negative value in a dimension.\n",
            "\n",
            "--------------------------------------------------------------------------------\n",
            "1 fits failed with the following error:\n",
            "Traceback (most recent call last):\n",
            "  File \"/usr/local/lib/python3.8/dist-packages/sklearn/model_selection/_validation.py\", line 680, in _fit_and_score\n",
            "    estimator.fit(X_train, y_train, **fit_params)\n",
            "  File \"/usr/local/lib/python3.8/dist-packages/scikeras/wrappers.py\", line 1494, in fit\n",
            "    super().fit(X=X, y=y, sample_weight=sample_weight, **kwargs)\n",
            "  File \"/usr/local/lib/python3.8/dist-packages/scikeras/wrappers.py\", line 762, in fit\n",
            "    self._fit(\n",
            "  File \"/usr/local/lib/python3.8/dist-packages/scikeras/wrappers.py\", line 918, in _fit\n",
            "    X, y = self._initialize(X, y)\n",
            "  File \"/usr/local/lib/python3.8/dist-packages/scikeras/wrappers.py\", line 855, in _initialize\n",
            "    self.model_ = self._build_keras_model()\n",
            "  File \"/usr/local/lib/python3.8/dist-packages/scikeras/wrappers.py\", line 431, in _build_keras_model\n",
            "    model = final_build_fn(**build_params)\n",
            "  File \"<ipython-input-52-08e7e3d9a297>\", line 17, in create_conv1d_model\n",
            "    X = MaxPooling1D(3)(X)\n",
            "  File \"/usr/local/lib/python3.8/dist-packages/keras/utils/traceback_utils.py\", line 67, in error_handler\n",
            "    raise e.with_traceback(filtered_tb) from None\n",
            "  File \"/usr/local/lib/python3.8/dist-packages/keras/backend.py\", line 6106, in pool2d\n",
            "    x = tf.compat.v1.nn.max_pool(\n",
            "ValueError: Exception encountered when calling layer \"max_pooling1d_120\" (type MaxPooling1D).\n",
            "\n",
            "Negative dimension size caused by subtracting 3 from 1 for '{{node max_pooling1d_120/MaxPool}} = MaxPool[T=DT_FLOAT, data_format=\"NHWC\", explicit_paddings=[], ksize=[1, 3, 1, 1], padding=\"VALID\", strides=[1, 3, 1, 1]](max_pooling1d_120/ExpandDims)' with input shapes: [?,1,1,256].\n",
            "\n",
            "Call arguments received by layer \"max_pooling1d_120\" (type MaxPooling1D):\n",
            "  • inputs=tf.Tensor(shape=(None, 1, 256), dtype=float32)\n",
            "\n",
            "--------------------------------------------------------------------------------\n",
            "1 fits failed with the following error:\n",
            "Traceback (most recent call last):\n",
            "  File \"/usr/local/lib/python3.8/dist-packages/sklearn/model_selection/_validation.py\", line 680, in _fit_and_score\n",
            "    estimator.fit(X_train, y_train, **fit_params)\n",
            "  File \"/usr/local/lib/python3.8/dist-packages/scikeras/wrappers.py\", line 1494, in fit\n",
            "    super().fit(X=X, y=y, sample_weight=sample_weight, **kwargs)\n",
            "  File \"/usr/local/lib/python3.8/dist-packages/scikeras/wrappers.py\", line 762, in fit\n",
            "    self._fit(\n",
            "  File \"/usr/local/lib/python3.8/dist-packages/scikeras/wrappers.py\", line 918, in _fit\n",
            "    X, y = self._initialize(X, y)\n",
            "  File \"/usr/local/lib/python3.8/dist-packages/scikeras/wrappers.py\", line 855, in _initialize\n",
            "    self.model_ = self._build_keras_model()\n",
            "  File \"/usr/local/lib/python3.8/dist-packages/scikeras/wrappers.py\", line 431, in _build_keras_model\n",
            "    model = final_build_fn(**build_params)\n",
            "  File \"<ipython-input-52-08e7e3d9a297>\", line 17, in create_conv1d_model\n",
            "    X = MaxPooling1D(3)(X)\n",
            "  File \"/usr/local/lib/python3.8/dist-packages/keras/utils/traceback_utils.py\", line 67, in error_handler\n",
            "    raise e.with_traceback(filtered_tb) from None\n",
            "  File \"/usr/local/lib/python3.8/dist-packages/keras/backend.py\", line 6106, in pool2d\n",
            "    x = tf.compat.v1.nn.max_pool(\n",
            "ValueError: Exception encountered when calling layer \"max_pooling1d_123\" (type MaxPooling1D).\n",
            "\n",
            "Negative dimension size caused by subtracting 3 from 1 for '{{node max_pooling1d_123/MaxPool}} = MaxPool[T=DT_FLOAT, data_format=\"NHWC\", explicit_paddings=[], ksize=[1, 3, 1, 1], padding=\"VALID\", strides=[1, 3, 1, 1]](max_pooling1d_123/ExpandDims)' with input shapes: [?,1,1,256].\n",
            "\n",
            "Call arguments received by layer \"max_pooling1d_123\" (type MaxPooling1D):\n",
            "  • inputs=tf.Tensor(shape=(None, 1, 256), dtype=float32)\n",
            "\n",
            "--------------------------------------------------------------------------------\n",
            "1 fits failed with the following error:\n",
            "Traceback (most recent call last):\n",
            "  File \"/usr/local/lib/python3.8/dist-packages/sklearn/model_selection/_validation.py\", line 680, in _fit_and_score\n",
            "    estimator.fit(X_train, y_train, **fit_params)\n",
            "  File \"/usr/local/lib/python3.8/dist-packages/scikeras/wrappers.py\", line 1494, in fit\n",
            "    super().fit(X=X, y=y, sample_weight=sample_weight, **kwargs)\n",
            "  File \"/usr/local/lib/python3.8/dist-packages/scikeras/wrappers.py\", line 762, in fit\n",
            "    self._fit(\n",
            "  File \"/usr/local/lib/python3.8/dist-packages/scikeras/wrappers.py\", line 918, in _fit\n",
            "    X, y = self._initialize(X, y)\n",
            "  File \"/usr/local/lib/python3.8/dist-packages/scikeras/wrappers.py\", line 855, in _initialize\n",
            "    self.model_ = self._build_keras_model()\n",
            "  File \"/usr/local/lib/python3.8/dist-packages/scikeras/wrappers.py\", line 431, in _build_keras_model\n",
            "    model = final_build_fn(**build_params)\n",
            "  File \"<ipython-input-52-08e7e3d9a297>\", line 17, in create_conv1d_model\n",
            "    X = MaxPooling1D(3)(X)\n",
            "  File \"/usr/local/lib/python3.8/dist-packages/keras/utils/traceback_utils.py\", line 67, in error_handler\n",
            "    raise e.with_traceback(filtered_tb) from None\n",
            "  File \"/usr/local/lib/python3.8/dist-packages/keras/backend.py\", line 6106, in pool2d\n",
            "    x = tf.compat.v1.nn.max_pool(\n",
            "ValueError: Exception encountered when calling layer \"max_pooling1d_126\" (type MaxPooling1D).\n",
            "\n",
            "Negative dimension size caused by subtracting 3 from 1 for '{{node max_pooling1d_126/MaxPool}} = MaxPool[T=DT_FLOAT, data_format=\"NHWC\", explicit_paddings=[], ksize=[1, 3, 1, 1], padding=\"VALID\", strides=[1, 3, 1, 1]](max_pooling1d_126/ExpandDims)' with input shapes: [?,1,1,256].\n",
            "\n",
            "Call arguments received by layer \"max_pooling1d_126\" (type MaxPooling1D):\n",
            "  • inputs=tf.Tensor(shape=(None, 1, 256), dtype=float32)\n",
            "\n",
            "--------------------------------------------------------------------------------\n",
            "1 fits failed with the following error:\n",
            "Traceback (most recent call last):\n",
            "  File \"/usr/local/lib/python3.8/dist-packages/sklearn/model_selection/_validation.py\", line 680, in _fit_and_score\n",
            "    estimator.fit(X_train, y_train, **fit_params)\n",
            "  File \"/usr/local/lib/python3.8/dist-packages/scikeras/wrappers.py\", line 1494, in fit\n",
            "    super().fit(X=X, y=y, sample_weight=sample_weight, **kwargs)\n",
            "  File \"/usr/local/lib/python3.8/dist-packages/scikeras/wrappers.py\", line 762, in fit\n",
            "    self._fit(\n",
            "  File \"/usr/local/lib/python3.8/dist-packages/scikeras/wrappers.py\", line 918, in _fit\n",
            "    X, y = self._initialize(X, y)\n",
            "  File \"/usr/local/lib/python3.8/dist-packages/scikeras/wrappers.py\", line 855, in _initialize\n",
            "    self.model_ = self._build_keras_model()\n",
            "  File \"/usr/local/lib/python3.8/dist-packages/scikeras/wrappers.py\", line 431, in _build_keras_model\n",
            "    model = final_build_fn(**build_params)\n",
            "  File \"<ipython-input-52-08e7e3d9a297>\", line 17, in create_conv1d_model\n",
            "    X = MaxPooling1D(3)(X)\n",
            "  File \"/usr/local/lib/python3.8/dist-packages/keras/utils/traceback_utils.py\", line 67, in error_handler\n",
            "    raise e.with_traceback(filtered_tb) from None\n",
            "  File \"/usr/local/lib/python3.8/dist-packages/keras/backend.py\", line 6106, in pool2d\n",
            "    x = tf.compat.v1.nn.max_pool(\n",
            "ValueError: Exception encountered when calling layer \"max_pooling1d_129\" (type MaxPooling1D).\n",
            "\n",
            "Negative dimension size caused by subtracting 3 from 1 for '{{node max_pooling1d_129/MaxPool}} = MaxPool[T=DT_FLOAT, data_format=\"NHWC\", explicit_paddings=[], ksize=[1, 3, 1, 1], padding=\"VALID\", strides=[1, 3, 1, 1]](max_pooling1d_129/ExpandDims)' with input shapes: [?,1,1,256].\n",
            "\n",
            "Call arguments received by layer \"max_pooling1d_129\" (type MaxPooling1D):\n",
            "  • inputs=tf.Tensor(shape=(None, 1, 256), dtype=float32)\n",
            "\n",
            "--------------------------------------------------------------------------------\n",
            "1 fits failed with the following error:\n",
            "Traceback (most recent call last):\n",
            "  File \"/usr/local/lib/python3.8/dist-packages/sklearn/model_selection/_validation.py\", line 680, in _fit_and_score\n",
            "    estimator.fit(X_train, y_train, **fit_params)\n",
            "  File \"/usr/local/lib/python3.8/dist-packages/scikeras/wrappers.py\", line 1494, in fit\n",
            "    super().fit(X=X, y=y, sample_weight=sample_weight, **kwargs)\n",
            "  File \"/usr/local/lib/python3.8/dist-packages/scikeras/wrappers.py\", line 762, in fit\n",
            "    self._fit(\n",
            "  File \"/usr/local/lib/python3.8/dist-packages/scikeras/wrappers.py\", line 918, in _fit\n",
            "    X, y = self._initialize(X, y)\n",
            "  File \"/usr/local/lib/python3.8/dist-packages/scikeras/wrappers.py\", line 855, in _initialize\n",
            "    self.model_ = self._build_keras_model()\n",
            "  File \"/usr/local/lib/python3.8/dist-packages/scikeras/wrappers.py\", line 431, in _build_keras_model\n",
            "    model = final_build_fn(**build_params)\n",
            "  File \"<ipython-input-52-08e7e3d9a297>\", line 17, in create_conv1d_model\n",
            "    X = MaxPooling1D(3)(X)\n",
            "  File \"/usr/local/lib/python3.8/dist-packages/keras/utils/traceback_utils.py\", line 67, in error_handler\n",
            "    raise e.with_traceback(filtered_tb) from None\n",
            "  File \"/usr/local/lib/python3.8/dist-packages/keras/backend.py\", line 6106, in pool2d\n",
            "    x = tf.compat.v1.nn.max_pool(\n",
            "ValueError: Exception encountered when calling layer \"max_pooling1d_144\" (type MaxPooling1D).\n",
            "\n",
            "Negative dimension size caused by subtracting 3 from 1 for '{{node max_pooling1d_144/MaxPool}} = MaxPool[T=DT_FLOAT, data_format=\"NHWC\", explicit_paddings=[], ksize=[1, 3, 1, 1], padding=\"VALID\", strides=[1, 3, 1, 1]](max_pooling1d_144/ExpandDims)' with input shapes: [?,1,1,128].\n",
            "\n",
            "Call arguments received by layer \"max_pooling1d_144\" (type MaxPooling1D):\n",
            "  • inputs=tf.Tensor(shape=(None, 1, 128), dtype=float32)\n",
            "\n",
            "--------------------------------------------------------------------------------\n",
            "1 fits failed with the following error:\n",
            "Traceback (most recent call last):\n",
            "  File \"/usr/local/lib/python3.8/dist-packages/sklearn/model_selection/_validation.py\", line 680, in _fit_and_score\n",
            "    estimator.fit(X_train, y_train, **fit_params)\n",
            "  File \"/usr/local/lib/python3.8/dist-packages/scikeras/wrappers.py\", line 1494, in fit\n",
            "    super().fit(X=X, y=y, sample_weight=sample_weight, **kwargs)\n",
            "  File \"/usr/local/lib/python3.8/dist-packages/scikeras/wrappers.py\", line 762, in fit\n",
            "    self._fit(\n",
            "  File \"/usr/local/lib/python3.8/dist-packages/scikeras/wrappers.py\", line 918, in _fit\n",
            "    X, y = self._initialize(X, y)\n",
            "  File \"/usr/local/lib/python3.8/dist-packages/scikeras/wrappers.py\", line 855, in _initialize\n",
            "    self.model_ = self._build_keras_model()\n",
            "  File \"/usr/local/lib/python3.8/dist-packages/scikeras/wrappers.py\", line 431, in _build_keras_model\n",
            "    model = final_build_fn(**build_params)\n",
            "  File \"<ipython-input-52-08e7e3d9a297>\", line 17, in create_conv1d_model\n",
            "    X = MaxPooling1D(3)(X)\n",
            "  File \"/usr/local/lib/python3.8/dist-packages/keras/utils/traceback_utils.py\", line 67, in error_handler\n",
            "    raise e.with_traceback(filtered_tb) from None\n",
            "  File \"/usr/local/lib/python3.8/dist-packages/keras/backend.py\", line 6106, in pool2d\n",
            "    x = tf.compat.v1.nn.max_pool(\n",
            "ValueError: Exception encountered when calling layer \"max_pooling1d_147\" (type MaxPooling1D).\n",
            "\n",
            "Negative dimension size caused by subtracting 3 from 1 for '{{node max_pooling1d_147/MaxPool}} = MaxPool[T=DT_FLOAT, data_format=\"NHWC\", explicit_paddings=[], ksize=[1, 3, 1, 1], padding=\"VALID\", strides=[1, 3, 1, 1]](max_pooling1d_147/ExpandDims)' with input shapes: [?,1,1,128].\n",
            "\n",
            "Call arguments received by layer \"max_pooling1d_147\" (type MaxPooling1D):\n",
            "  • inputs=tf.Tensor(shape=(None, 1, 128), dtype=float32)\n",
            "\n",
            "--------------------------------------------------------------------------------\n",
            "1 fits failed with the following error:\n",
            "Traceback (most recent call last):\n",
            "  File \"/usr/local/lib/python3.8/dist-packages/sklearn/model_selection/_validation.py\", line 680, in _fit_and_score\n",
            "    estimator.fit(X_train, y_train, **fit_params)\n",
            "  File \"/usr/local/lib/python3.8/dist-packages/scikeras/wrappers.py\", line 1494, in fit\n",
            "    super().fit(X=X, y=y, sample_weight=sample_weight, **kwargs)\n",
            "  File \"/usr/local/lib/python3.8/dist-packages/scikeras/wrappers.py\", line 762, in fit\n",
            "    self._fit(\n",
            "  File \"/usr/local/lib/python3.8/dist-packages/scikeras/wrappers.py\", line 918, in _fit\n",
            "    X, y = self._initialize(X, y)\n",
            "  File \"/usr/local/lib/python3.8/dist-packages/scikeras/wrappers.py\", line 855, in _initialize\n",
            "    self.model_ = self._build_keras_model()\n",
            "  File \"/usr/local/lib/python3.8/dist-packages/scikeras/wrappers.py\", line 431, in _build_keras_model\n",
            "    model = final_build_fn(**build_params)\n",
            "  File \"<ipython-input-52-08e7e3d9a297>\", line 17, in create_conv1d_model\n",
            "    X = MaxPooling1D(3)(X)\n",
            "  File \"/usr/local/lib/python3.8/dist-packages/keras/utils/traceback_utils.py\", line 67, in error_handler\n",
            "    raise e.with_traceback(filtered_tb) from None\n",
            "  File \"/usr/local/lib/python3.8/dist-packages/keras/backend.py\", line 6106, in pool2d\n",
            "    x = tf.compat.v1.nn.max_pool(\n",
            "ValueError: Exception encountered when calling layer \"max_pooling1d_150\" (type MaxPooling1D).\n",
            "\n",
            "Negative dimension size caused by subtracting 3 from 1 for '{{node max_pooling1d_150/MaxPool}} = MaxPool[T=DT_FLOAT, data_format=\"NHWC\", explicit_paddings=[], ksize=[1, 3, 1, 1], padding=\"VALID\", strides=[1, 3, 1, 1]](max_pooling1d_150/ExpandDims)' with input shapes: [?,1,1,128].\n",
            "\n",
            "Call arguments received by layer \"max_pooling1d_150\" (type MaxPooling1D):\n",
            "  • inputs=tf.Tensor(shape=(None, 1, 128), dtype=float32)\n",
            "\n",
            "--------------------------------------------------------------------------------\n",
            "1 fits failed with the following error:\n",
            "Traceback (most recent call last):\n",
            "  File \"/usr/local/lib/python3.8/dist-packages/sklearn/model_selection/_validation.py\", line 680, in _fit_and_score\n",
            "    estimator.fit(X_train, y_train, **fit_params)\n",
            "  File \"/usr/local/lib/python3.8/dist-packages/scikeras/wrappers.py\", line 1494, in fit\n",
            "    super().fit(X=X, y=y, sample_weight=sample_weight, **kwargs)\n",
            "  File \"/usr/local/lib/python3.8/dist-packages/scikeras/wrappers.py\", line 762, in fit\n",
            "    self._fit(\n",
            "  File \"/usr/local/lib/python3.8/dist-packages/scikeras/wrappers.py\", line 918, in _fit\n",
            "    X, y = self._initialize(X, y)\n",
            "  File \"/usr/local/lib/python3.8/dist-packages/scikeras/wrappers.py\", line 855, in _initialize\n",
            "    self.model_ = self._build_keras_model()\n",
            "  File \"/usr/local/lib/python3.8/dist-packages/scikeras/wrappers.py\", line 431, in _build_keras_model\n",
            "    model = final_build_fn(**build_params)\n",
            "  File \"<ipython-input-52-08e7e3d9a297>\", line 17, in create_conv1d_model\n",
            "    X = MaxPooling1D(3)(X)\n",
            "  File \"/usr/local/lib/python3.8/dist-packages/keras/utils/traceback_utils.py\", line 67, in error_handler\n",
            "    raise e.with_traceback(filtered_tb) from None\n",
            "  File \"/usr/local/lib/python3.8/dist-packages/keras/backend.py\", line 6106, in pool2d\n",
            "    x = tf.compat.v1.nn.max_pool(\n",
            "ValueError: Exception encountered when calling layer \"max_pooling1d_153\" (type MaxPooling1D).\n",
            "\n",
            "Negative dimension size caused by subtracting 3 from 1 for '{{node max_pooling1d_153/MaxPool}} = MaxPool[T=DT_FLOAT, data_format=\"NHWC\", explicit_paddings=[], ksize=[1, 3, 1, 1], padding=\"VALID\", strides=[1, 3, 1, 1]](max_pooling1d_153/ExpandDims)' with input shapes: [?,1,1,128].\n",
            "\n",
            "Call arguments received by layer \"max_pooling1d_153\" (type MaxPooling1D):\n",
            "  • inputs=tf.Tensor(shape=(None, 1, 128), dtype=float32)\n",
            "\n",
            "  warnings.warn(some_fits_failed_message, FitFailedWarning)\n",
            "/usr/local/lib/python3.8/dist-packages/sklearn/model_selection/_search.py:969: UserWarning: One or more of the test scores are non-finite: [       nan        nan 0.70777478        nan 0.71039661]\n",
            "  warnings.warn(\n"
          ]
        },
        {
          "output_type": "stream",
          "name": "stdout",
          "text": [
            "248/248 [==============================] - 4s 15ms/step - loss: 0.6100 - accuracy: 0.6922 - val_loss: 0.5398 - val_accuracy: 0.7394\n",
            "Epoch 2/50\n",
            "248/248 [==============================] - 3s 14ms/step - loss: 0.5071 - accuracy: 0.7601 - val_loss: 0.5539 - val_accuracy: 0.7560\n",
            "Epoch 3/50\n",
            "248/248 [==============================] - 4s 15ms/step - loss: 0.4166 - accuracy: 0.8170 - val_loss: 0.5752 - val_accuracy: 0.7258\n",
            "Epoch 4/50\n",
            "248/248 [==============================] - 4s 14ms/step - loss: 0.3028 - accuracy: 0.8721 - val_loss: 0.5613 - val_accuracy: 0.7399\n",
            "Epoch 5/50\n",
            "248/248 [==============================] - 4s 15ms/step - loss: 0.2063 - accuracy: 0.9203 - val_loss: 0.6629 - val_accuracy: 0.7374\n",
            "Epoch 6/50\n",
            "248/248 [==============================] - 4s 15ms/step - loss: 0.1532 - accuracy: 0.9424 - val_loss: 0.6809 - val_accuracy: 0.7293\n",
            "Epoch 7/50\n",
            "248/248 [==============================] - 4s 15ms/step - loss: 0.1212 - accuracy: 0.9588 - val_loss: 0.7601 - val_accuracy: 0.7339\n",
            "Epoch 8/50\n",
            "248/248 [==============================] - 3s 14ms/step - loss: 0.1050 - accuracy: 0.9646 - val_loss: 0.7362 - val_accuracy: 0.7349\n",
            "Epoch 9/50\n",
            "248/248 [==============================] - 4s 15ms/step - loss: 0.0899 - accuracy: 0.9735 - val_loss: 0.9344 - val_accuracy: 0.7364\n",
            "Epoch 10/50\n",
            "248/248 [==============================] - 4s 15ms/step - loss: 0.0650 - accuracy: 0.9789 - val_loss: 0.8279 - val_accuracy: 0.7303\n",
            "Epoch 11/50\n",
            "248/248 [==============================] - 4s 14ms/step - loss: 0.0727 - accuracy: 0.9782 - val_loss: 0.8429 - val_accuracy: 0.7243\n",
            "Epoch 12/50\n",
            "248/248 [==============================] - 3s 14ms/step - loss: 0.0606 - accuracy: 0.9800 - val_loss: 0.9312 - val_accuracy: 0.7283\n"
          ]
        }
      ]
    },
    {
      "cell_type": "code",
      "source": [
        "print(grid_cnn.best_score_, grid_cnn.best_params_)"
      ],
      "metadata": {
        "id": "2ByB3L56mp4J",
        "colab": {
          "base_uri": "https://localhost:8080/"
        },
        "outputId": "6972876c-cc2e-4427-de92-1fbfc5e26c50"
      },
      "execution_count": null,
      "outputs": [
        {
          "output_type": "stream",
          "name": "stdout",
          "text": [
            "0.7129180275605407 {'model__kernel_size': 3, 'model__filters': 128}\n"
          ]
        }
      ]
    },
    {
      "cell_type": "markdown",
      "source": [
        "# GRU"
      ],
      "metadata": {
        "id": "8_K1NtQIMxf6"
      }
    },
    {
      "cell_type": "code",
      "source": [
        "def create_gru_model(input_shape, units, rate):\n",
        "  X_indices = Input(input_shape)\n",
        "\n",
        "  embeddings = embedding_layer(X_indices)\n",
        "\n",
        "  X = GRU(units, return_sequences=True)(embeddings)\n",
        "\n",
        "  X = Dropout(rate)(X)\n",
        "\n",
        "  #X = GRU(128, return_sequences=True)(X)\n",
        "\n",
        "  #X = Dropout(0.6)(X)\n",
        "\n",
        "  X = GRU(units)(X)\n",
        "\n",
        "  X = Dense(32, activation=\"relu\")(X)\n",
        "\n",
        "  X = Dropout(rate)(X)\n",
        "\n",
        "  X = Dense(1, activation='sigmoid')(X)\n",
        "\n",
        "  model = Model(inputs=X_indices, outputs=X)\n",
        "\n",
        "  model.compile(loss=\"binary_crossentropy\",\n",
        "                optimizer=\"Adam\",\n",
        "                metrics=[\"accuracy\"])\n",
        "\n",
        "  return model"
      ],
      "metadata": {
        "id": "ETH_QBLjc-Bh"
      },
      "execution_count": null,
      "outputs": []
    },
    {
      "cell_type": "code",
      "source": [
        "model_gru = KerasClassifier(create_gru_model,\n",
        "                        epochs=50,\n",
        "                        verbose=1,\n",
        "                        input_shape=(max_text_len,),\n",
        "                        validation_split=0.2,\n",
        "                        callbacks=[reduce_lr_acc, earlyStopping]\n",
        "                        )"
      ],
      "metadata": {
        "id": "UnQZvS4udc_5"
      },
      "execution_count": null,
      "outputs": []
    },
    {
      "cell_type": "code",
      "source": [
        "param_grid_gru = dict(\n",
        "    model__units = [128, 64, 32],\n",
        "    model__rate = [0.5, 0.6, 0.7, 0.8]\n",
        ")"
      ],
      "metadata": {
        "id": "hbD9OdsDdxbc"
      },
      "execution_count": null,
      "outputs": []
    },
    {
      "cell_type": "code",
      "source": [
        "grid_gru = RandomizedSearchCV(model_gru, param_grid_gru, cv=4, verbose=1, n_iter=5, scoring=\"accuracy\")"
      ],
      "metadata": {
        "id": "eLHuJGbzexG0"
      },
      "execution_count": null,
      "outputs": []
    },
    {
      "cell_type": "code",
      "source": [
        "grid_result_gru = grid_gru.fit(X_train_padded, y_train)"
      ],
      "metadata": {
        "colab": {
          "base_uri": "https://localhost:8080/"
        },
        "id": "C94Nh615dy6u",
        "outputId": "6c13e60c-e1e2-4482-bf79-7ad9371e0f06"
      },
      "execution_count": null,
      "outputs": [
        {
          "output_type": "stream",
          "name": "stdout",
          "text": [
            "Fitting 4 folds for each of 5 candidates, totalling 20 fits\n",
            "Epoch 1/50\n",
            "135/135 [==============================] - 18s 34ms/step - loss: 0.6551 - accuracy: 0.6584 - val_loss: 0.6317 - val_accuracy: 0.6809 - lr: 0.0010\n",
            "Epoch 2/50\n",
            "135/135 [==============================] - 2s 11ms/step - loss: 0.6451 - accuracy: 0.6591 - val_loss: 0.6334 - val_accuracy: 0.6809 - lr: 0.0010\n",
            "Epoch 3/50\n",
            "135/135 [==============================] - 2s 14ms/step - loss: 0.6477 - accuracy: 0.6591 - val_loss: 0.6273 - val_accuracy: 0.6809 - lr: 0.0010\n",
            "Epoch 4/50\n",
            "135/135 [==============================] - 2s 16ms/step - loss: 0.6466 - accuracy: 0.6591 - val_loss: 0.6300 - val_accuracy: 0.6809 - lr: 0.0010\n",
            "Epoch 5/50\n",
            "135/135 [==============================] - 2s 13ms/step - loss: 0.6501 - accuracy: 0.6591 - val_loss: 0.6305 - val_accuracy: 0.6809 - lr: 0.0010\n",
            "Epoch 6/50\n",
            "132/135 [============================>.] - ETA: 0s - loss: 0.6465 - accuracy: 0.6605\n",
            "Epoch 6: ReduceLROnPlateau reducing learning rate to 0.00010000000474974513.\n",
            "135/135 [==============================] - 1s 10ms/step - loss: 0.6475 - accuracy: 0.6591 - val_loss: 0.6314 - val_accuracy: 0.6809 - lr: 0.0010\n",
            "Epoch 7/50\n",
            "135/135 [==============================] - 2s 12ms/step - loss: 0.6435 - accuracy: 0.6591 - val_loss: 0.6288 - val_accuracy: 0.6809 - lr: 1.0000e-04\n",
            "Epoch 8/50\n",
            "135/135 [==============================] - 2s 12ms/step - loss: 0.6471 - accuracy: 0.6591 - val_loss: 0.6294 - val_accuracy: 0.6809 - lr: 1.0000e-04\n",
            "Epoch 9/50\n",
            "135/135 [==============================] - 1s 11ms/step - loss: 0.6458 - accuracy: 0.6591 - val_loss: 0.6295 - val_accuracy: 0.6809 - lr: 1.0000e-04\n",
            "Epoch 10/50\n",
            "135/135 [==============================] - 1s 11ms/step - loss: 0.6457 - accuracy: 0.6591 - val_loss: 0.6292 - val_accuracy: 0.6809 - lr: 1.0000e-04\n",
            "Epoch 11/50\n",
            "134/135 [============================>.] - ETA: 0s - loss: 0.6437 - accuracy: 0.6597\n",
            "Epoch 11: ReduceLROnPlateau reducing learning rate to 1.0000000474974514e-05.\n",
            "135/135 [==============================] - 2s 12ms/step - loss: 0.6440 - accuracy: 0.6591 - val_loss: 0.6288 - val_accuracy: 0.6809 - lr: 1.0000e-04\n",
            "Epoch 12/50\n",
            "135/135 [==============================] - 2s 15ms/step - loss: 0.6453 - accuracy: 0.6591 - val_loss: 0.6288 - val_accuracy: 0.6809 - lr: 1.0000e-05\n",
            "Epoch 13/50\n",
            "135/135 [==============================] - 2s 13ms/step - loss: 0.6436 - accuracy: 0.6591 - val_loss: 0.6287 - val_accuracy: 0.6809 - lr: 1.0000e-05\n",
            "Epoch 14/50\n",
            "135/135 [==============================] - 1s 11ms/step - loss: 0.6443 - accuracy: 0.6591 - val_loss: 0.6286 - val_accuracy: 0.6809 - lr: 1.0000e-05\n",
            "Epoch 15/50\n",
            "135/135 [==============================] - 1s 11ms/step - loss: 0.6455 - accuracy: 0.6591 - val_loss: 0.6286 - val_accuracy: 0.6809 - lr: 1.0000e-05\n",
            "Epoch 16/50\n",
            "135/135 [==============================] - ETA: 0s - loss: 0.6444 - accuracy: 0.6591\n",
            "Epoch 16: ReduceLROnPlateau reducing learning rate to 1.0000000656873453e-06.\n",
            "135/135 [==============================] - 1s 11ms/step - loss: 0.6444 - accuracy: 0.6591 - val_loss: 0.6287 - val_accuracy: 0.6809 - lr: 1.0000e-05\n",
            "56/56 [==============================] - 1s 5ms/step\n",
            "Epoch 1/50\n",
            "135/135 [==============================] - 8s 17ms/step - loss: 0.6538 - accuracy: 0.6591 - val_loss: 0.6327 - val_accuracy: 0.6809 - lr: 0.0010\n",
            "Epoch 2/50\n",
            "135/135 [==============================] - 1s 10ms/step - loss: 0.6480 - accuracy: 0.6591 - val_loss: 0.6355 - val_accuracy: 0.6809 - lr: 0.0010\n",
            "Epoch 3/50\n",
            "135/135 [==============================] - 1s 11ms/step - loss: 0.6489 - accuracy: 0.6591 - val_loss: 0.6337 - val_accuracy: 0.6809 - lr: 0.0010\n",
            "Epoch 4/50\n",
            "135/135 [==============================] - 1s 11ms/step - loss: 0.6470 - accuracy: 0.6591 - val_loss: 0.6309 - val_accuracy: 0.6809 - lr: 0.0010\n",
            "Epoch 5/50\n",
            "135/135 [==============================] - 1s 11ms/step - loss: 0.6471 - accuracy: 0.6591 - val_loss: 0.6278 - val_accuracy: 0.6809 - lr: 0.0010\n",
            "Epoch 6/50\n",
            "132/135 [============================>.] - ETA: 0s - loss: 0.6479 - accuracy: 0.6591\n",
            "Epoch 6: ReduceLROnPlateau reducing learning rate to 0.00010000000474974513.\n",
            "135/135 [==============================] - 2s 15ms/step - loss: 0.6480 - accuracy: 0.6591 - val_loss: 0.6302 - val_accuracy: 0.6809 - lr: 0.0010\n",
            "Epoch 7/50\n",
            "135/135 [==============================] - 2s 16ms/step - loss: 0.6472 - accuracy: 0.6591 - val_loss: 0.6297 - val_accuracy: 0.6809 - lr: 1.0000e-04\n",
            "Epoch 8/50\n",
            "135/135 [==============================] - 1s 11ms/step - loss: 0.6451 - accuracy: 0.6591 - val_loss: 0.6290 - val_accuracy: 0.6809 - lr: 1.0000e-04\n",
            "Epoch 9/50\n",
            "135/135 [==============================] - 1s 11ms/step - loss: 0.6442 - accuracy: 0.6591 - val_loss: 0.6289 - val_accuracy: 0.6809 - lr: 1.0000e-04\n",
            "Epoch 10/50\n",
            "135/135 [==============================] - 2s 12ms/step - loss: 0.6448 - accuracy: 0.6591 - val_loss: 0.6289 - val_accuracy: 0.6809 - lr: 1.0000e-04\n",
            "Epoch 11/50\n",
            "132/135 [============================>.] - ETA: 0s - loss: 0.6438 - accuracy: 0.6598\n",
            "Epoch 11: ReduceLROnPlateau reducing learning rate to 1.0000000474974514e-05.\n",
            "135/135 [==============================] - 1s 10ms/step - loss: 0.6440 - accuracy: 0.6591 - val_loss: 0.6286 - val_accuracy: 0.6809 - lr: 1.0000e-04\n",
            "Epoch 12/50\n",
            "135/135 [==============================] - 1s 11ms/step - loss: 0.6419 - accuracy: 0.6591 - val_loss: 0.6285 - val_accuracy: 0.6809 - lr: 1.0000e-05\n",
            "Epoch 13/50\n",
            "135/135 [==============================] - 1s 11ms/step - loss: 0.6446 - accuracy: 0.6591 - val_loss: 0.6285 - val_accuracy: 0.6809 - lr: 1.0000e-05\n",
            "Epoch 14/50\n",
            "135/135 [==============================] - 2s 12ms/step - loss: 0.6437 - accuracy: 0.6591 - val_loss: 0.6284 - val_accuracy: 0.6809 - lr: 1.0000e-05\n",
            "Epoch 15/50\n",
            "135/135 [==============================] - 2s 16ms/step - loss: 0.6447 - accuracy: 0.6591 - val_loss: 0.6285 - val_accuracy: 0.6809 - lr: 1.0000e-05\n",
            "Epoch 16/50\n",
            "135/135 [==============================] - ETA: 0s - loss: 0.6472 - accuracy: 0.6591\n",
            "Epoch 16: ReduceLROnPlateau reducing learning rate to 1.0000000656873453e-06.\n",
            "135/135 [==============================] - 2s 14ms/step - loss: 0.6472 - accuracy: 0.6591 - val_loss: 0.6286 - val_accuracy: 0.6809 - lr: 1.0000e-05\n",
            "56/56 [==============================] - 1s 5ms/step\n",
            "Epoch 1/50\n",
            "135/135 [==============================] - 7s 20ms/step - loss: 0.6539 - accuracy: 0.6580 - val_loss: 0.6271 - val_accuracy: 0.6809 - lr: 0.0010\n",
            "Epoch 2/50\n",
            "135/135 [==============================] - 2s 15ms/step - loss: 0.6507 - accuracy: 0.6594 - val_loss: 0.6310 - val_accuracy: 0.6809 - lr: 0.0010\n",
            "Epoch 3/50\n",
            "135/135 [==============================] - 2s 12ms/step - loss: 0.6492 - accuracy: 0.6591 - val_loss: 0.6264 - val_accuracy: 0.6809 - lr: 0.0010\n",
            "Epoch 4/50\n",
            "135/135 [==============================] - 1s 11ms/step - loss: 0.6494 - accuracy: 0.6591 - val_loss: 0.6306 - val_accuracy: 0.6809 - lr: 0.0010\n",
            "Epoch 5/50\n",
            "135/135 [==============================] - 2s 12ms/step - loss: 0.6446 - accuracy: 0.6594 - val_loss: 0.6295 - val_accuracy: 0.6809 - lr: 0.0010\n",
            "Epoch 6/50\n",
            "132/135 [============================>.] - ETA: 0s - loss: 0.6464 - accuracy: 0.6589\n",
            "Epoch 6: ReduceLROnPlateau reducing learning rate to 0.00010000000474974513.\n",
            "135/135 [==============================] - 1s 11ms/step - loss: 0.6460 - accuracy: 0.6594 - val_loss: 0.6328 - val_accuracy: 0.6809 - lr: 0.0010\n",
            "Epoch 7/50\n",
            "135/135 [==============================] - 1s 11ms/step - loss: 0.6465 - accuracy: 0.6594 - val_loss: 0.6311 - val_accuracy: 0.6809 - lr: 1.0000e-04\n",
            "Epoch 8/50\n",
            "135/135 [==============================] - 1s 11ms/step - loss: 0.6459 - accuracy: 0.6594 - val_loss: 0.6297 - val_accuracy: 0.6809 - lr: 1.0000e-04\n",
            "Epoch 9/50\n",
            "135/135 [==============================] - 1s 10ms/step - loss: 0.6469 - accuracy: 0.6594 - val_loss: 0.6294 - val_accuracy: 0.6809 - lr: 1.0000e-04\n",
            "Epoch 10/50\n",
            "135/135 [==============================] - 2s 15ms/step - loss: 0.6454 - accuracy: 0.6594 - val_loss: 0.6295 - val_accuracy: 0.6809 - lr: 1.0000e-04\n",
            "Epoch 11/50\n",
            "133/135 [============================>.] - ETA: 0s - loss: 0.6438 - accuracy: 0.6602\n",
            "Epoch 11: ReduceLROnPlateau reducing learning rate to 1.0000000474974514e-05.\n",
            "135/135 [==============================] - 4s 27ms/step - loss: 0.6444 - accuracy: 0.6594 - val_loss: 0.6290 - val_accuracy: 0.6809 - lr: 1.0000e-04\n",
            "Epoch 12/50\n",
            "135/135 [==============================] - 2s 12ms/step - loss: 0.6433 - accuracy: 0.6594 - val_loss: 0.6289 - val_accuracy: 0.6809 - lr: 1.0000e-05\n",
            "Epoch 13/50\n",
            "135/135 [==============================] - 1s 11ms/step - loss: 0.6456 - accuracy: 0.6594 - val_loss: 0.6289 - val_accuracy: 0.6809 - lr: 1.0000e-05\n",
            "Epoch 14/50\n",
            "135/135 [==============================] - 2s 11ms/step - loss: 0.6444 - accuracy: 0.6594 - val_loss: 0.6289 - val_accuracy: 0.6809 - lr: 1.0000e-05\n",
            "Epoch 15/50\n",
            "135/135 [==============================] - 1s 11ms/step - loss: 0.6429 - accuracy: 0.6594 - val_loss: 0.6288 - val_accuracy: 0.6809 - lr: 1.0000e-05\n",
            "Epoch 16/50\n",
            "132/135 [============================>.] - ETA: 0s - loss: 0.6451 - accuracy: 0.6591\n",
            "Epoch 16: ReduceLROnPlateau reducing learning rate to 1.0000000656873453e-06.\n",
            "135/135 [==============================] - 2s 11ms/step - loss: 0.6451 - accuracy: 0.6594 - val_loss: 0.6288 - val_accuracy: 0.6809 - lr: 1.0000e-05\n",
            "56/56 [==============================] - 1s 5ms/step\n",
            "Epoch 1/50\n",
            "135/135 [==============================] - 10s 18ms/step - loss: 0.6533 - accuracy: 0.6605 - val_loss: 0.6378 - val_accuracy: 0.6763 - lr: 0.0010\n",
            "Epoch 2/50\n",
            "135/135 [==============================] - 1s 11ms/step - loss: 0.6481 - accuracy: 0.6605 - val_loss: 0.6303 - val_accuracy: 0.6763 - lr: 0.0010\n",
            "Epoch 3/50\n",
            "135/135 [==============================] - 2s 12ms/step - loss: 0.6490 - accuracy: 0.6605 - val_loss: 0.6382 - val_accuracy: 0.6763 - lr: 0.0010\n",
            "Epoch 4/50\n",
            "135/135 [==============================] - 1s 11ms/step - loss: 0.6451 - accuracy: 0.6605 - val_loss: 0.6329 - val_accuracy: 0.6763 - lr: 0.0010\n",
            "Epoch 5/50\n",
            "135/135 [==============================] - 2s 15ms/step - loss: 0.6471 - accuracy: 0.6605 - val_loss: 0.6315 - val_accuracy: 0.6763 - lr: 0.0010\n",
            "Epoch 6/50\n",
            "135/135 [==============================] - ETA: 0s - loss: 0.6448 - accuracy: 0.6605\n",
            "Epoch 6: ReduceLROnPlateau reducing learning rate to 0.00010000000474974513.\n",
            "135/135 [==============================] - 2s 16ms/step - loss: 0.6448 - accuracy: 0.6605 - val_loss: 0.6300 - val_accuracy: 0.6763 - lr: 0.0010\n",
            "Epoch 7/50\n",
            "135/135 [==============================] - 2s 12ms/step - loss: 0.6433 - accuracy: 0.6605 - val_loss: 0.6313 - val_accuracy: 0.6763 - lr: 1.0000e-04\n",
            "Epoch 8/50\n",
            "135/135 [==============================] - 1s 11ms/step - loss: 0.6441 - accuracy: 0.6605 - val_loss: 0.6313 - val_accuracy: 0.6763 - lr: 1.0000e-04\n",
            "Epoch 9/50\n",
            "135/135 [==============================] - 1s 11ms/step - loss: 0.6437 - accuracy: 0.6605 - val_loss: 0.6317 - val_accuracy: 0.6763 - lr: 1.0000e-04\n",
            "Epoch 10/50\n",
            "135/135 [==============================] - 1s 11ms/step - loss: 0.6439 - accuracy: 0.6605 - val_loss: 0.6314 - val_accuracy: 0.6763 - lr: 1.0000e-04\n",
            "Epoch 11/50\n",
            "132/135 [============================>.] - ETA: 0s - loss: 0.6421 - accuracy: 0.6603\n",
            "Epoch 11: ReduceLROnPlateau reducing learning rate to 1.0000000474974514e-05.\n",
            "135/135 [==============================] - 1s 11ms/step - loss: 0.6421 - accuracy: 0.6605 - val_loss: 0.6313 - val_accuracy: 0.6763 - lr: 1.0000e-04\n",
            "Epoch 12/50\n",
            "135/135 [==============================] - 2s 12ms/step - loss: 0.6454 - accuracy: 0.6605 - val_loss: 0.6313 - val_accuracy: 0.6763 - lr: 1.0000e-05\n",
            "Epoch 13/50\n",
            "135/135 [==============================] - 2s 12ms/step - loss: 0.6446 - accuracy: 0.6605 - val_loss: 0.6313 - val_accuracy: 0.6763 - lr: 1.0000e-05\n",
            "Epoch 14/50\n",
            "135/135 [==============================] - 2s 15ms/step - loss: 0.6442 - accuracy: 0.6605 - val_loss: 0.6314 - val_accuracy: 0.6763 - lr: 1.0000e-05\n",
            "Epoch 15/50\n",
            "135/135 [==============================] - 2s 15ms/step - loss: 0.6442 - accuracy: 0.6605 - val_loss: 0.6314 - val_accuracy: 0.6763 - lr: 1.0000e-05\n",
            "Epoch 16/50\n",
            "135/135 [==============================] - ETA: 0s - loss: 0.6408 - accuracy: 0.6605\n",
            "Epoch 16: ReduceLROnPlateau reducing learning rate to 1.0000000656873453e-06.\n",
            "135/135 [==============================] - 1s 11ms/step - loss: 0.6408 - accuracy: 0.6605 - val_loss: 0.6313 - val_accuracy: 0.6763 - lr: 1.0000e-05\n",
            "56/56 [==============================] - 1s 5ms/step\n",
            "Epoch 1/50\n",
            "135/135 [==============================] - 8s 22ms/step - loss: 0.6517 - accuracy: 0.6589 - val_loss: 0.6263 - val_accuracy: 0.6809 - lr: 0.0010\n",
            "Epoch 2/50\n",
            "135/135 [==============================] - 2s 16ms/step - loss: 0.6478 - accuracy: 0.6591 - val_loss: 0.6290 - val_accuracy: 0.6809 - lr: 0.0010\n",
            "Epoch 3/50\n",
            "135/135 [==============================] - 2s 11ms/step - loss: 0.6463 - accuracy: 0.6591 - val_loss: 0.6269 - val_accuracy: 0.6809 - lr: 0.0010\n",
            "Epoch 4/50\n",
            "135/135 [==============================] - 1s 11ms/step - loss: 0.6444 - accuracy: 0.6591 - val_loss: 0.6292 - val_accuracy: 0.6809 - lr: 0.0010\n",
            "Epoch 5/50\n",
            "135/135 [==============================] - 2s 12ms/step - loss: 0.6458 - accuracy: 0.6591 - val_loss: 0.6269 - val_accuracy: 0.6809 - lr: 0.0010\n",
            "Epoch 6/50\n",
            "130/135 [===========================>..] - ETA: 0s - loss: 0.6453 - accuracy: 0.6591\n",
            "Epoch 6: ReduceLROnPlateau reducing learning rate to 0.00010000000474974513.\n",
            "135/135 [==============================] - 1s 11ms/step - loss: 0.6451 - accuracy: 0.6591 - val_loss: 0.6274 - val_accuracy: 0.6809 - lr: 0.0010\n",
            "Epoch 7/50\n",
            "135/135 [==============================] - 2s 12ms/step - loss: 0.6445 - accuracy: 0.6591 - val_loss: 0.6281 - val_accuracy: 0.6809 - lr: 1.0000e-04\n",
            "Epoch 8/50\n",
            "135/135 [==============================] - 1s 11ms/step - loss: 0.6443 - accuracy: 0.6591 - val_loss: 0.6280 - val_accuracy: 0.6809 - lr: 1.0000e-04\n",
            "Epoch 9/50\n",
            "135/135 [==============================] - 2s 14ms/step - loss: 0.6448 - accuracy: 0.6591 - val_loss: 0.6285 - val_accuracy: 0.6809 - lr: 1.0000e-04\n",
            "Epoch 10/50\n",
            "135/135 [==============================] - 2s 16ms/step - loss: 0.6438 - accuracy: 0.6591 - val_loss: 0.6284 - val_accuracy: 0.6809 - lr: 1.0000e-04\n",
            "Epoch 11/50\n",
            "130/135 [===========================>..] - ETA: 0s - loss: 0.6448 - accuracy: 0.6601\n",
            "Epoch 11: ReduceLROnPlateau reducing learning rate to 1.0000000474974514e-05.\n",
            "135/135 [==============================] - 2s 14ms/step - loss: 0.6451 - accuracy: 0.6591 - val_loss: 0.6280 - val_accuracy: 0.6809 - lr: 1.0000e-04\n",
            "Epoch 12/50\n",
            "135/135 [==============================] - 1s 11ms/step - loss: 0.6426 - accuracy: 0.6591 - val_loss: 0.6280 - val_accuracy: 0.6809 - lr: 1.0000e-05\n",
            "Epoch 13/50\n",
            "135/135 [==============================] - 1s 11ms/step - loss: 0.6458 - accuracy: 0.6591 - val_loss: 0.6281 - val_accuracy: 0.6809 - lr: 1.0000e-05\n",
            "Epoch 14/50\n",
            "135/135 [==============================] - 1s 11ms/step - loss: 0.6445 - accuracy: 0.6591 - val_loss: 0.6281 - val_accuracy: 0.6809 - lr: 1.0000e-05\n",
            "Epoch 15/50\n",
            "135/135 [==============================] - 2s 11ms/step - loss: 0.6435 - accuracy: 0.6591 - val_loss: 0.6281 - val_accuracy: 0.6809 - lr: 1.0000e-05\n",
            "Epoch 16/50\n",
            "134/135 [============================>.] - ETA: 0s - loss: 0.6438 - accuracy: 0.6593\n",
            "Epoch 16: ReduceLROnPlateau reducing learning rate to 1.0000000656873453e-06.\n",
            "135/135 [==============================] - 2s 11ms/step - loss: 0.6438 - accuracy: 0.6591 - val_loss: 0.6282 - val_accuracy: 0.6809 - lr: 1.0000e-05\n",
            "56/56 [==============================] - 1s 5ms/step\n",
            "Epoch 1/50\n",
            "135/135 [==============================] - 8s 18ms/step - loss: 0.6507 - accuracy: 0.6587 - val_loss: 0.6347 - val_accuracy: 0.6809 - lr: 0.0010\n",
            "Epoch 2/50\n",
            "135/135 [==============================] - 1s 11ms/step - loss: 0.6476 - accuracy: 0.6591 - val_loss: 0.6302 - val_accuracy: 0.6809 - lr: 0.0010\n",
            "Epoch 3/50\n",
            "135/135 [==============================] - 1s 11ms/step - loss: 0.6447 - accuracy: 0.6591 - val_loss: 0.6265 - val_accuracy: 0.6809 - lr: 0.0010\n",
            "Epoch 4/50\n",
            "135/135 [==============================] - 2s 14ms/step - loss: 0.6450 - accuracy: 0.6591 - val_loss: 0.6274 - val_accuracy: 0.6809 - lr: 0.0010\n",
            "Epoch 5/50\n",
            "135/135 [==============================] - 2s 15ms/step - loss: 0.6447 - accuracy: 0.6591 - val_loss: 0.6323 - val_accuracy: 0.6809 - lr: 0.0010\n",
            "Epoch 6/50\n",
            "133/135 [============================>.] - ETA: 0s - loss: 0.6468 - accuracy: 0.6595\n",
            "Epoch 6: ReduceLROnPlateau reducing learning rate to 0.00010000000474974513.\n",
            "135/135 [==============================] - 2s 13ms/step - loss: 0.6470 - accuracy: 0.6591 - val_loss: 0.6300 - val_accuracy: 0.6809 - lr: 0.0010\n",
            "Epoch 7/50\n",
            "135/135 [==============================] - 1s 11ms/step - loss: 0.6442 - accuracy: 0.6591 - val_loss: 0.6287 - val_accuracy: 0.6809 - lr: 1.0000e-04\n",
            "Epoch 8/50\n",
            "135/135 [==============================] - 1s 11ms/step - loss: 0.6420 - accuracy: 0.6591 - val_loss: 0.6283 - val_accuracy: 0.6809 - lr: 1.0000e-04\n",
            "Epoch 9/50\n",
            "135/135 [==============================] - 1s 11ms/step - loss: 0.6459 - accuracy: 0.6591 - val_loss: 0.6284 - val_accuracy: 0.6809 - lr: 1.0000e-04\n",
            "Epoch 10/50\n",
            "135/135 [==============================] - 2s 12ms/step - loss: 0.6448 - accuracy: 0.6591 - val_loss: 0.6283 - val_accuracy: 0.6809 - lr: 1.0000e-04\n",
            "Epoch 11/50\n",
            "133/135 [============================>.] - ETA: 0s - loss: 0.6433 - accuracy: 0.6591\n",
            "Epoch 11: ReduceLROnPlateau reducing learning rate to 1.0000000474974514e-05.\n",
            "135/135 [==============================] - 1s 11ms/step - loss: 0.6433 - accuracy: 0.6591 - val_loss: 0.6281 - val_accuracy: 0.6809 - lr: 1.0000e-04\n",
            "Epoch 12/50\n",
            "135/135 [==============================] - 1s 11ms/step - loss: 0.6431 - accuracy: 0.6591 - val_loss: 0.6280 - val_accuracy: 0.6809 - lr: 1.0000e-05\n",
            "Epoch 13/50\n",
            "135/135 [==============================] - 2s 16ms/step - loss: 0.6442 - accuracy: 0.6591 - val_loss: 0.6281 - val_accuracy: 0.6809 - lr: 1.0000e-05\n",
            "Epoch 14/50\n",
            "135/135 [==============================] - 2s 16ms/step - loss: 0.6456 - accuracy: 0.6591 - val_loss: 0.6281 - val_accuracy: 0.6809 - lr: 1.0000e-05\n",
            "Epoch 15/50\n",
            "135/135 [==============================] - 2s 12ms/step - loss: 0.6437 - accuracy: 0.6591 - val_loss: 0.6281 - val_accuracy: 0.6809 - lr: 1.0000e-05\n",
            "Epoch 16/50\n",
            "133/135 [============================>.] - ETA: 0s - loss: 0.6436 - accuracy: 0.6588\n",
            "Epoch 16: ReduceLROnPlateau reducing learning rate to 1.0000000656873453e-06.\n",
            "135/135 [==============================] - 1s 11ms/step - loss: 0.6433 - accuracy: 0.6591 - val_loss: 0.6281 - val_accuracy: 0.6809 - lr: 1.0000e-05\n",
            "56/56 [==============================] - 1s 4ms/step\n",
            "Epoch 1/50\n",
            "135/135 [==============================] - 9s 23ms/step - loss: 0.6533 - accuracy: 0.6577 - val_loss: 0.6261 - val_accuracy: 0.6809 - lr: 0.0010\n",
            "Epoch 2/50\n",
            "135/135 [==============================] - 1s 11ms/step - loss: 0.6474 - accuracy: 0.6594 - val_loss: 0.6276 - val_accuracy: 0.6809 - lr: 0.0010\n",
            "Epoch 3/50\n",
            "135/135 [==============================] - 2s 13ms/step - loss: 0.6460 - accuracy: 0.6594 - val_loss: 0.6271 - val_accuracy: 0.6809 - lr: 0.0010\n",
            "Epoch 4/50\n",
            "135/135 [==============================] - 1s 11ms/step - loss: 0.6449 - accuracy: 0.6594 - val_loss: 0.6292 - val_accuracy: 0.6809 - lr: 0.0010\n",
            "Epoch 5/50\n",
            "135/135 [==============================] - 2s 11ms/step - loss: 0.6448 - accuracy: 0.6594 - val_loss: 0.6270 - val_accuracy: 0.6809 - lr: 0.0010\n",
            "Epoch 6/50\n",
            "132/135 [============================>.] - ETA: 0s - loss: 0.6438 - accuracy: 0.6607\n",
            "Epoch 6: ReduceLROnPlateau reducing learning rate to 0.00010000000474974513.\n",
            "135/135 [==============================] - 2s 11ms/step - loss: 0.6445 - accuracy: 0.6594 - val_loss: 0.6297 - val_accuracy: 0.6809 - lr: 0.0010\n",
            "Epoch 7/50\n",
            "135/135 [==============================] - 1s 11ms/step - loss: 0.6440 - accuracy: 0.6594 - val_loss: 0.6286 - val_accuracy: 0.6809 - lr: 1.0000e-04\n",
            "Epoch 8/50\n",
            "135/135 [==============================] - 2s 15ms/step - loss: 0.6437 - accuracy: 0.6594 - val_loss: 0.6285 - val_accuracy: 0.6809 - lr: 1.0000e-04\n",
            "Epoch 9/50\n",
            "135/135 [==============================] - 2s 15ms/step - loss: 0.6426 - accuracy: 0.6594 - val_loss: 0.6280 - val_accuracy: 0.6809 - lr: 1.0000e-04\n",
            "Epoch 10/50\n",
            "135/135 [==============================] - 2s 13ms/step - loss: 0.6429 - accuracy: 0.6594 - val_loss: 0.6278 - val_accuracy: 0.6809 - lr: 1.0000e-04\n",
            "Epoch 11/50\n",
            "135/135 [==============================] - ETA: 0s - loss: 0.6433 - accuracy: 0.6594\n",
            "Epoch 11: ReduceLROnPlateau reducing learning rate to 1.0000000474974514e-05.\n",
            "135/135 [==============================] - 2s 11ms/step - loss: 0.6433 - accuracy: 0.6594 - val_loss: 0.6279 - val_accuracy: 0.6809 - lr: 1.0000e-04\n",
            "Epoch 12/50\n",
            "135/135 [==============================] - 2s 11ms/step - loss: 0.6433 - accuracy: 0.6594 - val_loss: 0.6279 - val_accuracy: 0.6809 - lr: 1.0000e-05\n",
            "Epoch 13/50\n",
            "135/135 [==============================] - 2s 11ms/step - loss: 0.6425 - accuracy: 0.6594 - val_loss: 0.6279 - val_accuracy: 0.6809 - lr: 1.0000e-05\n",
            "Epoch 14/50\n",
            "135/135 [==============================] - 2s 11ms/step - loss: 0.6426 - accuracy: 0.6594 - val_loss: 0.6278 - val_accuracy: 0.6809 - lr: 1.0000e-05\n",
            "Epoch 15/50\n",
            "135/135 [==============================] - 2s 12ms/step - loss: 0.6426 - accuracy: 0.6594 - val_loss: 0.6279 - val_accuracy: 0.6809 - lr: 1.0000e-05\n",
            "Epoch 16/50\n",
            "133/135 [============================>.] - ETA: 0s - loss: 0.6429 - accuracy: 0.6591\n",
            "Epoch 16: ReduceLROnPlateau reducing learning rate to 1.0000000656873453e-06.\n",
            "135/135 [==============================] - 2s 14ms/step - loss: 0.6427 - accuracy: 0.6594 - val_loss: 0.6278 - val_accuracy: 0.6809 - lr: 1.0000e-05\n",
            "56/56 [==============================] - 2s 7ms/step\n",
            "Epoch 1/50\n",
            "135/135 [==============================] - 9s 20ms/step - loss: 0.6513 - accuracy: 0.6605 - val_loss: 0.6303 - val_accuracy: 0.6763 - lr: 0.0010\n",
            "Epoch 2/50\n",
            "135/135 [==============================] - 1s 11ms/step - loss: 0.6459 - accuracy: 0.6605 - val_loss: 0.6301 - val_accuracy: 0.6763 - lr: 0.0010\n",
            "Epoch 3/50\n",
            "135/135 [==============================] - 2s 15ms/step - loss: 0.6473 - accuracy: 0.6605 - val_loss: 0.6362 - val_accuracy: 0.6763 - lr: 0.0010\n",
            "Epoch 4/50\n",
            "135/135 [==============================] - 2s 16ms/step - loss: 0.6453 - accuracy: 0.6605 - val_loss: 0.6333 - val_accuracy: 0.6763 - lr: 0.0010\n",
            "Epoch 5/50\n",
            "135/135 [==============================] - 2s 12ms/step - loss: 0.6430 - accuracy: 0.6605 - val_loss: 0.6311 - val_accuracy: 0.6763 - lr: 0.0010\n",
            "Epoch 6/50\n",
            "133/135 [============================>.] - ETA: 0s - loss: 0.6457 - accuracy: 0.6602\n",
            "Epoch 6: ReduceLROnPlateau reducing learning rate to 0.00010000000474974513.\n",
            "135/135 [==============================] - 1s 11ms/step - loss: 0.6454 - accuracy: 0.6605 - val_loss: 0.6330 - val_accuracy: 0.6763 - lr: 0.0010\n",
            "Epoch 7/50\n",
            "135/135 [==============================] - 1s 11ms/step - loss: 0.6429 - accuracy: 0.6605 - val_loss: 0.6316 - val_accuracy: 0.6763 - lr: 1.0000e-04\n",
            "Epoch 8/50\n",
            "135/135 [==============================] - 2s 11ms/step - loss: 0.6426 - accuracy: 0.6605 - val_loss: 0.6314 - val_accuracy: 0.6763 - lr: 1.0000e-04\n",
            "Epoch 9/50\n",
            "135/135 [==============================] - 1s 11ms/step - loss: 0.6428 - accuracy: 0.6605 - val_loss: 0.6311 - val_accuracy: 0.6763 - lr: 1.0000e-04\n",
            "Epoch 10/50\n",
            "135/135 [==============================] - 2s 11ms/step - loss: 0.6438 - accuracy: 0.6605 - val_loss: 0.6309 - val_accuracy: 0.6763 - lr: 1.0000e-04\n",
            "Epoch 11/50\n",
            "134/135 [============================>.] - ETA: 0s - loss: 0.6437 - accuracy: 0.6602\n",
            "Epoch 11: ReduceLROnPlateau reducing learning rate to 1.0000000474974514e-05.\n",
            "135/135 [==============================] - 2s 14ms/step - loss: 0.6435 - accuracy: 0.6605 - val_loss: 0.6312 - val_accuracy: 0.6763 - lr: 1.0000e-04\n",
            "Epoch 12/50\n",
            "135/135 [==============================] - 2s 16ms/step - loss: 0.6422 - accuracy: 0.6605 - val_loss: 0.6312 - val_accuracy: 0.6763 - lr: 1.0000e-05\n",
            "Epoch 13/50\n",
            "135/135 [==============================] - 2s 12ms/step - loss: 0.6420 - accuracy: 0.6605 - val_loss: 0.6311 - val_accuracy: 0.6763 - lr: 1.0000e-05\n",
            "Epoch 14/50\n",
            "135/135 [==============================] - 1s 11ms/step - loss: 0.6445 - accuracy: 0.6605 - val_loss: 0.6311 - val_accuracy: 0.6763 - lr: 1.0000e-05\n",
            "Epoch 15/50\n",
            "135/135 [==============================] - 2s 12ms/step - loss: 0.6426 - accuracy: 0.6605 - val_loss: 0.6311 - val_accuracy: 0.6763 - lr: 1.0000e-05\n",
            "Epoch 16/50\n",
            "130/135 [===========================>..] - ETA: 0s - loss: 0.6413 - accuracy: 0.6603\n",
            "Epoch 16: ReduceLROnPlateau reducing learning rate to 1.0000000656873453e-06.\n",
            "135/135 [==============================] - 1s 11ms/step - loss: 0.6410 - accuracy: 0.6605 - val_loss: 0.6310 - val_accuracy: 0.6763 - lr: 1.0000e-05\n",
            "56/56 [==============================] - 1s 5ms/step\n",
            "Epoch 1/50\n",
            "135/135 [==============================] - 9s 21ms/step - loss: 0.6512 - accuracy: 0.6591 - val_loss: 0.6281 - val_accuracy: 0.6809 - lr: 0.0010\n",
            "Epoch 2/50\n",
            "135/135 [==============================] - 1s 11ms/step - loss: 0.6470 - accuracy: 0.6591 - val_loss: 0.6309 - val_accuracy: 0.6809 - lr: 0.0010\n",
            "Epoch 3/50\n",
            "135/135 [==============================] - 1s 11ms/step - loss: 0.6471 - accuracy: 0.6591 - val_loss: 0.6293 - val_accuracy: 0.6809 - lr: 0.0010\n",
            "Epoch 4/50\n",
            "135/135 [==============================] - 1s 11ms/step - loss: 0.6452 - accuracy: 0.6591 - val_loss: 0.6351 - val_accuracy: 0.6809 - lr: 0.0010\n",
            "Epoch 5/50\n",
            "135/135 [==============================] - 1s 11ms/step - loss: 0.6425 - accuracy: 0.6591 - val_loss: 0.6291 - val_accuracy: 0.6809 - lr: 0.0010\n",
            "Epoch 6/50\n",
            "133/135 [============================>.] - ETA: 0s - loss: 0.6474 - accuracy: 0.6581\n",
            "Epoch 6: ReduceLROnPlateau reducing learning rate to 0.00010000000474974513.\n",
            "135/135 [==============================] - 1s 11ms/step - loss: 0.6468 - accuracy: 0.6591 - val_loss: 0.6268 - val_accuracy: 0.6809 - lr: 0.0010\n",
            "Epoch 7/50\n",
            "135/135 [==============================] - 2s 12ms/step - loss: 0.6483 - accuracy: 0.6591 - val_loss: 0.6280 - val_accuracy: 0.6809 - lr: 1.0000e-04\n",
            "Epoch 8/50\n",
            "135/135 [==============================] - 2s 15ms/step - loss: 0.6438 - accuracy: 0.6591 - val_loss: 0.6283 - val_accuracy: 0.6809 - lr: 1.0000e-04\n",
            "Epoch 9/50\n",
            "135/135 [==============================] - 2s 16ms/step - loss: 0.6436 - accuracy: 0.6591 - val_loss: 0.6284 - val_accuracy: 0.6809 - lr: 1.0000e-04\n",
            "Epoch 10/50\n",
            "135/135 [==============================] - 1s 11ms/step - loss: 0.6432 - accuracy: 0.6591 - val_loss: 0.6281 - val_accuracy: 0.6809 - lr: 1.0000e-04\n",
            "Epoch 11/50\n",
            "133/135 [============================>.] - ETA: 0s - loss: 0.6455 - accuracy: 0.6602\n",
            "Epoch 11: ReduceLROnPlateau reducing learning rate to 1.0000000474974514e-05.\n",
            "135/135 [==============================] - 2s 11ms/step - loss: 0.6462 - accuracy: 0.6591 - val_loss: 0.6286 - val_accuracy: 0.6809 - lr: 1.0000e-04\n",
            "Epoch 12/50\n",
            "135/135 [==============================] - 1s 11ms/step - loss: 0.6441 - accuracy: 0.6591 - val_loss: 0.6286 - val_accuracy: 0.6809 - lr: 1.0000e-05\n",
            "Epoch 13/50\n",
            "135/135 [==============================] - 1s 11ms/step - loss: 0.6437 - accuracy: 0.6591 - val_loss: 0.6286 - val_accuracy: 0.6809 - lr: 1.0000e-05\n",
            "Epoch 14/50\n",
            "135/135 [==============================] - 1s 11ms/step - loss: 0.6478 - accuracy: 0.6591 - val_loss: 0.6287 - val_accuracy: 0.6809 - lr: 1.0000e-05\n",
            "Epoch 15/50\n",
            "135/135 [==============================] - 2s 11ms/step - loss: 0.6471 - accuracy: 0.6591 - val_loss: 0.6287 - val_accuracy: 0.6809 - lr: 1.0000e-05\n",
            "Epoch 16/50\n",
            "135/135 [==============================] - ETA: 0s - loss: 0.6468 - accuracy: 0.6591\n",
            "Epoch 16: ReduceLROnPlateau reducing learning rate to 1.0000000656873453e-06.\n",
            "135/135 [==============================] - 2s 14ms/step - loss: 0.6468 - accuracy: 0.6591 - val_loss: 0.6288 - val_accuracy: 0.6809 - lr: 1.0000e-05\n",
            "56/56 [==============================] - 1s 6ms/step\n",
            "Epoch 1/50\n",
            "135/135 [==============================] - 8s 25ms/step - loss: 0.6527 - accuracy: 0.6591 - val_loss: 0.6318 - val_accuracy: 0.6809 - lr: 0.0010\n",
            "Epoch 2/50\n",
            "135/135 [==============================] - 1s 11ms/step - loss: 0.6485 - accuracy: 0.6591 - val_loss: 0.6273 - val_accuracy: 0.6809 - lr: 0.0010\n",
            "Epoch 3/50\n",
            "135/135 [==============================] - 2s 14ms/step - loss: 0.6478 - accuracy: 0.6591 - val_loss: 0.6324 - val_accuracy: 0.6809 - lr: 0.0010\n",
            "Epoch 4/50\n",
            "135/135 [==============================] - 2s 16ms/step - loss: 0.6479 - accuracy: 0.6591 - val_loss: 0.6281 - val_accuracy: 0.6809 - lr: 0.0010\n",
            "Epoch 5/50\n",
            "135/135 [==============================] - 2s 12ms/step - loss: 0.6471 - accuracy: 0.6591 - val_loss: 0.6277 - val_accuracy: 0.6809 - lr: 0.0010\n",
            "Epoch 6/50\n",
            "132/135 [============================>.] - ETA: 0s - loss: 0.6467 - accuracy: 0.6603\n",
            "Epoch 6: ReduceLROnPlateau reducing learning rate to 0.00010000000474974513.\n",
            "135/135 [==============================] - 2s 11ms/step - loss: 0.6476 - accuracy: 0.6591 - val_loss: 0.6283 - val_accuracy: 0.6809 - lr: 0.0010\n",
            "Epoch 7/50\n",
            "135/135 [==============================] - 2s 11ms/step - loss: 0.6455 - accuracy: 0.6591 - val_loss: 0.6289 - val_accuracy: 0.6809 - lr: 1.0000e-04\n",
            "Epoch 8/50\n",
            "135/135 [==============================] - 2s 11ms/step - loss: 0.6470 - accuracy: 0.6591 - val_loss: 0.6295 - val_accuracy: 0.6809 - lr: 1.0000e-04\n",
            "Epoch 9/50\n",
            "135/135 [==============================] - 2s 12ms/step - loss: 0.6454 - accuracy: 0.6591 - val_loss: 0.6291 - val_accuracy: 0.6809 - lr: 1.0000e-04\n",
            "Epoch 10/50\n",
            "135/135 [==============================] - 2s 12ms/step - loss: 0.6445 - accuracy: 0.6591 - val_loss: 0.6291 - val_accuracy: 0.6809 - lr: 1.0000e-04\n",
            "Epoch 11/50\n",
            "132/135 [============================>.] - ETA: 0s - loss: 0.6444 - accuracy: 0.6593\n",
            "Epoch 11: ReduceLROnPlateau reducing learning rate to 1.0000000474974514e-05.\n",
            "135/135 [==============================] - 2s 13ms/step - loss: 0.6446 - accuracy: 0.6591 - val_loss: 0.6289 - val_accuracy: 0.6809 - lr: 1.0000e-04\n",
            "Epoch 12/50\n",
            "135/135 [==============================] - 2s 16ms/step - loss: 0.6451 - accuracy: 0.6591 - val_loss: 0.6289 - val_accuracy: 0.6809 - lr: 1.0000e-05\n",
            "Epoch 13/50\n",
            "135/135 [==============================] - 2s 13ms/step - loss: 0.6459 - accuracy: 0.6591 - val_loss: 0.6289 - val_accuracy: 0.6809 - lr: 1.0000e-05\n",
            "Epoch 14/50\n",
            "135/135 [==============================] - 1s 11ms/step - loss: 0.6423 - accuracy: 0.6591 - val_loss: 0.6288 - val_accuracy: 0.6809 - lr: 1.0000e-05\n",
            "Epoch 15/50\n",
            "135/135 [==============================] - 1s 11ms/step - loss: 0.6435 - accuracy: 0.6591 - val_loss: 0.6287 - val_accuracy: 0.6809 - lr: 1.0000e-05\n",
            "Epoch 16/50\n",
            "134/135 [============================>.] - ETA: 0s - loss: 0.6447 - accuracy: 0.6597\n",
            "Epoch 16: ReduceLROnPlateau reducing learning rate to 1.0000000656873453e-06.\n",
            "135/135 [==============================] - 2s 12ms/step - loss: 0.6452 - accuracy: 0.6591 - val_loss: 0.6287 - val_accuracy: 0.6809 - lr: 1.0000e-05\n",
            "56/56 [==============================] - 1s 4ms/step\n",
            "Epoch 1/50\n",
            "135/135 [==============================] - 8s 18ms/step - loss: 0.6523 - accuracy: 0.6591 - val_loss: 0.6327 - val_accuracy: 0.6809 - lr: 0.0010\n",
            "Epoch 2/50\n",
            "135/135 [==============================] - 1s 11ms/step - loss: 0.6459 - accuracy: 0.6594 - val_loss: 0.6279 - val_accuracy: 0.6809 - lr: 0.0010\n",
            "Epoch 3/50\n",
            "135/135 [==============================] - 1s 11ms/step - loss: 0.6491 - accuracy: 0.6594 - val_loss: 0.6378 - val_accuracy: 0.6809 - lr: 0.0010\n",
            "Epoch 4/50\n",
            "135/135 [==============================] - 1s 11ms/step - loss: 0.6475 - accuracy: 0.6594 - val_loss: 0.6285 - val_accuracy: 0.6809 - lr: 0.0010\n",
            "Epoch 5/50\n",
            "135/135 [==============================] - 2s 12ms/step - loss: 0.6467 - accuracy: 0.6594 - val_loss: 0.6272 - val_accuracy: 0.6809 - lr: 0.0010\n",
            "Epoch 6/50\n",
            "134/135 [============================>.] - ETA: 0s - loss: 0.6463 - accuracy: 0.6602\n",
            "Epoch 6: ReduceLROnPlateau reducing learning rate to 0.00010000000474974513.\n",
            "135/135 [==============================] - 2s 11ms/step - loss: 0.6468 - accuracy: 0.6594 - val_loss: 0.6272 - val_accuracy: 0.6809 - lr: 0.0010\n",
            "Epoch 7/50\n",
            "135/135 [==============================] - 2s 15ms/step - loss: 0.6465 - accuracy: 0.6594 - val_loss: 0.6283 - val_accuracy: 0.6809 - lr: 1.0000e-04\n",
            "Epoch 8/50\n",
            "135/135 [==============================] - 2s 16ms/step - loss: 0.6432 - accuracy: 0.6594 - val_loss: 0.6282 - val_accuracy: 0.6809 - lr: 1.0000e-04\n",
            "Epoch 9/50\n",
            "135/135 [==============================] - 2s 12ms/step - loss: 0.6457 - accuracy: 0.6594 - val_loss: 0.6290 - val_accuracy: 0.6809 - lr: 1.0000e-04\n",
            "Epoch 10/50\n",
            "135/135 [==============================] - 1s 11ms/step - loss: 0.6448 - accuracy: 0.6594 - val_loss: 0.6285 - val_accuracy: 0.6809 - lr: 1.0000e-04\n",
            "Epoch 11/50\n",
            "133/135 [============================>.] - ETA: 0s - loss: 0.6435 - accuracy: 0.6593\n",
            "Epoch 11: ReduceLROnPlateau reducing learning rate to 1.0000000474974514e-05.\n",
            "135/135 [==============================] - 1s 11ms/step - loss: 0.6435 - accuracy: 0.6594 - val_loss: 0.6284 - val_accuracy: 0.6809 - lr: 1.0000e-04\n",
            "Epoch 12/50\n",
            "135/135 [==============================] - 2s 11ms/step - loss: 0.6466 - accuracy: 0.6594 - val_loss: 0.6286 - val_accuracy: 0.6809 - lr: 1.0000e-05\n",
            "Epoch 13/50\n",
            "135/135 [==============================] - 2s 11ms/step - loss: 0.6439 - accuracy: 0.6594 - val_loss: 0.6285 - val_accuracy: 0.6809 - lr: 1.0000e-05\n",
            "Epoch 14/50\n",
            "135/135 [==============================] - 1s 11ms/step - loss: 0.6456 - accuracy: 0.6594 - val_loss: 0.6286 - val_accuracy: 0.6809 - lr: 1.0000e-05\n",
            "Epoch 15/50\n",
            "135/135 [==============================] - 2s 13ms/step - loss: 0.6457 - accuracy: 0.6594 - val_loss: 0.6286 - val_accuracy: 0.6809 - lr: 1.0000e-05\n",
            "Epoch 16/50\n",
            "135/135 [==============================] - ETA: 0s - loss: 0.6450 - accuracy: 0.6594\n",
            "Epoch 16: ReduceLROnPlateau reducing learning rate to 1.0000000656873453e-06.\n",
            "135/135 [==============================] - 2s 15ms/step - loss: 0.6450 - accuracy: 0.6594 - val_loss: 0.6287 - val_accuracy: 0.6809 - lr: 1.0000e-05\n",
            "56/56 [==============================] - 2s 6ms/step\n",
            "Epoch 1/50\n",
            "135/135 [==============================] - 8s 18ms/step - loss: 0.6505 - accuracy: 0.6598 - val_loss: 0.6318 - val_accuracy: 0.6763 - lr: 0.0010\n",
            "Epoch 2/50\n",
            "135/135 [==============================] - 2s 11ms/step - loss: 0.6473 - accuracy: 0.6605 - val_loss: 0.6377 - val_accuracy: 0.6763 - lr: 0.0010\n",
            "Epoch 3/50\n",
            "135/135 [==============================] - 2s 13ms/step - loss: 0.6464 - accuracy: 0.6605 - val_loss: 0.6352 - val_accuracy: 0.6763 - lr: 0.0010\n",
            "Epoch 4/50\n",
            "135/135 [==============================] - 2s 15ms/step - loss: 0.6457 - accuracy: 0.6605 - val_loss: 0.6310 - val_accuracy: 0.6763 - lr: 0.0010\n",
            "Epoch 5/50\n",
            "135/135 [==============================] - 2s 13ms/step - loss: 0.6466 - accuracy: 0.6605 - val_loss: 0.6299 - val_accuracy: 0.6763 - lr: 0.0010\n",
            "Epoch 6/50\n",
            "133/135 [============================>.] - ETA: 0s - loss: 0.6433 - accuracy: 0.6598\n",
            "Epoch 6: ReduceLROnPlateau reducing learning rate to 0.00010000000474974513.\n",
            "135/135 [==============================] - 2s 11ms/step - loss: 0.6429 - accuracy: 0.6605 - val_loss: 0.6324 - val_accuracy: 0.6763 - lr: 0.0010\n",
            "Epoch 7/50\n",
            "135/135 [==============================] - 2s 11ms/step - loss: 0.6442 - accuracy: 0.6605 - val_loss: 0.6317 - val_accuracy: 0.6763 - lr: 1.0000e-04\n",
            "Epoch 8/50\n",
            "135/135 [==============================] - 2s 11ms/step - loss: 0.6443 - accuracy: 0.6605 - val_loss: 0.6311 - val_accuracy: 0.6763 - lr: 1.0000e-04\n",
            "Epoch 9/50\n",
            "135/135 [==============================] - 2s 12ms/step - loss: 0.6435 - accuracy: 0.6605 - val_loss: 0.6313 - val_accuracy: 0.6763 - lr: 1.0000e-04\n",
            "Epoch 10/50\n",
            "135/135 [==============================] - 2s 11ms/step - loss: 0.6429 - accuracy: 0.6605 - val_loss: 0.6310 - val_accuracy: 0.6763 - lr: 1.0000e-04\n",
            "Epoch 11/50\n",
            "135/135 [==============================] - ETA: 0s - loss: 0.6435 - accuracy: 0.6605\n",
            "Epoch 11: ReduceLROnPlateau reducing learning rate to 1.0000000474974514e-05.\n",
            "135/135 [==============================] - 2s 11ms/step - loss: 0.6435 - accuracy: 0.6605 - val_loss: 0.6310 - val_accuracy: 0.6763 - lr: 1.0000e-04\n",
            "Epoch 12/50\n",
            "135/135 [==============================] - 2s 16ms/step - loss: 0.6437 - accuracy: 0.6605 - val_loss: 0.6310 - val_accuracy: 0.6763 - lr: 1.0000e-05\n",
            "Epoch 13/50\n",
            "135/135 [==============================] - 2s 16ms/step - loss: 0.6442 - accuracy: 0.6605 - val_loss: 0.6311 - val_accuracy: 0.6763 - lr: 1.0000e-05\n",
            "Epoch 14/50\n",
            "135/135 [==============================] - 1s 11ms/step - loss: 0.6440 - accuracy: 0.6605 - val_loss: 0.6311 - val_accuracy: 0.6763 - lr: 1.0000e-05\n",
            "Epoch 15/50\n",
            "135/135 [==============================] - 1s 11ms/step - loss: 0.6449 - accuracy: 0.6605 - val_loss: 0.6311 - val_accuracy: 0.6763 - lr: 1.0000e-05\n",
            "Epoch 16/50\n",
            "135/135 [==============================] - ETA: 0s - loss: 0.6431 - accuracy: 0.6605\n",
            "Epoch 16: ReduceLROnPlateau reducing learning rate to 1.0000000656873453e-06.\n",
            "135/135 [==============================] - 2s 11ms/step - loss: 0.6431 - accuracy: 0.6605 - val_loss: 0.6311 - val_accuracy: 0.6763 - lr: 1.0000e-05\n",
            "56/56 [==============================] - 1s 5ms/step\n",
            "Epoch 1/50\n",
            "135/135 [==============================] - 8s 22ms/step - loss: 0.6524 - accuracy: 0.6591 - val_loss: 0.6290 - val_accuracy: 0.6809 - lr: 0.0010\n",
            "Epoch 2/50\n",
            "135/135 [==============================] - 2s 11ms/step - loss: 0.6463 - accuracy: 0.6591 - val_loss: 0.6298 - val_accuracy: 0.6809 - lr: 0.0010\n",
            "Epoch 3/50\n",
            "135/135 [==============================] - 2s 12ms/step - loss: 0.6491 - accuracy: 0.6591 - val_loss: 0.6283 - val_accuracy: 0.6809 - lr: 0.0010\n",
            "Epoch 4/50\n",
            "135/135 [==============================] - 1s 11ms/step - loss: 0.6480 - accuracy: 0.6591 - val_loss: 0.6307 - val_accuracy: 0.6809 - lr: 0.0010\n",
            "Epoch 5/50\n",
            "135/135 [==============================] - 1s 11ms/step - loss: 0.6473 - accuracy: 0.6591 - val_loss: 0.6333 - val_accuracy: 0.6809 - lr: 0.0010\n",
            "Epoch 6/50\n",
            "135/135 [==============================] - ETA: 0s - loss: 0.6445 - accuracy: 0.6591\n",
            "Epoch 6: ReduceLROnPlateau reducing learning rate to 0.00010000000474974513.\n",
            "135/135 [==============================] - 2s 11ms/step - loss: 0.6445 - accuracy: 0.6591 - val_loss: 0.6310 - val_accuracy: 0.6809 - lr: 0.0010\n",
            "Epoch 7/50\n",
            "135/135 [==============================] - 2s 13ms/step - loss: 0.6438 - accuracy: 0.6591 - val_loss: 0.6292 - val_accuracy: 0.6809 - lr: 1.0000e-04\n",
            "Epoch 8/50\n",
            "135/135 [==============================] - 2s 16ms/step - loss: 0.6432 - accuracy: 0.6591 - val_loss: 0.6288 - val_accuracy: 0.6809 - lr: 1.0000e-04\n",
            "Epoch 9/50\n",
            "135/135 [==============================] - 2s 15ms/step - loss: 0.6446 - accuracy: 0.6591 - val_loss: 0.6284 - val_accuracy: 0.6809 - lr: 1.0000e-04\n",
            "Epoch 10/50\n",
            "135/135 [==============================] - 2s 13ms/step - loss: 0.6475 - accuracy: 0.6591 - val_loss: 0.6294 - val_accuracy: 0.6809 - lr: 1.0000e-04\n",
            "Epoch 11/50\n",
            "133/135 [============================>.] - ETA: 0s - loss: 0.6441 - accuracy: 0.6595\n",
            "Epoch 11: ReduceLROnPlateau reducing learning rate to 1.0000000474974514e-05.\n",
            "135/135 [==============================] - 2s 11ms/step - loss: 0.6444 - accuracy: 0.6591 - val_loss: 0.6288 - val_accuracy: 0.6809 - lr: 1.0000e-04\n",
            "Epoch 12/50\n",
            "135/135 [==============================] - 2s 12ms/step - loss: 0.6430 - accuracy: 0.6591 - val_loss: 0.6287 - val_accuracy: 0.6809 - lr: 1.0000e-05\n",
            "Epoch 13/50\n",
            "135/135 [==============================] - 2s 12ms/step - loss: 0.6463 - accuracy: 0.6591 - val_loss: 0.6288 - val_accuracy: 0.6809 - lr: 1.0000e-05\n",
            "Epoch 14/50\n",
            "135/135 [==============================] - 2s 13ms/step - loss: 0.6443 - accuracy: 0.6591 - val_loss: 0.6288 - val_accuracy: 0.6809 - lr: 1.0000e-05\n",
            "Epoch 15/50\n",
            "135/135 [==============================] - 2s 11ms/step - loss: 0.6456 - accuracy: 0.6591 - val_loss: 0.6288 - val_accuracy: 0.6809 - lr: 1.0000e-05\n",
            "Epoch 16/50\n",
            "132/135 [============================>.] - ETA: 0s - loss: 0.6444 - accuracy: 0.6593\n",
            "Epoch 16: ReduceLROnPlateau reducing learning rate to 1.0000000656873453e-06.\n",
            "135/135 [==============================] - 2s 16ms/step - loss: 0.6444 - accuracy: 0.6591 - val_loss: 0.6287 - val_accuracy: 0.6809 - lr: 1.0000e-05\n",
            "56/56 [==============================] - 1s 6ms/step\n",
            "Epoch 1/50\n",
            "135/135 [==============================] - 7s 19ms/step - loss: 0.6547 - accuracy: 0.6566 - val_loss: 0.6266 - val_accuracy: 0.6809 - lr: 0.0010\n",
            "Epoch 2/50\n",
            "135/135 [==============================] - 2s 11ms/step - loss: 0.6537 - accuracy: 0.6591 - val_loss: 0.6294 - val_accuracy: 0.6809 - lr: 0.0010\n",
            "Epoch 3/50\n",
            "135/135 [==============================] - 2s 13ms/step - loss: 0.6506 - accuracy: 0.6591 - val_loss: 0.6291 - val_accuracy: 0.6809 - lr: 0.0010\n",
            "Epoch 4/50\n",
            "135/135 [==============================] - 2s 16ms/step - loss: 0.6457 - accuracy: 0.6591 - val_loss: 0.6282 - val_accuracy: 0.6809 - lr: 0.0010\n",
            "Epoch 5/50\n",
            "135/135 [==============================] - 2s 15ms/step - loss: 0.6473 - accuracy: 0.6591 - val_loss: 0.6309 - val_accuracy: 0.6809 - lr: 0.0010\n",
            "Epoch 6/50\n",
            "132/135 [============================>.] - ETA: 0s - loss: 0.6495 - accuracy: 0.6598\n",
            "Epoch 6: ReduceLROnPlateau reducing learning rate to 0.00010000000474974513.\n",
            "135/135 [==============================] - 2s 12ms/step - loss: 0.6497 - accuracy: 0.6591 - val_loss: 0.6285 - val_accuracy: 0.6809 - lr: 0.0010\n",
            "Epoch 7/50\n",
            "135/135 [==============================] - 2s 13ms/step - loss: 0.6461 - accuracy: 0.6591 - val_loss: 0.6290 - val_accuracy: 0.6809 - lr: 1.0000e-04\n",
            "Epoch 8/50\n",
            "135/135 [==============================] - 2s 13ms/step - loss: 0.6451 - accuracy: 0.6591 - val_loss: 0.6291 - val_accuracy: 0.6809 - lr: 1.0000e-04\n",
            "Epoch 9/50\n",
            "135/135 [==============================] - 2s 11ms/step - loss: 0.6483 - accuracy: 0.6591 - val_loss: 0.6300 - val_accuracy: 0.6809 - lr: 1.0000e-04\n",
            "Epoch 10/50\n",
            "135/135 [==============================] - 2s 12ms/step - loss: 0.6449 - accuracy: 0.6591 - val_loss: 0.6291 - val_accuracy: 0.6809 - lr: 1.0000e-04\n",
            "Epoch 11/50\n",
            "132/135 [============================>.] - ETA: 0s - loss: 0.6463 - accuracy: 0.6589\n",
            "Epoch 11: ReduceLROnPlateau reducing learning rate to 1.0000000474974514e-05.\n",
            "135/135 [==============================] - 2s 12ms/step - loss: 0.6458 - accuracy: 0.6591 - val_loss: 0.6296 - val_accuracy: 0.6809 - lr: 1.0000e-04\n",
            "Epoch 12/50\n",
            "135/135 [==============================] - 2s 16ms/step - loss: 0.6457 - accuracy: 0.6591 - val_loss: 0.6295 - val_accuracy: 0.6809 - lr: 1.0000e-05\n",
            "Epoch 13/50\n",
            "135/135 [==============================] - 2s 15ms/step - loss: 0.6437 - accuracy: 0.6591 - val_loss: 0.6294 - val_accuracy: 0.6809 - lr: 1.0000e-05\n",
            "Epoch 14/50\n",
            "135/135 [==============================] - 2s 12ms/step - loss: 0.6462 - accuracy: 0.6591 - val_loss: 0.6294 - val_accuracy: 0.6809 - lr: 1.0000e-05\n",
            "Epoch 15/50\n",
            "135/135 [==============================] - 2s 12ms/step - loss: 0.6442 - accuracy: 0.6591 - val_loss: 0.6294 - val_accuracy: 0.6809 - lr: 1.0000e-05\n",
            "Epoch 16/50\n",
            "133/135 [============================>.] - ETA: 0s - loss: 0.6450 - accuracy: 0.6602\n",
            "Epoch 16: ReduceLROnPlateau reducing learning rate to 1.0000000656873453e-06.\n",
            "135/135 [==============================] - 2s 13ms/step - loss: 0.6457 - accuracy: 0.6591 - val_loss: 0.6294 - val_accuracy: 0.6809 - lr: 1.0000e-05\n",
            "56/56 [==============================] - 1s 5ms/step\n",
            "Epoch 1/50\n",
            "135/135 [==============================] - 8s 25ms/step - loss: 0.6539 - accuracy: 0.6589 - val_loss: 0.6293 - val_accuracy: 0.6809 - lr: 0.0010\n",
            "Epoch 2/50\n",
            "135/135 [==============================] - 2s 13ms/step - loss: 0.6501 - accuracy: 0.6594 - val_loss: 0.6283 - val_accuracy: 0.6809 - lr: 0.0010\n",
            "Epoch 3/50\n",
            "135/135 [==============================] - 2s 13ms/step - loss: 0.6482 - accuracy: 0.6594 - val_loss: 0.6282 - val_accuracy: 0.6809 - lr: 0.0010\n",
            "Epoch 4/50\n",
            "135/135 [==============================] - 2s 11ms/step - loss: 0.6443 - accuracy: 0.6594 - val_loss: 0.6272 - val_accuracy: 0.6809 - lr: 0.0010\n",
            "Epoch 5/50\n",
            "135/135 [==============================] - 2s 11ms/step - loss: 0.6452 - accuracy: 0.6594 - val_loss: 0.6302 - val_accuracy: 0.6809 - lr: 0.0010\n",
            "Epoch 6/50\n",
            "134/135 [============================>.] - ETA: 0s - loss: 0.6475 - accuracy: 0.6602\n",
            "Epoch 6: ReduceLROnPlateau reducing learning rate to 0.00010000000474974513.\n",
            "135/135 [==============================] - 2s 15ms/step - loss: 0.6481 - accuracy: 0.6594 - val_loss: 0.6274 - val_accuracy: 0.6809 - lr: 0.0010\n",
            "Epoch 7/50\n",
            "135/135 [==============================] - 2s 16ms/step - loss: 0.6457 - accuracy: 0.6594 - val_loss: 0.6284 - val_accuracy: 0.6809 - lr: 1.0000e-04\n",
            "Epoch 8/50\n",
            "135/135 [==============================] - 3s 19ms/step - loss: 0.6461 - accuracy: 0.6594 - val_loss: 0.6290 - val_accuracy: 0.6809 - lr: 1.0000e-04\n",
            "Epoch 9/50\n",
            "135/135 [==============================] - 2s 15ms/step - loss: 0.6464 - accuracy: 0.6594 - val_loss: 0.6293 - val_accuracy: 0.6809 - lr: 1.0000e-04\n",
            "Epoch 10/50\n",
            "135/135 [==============================] - 2s 14ms/step - loss: 0.6456 - accuracy: 0.6594 - val_loss: 0.6293 - val_accuracy: 0.6809 - lr: 1.0000e-04\n",
            "Epoch 11/50\n",
            "135/135 [==============================] - ETA: 0s - loss: 0.6467 - accuracy: 0.6594\n",
            "Epoch 11: ReduceLROnPlateau reducing learning rate to 1.0000000474974514e-05.\n",
            "135/135 [==============================] - 2s 11ms/step - loss: 0.6467 - accuracy: 0.6594 - val_loss: 0.6294 - val_accuracy: 0.6809 - lr: 1.0000e-04\n",
            "Epoch 12/50\n",
            "135/135 [==============================] - 2s 13ms/step - loss: 0.6441 - accuracy: 0.6594 - val_loss: 0.6294 - val_accuracy: 0.6809 - lr: 1.0000e-05\n",
            "Epoch 13/50\n",
            "135/135 [==============================] - 2s 12ms/step - loss: 0.6462 - accuracy: 0.6594 - val_loss: 0.6294 - val_accuracy: 0.6809 - lr: 1.0000e-05\n",
            "Epoch 14/50\n",
            "135/135 [==============================] - 2s 11ms/step - loss: 0.6467 - accuracy: 0.6594 - val_loss: 0.6294 - val_accuracy: 0.6809 - lr: 1.0000e-05\n",
            "Epoch 15/50\n",
            "135/135 [==============================] - 2s 13ms/step - loss: 0.6438 - accuracy: 0.6594 - val_loss: 0.6293 - val_accuracy: 0.6809 - lr: 1.0000e-05\n",
            "Epoch 16/50\n",
            "135/135 [==============================] - ETA: 0s - loss: 0.6440 - accuracy: 0.6594\n",
            "Epoch 16: ReduceLROnPlateau reducing learning rate to 1.0000000656873453e-06.\n",
            "135/135 [==============================] - 2s 14ms/step - loss: 0.6440 - accuracy: 0.6594 - val_loss: 0.6293 - val_accuracy: 0.6809 - lr: 1.0000e-05\n",
            "56/56 [==============================] - 1s 6ms/step\n",
            "Epoch 1/50\n",
            "135/135 [==============================] - 7s 19ms/step - loss: 0.6562 - accuracy: 0.6596 - val_loss: 0.6310 - val_accuracy: 0.6763 - lr: 0.0010\n",
            "Epoch 2/50\n",
            "135/135 [==============================] - 2s 11ms/step - loss: 0.6485 - accuracy: 0.6605 - val_loss: 0.6341 - val_accuracy: 0.6763 - lr: 0.0010\n",
            "Epoch 3/50\n",
            "135/135 [==============================] - 2s 13ms/step - loss: 0.6479 - accuracy: 0.6605 - val_loss: 0.6369 - val_accuracy: 0.6763 - lr: 0.0010\n",
            "Epoch 4/50\n",
            "135/135 [==============================] - 2s 16ms/step - loss: 0.6475 - accuracy: 0.6605 - val_loss: 0.6367 - val_accuracy: 0.6763 - lr: 0.0010\n",
            "Epoch 5/50\n",
            "135/135 [==============================] - 2s 16ms/step - loss: 0.6464 - accuracy: 0.6605 - val_loss: 0.6327 - val_accuracy: 0.6763 - lr: 0.0010\n",
            "Epoch 6/50\n",
            "132/135 [============================>.] - ETA: 0s - loss: 0.6426 - accuracy: 0.6617\n",
            "Epoch 6: ReduceLROnPlateau reducing learning rate to 0.00010000000474974513.\n",
            "135/135 [==============================] - 2s 11ms/step - loss: 0.6433 - accuracy: 0.6605 - val_loss: 0.6321 - val_accuracy: 0.6763 - lr: 0.0010\n",
            "Epoch 7/50\n",
            "135/135 [==============================] - 2s 11ms/step - loss: 0.6478 - accuracy: 0.6605 - val_loss: 0.6329 - val_accuracy: 0.6763 - lr: 1.0000e-04\n",
            "Epoch 8/50\n",
            "135/135 [==============================] - 2s 11ms/step - loss: 0.6426 - accuracy: 0.6605 - val_loss: 0.6319 - val_accuracy: 0.6763 - lr: 1.0000e-04\n",
            "Epoch 9/50\n",
            "135/135 [==============================] - 1s 11ms/step - loss: 0.6445 - accuracy: 0.6605 - val_loss: 0.6318 - val_accuracy: 0.6763 - lr: 1.0000e-04\n",
            "Epoch 10/50\n",
            "135/135 [==============================] - 2s 11ms/step - loss: 0.6454 - accuracy: 0.6605 - val_loss: 0.6321 - val_accuracy: 0.6763 - lr: 1.0000e-04\n",
            "Epoch 11/50\n",
            "131/135 [============================>.] - ETA: 0s - loss: 0.6441 - accuracy: 0.6603\n",
            "Epoch 11: ReduceLROnPlateau reducing learning rate to 1.0000000474974514e-05.\n",
            "135/135 [==============================] - 2s 12ms/step - loss: 0.6437 - accuracy: 0.6605 - val_loss: 0.6318 - val_accuracy: 0.6763 - lr: 1.0000e-04\n",
            "Epoch 12/50\n",
            "135/135 [==============================] - 2s 14ms/step - loss: 0.6451 - accuracy: 0.6605 - val_loss: 0.6318 - val_accuracy: 0.6763 - lr: 1.0000e-05\n",
            "Epoch 13/50\n",
            "135/135 [==============================] - 2s 16ms/step - loss: 0.6436 - accuracy: 0.6605 - val_loss: 0.6318 - val_accuracy: 0.6763 - lr: 1.0000e-05\n",
            "Epoch 14/50\n",
            "135/135 [==============================] - 2s 13ms/step - loss: 0.6429 - accuracy: 0.6605 - val_loss: 0.6317 - val_accuracy: 0.6763 - lr: 1.0000e-05\n",
            "Epoch 15/50\n",
            "135/135 [==============================] - 2s 11ms/step - loss: 0.6430 - accuracy: 0.6605 - val_loss: 0.6317 - val_accuracy: 0.6763 - lr: 1.0000e-05\n",
            "Epoch 16/50\n",
            "133/135 [============================>.] - ETA: 0s - loss: 0.6444 - accuracy: 0.6607\n",
            "Epoch 16: ReduceLROnPlateau reducing learning rate to 1.0000000656873453e-06.\n",
            "135/135 [==============================] - 2s 11ms/step - loss: 0.6445 - accuracy: 0.6605 - val_loss: 0.6316 - val_accuracy: 0.6763 - lr: 1.0000e-05\n",
            "56/56 [==============================] - 1s 6ms/step\n",
            "Epoch 1/50\n",
            "135/135 [==============================] - 10s 23ms/step - loss: 0.6619 - accuracy: 0.6554 - val_loss: 0.6373 - val_accuracy: 0.6809 - lr: 0.0010\n",
            "Epoch 2/50\n",
            "135/135 [==============================] - 2s 11ms/step - loss: 0.6510 - accuracy: 0.6591 - val_loss: 0.6300 - val_accuracy: 0.6809 - lr: 0.0010\n",
            "Epoch 3/50\n",
            "135/135 [==============================] - 2s 13ms/step - loss: 0.6499 - accuracy: 0.6591 - val_loss: 0.6337 - val_accuracy: 0.6809 - lr: 0.0010\n",
            "Epoch 4/50\n",
            "135/135 [==============================] - 2s 12ms/step - loss: 0.6476 - accuracy: 0.6591 - val_loss: 0.6304 - val_accuracy: 0.6809 - lr: 0.0010\n",
            "Epoch 5/50\n",
            "135/135 [==============================] - 2s 11ms/step - loss: 0.6480 - accuracy: 0.6591 - val_loss: 0.6280 - val_accuracy: 0.6809 - lr: 0.0010\n",
            "Epoch 6/50\n",
            "131/135 [============================>.] - ETA: 0s - loss: 0.6483 - accuracy: 0.6579\n",
            "Epoch 6: ReduceLROnPlateau reducing learning rate to 0.00010000000474974513.\n",
            "135/135 [==============================] - 2s 12ms/step - loss: 0.6471 - accuracy: 0.6591 - val_loss: 0.6278 - val_accuracy: 0.6809 - lr: 0.0010\n",
            "Epoch 7/50\n",
            "135/135 [==============================] - 2s 12ms/step - loss: 0.6475 - accuracy: 0.6591 - val_loss: 0.6286 - val_accuracy: 0.6809 - lr: 1.0000e-04\n",
            "Epoch 8/50\n",
            "135/135 [==============================] - 2s 15ms/step - loss: 0.6475 - accuracy: 0.6591 - val_loss: 0.6290 - val_accuracy: 0.6809 - lr: 1.0000e-04\n",
            "Epoch 9/50\n",
            "135/135 [==============================] - 2s 16ms/step - loss: 0.6456 - accuracy: 0.6591 - val_loss: 0.6290 - val_accuracy: 0.6809 - lr: 1.0000e-04\n",
            "Epoch 10/50\n",
            "135/135 [==============================] - 2s 12ms/step - loss: 0.6423 - accuracy: 0.6591 - val_loss: 0.6284 - val_accuracy: 0.6809 - lr: 1.0000e-04\n",
            "Epoch 11/50\n",
            "133/135 [============================>.] - ETA: 0s - loss: 0.6467 - accuracy: 0.6584\n",
            "Epoch 11: ReduceLROnPlateau reducing learning rate to 1.0000000474974514e-05.\n",
            "135/135 [==============================] - 2s 12ms/step - loss: 0.6463 - accuracy: 0.6591 - val_loss: 0.6289 - val_accuracy: 0.6809 - lr: 1.0000e-04\n",
            "Epoch 12/50\n",
            "135/135 [==============================] - 2s 13ms/step - loss: 0.6461 - accuracy: 0.6591 - val_loss: 0.6289 - val_accuracy: 0.6809 - lr: 1.0000e-05\n",
            "Epoch 13/50\n",
            "135/135 [==============================] - 2s 12ms/step - loss: 0.6451 - accuracy: 0.6591 - val_loss: 0.6289 - val_accuracy: 0.6809 - lr: 1.0000e-05\n",
            "Epoch 14/50\n",
            "135/135 [==============================] - 2s 12ms/step - loss: 0.6448 - accuracy: 0.6591 - val_loss: 0.6289 - val_accuracy: 0.6809 - lr: 1.0000e-05\n",
            "Epoch 15/50\n",
            "135/135 [==============================] - 2s 12ms/step - loss: 0.6449 - accuracy: 0.6591 - val_loss: 0.6289 - val_accuracy: 0.6809 - lr: 1.0000e-05\n",
            "Epoch 16/50\n",
            "132/135 [============================>.] - ETA: 0s - loss: 0.6470 - accuracy: 0.6589\n",
            "Epoch 16: ReduceLROnPlateau reducing learning rate to 1.0000000656873453e-06.\n",
            "135/135 [==============================] - 2s 15ms/step - loss: 0.6467 - accuracy: 0.6591 - val_loss: 0.6290 - val_accuracy: 0.6809 - lr: 1.0000e-05\n",
            "56/56 [==============================] - 1s 5ms/step\n",
            "Epoch 1/50\n",
            "135/135 [==============================] - 8s 18ms/step - loss: 0.6545 - accuracy: 0.6575 - val_loss: 0.6290 - val_accuracy: 0.6809 - lr: 0.0010\n",
            "Epoch 2/50\n",
            "135/135 [==============================] - 2s 12ms/step - loss: 0.6478 - accuracy: 0.6589 - val_loss: 0.6263 - val_accuracy: 0.6809 - lr: 0.0010\n",
            "Epoch 3/50\n",
            "135/135 [==============================] - 2s 13ms/step - loss: 0.6493 - accuracy: 0.6591 - val_loss: 0.6283 - val_accuracy: 0.6809 - lr: 0.0010\n",
            "Epoch 4/50\n",
            "135/135 [==============================] - 2s 12ms/step - loss: 0.6459 - accuracy: 0.6591 - val_loss: 0.6301 - val_accuracy: 0.6809 - lr: 0.0010\n",
            "Epoch 5/50\n",
            "135/135 [==============================] - 2s 16ms/step - loss: 0.6456 - accuracy: 0.6591 - val_loss: 0.6278 - val_accuracy: 0.6809 - lr: 0.0010\n",
            "Epoch 6/50\n",
            "135/135 [==============================] - ETA: 0s - loss: 0.6475 - accuracy: 0.6591\n",
            "Epoch 6: ReduceLROnPlateau reducing learning rate to 0.00010000000474974513.\n",
            "135/135 [==============================] - 2s 15ms/step - loss: 0.6475 - accuracy: 0.6591 - val_loss: 0.6363 - val_accuracy: 0.6809 - lr: 0.0010\n",
            "Epoch 7/50\n",
            "135/135 [==============================] - 2s 13ms/step - loss: 0.6461 - accuracy: 0.6591 - val_loss: 0.6321 - val_accuracy: 0.6809 - lr: 1.0000e-04\n",
            "Epoch 8/50\n",
            "135/135 [==============================] - 2s 13ms/step - loss: 0.6443 - accuracy: 0.6591 - val_loss: 0.6300 - val_accuracy: 0.6809 - lr: 1.0000e-04\n",
            "Epoch 9/50\n",
            "135/135 [==============================] - 2s 12ms/step - loss: 0.6450 - accuracy: 0.6591 - val_loss: 0.6292 - val_accuracy: 0.6809 - lr: 1.0000e-04\n",
            "Epoch 10/50\n",
            "135/135 [==============================] - 2s 12ms/step - loss: 0.6448 - accuracy: 0.6591 - val_loss: 0.6292 - val_accuracy: 0.6809 - lr: 1.0000e-04\n",
            "Epoch 11/50\n",
            "133/135 [============================>.] - ETA: 0s - loss: 0.6448 - accuracy: 0.6598\n",
            "Epoch 11: ReduceLROnPlateau reducing learning rate to 1.0000000474974514e-05.\n",
            "135/135 [==============================] - 2s 12ms/step - loss: 0.6450 - accuracy: 0.6591 - val_loss: 0.6290 - val_accuracy: 0.6809 - lr: 1.0000e-04\n",
            "Epoch 12/50\n",
            "135/135 [==============================] - 2s 13ms/step - loss: 0.6472 - accuracy: 0.6591 - val_loss: 0.6291 - val_accuracy: 0.6809 - lr: 1.0000e-05\n",
            "Epoch 13/50\n",
            "135/135 [==============================] - 2s 15ms/step - loss: 0.6457 - accuracy: 0.6591 - val_loss: 0.6291 - val_accuracy: 0.6809 - lr: 1.0000e-05\n",
            "Epoch 14/50\n",
            "135/135 [==============================] - 2s 15ms/step - loss: 0.6444 - accuracy: 0.6591 - val_loss: 0.6290 - val_accuracy: 0.6809 - lr: 1.0000e-05\n",
            "Epoch 15/50\n",
            "135/135 [==============================] - 2s 14ms/step - loss: 0.6459 - accuracy: 0.6591 - val_loss: 0.6291 - val_accuracy: 0.6809 - lr: 1.0000e-05\n",
            "Epoch 16/50\n",
            "131/135 [============================>.] - ETA: 0s - loss: 0.6479 - accuracy: 0.6589\n",
            "Epoch 16: ReduceLROnPlateau reducing learning rate to 1.0000000656873453e-06.\n",
            "135/135 [==============================] - 2s 12ms/step - loss: 0.6479 - accuracy: 0.6591 - val_loss: 0.6291 - val_accuracy: 0.6809 - lr: 1.0000e-05\n",
            "56/56 [==============================] - 1s 6ms/step\n",
            "Epoch 1/50\n",
            "135/135 [==============================] - 8s 22ms/step - loss: 0.6527 - accuracy: 0.6591 - val_loss: 0.6295 - val_accuracy: 0.6809 - lr: 0.0010\n",
            "Epoch 2/50\n",
            "135/135 [==============================] - 2s 16ms/step - loss: 0.6487 - accuracy: 0.6594 - val_loss: 0.6274 - val_accuracy: 0.6809 - lr: 0.0010\n",
            "Epoch 3/50\n",
            "135/135 [==============================] - 2s 14ms/step - loss: 0.6482 - accuracy: 0.6594 - val_loss: 0.6281 - val_accuracy: 0.6809 - lr: 0.0010\n",
            "Epoch 4/50\n",
            "135/135 [==============================] - 2s 12ms/step - loss: 0.6470 - accuracy: 0.6594 - val_loss: 0.6286 - val_accuracy: 0.6809 - lr: 0.0010\n",
            "Epoch 5/50\n",
            "135/135 [==============================] - 2s 12ms/step - loss: 0.6471 - accuracy: 0.6594 - val_loss: 0.6340 - val_accuracy: 0.6809 - lr: 0.0010\n",
            "Epoch 6/50\n",
            "133/135 [============================>.] - ETA: 0s - loss: 0.6464 - accuracy: 0.6586\n",
            "Epoch 6: ReduceLROnPlateau reducing learning rate to 0.00010000000474974513.\n",
            "135/135 [==============================] - 2s 13ms/step - loss: 0.6459 - accuracy: 0.6594 - val_loss: 0.6286 - val_accuracy: 0.6809 - lr: 0.0010\n",
            "Epoch 7/50\n",
            "135/135 [==============================] - 2s 12ms/step - loss: 0.6434 - accuracy: 0.6594 - val_loss: 0.6285 - val_accuracy: 0.6809 - lr: 1.0000e-04\n",
            "Epoch 8/50\n",
            "135/135 [==============================] - 2s 12ms/step - loss: 0.6409 - accuracy: 0.6594 - val_loss: 0.6279 - val_accuracy: 0.6809 - lr: 1.0000e-04\n",
            "Epoch 9/50\n",
            "135/135 [==============================] - 2s 15ms/step - loss: 0.6458 - accuracy: 0.6594 - val_loss: 0.6283 - val_accuracy: 0.6809 - lr: 1.0000e-04\n",
            "Epoch 10/50\n",
            "135/135 [==============================] - 2s 15ms/step - loss: 0.6434 - accuracy: 0.6594 - val_loss: 0.6288 - val_accuracy: 0.6809 - lr: 1.0000e-04\n",
            "Epoch 11/50\n",
            "133/135 [============================>.] - ETA: 0s - loss: 0.6440 - accuracy: 0.6595\n",
            "Epoch 11: ReduceLROnPlateau reducing learning rate to 1.0000000474974514e-05.\n",
            "135/135 [==============================] - 2s 14ms/step - loss: 0.6441 - accuracy: 0.6594 - val_loss: 0.6285 - val_accuracy: 0.6809 - lr: 1.0000e-04\n",
            "Epoch 12/50\n",
            "135/135 [==============================] - 2s 12ms/step - loss: 0.6443 - accuracy: 0.6594 - val_loss: 0.6286 - val_accuracy: 0.6809 - lr: 1.0000e-05\n",
            "Epoch 13/50\n",
            "135/135 [==============================] - 2s 12ms/step - loss: 0.6453 - accuracy: 0.6594 - val_loss: 0.6286 - val_accuracy: 0.6809 - lr: 1.0000e-05\n",
            "Epoch 14/50\n",
            "135/135 [==============================] - 2s 12ms/step - loss: 0.6443 - accuracy: 0.6594 - val_loss: 0.6286 - val_accuracy: 0.6809 - lr: 1.0000e-05\n",
            "Epoch 15/50\n",
            "135/135 [==============================] - 2s 12ms/step - loss: 0.6458 - accuracy: 0.6594 - val_loss: 0.6287 - val_accuracy: 0.6809 - lr: 1.0000e-05\n",
            "Epoch 16/50\n",
            "134/135 [============================>.] - ETA: 0s - loss: 0.6432 - accuracy: 0.6590\n",
            "Epoch 16: ReduceLROnPlateau reducing learning rate to 1.0000000656873453e-06.\n",
            "135/135 [==============================] - 2s 13ms/step - loss: 0.6430 - accuracy: 0.6594 - val_loss: 0.6286 - val_accuracy: 0.6809 - lr: 1.0000e-05\n",
            "56/56 [==============================] - 1s 5ms/step\n",
            "Epoch 1/50\n",
            "135/135 [==============================] - 9s 19ms/step - loss: 0.6597 - accuracy: 0.6582 - val_loss: 0.6395 - val_accuracy: 0.6763 - lr: 0.0010\n",
            "Epoch 2/50\n",
            "135/135 [==============================] - 2s 12ms/step - loss: 0.6514 - accuracy: 0.6605 - val_loss: 0.6334 - val_accuracy: 0.6763 - lr: 0.0010\n",
            "Epoch 3/50\n",
            "135/135 [==============================] - 2s 12ms/step - loss: 0.6526 - accuracy: 0.6605 - val_loss: 0.6330 - val_accuracy: 0.6763 - lr: 0.0010\n",
            "Epoch 4/50\n",
            "135/135 [==============================] - 2s 13ms/step - loss: 0.6482 - accuracy: 0.6605 - val_loss: 0.6318 - val_accuracy: 0.6763 - lr: 0.0010\n",
            "Epoch 5/50\n",
            "135/135 [==============================] - 2s 16ms/step - loss: 0.6470 - accuracy: 0.6605 - val_loss: 0.6326 - val_accuracy: 0.6763 - lr: 0.0010\n",
            "Epoch 6/50\n",
            "135/135 [==============================] - ETA: 0s - loss: 0.6450 - accuracy: 0.6605\n",
            "Epoch 6: ReduceLROnPlateau reducing learning rate to 0.00010000000474974513.\n",
            "135/135 [==============================] - 2s 15ms/step - loss: 0.6450 - accuracy: 0.6605 - val_loss: 0.6344 - val_accuracy: 0.6763 - lr: 0.0010\n",
            "Epoch 7/50\n",
            "135/135 [==============================] - 2s 12ms/step - loss: 0.6447 - accuracy: 0.6605 - val_loss: 0.6329 - val_accuracy: 0.6763 - lr: 1.0000e-04\n",
            "Epoch 8/50\n",
            "135/135 [==============================] - 2s 11ms/step - loss: 0.6457 - accuracy: 0.6605 - val_loss: 0.6325 - val_accuracy: 0.6763 - lr: 1.0000e-04\n",
            "Epoch 9/50\n",
            "135/135 [==============================] - 2s 13ms/step - loss: 0.6455 - accuracy: 0.6605 - val_loss: 0.6324 - val_accuracy: 0.6763 - lr: 1.0000e-04\n",
            "Epoch 10/50\n",
            "135/135 [==============================] - 2s 11ms/step - loss: 0.6416 - accuracy: 0.6605 - val_loss: 0.6314 - val_accuracy: 0.6763 - lr: 1.0000e-04\n",
            "Epoch 11/50\n",
            "134/135 [============================>.] - ETA: 0s - loss: 0.6421 - accuracy: 0.6607\n",
            "Epoch 11: ReduceLROnPlateau reducing learning rate to 1.0000000474974514e-05.\n",
            "135/135 [==============================] - 2s 12ms/step - loss: 0.6421 - accuracy: 0.6605 - val_loss: 0.6313 - val_accuracy: 0.6763 - lr: 1.0000e-04\n",
            "Epoch 12/50\n",
            "135/135 [==============================] - 2s 11ms/step - loss: 0.6458 - accuracy: 0.6605 - val_loss: 0.6313 - val_accuracy: 0.6763 - lr: 1.0000e-05\n",
            "Epoch 13/50\n",
            "135/135 [==============================] - 2s 15ms/step - loss: 0.6462 - accuracy: 0.6605 - val_loss: 0.6314 - val_accuracy: 0.6763 - lr: 1.0000e-05\n",
            "Epoch 14/50\n",
            "135/135 [==============================] - 2s 15ms/step - loss: 0.6456 - accuracy: 0.6605 - val_loss: 0.6315 - val_accuracy: 0.6763 - lr: 1.0000e-05\n",
            "Epoch 15/50\n",
            "135/135 [==============================] - 2s 14ms/step - loss: 0.6437 - accuracy: 0.6605 - val_loss: 0.6315 - val_accuracy: 0.6763 - lr: 1.0000e-05\n",
            "Epoch 16/50\n",
            "134/135 [============================>.] - ETA: 0s - loss: 0.6438 - accuracy: 0.6602\n",
            "Epoch 16: ReduceLROnPlateau reducing learning rate to 1.0000000656873453e-06.\n",
            "135/135 [==============================] - 2s 12ms/step - loss: 0.6437 - accuracy: 0.6605 - val_loss: 0.6315 - val_accuracy: 0.6763 - lr: 1.0000e-05\n",
            "56/56 [==============================] - 1s 5ms/step\n",
            "Epoch 1/50\n",
            "180/180 [==============================] - 8s 20ms/step - loss: 0.6505 - accuracy: 0.6613 - val_loss: 0.6313 - val_accuracy: 0.6741 - lr: 0.0010\n",
            "Epoch 2/50\n",
            "180/180 [==============================] - 3s 15ms/step - loss: 0.6467 - accuracy: 0.6610 - val_loss: 0.6352 - val_accuracy: 0.6741 - lr: 0.0010\n",
            "Epoch 3/50\n",
            "180/180 [==============================] - 2s 12ms/step - loss: 0.6470 - accuracy: 0.6610 - val_loss: 0.6331 - val_accuracy: 0.6741 - lr: 0.0010\n",
            "Epoch 4/50\n",
            "180/180 [==============================] - 2s 12ms/step - loss: 0.6457 - accuracy: 0.6610 - val_loss: 0.6322 - val_accuracy: 0.6741 - lr: 0.0010\n",
            "Epoch 5/50\n",
            "180/180 [==============================] - 2s 12ms/step - loss: 0.6436 - accuracy: 0.6610 - val_loss: 0.6314 - val_accuracy: 0.6741 - lr: 0.0010\n",
            "Epoch 6/50\n",
            "179/180 [============================>.] - ETA: 0s - loss: 0.6445 - accuracy: 0.6610\n",
            "Epoch 6: ReduceLROnPlateau reducing learning rate to 0.00010000000474974513.\n",
            "180/180 [==============================] - 2s 12ms/step - loss: 0.6445 - accuracy: 0.6610 - val_loss: 0.6362 - val_accuracy: 0.6741 - lr: 0.0010\n",
            "Epoch 7/50\n",
            "180/180 [==============================] - 2s 13ms/step - loss: 0.6434 - accuracy: 0.6610 - val_loss: 0.6332 - val_accuracy: 0.6741 - lr: 1.0000e-04\n",
            "Epoch 8/50\n",
            "180/180 [==============================] - 3s 15ms/step - loss: 0.6430 - accuracy: 0.6610 - val_loss: 0.6329 - val_accuracy: 0.6741 - lr: 1.0000e-04\n",
            "Epoch 9/50\n",
            "180/180 [==============================] - 2s 14ms/step - loss: 0.6435 - accuracy: 0.6610 - val_loss: 0.6328 - val_accuracy: 0.6741 - lr: 1.0000e-04\n",
            "Epoch 10/50\n",
            "180/180 [==============================] - 2s 12ms/step - loss: 0.6441 - accuracy: 0.6610 - val_loss: 0.6328 - val_accuracy: 0.6741 - lr: 1.0000e-04\n",
            "Epoch 11/50\n",
            "175/180 [============================>.] - ETA: 0s - loss: 0.6430 - accuracy: 0.6607\n",
            "Epoch 11: ReduceLROnPlateau reducing learning rate to 1.0000000474974514e-05.\n",
            "180/180 [==============================] - 2s 12ms/step - loss: 0.6428 - accuracy: 0.6610 - val_loss: 0.6328 - val_accuracy: 0.6741 - lr: 1.0000e-04\n",
            "Epoch 12/50\n",
            "180/180 [==============================] - 2s 12ms/step - loss: 0.6434 - accuracy: 0.6610 - val_loss: 0.6327 - val_accuracy: 0.6741 - lr: 1.0000e-05\n",
            "Epoch 13/50\n",
            "180/180 [==============================] - 2s 12ms/step - loss: 0.6428 - accuracy: 0.6610 - val_loss: 0.6327 - val_accuracy: 0.6741 - lr: 1.0000e-05\n",
            "Epoch 14/50\n",
            "180/180 [==============================] - 3s 15ms/step - loss: 0.6420 - accuracy: 0.6610 - val_loss: 0.6326 - val_accuracy: 0.6741 - lr: 1.0000e-05\n",
            "Epoch 15/50\n",
            "180/180 [==============================] - 3s 14ms/step - loss: 0.6434 - accuracy: 0.6610 - val_loss: 0.6326 - val_accuracy: 0.6741 - lr: 1.0000e-05\n",
            "Epoch 16/50\n",
            "176/180 [============================>.] - ETA: 0s - loss: 0.6434 - accuracy: 0.6605\n",
            "Epoch 16: ReduceLROnPlateau reducing learning rate to 1.0000000656873453e-06.\n",
            "180/180 [==============================] - 2s 13ms/step - loss: 0.6432 - accuracy: 0.6610 - val_loss: 0.6326 - val_accuracy: 0.6741 - lr: 1.0000e-05\n"
          ]
        }
      ]
    },
    {
      "cell_type": "code",
      "source": [
        "print(grid_gru.best_score_, grid_gru.best_params_)"
      ],
      "metadata": {
        "colab": {
          "base_uri": "https://localhost:8080/"
        },
        "id": "Wgxa7dYWfIr5",
        "outputId": "f9d81a07-3b88-4be7-f1d4-d12bbee6ef2d"
      },
      "execution_count": null,
      "outputs": [
        {
          "output_type": "stream",
          "name": "stdout",
          "text": [
            "0.6635957565605807 {'model__units': 128, 'model__rate': 0.6}\n"
          ]
        }
      ]
    },
    {
      "cell_type": "code",
      "source": [],
      "metadata": {
        "id": "xOZhgbYkfK0p"
      },
      "execution_count": null,
      "outputs": []
    }
  ]
}